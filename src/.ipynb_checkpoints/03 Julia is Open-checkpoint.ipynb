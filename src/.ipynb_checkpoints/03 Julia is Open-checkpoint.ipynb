{
 "cells": [
  {
   "cell_type": "markdown",
   "metadata": {},
   "source": [
    "# Julia is Open - `whos()`, `methods()`, `@which`, ...\n",
    "\n",
    "\n",
    "`Julia` is an open-source project, source being entirely hosted on github: http://github.com/JuliaLang\n",
    "\n",
    "The code consists of (actual numbers may differ):\n",
    "\n",
    "- 29K lines of `C/C++`\n",
    "- 6K lines of `scheme`\n",
    "- 68K lines of `julia`\n",
    "\n",
    "Julia uses [LLVM](http://llvm.org) which itself has 680K lines of code. Therefore, `Julia` is very compact, compared to other languages, like LLVM's `C` compiler `clang` (513K lines of code) or `gcc`  (3,530K lines). This makes it easy to read the actuall code and get full information, in spite the fact that some parts of the documentation are insufficient. `Julia`'s \"navigating\" system,\n",
    "consisting of commands `whos()`, `methods()` and `@which`, makes this even easier.\n",
    "\n",
    "Further, the `Base` (core) of `Julia` is kept small, and the rest of the functionality is obtained through packages.\n",
    "Since packages are written in `Julia`, they are navigated on the same way.\n",
    "\n",
    "\n",
    "\n",
    "\n",
    "In this notebook, we demonstrate how to get help and navigate the source code.\n",
    "\n",
    "## Prerequisites\n",
    "\n",
    "Basic knowledge of programming in any language.\n",
    "\n",
    "Read [Methods](https://docs.julialang.org/en/latest/manual/methods/) section of the `Julia` manual. (5 min)\n",
    "\n",
    "## Competences \n",
    "\n",
    "The reader should be able to read the code and be able to find and understand calling sequences and outputs of any function.\n",
    "\n",
    "## Credits \n",
    "\n",
    "Some examples are taken from [The Julia Manual](https://docs.julialang.org/en/latest/).\n"
   ]
  },
  {
   "cell_type": "markdown",
   "metadata": {},
   "source": [
    "## Operators `+`, `*` and `⋅`\n",
    "\n",
    "Consider operators `+`, `*` and `⋅`, the first two of them seem rather basic in any language. The `⋅` symbol is typed as LaTeX command `\\cdot` + `Tab`.\n",
    "\n",
    "`?+` gives some information, which is vary sparse. We would expect more details, and we also suspect that `+` can be used in more ways that just hose two.\n",
    "\n",
    "`?*` explaind more instances where `*` can be used, but the text itself is vague and not sufficient. \n",
    "\n",
    "`?⋅` appears to be what we expect fro the dot product off two vectors."
   ]
  },
  {
   "cell_type": "code",
   "execution_count": 1,
   "metadata": {},
   "outputs": [
    {
     "name": "stdout",
     "output_type": "stream",
     "text": [
      "search: "
     ]
    },
    {
     "data": {
      "text/markdown": [
       "```\n",
       "+(x, y...)\n",
       "```\n",
       "\n",
       "Addition operator. `x+y+z+...` calls this function with all arguments, i.e. `+(x, y, z, ...)`.\n",
       "\n",
       "```\n",
       "dt::Date + t::Time -> DateTime\n",
       "```\n",
       "\n",
       "The addition of a `Date` with a `Time` produces a `DateTime`. The hour, minute, second, and millisecond parts of the `Time` are used along with the year, month, and day of the `Date` to create the new `DateTime`. Non-zero microseconds or nanoseconds in the `Time` type will result in an `InexactError` being thrown.\n"
      ],
      "text/plain": [
       "```\n",
       "+(x, y...)\n",
       "```\n",
       "\n",
       "Addition operator. `x+y+z+...` calls this function with all arguments, i.e. `+(x, y, z, ...)`.\n",
       "\n",
       "```\n",
       "dt::Date + t::Time -> DateTime\n",
       "```\n",
       "\n",
       "The addition of a `Date` with a `Time` produces a `DateTime`. The hour, minute, second, and millisecond parts of the `Time` are used along with the year, month, and day of the `Date` to create the new `DateTime`. Non-zero microseconds or nanoseconds in the `Time` type will result in an `InexactError` being thrown.\n"
      ]
     },
     "execution_count": 1,
     "metadata": {},
     "output_type": "execute_result"
    },
    {
     "name": "stdout",
     "output_type": "stream",
     "text": [
      "\u001b[1m+\u001b[22m .\u001b[1m+\u001b[22m\n",
      "\n"
     ]
    }
   ],
   "source": [
    "?+"
   ]
  },
  {
   "cell_type": "code",
   "execution_count": 2,
   "metadata": {},
   "outputs": [
    {
     "data": {
      "text/markdown": [
       "```\n",
       "*(s::AbstractString, t::AbstractString)\n",
       "```\n",
       "\n",
       "Concatenate strings. The `*` operator is an alias to this function.\n",
       "\n",
       "# Example\n",
       "\n",
       "```jldoctest\n",
       "julia> \"Hello \" * \"world\"\n",
       "\"Hello world\"\n",
       "```\n",
       "\n",
       "```\n",
       "*(x, y...)\n",
       "```\n",
       "\n",
       "Multiplication operator. `x*y*z*...` calls this function with all arguments, i.e. `*(x, y, z, ...)`.\n",
       "\n",
       "```\n",
       "*(A::AbstractMatrix, B::AbstractMatrix)\n",
       "```\n",
       "\n",
       "Matrix multiplication.\n",
       "\n",
       "# Example\n",
       "\n",
       "```jldoctest\n",
       "julia> [1 1; 0 1] * [1 0; 1 1]\n",
       "2×2 Array{Int64,2}:\n",
       " 2  1\n",
       " 1  1\n",
       "```\n"
      ],
      "text/plain": [
       "```\n",
       "*(s::AbstractString, t::AbstractString)\n",
       "```\n",
       "\n",
       "Concatenate strings. The `*` operator is an alias to this function.\n",
       "\n",
       "# Example\n",
       "\n",
       "```jldoctest\n",
       "julia> \"Hello \" * \"world\"\n",
       "\"Hello world\"\n",
       "```\n",
       "\n",
       "```\n",
       "*(x, y...)\n",
       "```\n",
       "\n",
       "Multiplication operator. `x*y*z*...` calls this function with all arguments, i.e. `*(x, y, z, ...)`.\n",
       "\n",
       "```\n",
       "*(A::AbstractMatrix, B::AbstractMatrix)\n",
       "```\n",
       "\n",
       "Matrix multiplication.\n",
       "\n",
       "# Example\n",
       "\n",
       "```jldoctest\n",
       "julia> [1 1; 0 1] * [1 0; 1 1]\n",
       "2×2 Array{Int64,2}:\n",
       " 2  1\n",
       " 1  1\n",
       "```\n"
      ]
     },
     "execution_count": 2,
     "metadata": {},
     "output_type": "execute_result"
    },
    {
     "name": "stdout",
     "output_type": "stream",
     "text": [
      "search: \u001b[1m*\u001b[22m .\u001b[1m*\u001b[22m\n",
      "\n"
     ]
    }
   ],
   "source": [
    "?*"
   ]
  },
  {
   "cell_type": "code",
   "execution_count": 3,
   "metadata": {},
   "outputs": [
    {
     "data": {
      "text/markdown": [
       "```\n",
       "dot(x, y)\n",
       "⋅(x,y)\n",
       "```\n",
       "\n",
       "Compute the dot product. For complex vectors, the first vector is conjugated.\n",
       "\n",
       "# Example\n",
       "\n",
       "```jldoctest\n",
       "julia> dot([1; 1], [2; 3])\n",
       "5\n",
       "\n",
       "julia> dot([im; im], [1; 1])\n",
       "0 - 2im\n",
       "```\n",
       "\n",
       "```\n",
       "dot(n, X, incx, Y, incy)\n",
       "```\n",
       "\n",
       "Dot product of two vectors consisting of `n` elements of array `X` with stride `incx` and `n` elements of array `Y` with stride `incy`.\n",
       "\n",
       "# Example:\n",
       "\n",
       "```jldoctest\n",
       "julia> dot(10, ones(10), 1, ones(20), 2)\n",
       "10.0\n",
       "```\n"
      ],
      "text/plain": [
       "```\n",
       "dot(x, y)\n",
       "⋅(x,y)\n",
       "```\n",
       "\n",
       "Compute the dot product. For complex vectors, the first vector is conjugated.\n",
       "\n",
       "# Example\n",
       "\n",
       "```jldoctest\n",
       "julia> dot([1; 1], [2; 3])\n",
       "5\n",
       "\n",
       "julia> dot([im; im], [1; 1])\n",
       "0 - 2im\n",
       "```\n",
       "\n",
       "```\n",
       "dot(n, X, incx, Y, incy)\n",
       "```\n",
       "\n",
       "Dot product of two vectors consisting of `n` elements of array `X` with stride `incx` and `n` elements of array `Y` with stride `incy`.\n",
       "\n",
       "# Example:\n",
       "\n",
       "```jldoctest\n",
       "julia> dot(10, ones(10), 1, ones(20), 2)\n",
       "10.0\n",
       "```\n"
      ]
     },
     "execution_count": 3,
     "metadata": {},
     "output_type": "execute_result"
    },
    {
     "name": "stdout",
     "output_type": "stream",
     "text": [
      "\"\u001b[36m⋅\u001b[39m\" can be typed by \u001b[36m\\cdot<tab>\u001b[39m\n",
      "\n",
      "search: \u001b[1m⋅\u001b[22m\n",
      "\n"
     ]
    }
   ],
   "source": [
    "?⋅"
   ]
  },
  {
   "cell_type": "markdown",
   "metadata": {},
   "source": [
    "## methods()\n",
    "\n",
    "Julia functions have a feature called _multiple dispatch_, which means that the method depends on the name __AND__ the input.\n",
    "Full range of existing methods for certain function name is given by the `methods()` command. \n",
    "\n",
    "Running `methods(+)` sheds a completely differfent light on `+`.\n",
    "\n",
    "The great `IJulia` feature is that the links to the source code where the respective version of the function is defined, are readily provided. "
   ]
  },
  {
   "cell_type": "code",
   "execution_count": 4,
   "metadata": {},
   "outputs": [
    {
     "data": {
      "text/markdown": [
       "```\n",
       "methods(f, [types])\n",
       "```\n",
       "\n",
       "Returns the method table for `f`.\n",
       "\n",
       "If `types` is specified, returns an array of methods whose types match.\n"
      ],
      "text/plain": [
       "```\n",
       "methods(f, [types])\n",
       "```\n",
       "\n",
       "Returns the method table for `f`.\n",
       "\n",
       "If `types` is specified, returns an array of methods whose types match.\n"
      ]
     },
     "execution_count": 4,
     "metadata": {},
     "output_type": "execute_result"
    },
    {
     "name": "stdout",
     "output_type": "stream",
     "text": [
      "search: \u001b[1mm\u001b[22m\u001b[1me\u001b[22m\u001b[1mt\u001b[22m\u001b[1mh\u001b[22m\u001b[1mo\u001b[22m\u001b[1md\u001b[22m\u001b[1ms\u001b[22m \u001b[1mm\u001b[22m\u001b[1me\u001b[22m\u001b[1mt\u001b[22m\u001b[1mh\u001b[22m\u001b[1mo\u001b[22m\u001b[1md\u001b[22m\u001b[1ms\u001b[22mwith \u001b[1mm\u001b[22m\u001b[1me\u001b[22m\u001b[1mt\u001b[22m\u001b[1mh\u001b[22m\u001b[1mo\u001b[22m\u001b[1md\u001b[22m_exi\u001b[1ms\u001b[22mts \u001b[1mM\u001b[22m\u001b[1me\u001b[22m\u001b[1mt\u001b[22m\u001b[1mh\u001b[22m\u001b[1mo\u001b[22m\u001b[1md\u001b[22m \u001b[1mM\u001b[22m\u001b[1me\u001b[22m\u001b[1mt\u001b[22m\u001b[1mh\u001b[22m\u001b[1mo\u001b[22m\u001b[1md\u001b[22mTable \u001b[1mM\u001b[22m\u001b[1me\u001b[22m\u001b[1mt\u001b[22m\u001b[1mh\u001b[22m\u001b[1mo\u001b[22m\u001b[1md\u001b[22mError\n",
      "\n"
     ]
    }
   ],
   "source": [
    "?methods"
   ]
  },
  {
   "cell_type": "markdown",
   "metadata": {},
   "source": [
    "### The `\"+\"` operator\n",
    "\n",
    "__N.B.__ For convenience, Left click on the left area of the `Out[]` cell toggles  scrolling. Double click collapses the output completely. "
   ]
  },
  {
   "cell_type": "code",
   "execution_count": 5,
   "metadata": {
    "scrolled": true
   },
   "outputs": [
    {
     "data": {
      "text/html": [
       "180 methods for generic function <b>+</b>:<ul><li> +(x::<b>Bool</b>, z::<b>Complex{Bool}</b>) at <a href=\"https://github.com/JuliaLang/julia/tree/d386e40c17d43b79fc89d3e579fc04547241787c/base/complex.jl#L232\" target=\"_blank\">complex.jl:232</a></li> <li> +(x::<b>Bool</b>, y::<b>Bool</b>) at <a href=\"https://github.com/JuliaLang/julia/tree/d386e40c17d43b79fc89d3e579fc04547241787c/base/bool.jl#L89\" target=\"_blank\">bool.jl:89</a></li> <li> +(x::<b>Bool</b>) at <a href=\"https://github.com/JuliaLang/julia/tree/d386e40c17d43b79fc89d3e579fc04547241787c/base/bool.jl#L86\" target=\"_blank\">bool.jl:86</a></li> <li> +<i>{T<:AbstractFloat}</i>(x::<b>Bool</b>, y::<b>T</b>) at <a href=\"https://github.com/JuliaLang/julia/tree/d386e40c17d43b79fc89d3e579fc04547241787c/base/bool.jl#L96\" target=\"_blank\">bool.jl:96</a></li> <li> +(x::<b>Bool</b>, z::<b>Complex</b>) at <a href=\"https://github.com/JuliaLang/julia/tree/d386e40c17d43b79fc89d3e579fc04547241787c/base/complex.jl#L239\" target=\"_blank\">complex.jl:239</a></li> <li> +(a::<b>Float16</b>, b::<b>Float16</b>) at <a href=\"https://github.com/JuliaLang/julia/tree/d386e40c17d43b79fc89d3e579fc04547241787c/base/float.jl#L372\" target=\"_blank\">float.jl:372</a></li> <li> +(x::<b>Float32</b>, y::<b>Float32</b>) at <a href=\"https://github.com/JuliaLang/julia/tree/d386e40c17d43b79fc89d3e579fc04547241787c/base/float.jl#L374\" target=\"_blank\">float.jl:374</a></li> <li> +(x::<b>Float64</b>, y::<b>Float64</b>) at <a href=\"https://github.com/JuliaLang/julia/tree/d386e40c17d43b79fc89d3e579fc04547241787c/base/float.jl#L375\" target=\"_blank\">float.jl:375</a></li> <li> +(z::<b>Complex{Bool}</b>, x::<b>Bool</b>) at <a href=\"https://github.com/JuliaLang/julia/tree/d386e40c17d43b79fc89d3e579fc04547241787c/base/complex.jl#L233\" target=\"_blank\">complex.jl:233</a></li> <li> +(z::<b>Complex{Bool}</b>, x::<b>Real</b>) at <a href=\"https://github.com/JuliaLang/julia/tree/d386e40c17d43b79fc89d3e579fc04547241787c/base/complex.jl#L247\" target=\"_blank\">complex.jl:247</a></li> <li> +(x::<b>Char</b>, y::<b>Integer</b>) at <a href=\"https://github.com/JuliaLang/julia/tree/d386e40c17d43b79fc89d3e579fc04547241787c/base/char.jl#L40\" target=\"_blank\">char.jl:40</a></li> <li> +(c::<b>BigInt</b>, x::<b>BigFloat</b>) at <a href=\"https://github.com/JuliaLang/julia/tree/d386e40c17d43b79fc89d3e579fc04547241787c/base/mpfr.jl#L312\" target=\"_blank\">mpfr.jl:312</a></li> <li> +(a::<b>BigInt</b>, b::<b>BigInt</b>, c::<b>BigInt</b>, d::<b>BigInt</b>, e::<b>BigInt</b>) at <a href=\"https://github.com/JuliaLang/julia/tree/d386e40c17d43b79fc89d3e579fc04547241787c/base/gmp.jl#L334\" target=\"_blank\">gmp.jl:334</a></li> <li> +(a::<b>BigInt</b>, b::<b>BigInt</b>, c::<b>BigInt</b>, d::<b>BigInt</b>) at <a href=\"https://github.com/JuliaLang/julia/tree/d386e40c17d43b79fc89d3e579fc04547241787c/base/gmp.jl#L327\" target=\"_blank\">gmp.jl:327</a></li> <li> +(a::<b>BigInt</b>, b::<b>BigInt</b>, c::<b>BigInt</b>) at <a href=\"https://github.com/JuliaLang/julia/tree/d386e40c17d43b79fc89d3e579fc04547241787c/base/gmp.jl#L321\" target=\"_blank\">gmp.jl:321</a></li> <li> +(x::<b>BigInt</b>, y::<b>BigInt</b>) at <a href=\"https://github.com/JuliaLang/julia/tree/d386e40c17d43b79fc89d3e579fc04547241787c/base/gmp.jl#L289\" target=\"_blank\">gmp.jl:289</a></li> <li> +(x::<b>BigInt</b>, c::<b>Union{UInt16, UInt32, UInt64, UInt8}</b>) at <a href=\"https://github.com/JuliaLang/julia/tree/d386e40c17d43b79fc89d3e579fc04547241787c/base/gmp.jl#L346\" target=\"_blank\">gmp.jl:346</a></li> <li> +(x::<b>BigInt</b>, c::<b>Union{Int16, Int32, Int64, Int8}</b>) at <a href=\"https://github.com/JuliaLang/julia/tree/d386e40c17d43b79fc89d3e579fc04547241787c/base/gmp.jl#L362\" target=\"_blank\">gmp.jl:362</a></li> <li> +(a::<b>BigFloat</b>, b::<b>BigFloat</b>, c::<b>BigFloat</b>, d::<b>BigFloat</b>, e::<b>BigFloat</b>) at <a href=\"https://github.com/JuliaLang/julia/tree/d386e40c17d43b79fc89d3e579fc04547241787c/base/mpfr.jl#L460\" target=\"_blank\">mpfr.jl:460</a></li> <li> +(a::<b>BigFloat</b>, b::<b>BigFloat</b>, c::<b>BigFloat</b>, d::<b>BigFloat</b>) at <a href=\"https://github.com/JuliaLang/julia/tree/d386e40c17d43b79fc89d3e579fc04547241787c/base/mpfr.jl#L453\" target=\"_blank\">mpfr.jl:453</a></li> <li> +(a::<b>BigFloat</b>, b::<b>BigFloat</b>, c::<b>BigFloat</b>) at <a href=\"https://github.com/JuliaLang/julia/tree/d386e40c17d43b79fc89d3e579fc04547241787c/base/mpfr.jl#L447\" target=\"_blank\">mpfr.jl:447</a></li> <li> +(x::<b>BigFloat</b>, c::<b>BigInt</b>) at <a href=\"https://github.com/JuliaLang/julia/tree/d386e40c17d43b79fc89d3e579fc04547241787c/base/mpfr.jl#L308\" target=\"_blank\">mpfr.jl:308</a></li> <li> +(x::<b>BigFloat</b>, y::<b>BigFloat</b>) at <a href=\"https://github.com/JuliaLang/julia/tree/d386e40c17d43b79fc89d3e579fc04547241787c/base/mpfr.jl#L277\" target=\"_blank\">mpfr.jl:277</a></li> <li> +(x::<b>BigFloat</b>, c::<b>Union{UInt16, UInt32, UInt64, UInt8}</b>) at <a href=\"https://github.com/JuliaLang/julia/tree/d386e40c17d43b79fc89d3e579fc04547241787c/base/mpfr.jl#L284\" target=\"_blank\">mpfr.jl:284</a></li> <li> +(x::<b>BigFloat</b>, c::<b>Union{Int16, Int32, Int64, Int8}</b>) at <a href=\"https://github.com/JuliaLang/julia/tree/d386e40c17d43b79fc89d3e579fc04547241787c/base/mpfr.jl#L292\" target=\"_blank\">mpfr.jl:292</a></li> <li> +(x::<b>BigFloat</b>, c::<b>Union{Float16, Float32, Float64}</b>) at <a href=\"https://github.com/JuliaLang/julia/tree/d386e40c17d43b79fc89d3e579fc04547241787c/base/mpfr.jl#L300\" target=\"_blank\">mpfr.jl:300</a></li> <li> +(B::<b>BitArray{2}</b>, J::<b>UniformScaling</b>) at <a href=\"https://github.com/JuliaLang/julia/tree/d386e40c17d43b79fc89d3e579fc04547241787c/base/linalg/uniformscaling.jl#L59\" target=\"_blank\">linalg/uniformscaling.jl:59</a></li> <li> +(a::<b>Base.Pkg.Resolve.VersionWeights.VWPreBuildItem</b>, b::<b>Base.Pkg.Resolve.VersionWeights.VWPreBuildItem</b>) at <a href=\"https://github.com/JuliaLang/julia/tree/d386e40c17d43b79fc89d3e579fc04547241787c/base/pkg/resolve/versionweight.jl#L87\" target=\"_blank\">pkg/resolve/versionweight.jl:87</a></li> <li> +(a::<b>Base.Pkg.Resolve.VersionWeights.VWPreBuild</b>, b::<b>Base.Pkg.Resolve.VersionWeights.VWPreBuild</b>) at <a href=\"https://github.com/JuliaLang/julia/tree/d386e40c17d43b79fc89d3e579fc04547241787c/base/pkg/resolve/versionweight.jl#L135\" target=\"_blank\">pkg/resolve/versionweight.jl:135</a></li> <li> +(a::<b>Base.Pkg.Resolve.VersionWeights.VersionWeight</b>, b::<b>Base.Pkg.Resolve.VersionWeights.VersionWeight</b>) at <a href=\"https://github.com/JuliaLang/julia/tree/d386e40c17d43b79fc89d3e579fc04547241787c/base/pkg/resolve/versionweight.jl#L197\" target=\"_blank\">pkg/resolve/versionweight.jl:197</a></li> <li> +(a::<b>Base.Pkg.Resolve.MaxSum.FieldValues.FieldValue</b>, b::<b>Base.Pkg.Resolve.MaxSum.FieldValues.FieldValue</b>) at <a href=\"https://github.com/JuliaLang/julia/tree/d386e40c17d43b79fc89d3e579fc04547241787c/base/pkg/resolve/fieldvalue.jl#L44\" target=\"_blank\">pkg/resolve/fieldvalue.jl:44</a></li> <li> +(x::<b>Base.Dates.CompoundPeriod</b>, y::<b>Base.Dates.CompoundPeriod</b>) at <a href=\"https://github.com/JuliaLang/julia/tree/d386e40c17d43b79fc89d3e579fc04547241787c/base/dates/periods.jl#L349\" target=\"_blank\">dates/periods.jl:349</a></li> <li> +(x::<b>Base.Dates.CompoundPeriod</b>, y::<b>Base.Dates.Period</b>) at <a href=\"https://github.com/JuliaLang/julia/tree/d386e40c17d43b79fc89d3e579fc04547241787c/base/dates/periods.jl#L347\" target=\"_blank\">dates/periods.jl:347</a></li> <li> +(x::<b>Base.Dates.CompoundPeriod</b>, y::<b>Base.Dates.TimeType</b>) at <a href=\"https://github.com/JuliaLang/julia/tree/d386e40c17d43b79fc89d3e579fc04547241787c/base/dates/periods.jl#L387\" target=\"_blank\">dates/periods.jl:387</a></li> <li> +(x::<b>Date</b>, y::<b>Base.Dates.Day</b>) at <a href=\"https://github.com/JuliaLang/julia/tree/d386e40c17d43b79fc89d3e579fc04547241787c/base/dates/arithmetic.jl#L77\" target=\"_blank\">dates/arithmetic.jl:77</a></li> <li> +(x::<b>Date</b>, y::<b>Base.Dates.Week</b>) at <a href=\"https://github.com/JuliaLang/julia/tree/d386e40c17d43b79fc89d3e579fc04547241787c/base/dates/arithmetic.jl#L75\" target=\"_blank\">dates/arithmetic.jl:75</a></li> <li> +(dt::<b>Date</b>, z::<b>Base.Dates.Month</b>) at <a href=\"https://github.com/JuliaLang/julia/tree/d386e40c17d43b79fc89d3e579fc04547241787c/base/dates/arithmetic.jl#L58\" target=\"_blank\">dates/arithmetic.jl:58</a></li> <li> +(dt::<b>Date</b>, y::<b>Base.Dates.Year</b>) at <a href=\"https://github.com/JuliaLang/julia/tree/d386e40c17d43b79fc89d3e579fc04547241787c/base/dates/arithmetic.jl#L32\" target=\"_blank\">dates/arithmetic.jl:32</a></li> <li> +(dt::<b>Date</b>, t::<b>Base.Dates.Time</b>) at <a href=\"https://github.com/JuliaLang/julia/tree/d386e40c17d43b79fc89d3e579fc04547241787c/base/dates/arithmetic.jl#L20\" target=\"_blank\">dates/arithmetic.jl:20</a></li> <li> +(t::<b>Base.Dates.Time</b>, dt::<b>Date</b>) at <a href=\"https://github.com/JuliaLang/julia/tree/d386e40c17d43b79fc89d3e579fc04547241787c/base/dates/arithmetic.jl#L24\" target=\"_blank\">dates/arithmetic.jl:24</a></li> <li> +(x::<b>Base.Dates.Time</b>, y::<b>Base.Dates.TimePeriod</b>) at <a href=\"https://github.com/JuliaLang/julia/tree/d386e40c17d43b79fc89d3e579fc04547241787c/base/dates/arithmetic.jl#L81\" target=\"_blank\">dates/arithmetic.jl:81</a></li> <li> +(dt::<b>DateTime</b>, z::<b>Base.Dates.Month</b>) at <a href=\"https://github.com/JuliaLang/julia/tree/d386e40c17d43b79fc89d3e579fc04547241787c/base/dates/arithmetic.jl#L52\" target=\"_blank\">dates/arithmetic.jl:52</a></li> <li> +(dt::<b>DateTime</b>, y::<b>Base.Dates.Year</b>) at <a href=\"https://github.com/JuliaLang/julia/tree/d386e40c17d43b79fc89d3e579fc04547241787c/base/dates/arithmetic.jl#L28\" target=\"_blank\">dates/arithmetic.jl:28</a></li> <li> +(x::<b>DateTime</b>, y::<b>Base.Dates.Period</b>) at <a href=\"https://github.com/JuliaLang/julia/tree/d386e40c17d43b79fc89d3e579fc04547241787c/base/dates/arithmetic.jl#L79\" target=\"_blank\">dates/arithmetic.jl:79</a></li> <li> +(y::<b>AbstractFloat</b>, x::<b>Bool</b>) at <a href=\"https://github.com/JuliaLang/julia/tree/d386e40c17d43b79fc89d3e579fc04547241787c/base/bool.jl#L98\" target=\"_blank\">bool.jl:98</a></li> <li> +<i>{T<:Union{Int128, Int16, Int32, Int64, Int8, UInt128, UInt16, UInt32, UInt64, UInt8}}</i>(x::<b>T</b>, y::<b>T</b>) at <a href=\"https://github.com/JuliaLang/julia/tree/d386e40c17d43b79fc89d3e579fc04547241787c/base/int.jl#L32\" target=\"_blank\">int.jl:32</a></li> <li> +(x::<b>Integer</b>, y::<b>Ptr</b>) at <a href=\"https://github.com/JuliaLang/julia/tree/d386e40c17d43b79fc89d3e579fc04547241787c/base/pointer.jl#L128\" target=\"_blank\">pointer.jl:128</a></li> <li> +(z::<b>Complex</b>, w::<b>Complex</b>) at <a href=\"https://github.com/JuliaLang/julia/tree/d386e40c17d43b79fc89d3e579fc04547241787c/base/complex.jl#L221\" target=\"_blank\">complex.jl:221</a></li> <li> +(z::<b>Complex</b>, x::<b>Bool</b>) at <a href=\"https://github.com/JuliaLang/julia/tree/d386e40c17d43b79fc89d3e579fc04547241787c/base/complex.jl#L240\" target=\"_blank\">complex.jl:240</a></li> <li> +(x::<b>Real</b>, z::<b>Complex{Bool}</b>) at <a href=\"https://github.com/JuliaLang/julia/tree/d386e40c17d43b79fc89d3e579fc04547241787c/base/complex.jl#L246\" target=\"_blank\">complex.jl:246</a></li> <li> +(x::<b>Real</b>, z::<b>Complex</b>) at <a href=\"https://github.com/JuliaLang/julia/tree/d386e40c17d43b79fc89d3e579fc04547241787c/base/complex.jl#L258\" target=\"_blank\">complex.jl:258</a></li> <li> +(z::<b>Complex</b>, x::<b>Real</b>) at <a href=\"https://github.com/JuliaLang/julia/tree/d386e40c17d43b79fc89d3e579fc04547241787c/base/complex.jl#L259\" target=\"_blank\">complex.jl:259</a></li> <li> +(x::<b>Rational</b>, y::<b>Rational</b>) at <a href=\"https://github.com/JuliaLang/julia/tree/d386e40c17d43b79fc89d3e579fc04547241787c/base/rational.jl#L245\" target=\"_blank\">rational.jl:245</a></li> <li> +(x::<b>Integer</b>, y::<b>Char</b>) at <a href=\"https://github.com/JuliaLang/julia/tree/d386e40c17d43b79fc89d3e579fc04547241787c/base/char.jl#L41\" target=\"_blank\">char.jl:41</a></li> <li> +(i::<b>Integer</b>, index::<b>CartesianIndex</b>) at <a href=\"https://github.com/JuliaLang/julia/tree/d386e40c17d43b79fc89d3e579fc04547241787c/base/multidimensional.jl#L110\" target=\"_blank\">multidimensional.jl:110</a></li> <li> +(c::<b>Union{UInt16, UInt32, UInt64, UInt8}</b>, x::<b>BigInt</b>) at <a href=\"https://github.com/JuliaLang/julia/tree/d386e40c17d43b79fc89d3e579fc04547241787c/base/gmp.jl#L350\" target=\"_blank\">gmp.jl:350</a></li> <li> +(c::<b>Union{Int16, Int32, Int64, Int8}</b>, x::<b>BigInt</b>) at <a href=\"https://github.com/JuliaLang/julia/tree/d386e40c17d43b79fc89d3e579fc04547241787c/base/gmp.jl#L363\" target=\"_blank\">gmp.jl:363</a></li> <li> +(c::<b>Union{UInt16, UInt32, UInt64, UInt8}</b>, x::<b>BigFloat</b>) at <a href=\"https://github.com/JuliaLang/julia/tree/d386e40c17d43b79fc89d3e579fc04547241787c/base/mpfr.jl#L288\" target=\"_blank\">mpfr.jl:288</a></li> <li> +(c::<b>Union{Int16, Int32, Int64, Int8}</b>, x::<b>BigFloat</b>) at <a href=\"https://github.com/JuliaLang/julia/tree/d386e40c17d43b79fc89d3e579fc04547241787c/base/mpfr.jl#L296\" target=\"_blank\">mpfr.jl:296</a></li> <li> +(c::<b>Union{Float16, Float32, Float64}</b>, x::<b>BigFloat</b>) at <a href=\"https://github.com/JuliaLang/julia/tree/d386e40c17d43b79fc89d3e579fc04547241787c/base/mpfr.jl#L304\" target=\"_blank\">mpfr.jl:304</a></li> <li> +(x::<b>Irrational</b>, y::<b>Irrational</b>) at <a href=\"https://github.com/JuliaLang/julia/tree/d386e40c17d43b79fc89d3e579fc04547241787c/base/irrationals.jl#L109\" target=\"_blank\">irrationals.jl:109</a></li> <li> +(x::<b>Real</b>, r::<b>Base.Use_StepRangeLen_Instead</b>) at <a href=\"https://github.com/JuliaLang/julia/tree/d386e40c17d43b79fc89d3e579fc04547241787c/base/deprecated.jl#L1232\" target=\"_blank\">deprecated.jl:1232</a></li> <li> +(x::<b>Number</b>) at <a href=\"https://github.com/JuliaLang/julia/tree/d386e40c17d43b79fc89d3e579fc04547241787c/base/operators.jl#L399\" target=\"_blank\">operators.jl:399</a></li> <li> +<i>{T<:Number}</i>(x::<b>T</b>, y::<b>T</b>) at <a href=\"https://github.com/JuliaLang/julia/tree/d386e40c17d43b79fc89d3e579fc04547241787c/base/promotion.jl#L335\" target=\"_blank\">promotion.jl:335</a></li> <li> +(x::<b>Number</b>, y::<b>Number</b>) at <a href=\"https://github.com/JuliaLang/julia/tree/d386e40c17d43b79fc89d3e579fc04547241787c/base/promotion.jl#L249\" target=\"_blank\">promotion.jl:249</a></li> <li> +(x::<b>Real</b>, r::<b>AbstractUnitRange</b>) at <a href=\"https://github.com/JuliaLang/julia/tree/d386e40c17d43b79fc89d3e579fc04547241787c/base/range.jl#L721\" target=\"_blank\">range.jl:721</a></li> <li> +(x::<b>Number</b>, r::<b>AbstractUnitRange</b>) at <a href=\"https://github.com/JuliaLang/julia/tree/d386e40c17d43b79fc89d3e579fc04547241787c/base/range.jl#L723\" target=\"_blank\">range.jl:723</a></li> <li> +(x::<b>Number</b>, r::<b>StepRangeLen</b>) at <a href=\"https://github.com/JuliaLang/julia/tree/d386e40c17d43b79fc89d3e579fc04547241787c/base/range.jl#L726\" target=\"_blank\">range.jl:726</a></li> <li> +(x::<b>Number</b>, r::<b>LinSpace</b>) at <a href=\"https://github.com/JuliaLang/julia/tree/d386e40c17d43b79fc89d3e579fc04547241787c/base/range.jl#L730\" target=\"_blank\">range.jl:730</a></li> <li> +(x::<b>Number</b>, r::<b>Range</b>) at <a href=\"https://github.com/JuliaLang/julia/tree/d386e40c17d43b79fc89d3e579fc04547241787c/base/range.jl#L724\" target=\"_blank\">range.jl:724</a></li> <li> +(r::<b>Range</b>, x::<b>Number</b>) at <a href=\"https://github.com/JuliaLang/julia/tree/d386e40c17d43b79fc89d3e579fc04547241787c/base/range.jl#L732\" target=\"_blank\">range.jl:732</a></li> <li> +(r1::<b>OrdinalRange</b>, r2::<b>OrdinalRange</b>) at <a href=\"https://github.com/JuliaLang/julia/tree/d386e40c17d43b79fc89d3e579fc04547241787c/base/range.jl#L882\" target=\"_blank\">range.jl:882</a></li> <li> +<i>{T}</i>(r1::<b>LinSpace{T}</b>, r2::<b>LinSpace{T}</b>) at <a href=\"https://github.com/JuliaLang/julia/tree/d386e40c17d43b79fc89d3e579fc04547241787c/base/range.jl#L889\" target=\"_blank\">range.jl:889</a></li> <li> +<i>{R<:Base.TwicePrecision, T}</i>(r1::<b>StepRangeLen{T,R,S} where S</b>, r2::<b>StepRangeLen{T,R,S} where S</b>) at <a href=\"https://github.com/JuliaLang/julia/tree/d386e40c17d43b79fc89d3e579fc04547241787c/base/twiceprecision.jl#L300\" target=\"_blank\">twiceprecision.jl:300</a></li> <li> +<i>{T, S}</i>(r1::<b>StepRangeLen{T,S,S} where S</b>, r2::<b>StepRangeLen{T,S,S} where S</b>) at <a href=\"https://github.com/JuliaLang/julia/tree/d386e40c17d43b79fc89d3e579fc04547241787c/base/range.jl#L905\" target=\"_blank\">range.jl:905</a></li> <li> +(r1::<b>Union{LinSpace, OrdinalRange, StepRangeLen}</b>, r2::<b>Union{LinSpace, OrdinalRange, StepRangeLen}</b>) at <a href=\"https://github.com/JuliaLang/julia/tree/d386e40c17d43b79fc89d3e579fc04547241787c/base/range.jl#L897\" target=\"_blank\">range.jl:897</a></li> <li> +(x::<b>Base.TwicePrecision</b>, y::<b>Number</b>) at <a href=\"https://github.com/JuliaLang/julia/tree/d386e40c17d43b79fc89d3e579fc04547241787c/base/twiceprecision.jl#L455\" target=\"_blank\">twiceprecision.jl:455</a></li> <li> +(x::<b>Number</b>, y::<b>Base.TwicePrecision</b>) at <a href=\"https://github.com/JuliaLang/julia/tree/d386e40c17d43b79fc89d3e579fc04547241787c/base/twiceprecision.jl#L458\" target=\"_blank\">twiceprecision.jl:458</a></li> <li> +<i>{T}</i>(x::<b>Base.TwicePrecision{T}</b>, y::<b>Base.TwicePrecision{T}</b>) at <a href=\"https://github.com/JuliaLang/julia/tree/d386e40c17d43b79fc89d3e579fc04547241787c/base/twiceprecision.jl#L461\" target=\"_blank\">twiceprecision.jl:461</a></li> <li> +(x::<b>Base.TwicePrecision</b>, y::<b>Base.TwicePrecision</b>) at <a href=\"https://github.com/JuliaLang/julia/tree/d386e40c17d43b79fc89d3e579fc04547241787c/base/twiceprecision.jl#L465\" target=\"_blank\">twiceprecision.jl:465</a></li> <li> +(x::<b>Ptr</b>, y::<b>Integer</b>) at <a href=\"https://github.com/JuliaLang/julia/tree/d386e40c17d43b79fc89d3e579fc04547241787c/base/pointer.jl#L126\" target=\"_blank\">pointer.jl:126</a></li> <li> +(A::<b>BitArray</b>, B::<b>BitArray</b>) at <a href=\"https://github.com/JuliaLang/julia/tree/d386e40c17d43b79fc89d3e579fc04547241787c/base/bitarray.jl#L1177\" target=\"_blank\">bitarray.jl:1177</a></li> <li> +(A::<b>SymTridiagonal</b>, B::<b>SymTridiagonal</b>) at <a href=\"https://github.com/JuliaLang/julia/tree/d386e40c17d43b79fc89d3e579fc04547241787c/base/linalg/tridiag.jl#L128\" target=\"_blank\">linalg/tridiag.jl:128</a></li> <li> +(A::<b>Tridiagonal</b>, B::<b>Tridiagonal</b>) at <a href=\"https://github.com/JuliaLang/julia/tree/d386e40c17d43b79fc89d3e579fc04547241787c/base/linalg/tridiag.jl#L624\" target=\"_blank\">linalg/tridiag.jl:624</a></li> <li> +(A::<b>UpperTriangular</b>, B::<b>UpperTriangular</b>) at <a href=\"https://github.com/JuliaLang/julia/tree/d386e40c17d43b79fc89d3e579fc04547241787c/base/linalg/triangular.jl#L419\" target=\"_blank\">linalg/triangular.jl:419</a></li> <li> +(A::<b>LowerTriangular</b>, B::<b>LowerTriangular</b>) at <a href=\"https://github.com/JuliaLang/julia/tree/d386e40c17d43b79fc89d3e579fc04547241787c/base/linalg/triangular.jl#L420\" target=\"_blank\">linalg/triangular.jl:420</a></li> <li> +(A::<b>UpperTriangular</b>, B::<b>Base.LinAlg.UnitUpperTriangular</b>) at <a href=\"https://github.com/JuliaLang/julia/tree/d386e40c17d43b79fc89d3e579fc04547241787c/base/linalg/triangular.jl#L421\" target=\"_blank\">linalg/triangular.jl:421</a></li> <li> +(A::<b>LowerTriangular</b>, B::<b>Base.LinAlg.UnitLowerTriangular</b>) at <a href=\"https://github.com/JuliaLang/julia/tree/d386e40c17d43b79fc89d3e579fc04547241787c/base/linalg/triangular.jl#L422\" target=\"_blank\">linalg/triangular.jl:422</a></li> <li> +(A::<b>Base.LinAlg.UnitUpperTriangular</b>, B::<b>UpperTriangular</b>) at <a href=\"https://github.com/JuliaLang/julia/tree/d386e40c17d43b79fc89d3e579fc04547241787c/base/linalg/triangular.jl#L423\" target=\"_blank\">linalg/triangular.jl:423</a></li> <li> +(A::<b>Base.LinAlg.UnitLowerTriangular</b>, B::<b>LowerTriangular</b>) at <a href=\"https://github.com/JuliaLang/julia/tree/d386e40c17d43b79fc89d3e579fc04547241787c/base/linalg/triangular.jl#L424\" target=\"_blank\">linalg/triangular.jl:424</a></li> <li> +(A::<b>Base.LinAlg.UnitUpperTriangular</b>, B::<b>Base.LinAlg.UnitUpperTriangular</b>) at <a href=\"https://github.com/JuliaLang/julia/tree/d386e40c17d43b79fc89d3e579fc04547241787c/base/linalg/triangular.jl#L425\" target=\"_blank\">linalg/triangular.jl:425</a></li> <li> +(A::<b>Base.LinAlg.UnitLowerTriangular</b>, B::<b>Base.LinAlg.UnitLowerTriangular</b>) at <a href=\"https://github.com/JuliaLang/julia/tree/d386e40c17d43b79fc89d3e579fc04547241787c/base/linalg/triangular.jl#L426\" target=\"_blank\">linalg/triangular.jl:426</a></li> <li> +(A::<b>Base.LinAlg.AbstractTriangular</b>, B::<b>Base.LinAlg.AbstractTriangular</b>) at <a href=\"https://github.com/JuliaLang/julia/tree/d386e40c17d43b79fc89d3e579fc04547241787c/base/linalg/triangular.jl#L427\" target=\"_blank\">linalg/triangular.jl:427</a></li> <li> +(A::<b>Symmetric</b>, x::<b>Bool</b>) at <a href=\"https://github.com/JuliaLang/julia/tree/d386e40c17d43b79fc89d3e579fc04547241787c/base/linalg/symmetric.jl#L274\" target=\"_blank\">linalg/symmetric.jl:274</a></li> <li> +(A::<b>Symmetric</b>, x::<b>Number</b>) at <a href=\"https://github.com/JuliaLang/julia/tree/d386e40c17d43b79fc89d3e579fc04547241787c/base/linalg/symmetric.jl#L276\" target=\"_blank\">linalg/symmetric.jl:276</a></li> <li> +(A::<b>Hermitian</b>, x::<b>Bool</b>) at <a href=\"https://github.com/JuliaLang/julia/tree/d386e40c17d43b79fc89d3e579fc04547241787c/base/linalg/symmetric.jl#L274\" target=\"_blank\">linalg/symmetric.jl:274</a></li> <li> +(A::<b>Hermitian</b>, x::<b>Real</b>) at <a href=\"https://github.com/JuliaLang/julia/tree/d386e40c17d43b79fc89d3e579fc04547241787c/base/linalg/symmetric.jl#L276\" target=\"_blank\">linalg/symmetric.jl:276</a></li> <li> +(Da::<b>Diagonal</b>, Db::<b>Diagonal</b>) at <a href=\"https://github.com/JuliaLang/julia/tree/d386e40c17d43b79fc89d3e579fc04547241787c/base/linalg/diagonal.jl#L140\" target=\"_blank\">linalg/diagonal.jl:140</a></li> <li> +(A::<b>Bidiagonal</b>, B::<b>Bidiagonal</b>) at <a href=\"https://github.com/JuliaLang/julia/tree/d386e40c17d43b79fc89d3e579fc04547241787c/base/linalg/bidiag.jl#L330\" target=\"_blank\">linalg/bidiag.jl:330</a></li> <li> +(UL::<b>UpperTriangular</b>, J::<b>UniformScaling</b>) at <a href=\"https://github.com/JuliaLang/julia/tree/d386e40c17d43b79fc89d3e579fc04547241787c/base/linalg/uniformscaling.jl#L72\" target=\"_blank\">linalg/uniformscaling.jl:72</a></li> <li> +(UL::<b>Base.LinAlg.UnitUpperTriangular</b>, J::<b>UniformScaling</b>) at <a href=\"https://github.com/JuliaLang/julia/tree/d386e40c17d43b79fc89d3e579fc04547241787c/base/linalg/uniformscaling.jl#L75\" target=\"_blank\">linalg/uniformscaling.jl:75</a></li> <li> +(UL::<b>LowerTriangular</b>, J::<b>UniformScaling</b>) at <a href=\"https://github.com/JuliaLang/julia/tree/d386e40c17d43b79fc89d3e579fc04547241787c/base/linalg/uniformscaling.jl#L72\" target=\"_blank\">linalg/uniformscaling.jl:72</a></li> <li> +(UL::<b>Base.LinAlg.UnitLowerTriangular</b>, J::<b>UniformScaling</b>) at <a href=\"https://github.com/JuliaLang/julia/tree/d386e40c17d43b79fc89d3e579fc04547241787c/base/linalg/uniformscaling.jl#L75\" target=\"_blank\">linalg/uniformscaling.jl:75</a></li> <li> +(A::<b>Array</b>, B::<b>SparseMatrixCSC</b>) at <a href=\"https://github.com/JuliaLang/julia/tree/d386e40c17d43b79fc89d3e579fc04547241787c/base/sparse/sparsematrix.jl#L1541\" target=\"_blank\">sparse/sparsematrix.jl:1541</a></li> <li> +(x::<b>Union{Base.ReshapedArray{T,1,A,MI} where MI<:Tuple{Vararg{Base.MultiplicativeInverses.SignedMultiplicativeInverse{Int64},N} where N} where A<:Union{DenseArray, SubArray{T,N,P,I,true} where I<:Tuple{Union{Base.Slice, UnitRange},Vararg{Any,N} where N} where P where N where T}, DenseArray{T,1}, SubArray{T,1,A,I,L} where L} where I<:Tuple{Vararg{Union{Base.AbstractCartesianIndex, Int64, Range{Int64}},N} where N} where A<:Union{Base.ReshapedArray{T,N,A,MI} where MI<:Tuple{Vararg{Base.MultiplicativeInverses.SignedMultiplicativeInverse{Int64},N} where N} where A<:Union{DenseArray, SubArray{T,N,P,I,true} where I<:Tuple{Union{Base.Slice, UnitRange},Vararg{Any,N} where N} where P where N where T} where N where T, DenseArray} where T</b>, y::<b>AbstractSparseArray{Tv,Ti,1} where Ti where Tv</b>) at <a href=\"https://github.com/JuliaLang/julia/tree/d386e40c17d43b79fc89d3e579fc04547241787c/base/sparse/sparsevector.jl#L1340\" target=\"_blank\">sparse/sparsevector.jl:1340</a></li> <li> +(x::<b>Union{Base.ReshapedArray{#s268,N,A,MI} where MI<:Tuple{Vararg{Base.MultiplicativeInverses.SignedMultiplicativeInverse{Int64},N} where N} where A<:Union{DenseArray, SubArray{T,N,P,I,true} where I<:Tuple{Union{Base.Slice, UnitRange},Vararg{Any,N} where N} where P where N where T}, DenseArray{#s268,N}, SubArray{#s268,N,A,I,L} where L} where I<:Tuple{Vararg{Union{Base.AbstractCartesianIndex, Int64, Range{Int64}},N} where N} where A<:Union{Base.ReshapedArray{T,N,A,MI} where MI<:Tuple{Vararg{Base.MultiplicativeInverses.SignedMultiplicativeInverse{Int64},N} where N} where A<:Union{DenseArray, SubArray{T,N,P,I,true} where I<:Tuple{Union{Base.Slice, UnitRange},Vararg{Any,N} where N} where P where N where T} where N where T, DenseArray} where N where #s268<:Union{Base.Dates.CompoundPeriod, Base.Dates.Period}</b>) at <a href=\"https://github.com/JuliaLang/julia/tree/d386e40c17d43b79fc89d3e579fc04547241787c/base/dates/periods.jl#L358\" target=\"_blank\">dates/periods.jl:358</a></li> <li> +(A::<b>SparseMatrixCSC</b>, J::<b>UniformScaling</b>) at <a href=\"https://github.com/JuliaLang/julia/tree/d386e40c17d43b79fc89d3e579fc04547241787c/base/sparse/sparsematrix.jl#L3608\" target=\"_blank\">sparse/sparsematrix.jl:3608</a></li> <li> +<i>{TA, TJ}</i>(A::<b>AbstractArray{TA,2}</b>, J::<b>UniformScaling{TJ}</b>) at <a href=\"https://github.com/JuliaLang/julia/tree/d386e40c17d43b79fc89d3e579fc04547241787c/base/linalg/uniformscaling.jl#L119\" target=\"_blank\">linalg/uniformscaling.jl:119</a></li> <li> +(A::<b>Diagonal</b>, B::<b>Bidiagonal</b>) at <a href=\"https://github.com/JuliaLang/julia/tree/d386e40c17d43b79fc89d3e579fc04547241787c/base/linalg/special.jl#L113\" target=\"_blank\">linalg/special.jl:113</a></li> <li> +(A::<b>Bidiagonal</b>, B::<b>Diagonal</b>) at <a href=\"https://github.com/JuliaLang/julia/tree/d386e40c17d43b79fc89d3e579fc04547241787c/base/linalg/special.jl#L114\" target=\"_blank\">linalg/special.jl:114</a></li> <li> +(A::<b>Diagonal</b>, B::<b>Tridiagonal</b>) at <a href=\"https://github.com/JuliaLang/julia/tree/d386e40c17d43b79fc89d3e579fc04547241787c/base/linalg/special.jl#L113\" target=\"_blank\">linalg/special.jl:113</a></li> <li> +(A::<b>Tridiagonal</b>, B::<b>Diagonal</b>) at <a href=\"https://github.com/JuliaLang/julia/tree/d386e40c17d43b79fc89d3e579fc04547241787c/base/linalg/special.jl#L114\" target=\"_blank\">linalg/special.jl:114</a></li> <li> +(A::<b>Diagonal</b>, B::<b>Array{T,2} where T</b>) at <a href=\"https://github.com/JuliaLang/julia/tree/d386e40c17d43b79fc89d3e579fc04547241787c/base/linalg/special.jl#L113\" target=\"_blank\">linalg/special.jl:113</a></li> <li> +(A::<b>Array{T,2} where T</b>, B::<b>Diagonal</b>) at <a href=\"https://github.com/JuliaLang/julia/tree/d386e40c17d43b79fc89d3e579fc04547241787c/base/linalg/special.jl#L114\" target=\"_blank\">linalg/special.jl:114</a></li> <li> +(A::<b>Bidiagonal</b>, B::<b>Tridiagonal</b>) at <a href=\"https://github.com/JuliaLang/julia/tree/d386e40c17d43b79fc89d3e579fc04547241787c/base/linalg/special.jl#L113\" target=\"_blank\">linalg/special.jl:113</a></li> <li> +(A::<b>Tridiagonal</b>, B::<b>Bidiagonal</b>) at <a href=\"https://github.com/JuliaLang/julia/tree/d386e40c17d43b79fc89d3e579fc04547241787c/base/linalg/special.jl#L114\" target=\"_blank\">linalg/special.jl:114</a></li> <li> +(A::<b>Bidiagonal</b>, B::<b>Array{T,2} where T</b>) at <a href=\"https://github.com/JuliaLang/julia/tree/d386e40c17d43b79fc89d3e579fc04547241787c/base/linalg/special.jl#L113\" target=\"_blank\">linalg/special.jl:113</a></li> <li> +(A::<b>Array{T,2} where T</b>, B::<b>Bidiagonal</b>) at <a href=\"https://github.com/JuliaLang/julia/tree/d386e40c17d43b79fc89d3e579fc04547241787c/base/linalg/special.jl#L114\" target=\"_blank\">linalg/special.jl:114</a></li> <li> +(A::<b>Tridiagonal</b>, B::<b>Array{T,2} where T</b>) at <a href=\"https://github.com/JuliaLang/julia/tree/d386e40c17d43b79fc89d3e579fc04547241787c/base/linalg/special.jl#L113\" target=\"_blank\">linalg/special.jl:113</a></li> <li> +(A::<b>Array{T,2} where T</b>, B::<b>Tridiagonal</b>) at <a href=\"https://github.com/JuliaLang/julia/tree/d386e40c17d43b79fc89d3e579fc04547241787c/base/linalg/special.jl#L114\" target=\"_blank\">linalg/special.jl:114</a></li> <li> +(A::<b>SymTridiagonal</b>, B::<b>Tridiagonal</b>) at <a href=\"https://github.com/JuliaLang/julia/tree/d386e40c17d43b79fc89d3e579fc04547241787c/base/linalg/special.jl#L122\" target=\"_blank\">linalg/special.jl:122</a></li> <li> +(A::<b>Tridiagonal</b>, B::<b>SymTridiagonal</b>) at <a href=\"https://github.com/JuliaLang/julia/tree/d386e40c17d43b79fc89d3e579fc04547241787c/base/linalg/special.jl#L123\" target=\"_blank\">linalg/special.jl:123</a></li> <li> +(A::<b>SymTridiagonal</b>, B::<b>Array{T,2} where T</b>) at <a href=\"https://github.com/JuliaLang/julia/tree/d386e40c17d43b79fc89d3e579fc04547241787c/base/linalg/special.jl#L122\" target=\"_blank\">linalg/special.jl:122</a></li> <li> +(A::<b>Array{T,2} where T</b>, B::<b>SymTridiagonal</b>) at <a href=\"https://github.com/JuliaLang/julia/tree/d386e40c17d43b79fc89d3e579fc04547241787c/base/linalg/special.jl#L123\" target=\"_blank\">linalg/special.jl:123</a></li> <li> +(A::<b>Diagonal</b>, B::<b>SymTridiagonal</b>) at <a href=\"https://github.com/JuliaLang/julia/tree/d386e40c17d43b79fc89d3e579fc04547241787c/base/linalg/special.jl#L131\" target=\"_blank\">linalg/special.jl:131</a></li> <li> +(A::<b>SymTridiagonal</b>, B::<b>Diagonal</b>) at <a href=\"https://github.com/JuliaLang/julia/tree/d386e40c17d43b79fc89d3e579fc04547241787c/base/linalg/special.jl#L132\" target=\"_blank\">linalg/special.jl:132</a></li> <li> +(A::<b>Bidiagonal</b>, B::<b>SymTridiagonal</b>) at <a href=\"https://github.com/JuliaLang/julia/tree/d386e40c17d43b79fc89d3e579fc04547241787c/base/linalg/special.jl#L131\" target=\"_blank\">linalg/special.jl:131</a></li> <li> +(A::<b>SymTridiagonal</b>, B::<b>Bidiagonal</b>) at <a href=\"https://github.com/JuliaLang/julia/tree/d386e40c17d43b79fc89d3e579fc04547241787c/base/linalg/special.jl#L132\" target=\"_blank\">linalg/special.jl:132</a></li> <li> +(A::<b>Diagonal</b>, B::<b>UpperTriangular</b>) at <a href=\"https://github.com/JuliaLang/julia/tree/d386e40c17d43b79fc89d3e579fc04547241787c/base/linalg/special.jl#L143\" target=\"_blank\">linalg/special.jl:143</a></li> <li> +(A::<b>UpperTriangular</b>, B::<b>Diagonal</b>) at <a href=\"https://github.com/JuliaLang/julia/tree/d386e40c17d43b79fc89d3e579fc04547241787c/base/linalg/special.jl#L144\" target=\"_blank\">linalg/special.jl:144</a></li> <li> +(A::<b>Diagonal</b>, B::<b>Base.LinAlg.UnitUpperTriangular</b>) at <a href=\"https://github.com/JuliaLang/julia/tree/d386e40c17d43b79fc89d3e579fc04547241787c/base/linalg/special.jl#L143\" target=\"_blank\">linalg/special.jl:143</a></li> <li> +(A::<b>Base.LinAlg.UnitUpperTriangular</b>, B::<b>Diagonal</b>) at <a href=\"https://github.com/JuliaLang/julia/tree/d386e40c17d43b79fc89d3e579fc04547241787c/base/linalg/special.jl#L144\" target=\"_blank\">linalg/special.jl:144</a></li> <li> +(A::<b>Diagonal</b>, B::<b>LowerTriangular</b>) at <a href=\"https://github.com/JuliaLang/julia/tree/d386e40c17d43b79fc89d3e579fc04547241787c/base/linalg/special.jl#L143\" target=\"_blank\">linalg/special.jl:143</a></li> <li> +(A::<b>LowerTriangular</b>, B::<b>Diagonal</b>) at <a href=\"https://github.com/JuliaLang/julia/tree/d386e40c17d43b79fc89d3e579fc04547241787c/base/linalg/special.jl#L144\" target=\"_blank\">linalg/special.jl:144</a></li> <li> +(A::<b>Diagonal</b>, B::<b>Base.LinAlg.UnitLowerTriangular</b>) at <a href=\"https://github.com/JuliaLang/julia/tree/d386e40c17d43b79fc89d3e579fc04547241787c/base/linalg/special.jl#L143\" target=\"_blank\">linalg/special.jl:143</a></li> <li> +(A::<b>Base.LinAlg.UnitLowerTriangular</b>, B::<b>Diagonal</b>) at <a href=\"https://github.com/JuliaLang/julia/tree/d386e40c17d43b79fc89d3e579fc04547241787c/base/linalg/special.jl#L144\" target=\"_blank\">linalg/special.jl:144</a></li> <li> +(A::<b>Base.LinAlg.AbstractTriangular</b>, B::<b>SymTridiagonal</b>) at <a href=\"https://github.com/JuliaLang/julia/tree/d386e40c17d43b79fc89d3e579fc04547241787c/base/linalg/special.jl#L150\" target=\"_blank\">linalg/special.jl:150</a></li> <li> +(A::<b>SymTridiagonal</b>, B::<b>Base.LinAlg.AbstractTriangular</b>) at <a href=\"https://github.com/JuliaLang/julia/tree/d386e40c17d43b79fc89d3e579fc04547241787c/base/linalg/special.jl#L151\" target=\"_blank\">linalg/special.jl:151</a></li> <li> +(A::<b>Base.LinAlg.AbstractTriangular</b>, B::<b>Tridiagonal</b>) at <a href=\"https://github.com/JuliaLang/julia/tree/d386e40c17d43b79fc89d3e579fc04547241787c/base/linalg/special.jl#L150\" target=\"_blank\">linalg/special.jl:150</a></li> <li> +(A::<b>Tridiagonal</b>, B::<b>Base.LinAlg.AbstractTriangular</b>) at <a href=\"https://github.com/JuliaLang/julia/tree/d386e40c17d43b79fc89d3e579fc04547241787c/base/linalg/special.jl#L151\" target=\"_blank\">linalg/special.jl:151</a></li> <li> +(A::<b>Base.LinAlg.AbstractTriangular</b>, B::<b>Bidiagonal</b>) at <a href=\"https://github.com/JuliaLang/julia/tree/d386e40c17d43b79fc89d3e579fc04547241787c/base/linalg/special.jl#L150\" target=\"_blank\">linalg/special.jl:150</a></li> <li> +(A::<b>Bidiagonal</b>, B::<b>Base.LinAlg.AbstractTriangular</b>) at <a href=\"https://github.com/JuliaLang/julia/tree/d386e40c17d43b79fc89d3e579fc04547241787c/base/linalg/special.jl#L151\" target=\"_blank\">linalg/special.jl:151</a></li> <li> +(A::<b>Base.LinAlg.AbstractTriangular</b>, B::<b>Array{T,2} where T</b>) at <a href=\"https://github.com/JuliaLang/julia/tree/d386e40c17d43b79fc89d3e579fc04547241787c/base/linalg/special.jl#L150\" target=\"_blank\">linalg/special.jl:150</a></li> <li> +(A::<b>Array{T,2} where T</b>, B::<b>Base.LinAlg.AbstractTriangular</b>) at <a href=\"https://github.com/JuliaLang/julia/tree/d386e40c17d43b79fc89d3e579fc04547241787c/base/linalg/special.jl#L151\" target=\"_blank\">linalg/special.jl:151</a></li> <li> +(Y::<b>Union{Base.ReshapedArray{#s267,N,A,MI} where MI<:Tuple{Vararg{Base.MultiplicativeInverses.SignedMultiplicativeInverse{Int64},N} where N} where A<:Union{DenseArray, SubArray{T,N,P,I,true} where I<:Tuple{Union{Base.Slice, UnitRange},Vararg{Any,N} where N} where P where N where T}, DenseArray{#s267,N}, SubArray{#s267,N,A,I,L} where L} where I<:Tuple{Vararg{Union{Base.AbstractCartesianIndex, Int64, Range{Int64}},N} where N} where A<:Union{Base.ReshapedArray{T,N,A,MI} where MI<:Tuple{Vararg{Base.MultiplicativeInverses.SignedMultiplicativeInverse{Int64},N} where N} where A<:Union{DenseArray, SubArray{T,N,P,I,true} where I<:Tuple{Union{Base.Slice, UnitRange},Vararg{Any,N} where N} where P where N where T} where N where T, DenseArray} where N where #s267<:Union{Base.Dates.CompoundPeriod, Base.Dates.Period}</b>, x::<b>Union{Base.Dates.CompoundPeriod, Base.Dates.Period}</b>) at <a href=\"https://github.com/JuliaLang/julia/tree/d386e40c17d43b79fc89d3e579fc04547241787c/base/dates/periods.jl#L363\" target=\"_blank\">dates/periods.jl:363</a></li> <li> +(X::<b>Union{Base.ReshapedArray{#s266,N,A,MI} where MI<:Tuple{Vararg{Base.MultiplicativeInverses.SignedMultiplicativeInverse{Int64},N} where N} where A<:Union{DenseArray, SubArray{T,N,P,I,true} where I<:Tuple{Union{Base.Slice, UnitRange},Vararg{Any,N} where N} where P where N where T}, DenseArray{#s266,N}, SubArray{#s266,N,A,I,L} where L} where I<:Tuple{Vararg{Union{Base.AbstractCartesianIndex, Int64, Range{Int64}},N} where N} where A<:Union{Base.ReshapedArray{T,N,A,MI} where MI<:Tuple{Vararg{Base.MultiplicativeInverses.SignedMultiplicativeInverse{Int64},N} where N} where A<:Union{DenseArray, SubArray{T,N,P,I,true} where I<:Tuple{Union{Base.Slice, UnitRange},Vararg{Any,N} where N} where P where N where T} where N where T, DenseArray} where N where #s266<:Union{Base.Dates.CompoundPeriod, Base.Dates.Period}</b>, Y::<b>Union{Base.ReshapedArray{#s265,N,A,MI} where MI<:Tuple{Vararg{Base.MultiplicativeInverses.SignedMultiplicativeInverse{Int64},N} where N} where A<:Union{DenseArray, SubArray{T,N,P,I,true} where I<:Tuple{Union{Base.Slice, UnitRange},Vararg{Any,N} where N} where P where N where T}, DenseArray{#s265,N}, SubArray{#s265,N,A,I,L} where L} where I<:Tuple{Vararg{Union{Base.AbstractCartesianIndex, Int64, Range{Int64}},N} where N} where A<:Union{Base.ReshapedArray{T,N,A,MI} where MI<:Tuple{Vararg{Base.MultiplicativeInverses.SignedMultiplicativeInverse{Int64},N} where N} where A<:Union{DenseArray, SubArray{T,N,P,I,true} where I<:Tuple{Union{Base.Slice, UnitRange},Vararg{Any,N} where N} where P where N where T} where N where T, DenseArray} where N where #s265<:Union{Base.Dates.CompoundPeriod, Base.Dates.Period}</b>) at <a href=\"https://github.com/JuliaLang/julia/tree/d386e40c17d43b79fc89d3e579fc04547241787c/base/dates/periods.jl#L364\" target=\"_blank\">dates/periods.jl:364</a></li> <li> +(x::<b>Union{Base.ReshapedArray{#s268,N,A,MI} where MI<:Tuple{Vararg{Base.MultiplicativeInverses.SignedMultiplicativeInverse{Int64},N} where N} where A<:Union{DenseArray, SubArray{T,N,P,I,true} where I<:Tuple{Union{Base.Slice, UnitRange},Vararg{Any,N} where N} where P where N where T}, DenseArray{#s268,N}, SubArray{#s268,N,A,I,L} where L} where I<:Tuple{Vararg{Union{Base.AbstractCartesianIndex, Int64, Range{Int64}},N} where N} where A<:Union{Base.ReshapedArray{T,N,A,MI} where MI<:Tuple{Vararg{Base.MultiplicativeInverses.SignedMultiplicativeInverse{Int64},N} where N} where A<:Union{DenseArray, SubArray{T,N,P,I,true} where I<:Tuple{Union{Base.Slice, UnitRange},Vararg{Any,N} where N} where P where N where T} where N where T, DenseArray} where N where #s268<:Union{Base.Dates.CompoundPeriod, Base.Dates.Period}</b>, y::<b>Base.Dates.TimeType</b>) at <a href=\"https://github.com/JuliaLang/julia/tree/d386e40c17d43b79fc89d3e579fc04547241787c/base/dates/arithmetic.jl#L86\" target=\"_blank\">dates/arithmetic.jl:86</a></li> <li> +(r::<b>Range{#s268} where #s268<:Base.Dates.TimeType</b>, x::<b>Base.Dates.Period</b>) at <a href=\"https://github.com/JuliaLang/julia/tree/d386e40c17d43b79fc89d3e579fc04547241787c/base/dates/ranges.jl#L47\" target=\"_blank\">dates/ranges.jl:47</a></li> <li> +(A::<b>SparseMatrixCSC</b>, B::<b>SparseMatrixCSC</b>) at <a href=\"https://github.com/JuliaLang/julia/tree/d386e40c17d43b79fc89d3e579fc04547241787c/base/sparse/sparsematrix.jl#L1537\" target=\"_blank\">sparse/sparsematrix.jl:1537</a></li> <li> +(A::<b>SparseMatrixCSC</b>, B::<b>Array</b>) at <a href=\"https://github.com/JuliaLang/julia/tree/d386e40c17d43b79fc89d3e579fc04547241787c/base/sparse/sparsematrix.jl#L1540\" target=\"_blank\">sparse/sparsematrix.jl:1540</a></li> <li> +(x::<b>AbstractSparseArray{Tv,Ti,1} where Ti where Tv</b>, y::<b>AbstractSparseArray{Tv,Ti,1} where Ti where Tv</b>) at <a href=\"https://github.com/JuliaLang/julia/tree/d386e40c17d43b79fc89d3e579fc04547241787c/base/sparse/sparsevector.jl#L1339\" target=\"_blank\">sparse/sparsevector.jl:1339</a></li> <li> +(x::<b>AbstractSparseArray{Tv,Ti,1} where Ti where Tv</b>, y::<b>Union{Base.ReshapedArray{T,1,A,MI} where MI<:Tuple{Vararg{Base.MultiplicativeInverses.SignedMultiplicativeInverse{Int64},N} where N} where A<:Union{DenseArray, SubArray{T,N,P,I,true} where I<:Tuple{Union{Base.Slice, UnitRange},Vararg{Any,N} where N} where P where N where T}, DenseArray{T,1}, SubArray{T,1,A,I,L} where L} where I<:Tuple{Vararg{Union{Base.AbstractCartesianIndex, Int64, Range{Int64}},N} where N} where A<:Union{Base.ReshapedArray{T,N,A,MI} where MI<:Tuple{Vararg{Base.MultiplicativeInverses.SignedMultiplicativeInverse{Int64},N} where N} where A<:Union{DenseArray, SubArray{T,N,P,I,true} where I<:Tuple{Union{Base.Slice, UnitRange},Vararg{Any,N} where N} where P where N where T} where N where T, DenseArray} where T</b>) at <a href=\"https://github.com/JuliaLang/julia/tree/d386e40c17d43b79fc89d3e579fc04547241787c/base/sparse/sparsevector.jl#L1341\" target=\"_blank\">sparse/sparsevector.jl:1341</a></li> <li> +(x::<b>AbstractArray{#s45,N} where N where #s45<:Number</b>) at <a href=\"https://github.com/JuliaLang/julia/tree/d386e40c17d43b79fc89d3e579fc04547241787c/base/abstractarraymath.jl#L95\" target=\"_blank\">abstractarraymath.jl:95</a></li> <li> +(A::<b>AbstractArray</b>, B::<b>AbstractArray</b>) at <a href=\"https://github.com/JuliaLang/julia/tree/d386e40c17d43b79fc89d3e579fc04547241787c/base/arraymath.jl#L38\" target=\"_blank\">arraymath.jl:38</a></li> <li> +(A::<b>Number</b>, B::<b>AbstractArray</b>) at <a href=\"https://github.com/JuliaLang/julia/tree/d386e40c17d43b79fc89d3e579fc04547241787c/base/arraymath.jl#L45\" target=\"_blank\">arraymath.jl:45</a></li> <li> +(A::<b>AbstractArray</b>, B::<b>Number</b>) at <a href=\"https://github.com/JuliaLang/julia/tree/d386e40c17d43b79fc89d3e579fc04547241787c/base/arraymath.jl#L48\" target=\"_blank\">arraymath.jl:48</a></li> <li> +<i>{N}</i>(index1::<b>CartesianIndex{N}</b>, index2::<b>CartesianIndex{N}</b>) at <a href=\"https://github.com/JuliaLang/julia/tree/d386e40c17d43b79fc89d3e579fc04547241787c/base/multidimensional.jl#L101\" target=\"_blank\">multidimensional.jl:101</a></li> <li> +<i>{N}</i>(index::<b>CartesianIndex{N}</b>, i::<b>Integer</b>) at <a href=\"https://github.com/JuliaLang/julia/tree/d386e40c17d43b79fc89d3e579fc04547241787c/base/multidimensional.jl#L111\" target=\"_blank\">multidimensional.jl:111</a></li> <li> +(J1::<b>UniformScaling</b>, J2::<b>UniformScaling</b>) at <a href=\"https://github.com/JuliaLang/julia/tree/d386e40c17d43b79fc89d3e579fc04547241787c/base/linalg/uniformscaling.jl#L58\" target=\"_blank\">linalg/uniformscaling.jl:58</a></li> <li> +(J::<b>UniformScaling</b>, B::<b>BitArray{2}</b>) at <a href=\"https://github.com/JuliaLang/julia/tree/d386e40c17d43b79fc89d3e579fc04547241787c/base/linalg/uniformscaling.jl#L60\" target=\"_blank\">linalg/uniformscaling.jl:60</a></li> <li> +(J::<b>UniformScaling</b>, A::<b>AbstractArray{T,2} where T</b>) at <a href=\"https://github.com/JuliaLang/julia/tree/d386e40c17d43b79fc89d3e579fc04547241787c/base/linalg/uniformscaling.jl#L61\" target=\"_blank\">linalg/uniformscaling.jl:61</a></li> <li> +<i>{T}</i>(a::<b>Base.Pkg.Resolve.VersionWeights.HierarchicalValue{T}</b>, b::<b>Base.Pkg.Resolve.VersionWeights.HierarchicalValue{T}</b>) at <a href=\"https://github.com/JuliaLang/julia/tree/d386e40c17d43b79fc89d3e579fc04547241787c/base/pkg/resolve/versionweight.jl#L23\" target=\"_blank\">pkg/resolve/versionweight.jl:23</a></li> <li> +<i>{P<:Base.Dates.Period}</i>(x::<b>P</b>, y::<b>P</b>) at <a href=\"https://github.com/JuliaLang/julia/tree/d386e40c17d43b79fc89d3e579fc04547241787c/base/dates/periods.jl#L70\" target=\"_blank\">dates/periods.jl:70</a></li> <li> +(x::<b>Base.Dates.Period</b>, y::<b>Base.Dates.Period</b>) at <a href=\"https://github.com/JuliaLang/julia/tree/d386e40c17d43b79fc89d3e579fc04547241787c/base/dates/periods.jl#L346\" target=\"_blank\">dates/periods.jl:346</a></li> <li> +(y::<b>Base.Dates.Period</b>, x::<b>Base.Dates.CompoundPeriod</b>) at <a href=\"https://github.com/JuliaLang/julia/tree/d386e40c17d43b79fc89d3e579fc04547241787c/base/dates/periods.jl#L348\" target=\"_blank\">dates/periods.jl:348</a></li> <li> +(x::<b>Union{Base.Dates.CompoundPeriod, Base.Dates.Period}</b>) at <a href=\"https://github.com/JuliaLang/julia/tree/d386e40c17d43b79fc89d3e579fc04547241787c/base/dates/periods.jl#L357\" target=\"_blank\">dates/periods.jl:357</a></li> <li> +(x::<b>Union{Base.Dates.CompoundPeriod, Base.Dates.Period}</b>, Y::<b>Union{Base.ReshapedArray{#s268,N,A,MI} where MI<:Tuple{Vararg{Base.MultiplicativeInverses.SignedMultiplicativeInverse{Int64},N} where N} where A<:Union{DenseArray, SubArray{T,N,P,I,true} where I<:Tuple{Union{Base.Slice, UnitRange},Vararg{Any,N} where N} where P where N where T}, DenseArray{#s268,N}, SubArray{#s268,N,A,I,L} where L} where I<:Tuple{Vararg{Union{Base.AbstractCartesianIndex, Int64, Range{Int64}},N} where N} where A<:Union{Base.ReshapedArray{T,N,A,MI} where MI<:Tuple{Vararg{Base.MultiplicativeInverses.SignedMultiplicativeInverse{Int64},N} where N} where A<:Union{DenseArray, SubArray{T,N,P,I,true} where I<:Tuple{Union{Base.Slice, UnitRange},Vararg{Any,N} where N} where P where N where T} where N where T, DenseArray} where N where #s268<:Union{Base.Dates.CompoundPeriod, Base.Dates.Period}</b>) at <a href=\"https://github.com/JuliaLang/julia/tree/d386e40c17d43b79fc89d3e579fc04547241787c/base/dates/periods.jl#L362\" target=\"_blank\">dates/periods.jl:362</a></li> <li> +(x::<b>Base.Dates.TimeType</b>) at <a href=\"https://github.com/JuliaLang/julia/tree/d386e40c17d43b79fc89d3e579fc04547241787c/base/dates/arithmetic.jl#L8\" target=\"_blank\">dates/arithmetic.jl:8</a></li> <li> +(a::<b>Base.Dates.TimeType</b>, b::<b>Base.Dates.Period</b>, c::<b>Base.Dates.Period</b>) at <a href=\"https://github.com/JuliaLang/julia/tree/d386e40c17d43b79fc89d3e579fc04547241787c/base/dates/periods.jl#L378\" target=\"_blank\">dates/periods.jl:378</a></li> <li> +(a::<b>Base.Dates.TimeType</b>, b::<b>Base.Dates.Period</b>, c::<b>Base.Dates.Period</b>, d::<b>Base.Dates.Period...</b>) at <a href=\"https://github.com/JuliaLang/julia/tree/d386e40c17d43b79fc89d3e579fc04547241787c/base/dates/periods.jl#L379\" target=\"_blank\">dates/periods.jl:379</a></li> <li> +(x::<b>Base.Dates.TimeType</b>, y::<b>Base.Dates.CompoundPeriod</b>) at <a href=\"https://github.com/JuliaLang/julia/tree/d386e40c17d43b79fc89d3e579fc04547241787c/base/dates/periods.jl#L382\" target=\"_blank\">dates/periods.jl:382</a></li> <li> +(x::<b>Base.Dates.Instant</b>) at <a href=\"https://github.com/JuliaLang/julia/tree/d386e40c17d43b79fc89d3e579fc04547241787c/base/dates/arithmetic.jl#L4\" target=\"_blank\">dates/arithmetic.jl:4</a></li> <li> +(y::<b>Base.Dates.Period</b>, x::<b>Base.Dates.TimeType</b>) at <a href=\"https://github.com/JuliaLang/julia/tree/d386e40c17d43b79fc89d3e579fc04547241787c/base/dates/arithmetic.jl#L83\" target=\"_blank\">dates/arithmetic.jl:83</a></li> <li> +(x::<b>AbstractArray{#s268,N} where N where #s268<:Base.Dates.TimeType</b>, y::<b>Union{Base.Dates.CompoundPeriod, Base.Dates.Period}</b>) at <a href=\"https://github.com/JuliaLang/julia/tree/d386e40c17d43b79fc89d3e579fc04547241787c/base/dates/arithmetic.jl#L85\" target=\"_blank\">dates/arithmetic.jl:85</a></li> <li> +(x::<b>Base.Dates.Period</b>, r::<b>Range{#s268} where #s268<:Base.Dates.TimeType</b>) at <a href=\"https://github.com/JuliaLang/julia/tree/d386e40c17d43b79fc89d3e579fc04547241787c/base/dates/ranges.jl#L46\" target=\"_blank\">dates/ranges.jl:46</a></li> <li> +(y::<b>Union{Base.Dates.CompoundPeriod, Base.Dates.Period}</b>, x::<b>AbstractArray{#s268,N} where N where #s268<:Base.Dates.TimeType</b>) at <a href=\"https://github.com/JuliaLang/julia/tree/d386e40c17d43b79fc89d3e579fc04547241787c/base/dates/arithmetic.jl#L87\" target=\"_blank\">dates/arithmetic.jl:87</a></li> <li> +(y::<b>Base.Dates.TimeType</b>, x::<b>Union{Base.ReshapedArray{#s268,N,A,MI} where MI<:Tuple{Vararg{Base.MultiplicativeInverses.SignedMultiplicativeInverse{Int64},N} where N} where A<:Union{DenseArray, SubArray{T,N,P,I,true} where I<:Tuple{Union{Base.Slice, UnitRange},Vararg{Any,N} where N} where P where N where T}, DenseArray{#s268,N}, SubArray{#s268,N,A,I,L} where L} where I<:Tuple{Vararg{Union{Base.AbstractCartesianIndex, Int64, Range{Int64}},N} where N} where A<:Union{Base.ReshapedArray{T,N,A,MI} where MI<:Tuple{Vararg{Base.MultiplicativeInverses.SignedMultiplicativeInverse{Int64},N} where N} where A<:Union{DenseArray, SubArray{T,N,P,I,true} where I<:Tuple{Union{Base.Slice, UnitRange},Vararg{Any,N} where N} where P where N where T} where N where T, DenseArray} where N where #s268<:Union{Base.Dates.CompoundPeriod, Base.Dates.Period}</b>) at <a href=\"https://github.com/JuliaLang/julia/tree/d386e40c17d43b79fc89d3e579fc04547241787c/base/dates/arithmetic.jl#L88\" target=\"_blank\">dates/arithmetic.jl:88</a></li> <li> +(J::<b>UniformScaling</b>, x::<b>Number</b>) at <a href=\"https://github.com/JuliaLang/julia/tree/d386e40c17d43b79fc89d3e579fc04547241787c/base/deprecated.jl#L56\" target=\"_blank\">deprecated.jl:56</a></li> <li> +(x::<b>Number</b>, J::<b>UniformScaling</b>) at <a href=\"https://github.com/JuliaLang/julia/tree/d386e40c17d43b79fc89d3e579fc04547241787c/base/deprecated.jl#L56\" target=\"_blank\">deprecated.jl:56</a></li> <li> +(a, b, c, xs...) at <a href=\"https://github.com/JuliaLang/julia/tree/d386e40c17d43b79fc89d3e579fc04547241787c/base/operators.jl#L424\" target=\"_blank\">operators.jl:424</a></li> </ul>"
      ],
      "text/plain": [
       "# 180 methods for generic function \"+\":\n",
       "+(x::Bool, z::Complex{Bool}) in Base at complex.jl:232\n",
       "+(x::Bool, y::Bool) in Base at bool.jl:89\n",
       "+(x::Bool) in Base at bool.jl:86\n",
       "+(x::Bool, y::T) where T<:AbstractFloat in Base at bool.jl:96\n",
       "+(x::Bool, z::Complex) in Base at complex.jl:239\n",
       "+(a::Float16, b::Float16) in Base at float.jl:372\n",
       "+(x::Float32, y::Float32) in Base at float.jl:374\n",
       "+(x::Float64, y::Float64) in Base at float.jl:375\n",
       "+(z::Complex{Bool}, x::Bool) in Base at complex.jl:233\n",
       "+(z::Complex{Bool}, x::Real) in Base at complex.jl:247\n",
       "+(x::Char, y::Integer) in Base at char.jl:40\n",
       "+(c::BigInt, x::BigFloat) in Base.MPFR at mpfr.jl:312\n",
       "+(a::BigInt, b::BigInt, c::BigInt, d::BigInt, e::BigInt) in Base.GMP at gmp.jl:334\n",
       "+(a::BigInt, b::BigInt, c::BigInt, d::BigInt) in Base.GMP at gmp.jl:327\n",
       "+(a::BigInt, b::BigInt, c::BigInt) in Base.GMP at gmp.jl:321\n",
       "+(x::BigInt, y::BigInt) in Base.GMP at gmp.jl:289\n",
       "+(x::BigInt, c::Union{UInt16, UInt32, UInt64, UInt8}) in Base.GMP at gmp.jl:346\n",
       "+(x::BigInt, c::Union{Int16, Int32, Int64, Int8}) in Base.GMP at gmp.jl:362\n",
       "+(a::BigFloat, b::BigFloat, c::BigFloat, d::BigFloat, e::BigFloat) in Base.MPFR at mpfr.jl:460\n",
       "+(a::BigFloat, b::BigFloat, c::BigFloat, d::BigFloat) in Base.MPFR at mpfr.jl:453\n",
       "+(a::BigFloat, b::BigFloat, c::BigFloat) in Base.MPFR at mpfr.jl:447\n",
       "+(x::BigFloat, c::BigInt) in Base.MPFR at mpfr.jl:308\n",
       "+(x::BigFloat, y::BigFloat) in Base.MPFR at mpfr.jl:277\n",
       "+(x::BigFloat, c::Union{UInt16, UInt32, UInt64, UInt8}) in Base.MPFR at mpfr.jl:284\n",
       "+(x::BigFloat, c::Union{Int16, Int32, Int64, Int8}) in Base.MPFR at mpfr.jl:292\n",
       "+(x::BigFloat, c::Union{Float16, Float32, Float64}) in Base.MPFR at mpfr.jl:300\n",
       "+(B::BitArray{2}, J::UniformScaling) in Base.LinAlg at linalg/uniformscaling.jl:59\n",
       "+(a::Base.Pkg.Resolve.VersionWeights.VWPreBuildItem, b::Base.Pkg.Resolve.VersionWeights.VWPreBuildItem) in Base.Pkg.Resolve.VersionWeights at pkg/resolve/versionweight.jl:87\n",
       "+(a::Base.Pkg.Resolve.VersionWeights.VWPreBuild, b::Base.Pkg.Resolve.VersionWeights.VWPreBuild) in Base.Pkg.Resolve.VersionWeights at pkg/resolve/versionweight.jl:135\n",
       "+(a::Base.Pkg.Resolve.VersionWeights.VersionWeight, b::Base.Pkg.Resolve.VersionWeights.VersionWeight) in Base.Pkg.Resolve.VersionWeights at pkg/resolve/versionweight.jl:197\n",
       "+(a::Base.Pkg.Resolve.MaxSum.FieldValues.FieldValue, b::Base.Pkg.Resolve.MaxSum.FieldValues.FieldValue) in Base.Pkg.Resolve.MaxSum.FieldValues at pkg/resolve/fieldvalue.jl:44\n",
       "+(x::Base.Dates.CompoundPeriod, y::Base.Dates.CompoundPeriod) in Base.Dates at dates/periods.jl:349\n",
       "+(x::Base.Dates.CompoundPeriod, y::Base.Dates.Period) in Base.Dates at dates/periods.jl:347\n",
       "+(x::Base.Dates.CompoundPeriod, y::Base.Dates.TimeType) in Base.Dates at dates/periods.jl:387\n",
       "+(x::Date, y::Base.Dates.Day) in Base.Dates at dates/arithmetic.jl:77\n",
       "+(x::Date, y::Base.Dates.Week) in Base.Dates at dates/arithmetic.jl:75\n",
       "+(dt::Date, z::Base.Dates.Month) in Base.Dates at dates/arithmetic.jl:58\n",
       "+(dt::Date, y::Base.Dates.Year) in Base.Dates at dates/arithmetic.jl:32\n",
       "+(dt::Date, t::Base.Dates.Time) in Base.Dates at dates/arithmetic.jl:20\n",
       "+(t::Base.Dates.Time, dt::Date) in Base.Dates at dates/arithmetic.jl:24\n",
       "+(x::Base.Dates.Time, y::Base.Dates.TimePeriod) in Base.Dates at dates/arithmetic.jl:81\n",
       "+(dt::DateTime, z::Base.Dates.Month) in Base.Dates at dates/arithmetic.jl:52\n",
       "+(dt::DateTime, y::Base.Dates.Year) in Base.Dates at dates/arithmetic.jl:28\n",
       "+(x::DateTime, y::Base.Dates.Period) in Base.Dates at dates/arithmetic.jl:79\n",
       "+(y::AbstractFloat, x::Bool) in Base at bool.jl:98\n",
       "+(x::T, y::T) where T<:Union{Int128, Int16, Int32, Int64, Int8, UInt128, UInt16, UInt32, UInt64, UInt8} in Base at int.jl:32\n",
       "+(x::Integer, y::Ptr) in Base at pointer.jl:128\n",
       "+(z::Complex, w::Complex) in Base at complex.jl:221\n",
       "+(z::Complex, x::Bool) in Base at complex.jl:240\n",
       "+(x::Real, z::Complex{Bool}) in Base at complex.jl:246\n",
       "+(x::Real, z::Complex) in Base at complex.jl:258\n",
       "+(z::Complex, x::Real) in Base at complex.jl:259\n",
       "+(x::Rational, y::Rational) in Base at rational.jl:245\n",
       "+(x::Integer, y::Char) in Base at char.jl:41\n",
       "+(i::Integer, index::CartesianIndex) in Base.IteratorsMD at multidimensional.jl:110\n",
       "+(c::Union{UInt16, UInt32, UInt64, UInt8}, x::BigInt) in Base.GMP at gmp.jl:350\n",
       "+(c::Union{Int16, Int32, Int64, Int8}, x::BigInt) in Base.GMP at gmp.jl:363\n",
       "+(c::Union{UInt16, UInt32, UInt64, UInt8}, x::BigFloat) in Base.MPFR at mpfr.jl:288\n",
       "+(c::Union{Int16, Int32, Int64, Int8}, x::BigFloat) in Base.MPFR at mpfr.jl:296\n",
       "+(c::Union{Float16, Float32, Float64}, x::BigFloat) in Base.MPFR at mpfr.jl:304\n",
       "+(x::Irrational, y::Irrational) in Base at irrationals.jl:109\n",
       "+(x::Real, r::Base.Use_StepRangeLen_Instead) in Base at deprecated.jl:1232\n",
       "+(x::Number) in Base at operators.jl:399\n",
       "+(x::T, y::T) where T<:Number in Base at promotion.jl:335\n",
       "+(x::Number, y::Number) in Base at promotion.jl:249\n",
       "+(x::Real, r::AbstractUnitRange) in Base at range.jl:721\n",
       "+(x::Number, r::AbstractUnitRange) in Base at range.jl:723\n",
       "+(x::Number, r::StepRangeLen) in Base at range.jl:726\n",
       "+(x::Number, r::LinSpace) in Base at range.jl:730\n",
       "+(x::Number, r::Range) in Base at range.jl:724\n",
       "+(r::Range, x::Number) in Base at range.jl:732\n",
       "+(r1::OrdinalRange, r2::OrdinalRange) in Base at range.jl:882\n",
       "+(r1::LinSpace{T}, r2::LinSpace{T}) where T in Base at range.jl:889\n",
       "+(r1::StepRangeLen{T,R,S} where S, r2::StepRangeLen{T,R,S} where S) where {R<:Base.TwicePrecision, T} in Base at twiceprecision.jl:300\n",
       "+(r1::StepRangeLen{T,S,S} where S, r2::StepRangeLen{T,S,S} where S) where {T, S} in Base at range.jl:905\n",
       "+(r1::Union{LinSpace, OrdinalRange, StepRangeLen}, r2::Union{LinSpace, OrdinalRange, StepRangeLen}) in Base at range.jl:897\n",
       "+(x::Base.TwicePrecision, y::Number) in Base at twiceprecision.jl:455\n",
       "+(x::Number, y::Base.TwicePrecision) in Base at twiceprecision.jl:458\n",
       "+(x::Base.TwicePrecision{T}, y::Base.TwicePrecision{T}) where T in Base at twiceprecision.jl:461\n",
       "+(x::Base.TwicePrecision, y::Base.TwicePrecision) in Base at twiceprecision.jl:465\n",
       "+(x::Ptr, y::Integer) in Base at pointer.jl:126\n",
       "+(A::BitArray, B::BitArray) in Base at bitarray.jl:1177\n",
       "+(A::SymTridiagonal, B::SymTridiagonal) in Base.LinAlg at linalg/tridiag.jl:128\n",
       "+(A::Tridiagonal, B::Tridiagonal) in Base.LinAlg at linalg/tridiag.jl:624\n",
       "+(A::UpperTriangular, B::UpperTriangular) in Base.LinAlg at linalg/triangular.jl:419\n",
       "+(A::LowerTriangular, B::LowerTriangular) in Base.LinAlg at linalg/triangular.jl:420\n",
       "+(A::UpperTriangular, B::Base.LinAlg.UnitUpperTriangular) in Base.LinAlg at linalg/triangular.jl:421\n",
       "+(A::LowerTriangular, B::Base.LinAlg.UnitLowerTriangular) in Base.LinAlg at linalg/triangular.jl:422\n",
       "+(A::Base.LinAlg.UnitUpperTriangular, B::UpperTriangular) in Base.LinAlg at linalg/triangular.jl:423\n",
       "+(A::Base.LinAlg.UnitLowerTriangular, B::LowerTriangular) in Base.LinAlg at linalg/triangular.jl:424\n",
       "+(A::Base.LinAlg.UnitUpperTriangular, B::Base.LinAlg.UnitUpperTriangular) in Base.LinAlg at linalg/triangular.jl:425\n",
       "+(A::Base.LinAlg.UnitLowerTriangular, B::Base.LinAlg.UnitLowerTriangular) in Base.LinAlg at linalg/triangular.jl:426\n",
       "+(A::Base.LinAlg.AbstractTriangular, B::Base.LinAlg.AbstractTriangular) in Base.LinAlg at linalg/triangular.jl:427\n",
       "+(A::Symmetric, x::Bool) in Base.LinAlg at linalg/symmetric.jl:274\n",
       "+(A::Symmetric, x::Number) in Base.LinAlg at linalg/symmetric.jl:276\n",
       "+(A::Hermitian, x::Bool) in Base.LinAlg at linalg/symmetric.jl:274\n",
       "+(A::Hermitian, x::Real) in Base.LinAlg at linalg/symmetric.jl:276\n",
       "+(Da::Diagonal, Db::Diagonal) in Base.LinAlg at linalg/diagonal.jl:140\n",
       "+(A::Bidiagonal, B::Bidiagonal) in Base.LinAlg at linalg/bidiag.jl:330\n",
       "+(UL::UpperTriangular, J::UniformScaling) in Base.LinAlg at linalg/uniformscaling.jl:72\n",
       "+(UL::Base.LinAlg.UnitUpperTriangular, J::UniformScaling) in Base.LinAlg at linalg/uniformscaling.jl:75\n",
       "+(UL::LowerTriangular, J::UniformScaling) in Base.LinAlg at linalg/uniformscaling.jl:72\n",
       "+(UL::Base.LinAlg.UnitLowerTriangular, J::UniformScaling) in Base.LinAlg at linalg/uniformscaling.jl:75\n",
       "+(A::Array, B::SparseMatrixCSC) in Base.SparseArrays at sparse/sparsematrix.jl:1541\n",
       "+(x::Union{Base.ReshapedArray{T,1,A,MI} where MI<:Tuple{Vararg{Base.MultiplicativeInverses.SignedMultiplicativeInverse{Int64},N} where N} where A<:Union{DenseArray, SubArray{T,N,P,I,true} where I<:Tuple{Union{Base.Slice, UnitRange},Vararg{Any,N} where N} where P where N where T}, DenseArray{T,1}, SubArray{T,1,A,I,L} where L} where I<:Tuple{Vararg{Union{Base.AbstractCartesianIndex, Int64, Range{Int64}},N} where N} where A<:Union{Base.ReshapedArray{T,N,A,MI} where MI<:Tuple{Vararg{Base.MultiplicativeInverses.SignedMultiplicativeInverse{Int64},N} where N} where A<:Union{DenseArray, SubArray{T,N,P,I,true} where I<:Tuple{Union{Base.Slice, UnitRange},Vararg{Any,N} where N} where P where N where T} where N where T, DenseArray} where T, y::AbstractSparseArray{Tv,Ti,1} where Ti where Tv) in Base.SparseArrays at sparse/sparsevector.jl:1340\n",
       "+(x::Union{Base.ReshapedArray{#s268,N,A,MI} where MI<:Tuple{Vararg{Base.MultiplicativeInverses.SignedMultiplicativeInverse{Int64},N} where N} where A<:Union{DenseArray, SubArray{T,N,P,I,true} where I<:Tuple{Union{Base.Slice, UnitRange},Vararg{Any,N} where N} where P where N where T}, DenseArray{#s268,N}, SubArray{#s268,N,A,I,L} where L} where I<:Tuple{Vararg{Union{Base.AbstractCartesianIndex, Int64, Range{Int64}},N} where N} where A<:Union{Base.ReshapedArray{T,N,A,MI} where MI<:Tuple{Vararg{Base.MultiplicativeInverses.SignedMultiplicativeInverse{Int64},N} where N} where A<:Union{DenseArray, SubArray{T,N,P,I,true} where I<:Tuple{Union{Base.Slice, UnitRange},Vararg{Any,N} where N} where P where N where T} where N where T, DenseArray} where N where #s268<:Union{Base.Dates.CompoundPeriod, Base.Dates.Period}) in Base.Dates at dates/periods.jl:358\n",
       "+(A::SparseMatrixCSC, J::UniformScaling) in Base.SparseArrays at sparse/sparsematrix.jl:3608\n",
       "+(A::AbstractArray{TA,2}, J::UniformScaling{TJ}) where {TA, TJ} in Base.LinAlg at linalg/uniformscaling.jl:119\n",
       "+(A::Diagonal, B::Bidiagonal) in Base.LinAlg at linalg/special.jl:113\n",
       "+(A::Bidiagonal, B::Diagonal) in Base.LinAlg at linalg/special.jl:114\n",
       "+(A::Diagonal, B::Tridiagonal) in Base.LinAlg at linalg/special.jl:113\n",
       "+(A::Tridiagonal, B::Diagonal) in Base.LinAlg at linalg/special.jl:114\n",
       "+(A::Diagonal, B::Array{T,2} where T) in Base.LinAlg at linalg/special.jl:113\n",
       "+(A::Array{T,2} where T, B::Diagonal) in Base.LinAlg at linalg/special.jl:114\n",
       "+(A::Bidiagonal, B::Tridiagonal) in Base.LinAlg at linalg/special.jl:113\n",
       "+(A::Tridiagonal, B::Bidiagonal) in Base.LinAlg at linalg/special.jl:114\n",
       "+(A::Bidiagonal, B::Array{T,2} where T) in Base.LinAlg at linalg/special.jl:113\n",
       "+(A::Array{T,2} where T, B::Bidiagonal) in Base.LinAlg at linalg/special.jl:114\n",
       "+(A::Tridiagonal, B::Array{T,2} where T) in Base.LinAlg at linalg/special.jl:113\n",
       "+(A::Array{T,2} where T, B::Tridiagonal) in Base.LinAlg at linalg/special.jl:114\n",
       "+(A::SymTridiagonal, B::Tridiagonal) in Base.LinAlg at linalg/special.jl:122\n",
       "+(A::Tridiagonal, B::SymTridiagonal) in Base.LinAlg at linalg/special.jl:123\n",
       "+(A::SymTridiagonal, B::Array{T,2} where T) in Base.LinAlg at linalg/special.jl:122\n",
       "+(A::Array{T,2} where T, B::SymTridiagonal) in Base.LinAlg at linalg/special.jl:123\n",
       "+(A::Diagonal, B::SymTridiagonal) in Base.LinAlg at linalg/special.jl:131\n",
       "+(A::SymTridiagonal, B::Diagonal) in Base.LinAlg at linalg/special.jl:132\n",
       "+(A::Bidiagonal, B::SymTridiagonal) in Base.LinAlg at linalg/special.jl:131\n",
       "+(A::SymTridiagonal, B::Bidiagonal) in Base.LinAlg at linalg/special.jl:132\n",
       "+(A::Diagonal, B::UpperTriangular) in Base.LinAlg at linalg/special.jl:143\n",
       "+(A::UpperTriangular, B::Diagonal) in Base.LinAlg at linalg/special.jl:144\n",
       "+(A::Diagonal, B::Base.LinAlg.UnitUpperTriangular) in Base.LinAlg at linalg/special.jl:143\n",
       "+(A::Base.LinAlg.UnitUpperTriangular, B::Diagonal) in Base.LinAlg at linalg/special.jl:144\n",
       "+(A::Diagonal, B::LowerTriangular) in Base.LinAlg at linalg/special.jl:143\n",
       "+(A::LowerTriangular, B::Diagonal) in Base.LinAlg at linalg/special.jl:144\n",
       "+(A::Diagonal, B::Base.LinAlg.UnitLowerTriangular) in Base.LinAlg at linalg/special.jl:143\n",
       "+(A::Base.LinAlg.UnitLowerTriangular, B::Diagonal) in Base.LinAlg at linalg/special.jl:144\n",
       "+(A::Base.LinAlg.AbstractTriangular, B::SymTridiagonal) in Base.LinAlg at linalg/special.jl:150\n",
       "+(A::SymTridiagonal, B::Base.LinAlg.AbstractTriangular) in Base.LinAlg at linalg/special.jl:151\n",
       "+(A::Base.LinAlg.AbstractTriangular, B::Tridiagonal) in Base.LinAlg at linalg/special.jl:150\n",
       "+(A::Tridiagonal, B::Base.LinAlg.AbstractTriangular) in Base.LinAlg at linalg/special.jl:151\n",
       "+(A::Base.LinAlg.AbstractTriangular, B::Bidiagonal) in Base.LinAlg at linalg/special.jl:150\n",
       "+(A::Bidiagonal, B::Base.LinAlg.AbstractTriangular) in Base.LinAlg at linalg/special.jl:151\n",
       "+(A::Base.LinAlg.AbstractTriangular, B::Array{T,2} where T) in Base.LinAlg at linalg/special.jl:150\n",
       "+(A::Array{T,2} where T, B::Base.LinAlg.AbstractTriangular) in Base.LinAlg at linalg/special.jl:151\n",
       "+(Y::Union{Base.ReshapedArray{#s267,N,A,MI} where MI<:Tuple{Vararg{Base.MultiplicativeInverses.SignedMultiplicativeInverse{Int64},N} where N} where A<:Union{DenseArray, SubArray{T,N,P,I,true} where I<:Tuple{Union{Base.Slice, UnitRange},Vararg{Any,N} where N} where P where N where T}, DenseArray{#s267,N}, SubArray{#s267,N,A,I,L} where L} where I<:Tuple{Vararg{Union{Base.AbstractCartesianIndex, Int64, Range{Int64}},N} where N} where A<:Union{Base.ReshapedArray{T,N,A,MI} where MI<:Tuple{Vararg{Base.MultiplicativeInverses.SignedMultiplicativeInverse{Int64},N} where N} where A<:Union{DenseArray, SubArray{T,N,P,I,true} where I<:Tuple{Union{Base.Slice, UnitRange},Vararg{Any,N} where N} where P where N where T} where N where T, DenseArray} where N where #s267<:Union{Base.Dates.CompoundPeriod, Base.Dates.Period}, x::Union{Base.Dates.CompoundPeriod, Base.Dates.Period}) in Base.Dates at dates/periods.jl:363\n",
       "+(X::Union{Base.ReshapedArray{#s266,N,A,MI} where MI<:Tuple{Vararg{Base.MultiplicativeInverses.SignedMultiplicativeInverse{Int64},N} where N} where A<:Union{DenseArray, SubArray{T,N,P,I,true} where I<:Tuple{Union{Base.Slice, UnitRange},Vararg{Any,N} where N} where P where N where T}, DenseArray{#s266,N}, SubArray{#s266,N,A,I,L} where L} where I<:Tuple{Vararg{Union{Base.AbstractCartesianIndex, Int64, Range{Int64}},N} where N} where A<:Union{Base.ReshapedArray{T,N,A,MI} where MI<:Tuple{Vararg{Base.MultiplicativeInverses.SignedMultiplicativeInverse{Int64},N} where N} where A<:Union{DenseArray, SubArray{T,N,P,I,true} where I<:Tuple{Union{Base.Slice, UnitRange},Vararg{Any,N} where N} where P where N where T} where N where T, DenseArray} where N where #s266<:Union{Base.Dates.CompoundPeriod, Base.Dates.Period}, Y::Union{Base.ReshapedArray{#s265,N,A,MI} where MI<:Tuple{Vararg{Base.MultiplicativeInverses.SignedMultiplicativeInverse{Int64},N} where N} where A<:Union{DenseArray, SubArray{T,N,P,I,true} where I<:Tuple{Union{Base.Slice, UnitRange},Vararg{Any,N} where N} where P where N where T}, DenseArray{#s265,N}, SubArray{#s265,N,A,I,L} where L} where I<:Tuple{Vararg{Union{Base.AbstractCartesianIndex, Int64, Range{Int64}},N} where N} where A<:Union{Base.ReshapedArray{T,N,A,MI} where MI<:Tuple{Vararg{Base.MultiplicativeInverses.SignedMultiplicativeInverse{Int64},N} where N} where A<:Union{DenseArray, SubArray{T,N,P,I,true} where I<:Tuple{Union{Base.Slice, UnitRange},Vararg{Any,N} where N} where P where N where T} where N where T, DenseArray} where N where #s265<:Union{Base.Dates.CompoundPeriod, Base.Dates.Period}) in Base.Dates at dates/periods.jl:364\n",
       "+(x::Union{Base.ReshapedArray{#s268,N,A,MI} where MI<:Tuple{Vararg{Base.MultiplicativeInverses.SignedMultiplicativeInverse{Int64},N} where N} where A<:Union{DenseArray, SubArray{T,N,P,I,true} where I<:Tuple{Union{Base.Slice, UnitRange},Vararg{Any,N} where N} where P where N where T}, DenseArray{#s268,N}, SubArray{#s268,N,A,I,L} where L} where I<:Tuple{Vararg{Union{Base.AbstractCartesianIndex, Int64, Range{Int64}},N} where N} where A<:Union{Base.ReshapedArray{T,N,A,MI} where MI<:Tuple{Vararg{Base.MultiplicativeInverses.SignedMultiplicativeInverse{Int64},N} where N} where A<:Union{DenseArray, SubArray{T,N,P,I,true} where I<:Tuple{Union{Base.Slice, UnitRange},Vararg{Any,N} where N} where P where N where T} where N where T, DenseArray} where N where #s268<:Union{Base.Dates.CompoundPeriod, Base.Dates.Period}, y::Base.Dates.TimeType) in Base.Dates at dates/arithmetic.jl:86\n",
       "+(r::Range{#s268} where #s268<:Base.Dates.TimeType, x::Base.Dates.Period) in Base.Dates at dates/ranges.jl:47\n",
       "+(A::SparseMatrixCSC, B::SparseMatrixCSC) in Base.SparseArrays at sparse/sparsematrix.jl:1537\n",
       "+(A::SparseMatrixCSC, B::Array) in Base.SparseArrays at sparse/sparsematrix.jl:1540\n",
       "+(x::AbstractSparseArray{Tv,Ti,1} where Ti where Tv, y::AbstractSparseArray{Tv,Ti,1} where Ti where Tv) in Base.SparseArrays at sparse/sparsevector.jl:1339\n",
       "+(x::AbstractSparseArray{Tv,Ti,1} where Ti where Tv, y::Union{Base.ReshapedArray{T,1,A,MI} where MI<:Tuple{Vararg{Base.MultiplicativeInverses.SignedMultiplicativeInverse{Int64},N} where N} where A<:Union{DenseArray, SubArray{T,N,P,I,true} where I<:Tuple{Union{Base.Slice, UnitRange},Vararg{Any,N} where N} where P where N where T}, DenseArray{T,1}, SubArray{T,1,A,I,L} where L} where I<:Tuple{Vararg{Union{Base.AbstractCartesianIndex, Int64, Range{Int64}},N} where N} where A<:Union{Base.ReshapedArray{T,N,A,MI} where MI<:Tuple{Vararg{Base.MultiplicativeInverses.SignedMultiplicativeInverse{Int64},N} where N} where A<:Union{DenseArray, SubArray{T,N,P,I,true} where I<:Tuple{Union{Base.Slice, UnitRange},Vararg{Any,N} where N} where P where N where T} where N where T, DenseArray} where T) in Base.SparseArrays at sparse/sparsevector.jl:1341\n",
       "+(x::AbstractArray{#s45,N} where N where #s45<:Number) in Base at abstractarraymath.jl:95\n",
       "+(A::AbstractArray, B::AbstractArray) in Base at arraymath.jl:38\n",
       "+(A::Number, B::AbstractArray) in Base at arraymath.jl:45\n",
       "+(A::AbstractArray, B::Number) in Base at arraymath.jl:48\n",
       "+(index1::CartesianIndex{N}, index2::CartesianIndex{N}) where N in Base.IteratorsMD at multidimensional.jl:101\n",
       "+(index::CartesianIndex{N}, i::Integer) where N in Base.IteratorsMD at multidimensional.jl:111\n",
       "+(J1::UniformScaling, J2::UniformScaling) in Base.LinAlg at linalg/uniformscaling.jl:58\n",
       "+(J::UniformScaling, B::BitArray{2}) in Base.LinAlg at linalg/uniformscaling.jl:60\n",
       "+(J::UniformScaling, A::AbstractArray{T,2} where T) in Base.LinAlg at linalg/uniformscaling.jl:61\n",
       "+(a::Base.Pkg.Resolve.VersionWeights.HierarchicalValue{T}, b::Base.Pkg.Resolve.VersionWeights.HierarchicalValue{T}) where T in Base.Pkg.Resolve.VersionWeights at pkg/resolve/versionweight.jl:23\n",
       "+(x::P, y::P) where P<:Base.Dates.Period in Base.Dates at dates/periods.jl:70\n",
       "+(x::Base.Dates.Period, y::Base.Dates.Period) in Base.Dates at dates/periods.jl:346\n",
       "+(y::Base.Dates.Period, x::Base.Dates.CompoundPeriod) in Base.Dates at dates/periods.jl:348\n",
       "+(x::Union{Base.Dates.CompoundPeriod, Base.Dates.Period}) in Base.Dates at dates/periods.jl:357\n",
       "+(x::Union{Base.Dates.CompoundPeriod, Base.Dates.Period}, Y::Union{Base.ReshapedArray{#s268,N,A,MI} where MI<:Tuple{Vararg{Base.MultiplicativeInverses.SignedMultiplicativeInverse{Int64},N} where N} where A<:Union{DenseArray, SubArray{T,N,P,I,true} where I<:Tuple{Union{Base.Slice, UnitRange},Vararg{Any,N} where N} where P where N where T}, DenseArray{#s268,N}, SubArray{#s268,N,A,I,L} where L} where I<:Tuple{Vararg{Union{Base.AbstractCartesianIndex, Int64, Range{Int64}},N} where N} where A<:Union{Base.ReshapedArray{T,N,A,MI} where MI<:Tuple{Vararg{Base.MultiplicativeInverses.SignedMultiplicativeInverse{Int64},N} where N} where A<:Union{DenseArray, SubArray{T,N,P,I,true} where I<:Tuple{Union{Base.Slice, UnitRange},Vararg{Any,N} where N} where P where N where T} where N where T, DenseArray} where N where #s268<:Union{Base.Dates.CompoundPeriod, Base.Dates.Period}) in Base.Dates at dates/periods.jl:362\n",
       "+(x::Base.Dates.TimeType) in Base.Dates at dates/arithmetic.jl:8\n",
       "+(a::Base.Dates.TimeType, b::Base.Dates.Period, c::Base.Dates.Period) in Base.Dates at dates/periods.jl:378\n",
       "+(a::Base.Dates.TimeType, b::Base.Dates.Period, c::Base.Dates.Period, d::Base.Dates.Period...) in Base.Dates at dates/periods.jl:379\n",
       "+(x::Base.Dates.TimeType, y::Base.Dates.CompoundPeriod) in Base.Dates at dates/periods.jl:382\n",
       "+(x::Base.Dates.Instant) in Base.Dates at dates/arithmetic.jl:4\n",
       "+(y::Base.Dates.Period, x::Base.Dates.TimeType) in Base.Dates at dates/arithmetic.jl:83\n",
       "+(x::AbstractArray{#s268,N} where N where #s268<:Base.Dates.TimeType, y::Union{Base.Dates.CompoundPeriod, Base.Dates.Period}) in Base.Dates at dates/arithmetic.jl:85\n",
       "+(x::Base.Dates.Period, r::Range{#s268} where #s268<:Base.Dates.TimeType) in Base.Dates at dates/ranges.jl:46\n",
       "+(y::Union{Base.Dates.CompoundPeriod, Base.Dates.Period}, x::AbstractArray{#s268,N} where N where #s268<:Base.Dates.TimeType) in Base.Dates at dates/arithmetic.jl:87\n",
       "+(y::Base.Dates.TimeType, x::Union{Base.ReshapedArray{#s268,N,A,MI} where MI<:Tuple{Vararg{Base.MultiplicativeInverses.SignedMultiplicativeInverse{Int64},N} where N} where A<:Union{DenseArray, SubArray{T,N,P,I,true} where I<:Tuple{Union{Base.Slice, UnitRange},Vararg{Any,N} where N} where P where N where T}, DenseArray{#s268,N}, SubArray{#s268,N,A,I,L} where L} where I<:Tuple{Vararg{Union{Base.AbstractCartesianIndex, Int64, Range{Int64}},N} where N} where A<:Union{Base.ReshapedArray{T,N,A,MI} where MI<:Tuple{Vararg{Base.MultiplicativeInverses.SignedMultiplicativeInverse{Int64},N} where N} where A<:Union{DenseArray, SubArray{T,N,P,I,true} where I<:Tuple{Union{Base.Slice, UnitRange},Vararg{Any,N} where N} where P where N where T} where N where T, DenseArray} where N where #s268<:Union{Base.Dates.CompoundPeriod, Base.Dates.Period}) in Base.Dates at dates/arithmetic.jl:88\n",
       "+(J::UniformScaling, x::Number) in Base at deprecated.jl:56\n",
       "+(x::Number, J::UniformScaling) in Base at deprecated.jl:56\n",
       "+(a, b, c, xs...) in Base at operators.jl:424"
      ]
     },
     "execution_count": 5,
     "metadata": {},
     "output_type": "execute_result"
    }
   ],
   "source": [
    "methods(+)"
   ]
  },
  {
   "cell_type": "markdown",
   "metadata": {},
   "source": [
    "Following the third link, we get the following code snippet:\n",
    "```\n",
    "+(x::Bool) = int(x)\n",
    "-(x::Bool) = -int(x)\n",
    "+(x::Bool, y::Bool) = int(x) + int(y)\n",
    "-(x::Bool, y::Bool) = int(x) - int(y)\n",
    "*(x::Bool, y::Bool) = x & y\n",
    "```\n",
    "\n",
    "Therefore:"
   ]
  },
  {
   "cell_type": "code",
   "execution_count": 6,
   "metadata": {},
   "outputs": [
    {
     "data": {
      "text/plain": [
       "(1, 0, -1, 0)"
      ]
     },
     "execution_count": 6,
     "metadata": {},
     "output_type": "execute_result"
    }
   ],
   "source": [
    "+(true), +(false),-(true),-(false)"
   ]
  },
  {
   "cell_type": "code",
   "execution_count": 7,
   "metadata": {},
   "outputs": [
    {
     "data": {
      "text/plain": [
       "(Bool[false, true, false, true, false, true], Bool[false, true, true, true, true, false])"
      ]
     },
     "execution_count": 7,
     "metadata": {},
     "output_type": "execute_result"
    }
   ],
   "source": [
    "x, y = BitArray([0,1,0,1,0,1]), BitArray([0,1,1,1,1,0])"
   ]
  },
  {
   "cell_type": "markdown",
   "metadata": {},
   "source": [
    "The above command is equivalent to \n",
    "```\n",
    "x = bitpack([0,1,0,1,0,1]); y = bitpack([0,1,1,1,1,0])\n",
    "```\n",
    "except that only the last result would be displayed"
   ]
  },
  {
   "cell_type": "code",
   "execution_count": 8,
   "metadata": {},
   "outputs": [
    {
     "data": {
      "text/plain": [
       "(Bool[false, true, false, true, false, true], [0, -1, 0, -1, 0, -1])"
      ]
     },
     "execution_count": 8,
     "metadata": {},
     "output_type": "execute_result"
    }
   ],
   "source": [
    "+x,-(x)"
   ]
  },
  {
   "cell_type": "code",
   "execution_count": 9,
   "metadata": {},
   "outputs": [
    {
     "data": {
      "text/plain": [
       "([0, 2, 1, 2, 1, 1], [0, 2, 1, 2, 1, 1])"
      ]
     },
     "execution_count": 9,
     "metadata": {},
     "output_type": "execute_result"
    }
   ],
   "source": [
    "x+y, +(x,y)"
   ]
  },
  {
   "cell_type": "code",
   "execution_count": 10,
   "metadata": {},
   "outputs": [
    {
     "data": {
      "text/plain": [
       "6-element Array{Int64,1}:\n",
       " 0\n",
       " 2\n",
       " 1\n",
       " 2\n",
       " 1\n",
       " 1"
      ]
     },
     "execution_count": 10,
     "metadata": {},
     "output_type": "execute_result"
    }
   ],
   "source": [
    "c1=x+y"
   ]
  },
  {
   "cell_type": "code",
   "execution_count": 11,
   "metadata": {},
   "outputs": [
    {
     "data": {
      "text/plain": [
       "6-element Array{Int64,1}:\n",
       " 0\n",
       " 2\n",
       " 1\n",
       " 2\n",
       " 1\n",
       " 1"
      ]
     },
     "execution_count": 11,
     "metadata": {},
     "output_type": "execute_result"
    }
   ],
   "source": [
    "c2=+(x,y)"
   ]
  },
  {
   "cell_type": "markdown",
   "metadata": {},
   "source": [
    "### Manipulating dates\n",
    "\n",
    "We see that one of the `+` methods is adding days to time: \n",
    "\n",
    "```\n",
    " +(x::Date,y::Base.Dates.Day) at dates/arithmetic.jl:77\n",
    "```\n",
    "Therefore, the 135-th day from today is:"
   ]
  },
  {
   "cell_type": "code",
   "execution_count": 12,
   "metadata": {},
   "outputs": [
    {
     "data": {
      "text/plain": [
       "2018-11-12"
      ]
     },
     "execution_count": 12,
     "metadata": {},
     "output_type": "execute_result"
    }
   ],
   "source": [
    "Dates.today()"
   ]
  },
  {
   "cell_type": "code",
   "execution_count": 13,
   "metadata": {},
   "outputs": [
    {
     "data": {
      "text/plain": [
       "2019-03-27"
      ]
     },
     "execution_count": 13,
     "metadata": {},
     "output_type": "execute_result"
    }
   ],
   "source": [
    "dd=Dates.today()+Dates.Day(135)"
   ]
  },
  {
   "cell_type": "code",
   "execution_count": 14,
   "metadata": {},
   "outputs": [
    {
     "data": {
      "text/plain": [
       "Date"
      ]
     },
     "execution_count": 14,
     "metadata": {},
     "output_type": "execute_result"
    }
   ],
   "source": [
    "typeof(dd)"
   ]
  },
  {
   "cell_type": "markdown",
   "metadata": {},
   "source": [
    "More information about the two types can be obtained by `methods(Dates.Date)` and `methods(Dates.Day)`, respectively. "
   ]
  },
  {
   "cell_type": "markdown",
   "metadata": {},
   "source": [
    "### Adding tridiagonal matrices\n",
    "\n",
    "In the above output of `methods(+)`,  we see that we can add tridiagonal matrices:\n",
    "```\n",
    "+(A::Tridiagonal{T}, B::Tridiagonal{T}) at linalg/tridiag.jl:624\n",
    "```\n",
    "Following the link, we see that the method separately adds lower, main and upper diagonals, denoted by `dl`, `d` and `du`, respectively:\n",
    "```\n",
    "624: +(A::Tridiagonal, B::Tridiagonal) = Tridiagonal(A.dl+B.dl, A.d+B.d, A.du+B.du)\n",
    "```\n",
    "Let us see how exactly is the type `Tridiagonal` defined:"
   ]
  },
  {
   "cell_type": "code",
   "execution_count": 15,
   "metadata": {},
   "outputs": [
    {
     "data": {
      "text/html": [
       "6 methods for generic function <b>Type</b>:<ul><li> (::<b>Type{Tridiagonal}</b>)<i>{T}</i>(dl::<b>Array{T,1}</b>, d::<b>Array{T,1}</b>, du::<b>Array{T,1}</b>) at <a href=\"https://github.com/JuliaLang/julia/tree/d386e40c17d43b79fc89d3e579fc04547241787c/base/linalg/tridiag.jl#L436\" target=\"_blank\">linalg/tridiag.jl:436</a></li> <li> (::<b>Type{Tridiagonal}</b>)<i>{T}</i>(dl::<b>Array{T,1}</b>, d::<b>Array{T,1}</b>, du::<b>Array{T,1}</b>, du2::<b>Array{T,1}</b>) at <a href=\"https://github.com/JuliaLang/julia/tree/d386e40c17d43b79fc89d3e579fc04547241787c/base/linalg/tridiag.jl#L389\" target=\"_blank\">linalg/tridiag.jl:389</a></li> <li> (::<b>Type{Tridiagonal}</b>)<i>{T}</i>(M::<b>Bidiagonal{T}</b>) at <a href=\"https://github.com/JuliaLang/julia/tree/d386e40c17d43b79fc89d3e579fc04547241787c/base/linalg/bidiag.jl#L205\" target=\"_blank\">linalg/bidiag.jl:205</a></li> <li> (::<b>Type{Tridiagonal}</b>)<i>{Tl, Td, Tu}</i>(dl::<b>AbstractArray{Tl,1}</b>, d::<b>AbstractArray{Td,1}</b>, du::<b>AbstractArray{Tu,1}</b>) at <a href=\"https://github.com/JuliaLang/julia/tree/d386e40c17d43b79fc89d3e579fc04547241787c/base/linalg/tridiag.jl#L445\" target=\"_blank\">linalg/tridiag.jl:445</a></li> <li> (::<b>Type{Tridiagonal}</b>)(A::<b>AbstractArray{T,2} where T</b>) at <a href=\"https://github.com/JuliaLang/julia/tree/d386e40c17d43b79fc89d3e579fc04547241787c/base/linalg/tridiag.jl#L474\" target=\"_blank\">linalg/tridiag.jl:474</a></li> <li> (::<b>Type{T}</b>)<i>{T}</i>(arg) at <a href=\"https://github.com/JuliaLang/julia/tree/d386e40c17d43b79fc89d3e579fc04547241787c/base/sysimg.jl#L77\" target=\"_blank\">sysimg.jl:77</a></li> </ul>"
      ],
      "text/plain": [
       "# 6 methods for generic function \"(::Type)\":\n",
       "(::Type{Tridiagonal})(dl::Array{T,1}, d::Array{T,1}, du::Array{T,1}) where T in Base.LinAlg at linalg/tridiag.jl:436\n",
       "(::Type{Tridiagonal})(dl::Array{T,1}, d::Array{T,1}, du::Array{T,1}, du2::Array{T,1}) where T in Base.LinAlg at linalg/tridiag.jl:389\n",
       "(::Type{Tridiagonal})(M::Bidiagonal{T}) where T in Base.LinAlg at linalg/bidiag.jl:205\n",
       "(::Type{Tridiagonal})(dl::AbstractArray{Tl,1}, d::AbstractArray{Td,1}, du::AbstractArray{Tu,1}) where {Tl, Td, Tu} in Base.LinAlg at linalg/tridiag.jl:445\n",
       "(::Type{Tridiagonal})(A::AbstractArray{T,2} where T) in Base.LinAlg at linalg/tridiag.jl:474\n",
       "(::Type{T})(arg) where T in Base at sysimg.jl:77"
      ]
     },
     "execution_count": 15,
     "metadata": {},
     "output_type": "execute_result"
    }
   ],
   "source": [
    "methods(Tridiagonal)"
   ]
  },
  {
   "cell_type": "markdown",
   "metadata": {},
   "source": [
    "This output seems confusing, but from the second line we conclude that we can define three diagonals, lower, main and upper diagonal, denoted as above. We also know that that the lower and upper diagonals are of size $n-1$. Let us try it out:"
   ]
  },
  {
   "cell_type": "code",
   "execution_count": 16,
   "metadata": {},
   "outputs": [
    {
     "data": {
      "text/plain": [
       "7×7 Tridiagonal{Float64}:\n",
       " 0.571805  0.668646   ⋅         ⋅         ⋅          ⋅         ⋅      \n",
       " 0.996602  0.770035  0.282996   ⋅         ⋅          ⋅         ⋅      \n",
       "  ⋅        0.152914  0.25802   0.145662   ⋅          ⋅         ⋅      \n",
       "  ⋅         ⋅        0.759351  0.236463  0.776193    ⋅         ⋅      \n",
       "  ⋅         ⋅         ⋅        0.813414  0.0653494  0.650699   ⋅      \n",
       "  ⋅         ⋅         ⋅         ⋅        0.488295   0.893092  0.945514\n",
       "  ⋅         ⋅         ⋅         ⋅         ⋅         0.119422  0.451989"
      ]
     },
     "execution_count": 16,
     "metadata": {},
     "output_type": "execute_result"
    }
   ],
   "source": [
    "T1 = Tridiagonal(rand(6),rand(7),rand(6))"
   ]
  },
  {
   "cell_type": "code",
   "execution_count": 17,
   "metadata": {},
   "outputs": [
    {
     "data": {
      "text/plain": [
       "7×7 Array{Float64,2}:\n",
       " 0.571805  0.668646  0.0       0.0       0.0        0.0       0.0     \n",
       " 0.996602  0.770035  0.282996  0.0       0.0        0.0       0.0     \n",
       " 0.0       0.152914  0.25802   0.145662  0.0        0.0       0.0     \n",
       " 0.0       0.0       0.759351  0.236463  0.776193   0.0       0.0     \n",
       " 0.0       0.0       0.0       0.813414  0.0653494  0.650699  0.0     \n",
       " 0.0       0.0       0.0       0.0       0.488295   0.893092  0.945514\n",
       " 0.0       0.0       0.0       0.0       0.0        0.119422  0.451989"
      ]
     },
     "execution_count": 17,
     "metadata": {},
     "output_type": "execute_result"
    }
   ],
   "source": [
    "Matrix(T1)"
   ]
  },
  {
   "cell_type": "code",
   "execution_count": 18,
   "metadata": {},
   "outputs": [
    {
     "data": {
      "text/plain": [
       "7×7 Tridiagonal{Int64}:\n",
       " -2  -9   ⋅   ⋅   ⋅   ⋅   ⋅\n",
       " -1   6  -7   ⋅   ⋅   ⋅   ⋅\n",
       "  ⋅   0  -1  -8   ⋅   ⋅   ⋅\n",
       "  ⋅   ⋅  -1  -4  -6   ⋅   ⋅\n",
       "  ⋅   ⋅   ⋅  -2  -6  -3   ⋅\n",
       "  ⋅   ⋅   ⋅   ⋅   1   8  -1\n",
       "  ⋅   ⋅   ⋅   ⋅   ⋅   3   3"
      ]
     },
     "execution_count": 18,
     "metadata": {},
     "output_type": "execute_result"
    }
   ],
   "source": [
    "T2 = Tridiagonal(rand(-5:5,6),rand(-6:8,7),rand(-9:0,6))"
   ]
  },
  {
   "cell_type": "code",
   "execution_count": 19,
   "metadata": {},
   "outputs": [
    {
     "data": {
      "text/plain": [
       "7×7 Tridiagonal{Float64}:\n",
       " -1.4282      -8.33135     ⋅          ⋅         ⋅         ⋅         ⋅       \n",
       " -0.00339825   6.77003   -6.717       ⋅         ⋅         ⋅         ⋅       \n",
       "   ⋅           0.152914  -0.74198   -7.85434    ⋅         ⋅         ⋅       \n",
       "   ⋅            ⋅        -0.240649  -3.76354  -5.22381    ⋅         ⋅       \n",
       "   ⋅            ⋅          ⋅        -1.18659  -5.93465  -2.3493     ⋅       \n",
       "   ⋅            ⋅          ⋅          ⋅        1.4883    8.89309  -0.0544856\n",
       "   ⋅            ⋅          ⋅          ⋅         ⋅        3.11942   3.45199  "
      ]
     },
     "execution_count": 19,
     "metadata": {},
     "output_type": "execute_result"
    }
   ],
   "source": [
    "T3=T1+T2"
   ]
  },
  {
   "cell_type": "code",
   "execution_count": 20,
   "metadata": {},
   "outputs": [
    {
     "data": {
      "text/html": [
       "+(A::<b>Tridiagonal</b>, B::<b>Tridiagonal</b>) at <a href=\"https://github.com/JuliaLang/julia/tree/d386e40c17d43b79fc89d3e579fc04547241787c/base/linalg/tridiag.jl#L624\" target=\"_blank\">linalg/tridiag.jl:624</a>"
      ],
      "text/plain": [
       "+(A::Tridiagonal, B::Tridiagonal) in Base.LinAlg at linalg/tridiag.jl:624"
      ]
     },
     "execution_count": 20,
     "metadata": {},
     "output_type": "execute_result"
    }
   ],
   "source": [
    "@which T1 + T2"
   ]
  },
  {
   "cell_type": "markdown",
   "metadata": {},
   "source": [
    "This worked as expected, the result is again a `Tridiagonal`. We can access each diagonal by:"
   ]
  },
  {
   "cell_type": "code",
   "execution_count": 21,
   "metadata": {},
   "outputs": [
    {
     "name": "stdout",
     "output_type": "stream",
     "text": [
      "[-0.00339825, 0.152914, -0.240649, -1.18659, 1.4883, 3.11942][-1.4282, 6.77003, -0.74198, -3.76354, -5.93465, 8.89309, 3.45199][-8.33135, -6.717, -7.85434, -5.22381, -2.3493, -0.0544856]\n"
     ]
    }
   ],
   "source": [
    "println(T3.dl, T3.d, T3.du)"
   ]
  },
  {
   "cell_type": "markdown",
   "metadata": {},
   "source": [
    "### `@which`\n",
    "\n",
    "Let us take a closer look at what happens. The `@which` command gives the link to the part of the code which is actually invoked. The argument should be only function, without assignment, that is \n",
    "```\n",
    "@which T1=Tridiagonal(rand(6),rand(7),rand(6))\n",
    "```\n",
    "throws an error."
   ]
  },
  {
   "cell_type": "code",
   "execution_count": 22,
   "metadata": {},
   "outputs": [
    {
     "data": {
      "text/html": [
       "(::<b>Type{Tridiagonal}</b>)<i>{T}</i>(dl::<b>Array{T,1}</b>, d::<b>Array{T,1}</b>, du::<b>Array{T,1}</b>) at <a href=\"https://github.com/JuliaLang/julia/tree/d386e40c17d43b79fc89d3e579fc04547241787c/base/linalg/tridiag.jl#L436\" target=\"_blank\">linalg/tridiag.jl:436</a>"
      ],
      "text/plain": [
       "(::Type{Tridiagonal})(dl::Array{T,1}, d::Array{T,1}, du::Array{T,1}) where T in Base.LinAlg at linalg/tridiag.jl:436"
      ]
     },
     "execution_count": 22,
     "metadata": {},
     "output_type": "execute_result"
    }
   ],
   "source": [
    "@which Tridiagonal(rand(6),rand(7),rand(6))"
   ]
  },
  {
   "cell_type": "markdown",
   "metadata": {},
   "source": [
    "In the code, we see that there is a type definition in the `struct` block:\n",
    "```\n",
    "## Tridiagonal matrices ##\n",
    "struct Tridiagonal{T} <: AbstractMatrix{T}\n",
    "    dl::Vector{T}    # sub-diagonal\n",
    "    d::Vector{T}     # diagonal\n",
    "    du::Vector{T}    # sup-diagonal\n",
    "    du2::Vector{T}   # supsup-diagonal for pivoting\n",
    "end\n",
    "```\n",
    "The `Tridiagonal` structure (or type) consists of __four__ vectors.\n",
    "In our case, we actually called the function `Tridiagonal()` with __three__ vector arguments. The function creates the type of the same name, setting the fourth reqired vector `du2` to `zeros(T,n-2)`.\n",
    "\n",
    "The next function with the same name is invoked when the input vectors have different types, in which case the types arer promoted to a most general one, if possible."
   ]
  },
  {
   "cell_type": "code",
   "execution_count": 23,
   "metadata": {},
   "outputs": [
    {
     "data": {
      "text/plain": [
       "4×4 Tridiagonal{Complex{Float64}}:\n",
       " 2.0+0.0im  9.73188e-5+0.639228im          ⋅                     ⋅         \n",
       " 1.0+0.0im         3.0+0.0im       0.55523+0.891547im            ⋅         \n",
       "     ⋅             2.0+0.0im       3.14159+0.0im       0.0993668+0.306475im\n",
       "     ⋅                 ⋅               3.0+0.0im             4.0+0.0im     "
      ]
     },
     "execution_count": 23,
     "metadata": {},
     "output_type": "execute_result"
    }
   ],
   "source": [
    "T4 = Tridiagonal([1,2,3], [2.0,3.0,pi,4.0],rand(3)+im*rand(3))"
   ]
  },
  {
   "cell_type": "markdown",
   "metadata": {},
   "source": [
    "### `size()` and `full()`\n",
    "\n",
    "For each matrix type we need to define the function which returns the size of a matrix, and the function which converts the matrix of a given type to a full matrix. These function are listed after the second `Tridiagonal()` function."
   ]
  },
  {
   "cell_type": "code",
   "execution_count": 24,
   "metadata": {},
   "outputs": [
    {
     "data": {
      "text/plain": [
       "(4, 4)"
      ]
     },
     "execution_count": 24,
     "metadata": {},
     "output_type": "execute_result"
    }
   ],
   "source": [
    "size(T4)"
   ]
  },
  {
   "cell_type": "code",
   "execution_count": 25,
   "metadata": {},
   "outputs": [
    {
     "data": {
      "text/plain": [
       "4×4 Array{Complex{Float64},2}:\n",
       " 2.0+0.0im  9.73188e-5+0.639228im      0.0+0.0im             0.0+0.0im     \n",
       " 1.0+0.0im         3.0+0.0im       0.55523+0.891547im        0.0+0.0im     \n",
       " 0.0+0.0im         2.0+0.0im       3.14159+0.0im       0.0993668+0.306475im\n",
       " 0.0+0.0im         0.0+0.0im           3.0+0.0im             4.0+0.0im     "
      ]
     },
     "execution_count": 25,
     "metadata": {},
     "output_type": "execute_result"
    }
   ],
   "source": [
    "T4 = full(T4)"
   ]
  },
  {
   "cell_type": "markdown",
   "metadata": {},
   "source": [
    "### `sizeof()` \n",
    "\n",
    "Of course, using special types can leasd to much more efficient programs. For example, for `Tridiagonal` type, onlt four diagonals are stored, in comparison to storing full matrix when $n^2$ elements are stored. The storage used is obtained by the `sizeof()` function."
   ]
  },
  {
   "cell_type": "code",
   "execution_count": 26,
   "metadata": {},
   "outputs": [
    {
     "data": {
      "text/plain": [
       "7×7 Tridiagonal{Float64}:\n",
       " 0.571805  0.668646   ⋅         ⋅         ⋅          ⋅         ⋅      \n",
       " 0.996602  0.770035  0.282996   ⋅         ⋅          ⋅         ⋅      \n",
       "  ⋅        0.152914  0.25802   0.145662   ⋅          ⋅         ⋅      \n",
       "  ⋅         ⋅        0.759351  0.236463  0.776193    ⋅         ⋅      \n",
       "  ⋅         ⋅         ⋅        0.813414  0.0653494  0.650699   ⋅      \n",
       "  ⋅         ⋅         ⋅         ⋅        0.488295   0.893092  0.945514\n",
       "  ⋅         ⋅         ⋅         ⋅         ⋅         0.119422  0.451989"
      ]
     },
     "execution_count": 26,
     "metadata": {},
     "output_type": "execute_result"
    }
   ],
   "source": [
    "T1"
   ]
  },
  {
   "cell_type": "code",
   "execution_count": 27,
   "metadata": {},
   "outputs": [
    {
     "data": {
      "text/plain": [
       "7×7 Array{Float64,2}:\n",
       " 0.571805  0.668646  0.0       0.0       0.0        0.0       0.0     \n",
       " 0.996602  0.770035  0.282996  0.0       0.0        0.0       0.0     \n",
       " 0.0       0.152914  0.25802   0.145662  0.0        0.0       0.0     \n",
       " 0.0       0.0       0.759351  0.236463  0.776193   0.0       0.0     \n",
       " 0.0       0.0       0.0       0.813414  0.0653494  0.650699  0.0     \n",
       " 0.0       0.0       0.0       0.0       0.488295   0.893092  0.945514\n",
       " 0.0       0.0       0.0       0.0       0.0        0.119422  0.451989"
      ]
     },
     "execution_count": 27,
     "metadata": {},
     "output_type": "execute_result"
    }
   ],
   "source": [
    "T1f=full(T1)"
   ]
  },
  {
   "cell_type": "code",
   "execution_count": 28,
   "metadata": {},
   "outputs": [
    {
     "data": {
      "text/plain": [
       "392"
      ]
     },
     "execution_count": 28,
     "metadata": {},
     "output_type": "execute_result"
    }
   ],
   "source": [
    "sizeof(T1f)  #   392 =  7 * 7 * 8 bytes"
   ]
  },
  {
   "cell_type": "code",
   "execution_count": 29,
   "metadata": {},
   "outputs": [
    {
     "data": {
      "text/plain": [
       "32"
      ]
     },
     "execution_count": 29,
     "metadata": {},
     "output_type": "execute_result"
    }
   ],
   "source": [
    "# This is not yet implemented for Tridiagonal - only the storage \n",
    "# required for 4 vector variables' names is displayed\n",
    "sizeof(T1)"
   ]
  },
  {
   "cell_type": "markdown",
   "metadata": {},
   "source": [
    "### `struct` is immutable\n",
    "\n",
    "This means that we can change individual elements of defined parts, but not the parts as a whole (an alternative is to use the `type` construtor). For example: "
   ]
  },
  {
   "cell_type": "code",
   "execution_count": 30,
   "metadata": {},
   "outputs": [
    {
     "ename": "LoadError",
     "evalue": "\u001b[91mtype Tridiagonal is immutable\u001b[39m",
     "output_type": "error",
     "traceback": [
      "\u001b[91mtype Tridiagonal is immutable\u001b[39m",
      ""
     ]
    },
    {
     "name": "stdout",
     "output_type": "stream",
     "text": [
      "T5 = Tridiagonal([1, 2, 3], [2, 3, 4, 5], [-1, 1, 2]) = [2 -1 0 0; 1 3 1 0; 0 2 4 2; 0 0 3 5]\n",
      "T5 = [2 -1 0 0; 1 123 1 0; 0 2 4 2; 0 0 3 5]\n"
     ]
    }
   ],
   "source": [
    "@show T5 = Tridiagonal([1,2,3],[2,3,4,5],[-1,1,2])\n",
    "T5.d[2]=123\n",
    "@show T5\n",
    "T5.dl = [-1, -1 ,1]"
   ]
  },
  {
   "cell_type": "markdown",
   "metadata": {},
   "source": [
    "### `methodswith()`\n",
    "\n",
    "This is the reverse of `methods()` - which methods exist for the given type. For example, what can we do with `Tridiagonal` matrices, or with `Dates.Day`:"
   ]
  },
  {
   "cell_type": "code",
   "execution_count": 31,
   "metadata": {
    "scrolled": true
   },
   "outputs": [
    {
     "data": {
      "text/html": [
       "86-element Array{Method,1}:<ul><li> *(A::<b>Tridiagonal</b>, B::<b>Number</b>) at <a href=\"https://github.com/JuliaLang/julia/tree/d386e40c17d43b79fc89d3e579fc04547241787c/base/linalg/tridiag.jl#L626\" target=\"_blank\">linalg/tridiag.jl:626</a><li> *(A::<b>Tridiagonal</b>, B::<b>UpperTriangular</b>) at <a href=\"https://github.com/JuliaLang/julia/tree/d386e40c17d43b79fc89d3e579fc04547241787c/base/linalg/triangular.jl#L1430\" target=\"_blank\">linalg/triangular.jl:1430</a><li> *(A::<b>Tridiagonal</b>, B::<b>Base.LinAlg.UnitUpperTriangular</b>) at <a href=\"https://github.com/JuliaLang/julia/tree/d386e40c17d43b79fc89d3e579fc04547241787c/base/linalg/triangular.jl#L1430\" target=\"_blank\">linalg/triangular.jl:1430</a><li> *(A::<b>Tridiagonal</b>, B::<b>LowerTriangular</b>) at <a href=\"https://github.com/JuliaLang/julia/tree/d386e40c17d43b79fc89d3e579fc04547241787c/base/linalg/triangular.jl#L1430\" target=\"_blank\">linalg/triangular.jl:1430</a><li> *(A::<b>Tridiagonal</b>, B::<b>Base.LinAlg.UnitLowerTriangular</b>) at <a href=\"https://github.com/JuliaLang/julia/tree/d386e40c17d43b79fc89d3e579fc04547241787c/base/linalg/triangular.jl#L1430\" target=\"_blank\">linalg/triangular.jl:1430</a><li> *(B::<b>Number</b>, A::<b>Tridiagonal</b>) at <a href=\"https://github.com/JuliaLang/julia/tree/d386e40c17d43b79fc89d3e579fc04547241787c/base/linalg/tridiag.jl#L627\" target=\"_blank\">linalg/tridiag.jl:627</a><li> +(A::<b>Tridiagonal</b>, B::<b>Tridiagonal</b>) at <a href=\"https://github.com/JuliaLang/julia/tree/d386e40c17d43b79fc89d3e579fc04547241787c/base/linalg/tridiag.jl#L624\" target=\"_blank\">linalg/tridiag.jl:624</a><li> +(A::<b>Diagonal</b>, B::<b>Tridiagonal</b>) at <a href=\"https://github.com/JuliaLang/julia/tree/d386e40c17d43b79fc89d3e579fc04547241787c/base/linalg/special.jl#L113\" target=\"_blank\">linalg/special.jl:113</a><li> +(A::<b>Tridiagonal</b>, B::<b>Diagonal</b>) at <a href=\"https://github.com/JuliaLang/julia/tree/d386e40c17d43b79fc89d3e579fc04547241787c/base/linalg/special.jl#L114\" target=\"_blank\">linalg/special.jl:114</a><li> +(A::<b>Bidiagonal</b>, B::<b>Tridiagonal</b>) at <a href=\"https://github.com/JuliaLang/julia/tree/d386e40c17d43b79fc89d3e579fc04547241787c/base/linalg/special.jl#L113\" target=\"_blank\">linalg/special.jl:113</a><li> +(A::<b>Tridiagonal</b>, B::<b>Bidiagonal</b>) at <a href=\"https://github.com/JuliaLang/julia/tree/d386e40c17d43b79fc89d3e579fc04547241787c/base/linalg/special.jl#L114\" target=\"_blank\">linalg/special.jl:114</a><li> +(A::<b>Tridiagonal</b>, B::<b>Array{T,2} where T</b>) at <a href=\"https://github.com/JuliaLang/julia/tree/d386e40c17d43b79fc89d3e579fc04547241787c/base/linalg/special.jl#L113\" target=\"_blank\">linalg/special.jl:113</a><li> +(A::<b>Array{T,2} where T</b>, B::<b>Tridiagonal</b>) at <a href=\"https://github.com/JuliaLang/julia/tree/d386e40c17d43b79fc89d3e579fc04547241787c/base/linalg/special.jl#L114\" target=\"_blank\">linalg/special.jl:114</a><li> +(A::<b>SymTridiagonal</b>, B::<b>Tridiagonal</b>) at <a href=\"https://github.com/JuliaLang/julia/tree/d386e40c17d43b79fc89d3e579fc04547241787c/base/linalg/special.jl#L122\" target=\"_blank\">linalg/special.jl:122</a><li> +(A::<b>Tridiagonal</b>, B::<b>SymTridiagonal</b>) at <a href=\"https://github.com/JuliaLang/julia/tree/d386e40c17d43b79fc89d3e579fc04547241787c/base/linalg/special.jl#L123\" target=\"_blank\">linalg/special.jl:123</a><li> +(A::<b>Base.LinAlg.AbstractTriangular</b>, B::<b>Tridiagonal</b>) at <a href=\"https://github.com/JuliaLang/julia/tree/d386e40c17d43b79fc89d3e579fc04547241787c/base/linalg/special.jl#L150\" target=\"_blank\">linalg/special.jl:150</a><li> +(A::<b>Tridiagonal</b>, B::<b>Base.LinAlg.AbstractTriangular</b>) at <a href=\"https://github.com/JuliaLang/julia/tree/d386e40c17d43b79fc89d3e579fc04547241787c/base/linalg/special.jl#L151\" target=\"_blank\">linalg/special.jl:151</a><li> -(A::<b>Tridiagonal</b>, B::<b>Tridiagonal</b>) at <a href=\"https://github.com/JuliaLang/julia/tree/d386e40c17d43b79fc89d3e579fc04547241787c/base/linalg/tridiag.jl#L625\" target=\"_blank\">linalg/tridiag.jl:625</a><li> -(A::<b>Diagonal</b>, B::<b>Tridiagonal</b>) at <a href=\"https://github.com/JuliaLang/julia/tree/d386e40c17d43b79fc89d3e579fc04547241787c/base/linalg/special.jl#L113\" target=\"_blank\">linalg/special.jl:113</a><li> -(A::<b>Tridiagonal</b>, B::<b>Diagonal</b>) at <a href=\"https://github.com/JuliaLang/julia/tree/d386e40c17d43b79fc89d3e579fc04547241787c/base/linalg/special.jl#L114\" target=\"_blank\">linalg/special.jl:114</a><li> -(A::<b>Bidiagonal</b>, B::<b>Tridiagonal</b>) at <a href=\"https://github.com/JuliaLang/julia/tree/d386e40c17d43b79fc89d3e579fc04547241787c/base/linalg/special.jl#L113\" target=\"_blank\">linalg/special.jl:113</a><li> -(A::<b>Tridiagonal</b>, B::<b>Bidiagonal</b>) at <a href=\"https://github.com/JuliaLang/julia/tree/d386e40c17d43b79fc89d3e579fc04547241787c/base/linalg/special.jl#L114\" target=\"_blank\">linalg/special.jl:114</a><li> -(A::<b>Tridiagonal</b>, B::<b>Array{T,2} where T</b>) at <a href=\"https://github.com/JuliaLang/julia/tree/d386e40c17d43b79fc89d3e579fc04547241787c/base/linalg/special.jl#L113\" target=\"_blank\">linalg/special.jl:113</a><li> -(A::<b>Array{T,2} where T</b>, B::<b>Tridiagonal</b>) at <a href=\"https://github.com/JuliaLang/julia/tree/d386e40c17d43b79fc89d3e579fc04547241787c/base/linalg/special.jl#L114\" target=\"_blank\">linalg/special.jl:114</a><li> -(A::<b>SymTridiagonal</b>, B::<b>Tridiagonal</b>) at <a href=\"https://github.com/JuliaLang/julia/tree/d386e40c17d43b79fc89d3e579fc04547241787c/base/linalg/special.jl#L122\" target=\"_blank\">linalg/special.jl:122</a><li> -(A::<b>Tridiagonal</b>, B::<b>SymTridiagonal</b>) at <a href=\"https://github.com/JuliaLang/julia/tree/d386e40c17d43b79fc89d3e579fc04547241787c/base/linalg/special.jl#L123\" target=\"_blank\">linalg/special.jl:123</a><li> -(A::<b>Base.LinAlg.AbstractTriangular</b>, B::<b>Tridiagonal</b>) at <a href=\"https://github.com/JuliaLang/julia/tree/d386e40c17d43b79fc89d3e579fc04547241787c/base/linalg/special.jl#L150\" target=\"_blank\">linalg/special.jl:150</a><li> -(A::<b>Tridiagonal</b>, B::<b>Base.LinAlg.AbstractTriangular</b>) at <a href=\"https://github.com/JuliaLang/julia/tree/d386e40c17d43b79fc89d3e579fc04547241787c/base/linalg/special.jl#L151\" target=\"_blank\">linalg/special.jl:151</a><li> /(A::<b>Tridiagonal</b>, B::<b>Number</b>) at <a href=\"https://github.com/JuliaLang/julia/tree/d386e40c17d43b79fc89d3e579fc04547241787c/base/linalg/tridiag.jl#L628\" target=\"_blank\">linalg/tridiag.jl:628</a><li> ==(A::<b>Tridiagonal</b>, B::<b>Tridiagonal</b>) at <a href=\"https://github.com/JuliaLang/julia/tree/d386e40c17d43b79fc89d3e579fc04547241787c/base/linalg/tridiag.jl#L630\" target=\"_blank\">linalg/tridiag.jl:630</a><li> ==(A::<b>Tridiagonal</b>, B::<b>SymTridiagonal</b>) at <a href=\"https://github.com/JuliaLang/julia/tree/d386e40c17d43b79fc89d3e579fc04547241787c/base/linalg/tridiag.jl#L631\" target=\"_blank\">linalg/tridiag.jl:631</a><li> ==(A::<b>SymTridiagonal</b>, B::<b>Tridiagonal</b>) at <a href=\"https://github.com/JuliaLang/julia/tree/d386e40c17d43b79fc89d3e579fc04547241787c/base/linalg/tridiag.jl#L632\" target=\"_blank\">linalg/tridiag.jl:632</a><li> A_mul_B!(A::<b>Tridiagonal</b>, B::<b>Base.LinAlg.AbstractTriangular</b>) at <a href=\"https://github.com/JuliaLang/julia/tree/d386e40c17d43b79fc89d3e579fc04547241787c/base/linalg/triangular.jl#L443\" target=\"_blank\">linalg/triangular.jl:443</a><li> A_mul_B!(C::<b>AbstractArray{T,2} where T</b>, A::<b>Base.LinAlg.AbstractTriangular</b>, B::<b>Tridiagonal</b>) at <a href=\"https://github.com/JuliaLang/julia/tree/d386e40c17d43b79fc89d3e579fc04547241787c/base/linalg/triangular.jl#L444\" target=\"_blank\">linalg/triangular.jl:444</a><li> A_mul_B!(C::<b>AbstractArray{T,2} where T</b>, A::<b>Tridiagonal</b>, B::<b>Base.LinAlg.AbstractTriangular</b>) at <a href=\"https://github.com/JuliaLang/julia/tree/d386e40c17d43b79fc89d3e579fc04547241787c/base/linalg/triangular.jl#L445\" target=\"_blank\">linalg/triangular.jl:445</a><li> abs(M::<b>Tridiagonal</b>) at <a href=\"https://github.com/JuliaLang/julia/tree/d386e40c17d43b79fc89d3e579fc04547241787c/base/deprecated.jl#L56\" target=\"_blank\">deprecated.jl:56</a><li> broadcast(::<b>Base.#abs</b>, M::<b>Tridiagonal</b>) at <a href=\"https://github.com/JuliaLang/julia/tree/d386e40c17d43b79fc89d3e579fc04547241787c/base/linalg/tridiag.jl#L510\" target=\"_blank\">linalg/tridiag.jl:510</a><li> broadcast(::<b>Base.#round</b>, M::<b>Tridiagonal</b>) at <a href=\"https://github.com/JuliaLang/julia/tree/d386e40c17d43b79fc89d3e579fc04547241787c/base/linalg/tridiag.jl#L511\" target=\"_blank\">linalg/tridiag.jl:511</a><li> broadcast<i>{T<:Integer}</i>(::<b>Base.#round</b>, ::<b>Type{T}</b>, M::<b>Tridiagonal</b>) at <a href=\"https://github.com/JuliaLang/julia/tree/d386e40c17d43b79fc89d3e579fc04547241787c/base/linalg/tridiag.jl#L520\" target=\"_blank\">linalg/tridiag.jl:520</a><li> broadcast(::<b>Base.#trunc</b>, M::<b>Tridiagonal</b>) at <a href=\"https://github.com/JuliaLang/julia/tree/d386e40c17d43b79fc89d3e579fc04547241787c/base/linalg/tridiag.jl#L512\" target=\"_blank\">linalg/tridiag.jl:512</a><li> broadcast<i>{T<:Integer}</i>(::<b>Base.#trunc</b>, ::<b>Type{T}</b>, M::<b>Tridiagonal</b>) at <a href=\"https://github.com/JuliaLang/julia/tree/d386e40c17d43b79fc89d3e579fc04547241787c/base/linalg/tridiag.jl#L522\" target=\"_blank\">linalg/tridiag.jl:522</a><li> broadcast(::<b>Base.#floor</b>, M::<b>Tridiagonal</b>) at <a href=\"https://github.com/JuliaLang/julia/tree/d386e40c17d43b79fc89d3e579fc04547241787c/base/linalg/tridiag.jl#L513\" target=\"_blank\">linalg/tridiag.jl:513</a><li> broadcast<i>{T<:Integer}</i>(::<b>Base.#floor</b>, ::<b>Type{T}</b>, M::<b>Tridiagonal</b>) at <a href=\"https://github.com/JuliaLang/julia/tree/d386e40c17d43b79fc89d3e579fc04547241787c/base/linalg/tridiag.jl#L524\" target=\"_blank\">linalg/tridiag.jl:524</a><li> broadcast(::<b>Base.#ceil</b>, M::<b>Tridiagonal</b>) at <a href=\"https://github.com/JuliaLang/julia/tree/d386e40c17d43b79fc89d3e579fc04547241787c/base/linalg/tridiag.jl#L514\" target=\"_blank\">linalg/tridiag.jl:514</a><li> broadcast<i>{T<:Integer}</i>(::<b>Base.#ceil</b>, ::<b>Type{T}</b>, M::<b>Tridiagonal</b>) at <a href=\"https://github.com/JuliaLang/julia/tree/d386e40c17d43b79fc89d3e579fc04547241787c/base/linalg/tridiag.jl#L526\" target=\"_blank\">linalg/tridiag.jl:526</a><li> ceil(M::<b>Tridiagonal</b>) at <a href=\"https://github.com/JuliaLang/julia/tree/d386e40c17d43b79fc89d3e579fc04547241787c/base/deprecated.jl#L56\" target=\"_blank\">deprecated.jl:56</a><li> conj(M::<b>Tridiagonal</b>) at <a href=\"https://github.com/JuliaLang/julia/tree/d386e40c17d43b79fc89d3e579fc04547241787c/base/linalg/tridiag.jl#L517\" target=\"_blank\">linalg/tridiag.jl:517</a><li> convert<i>{T}</i>(::<b>Type{Array{T,2} where T}</b>, M::<b>Tridiagonal{T}</b>) at <a href=\"https://github.com/JuliaLang/julia/tree/d386e40c17d43b79fc89d3e579fc04547241787c/base/linalg/tridiag.jl#L499\" target=\"_blank\">linalg/tridiag.jl:499</a><li> convert<i>{T}</i>(::<b>Type{Array{T,2}}</b>, M::<b>Tridiagonal{T}</b>) at <a href=\"https://github.com/JuliaLang/julia/tree/d386e40c17d43b79fc89d3e579fc04547241787c/base/linalg/tridiag.jl#L489\" target=\"_blank\">linalg/tridiag.jl:489</a><li> convert<i>{T}</i>(::<b>Type{AbstractArray{T,2}}</b>, M::<b>Tridiagonal</b>) at <a href=\"https://github.com/JuliaLang/julia/tree/d386e40c17d43b79fc89d3e579fc04547241787c/base/linalg/tridiag.jl#L638\" target=\"_blank\">linalg/tridiag.jl:638</a><li> convert(::<b>Type{Array}</b>, M::<b>Tridiagonal</b>) at <a href=\"https://github.com/JuliaLang/julia/tree/d386e40c17d43b79fc89d3e579fc04547241787c/base/linalg/tridiag.jl#L500\" target=\"_blank\">linalg/tridiag.jl:500</a><li> convert<i>{T}</i>(::<b>Type{Tridiagonal{T}}</b>, M::<b>Tridiagonal</b>) at <a href=\"https://github.com/JuliaLang/julia/tree/d386e40c17d43b79fc89d3e579fc04547241787c/base/linalg/tridiag.jl#L637\" target=\"_blank\">linalg/tridiag.jl:637</a><li> convert<i>{T}</i>(::<b>Type{SymTridiagonal{T}}</b>, M::<b>Tridiagonal</b>) at <a href=\"https://github.com/JuliaLang/julia/tree/d386e40c17d43b79fc89d3e579fc04547241787c/base/linalg/tridiag.jl#L641\" target=\"_blank\">linalg/tridiag.jl:641</a><li> convert(::<b>Type{Diagonal}</b>, A::<b>Tridiagonal</b>) at <a href=\"https://github.com/JuliaLang/julia/tree/d386e40c17d43b79fc89d3e579fc04547241787c/base/linalg/special.jl#L39\" target=\"_blank\">linalg/special.jl:39</a><li> convert(::<b>Type{Bidiagonal}</b>, A::<b>Tridiagonal</b>) at <a href=\"https://github.com/JuliaLang/julia/tree/d386e40c17d43b79fc89d3e579fc04547241787c/base/linalg/special.jl#L46\" target=\"_blank\">linalg/special.jl:46</a><li> convert(::<b>Type{SymTridiagonal}</b>, A::<b>Tridiagonal</b>) at <a href=\"https://github.com/JuliaLang/julia/tree/d386e40c17d43b79fc89d3e579fc04547241787c/base/linalg/special.jl#L56\" target=\"_blank\">linalg/special.jl:56</a><li> copy(M::<b>Tridiagonal</b>) at <a href=\"https://github.com/JuliaLang/julia/tree/d386e40c17d43b79fc89d3e579fc04547241787c/base/linalg/tridiag.jl#L517\" target=\"_blank\">linalg/tridiag.jl:517</a><li> copy!(dest::<b>Tridiagonal</b>, src::<b>Tridiagonal</b>) at <a href=\"https://github.com/JuliaLang/julia/tree/d386e40c17d43b79fc89d3e579fc04547241787c/base/linalg/tridiag.jl#L507\" target=\"_blank\">linalg/tridiag.jl:507</a><li> ctranspose(M::<b>Tridiagonal</b>) at <a href=\"https://github.com/JuliaLang/julia/tree/d386e40c17d43b79fc89d3e579fc04547241787c/base/linalg/tridiag.jl#L530\" target=\"_blank\">linalg/tridiag.jl:530</a><li> det(A::<b>Tridiagonal</b>) at <a href=\"https://github.com/JuliaLang/julia/tree/d386e40c17d43b79fc89d3e579fc04547241787c/base/linalg/tridiag.jl#L635\" target=\"_blank\">linalg/tridiag.jl:635</a><li> diag<i>{T}</i>(M::<b>Tridiagonal{T}</b>) at <a href=\"https://github.com/JuliaLang/julia/tree/d386e40c17d43b79fc89d3e579fc04547241787c/base/linalg/tridiag.jl#L533\" target=\"_blank\">linalg/tridiag.jl:533</a><li> diag<i>{T}</i>(M::<b>Tridiagonal{T}</b>, n::<b>Integer</b>) at <a href=\"https://github.com/JuliaLang/julia/tree/d386e40c17d43b79fc89d3e579fc04547241787c/base/linalg/tridiag.jl#L533\" target=\"_blank\">linalg/tridiag.jl:533</a><li> factorize(A::<b>Tridiagonal</b>) at <a href=\"https://github.com/JuliaLang/julia/tree/d386e40c17d43b79fc89d3e579fc04547241787c/base/linalg/lu.jl#L385\" target=\"_blank\">linalg/lu.jl:385</a><li> floor(M::<b>Tridiagonal</b>) at <a href=\"https://github.com/JuliaLang/julia/tree/d386e40c17d43b79fc89d3e579fc04547241787c/base/deprecated.jl#L56\" target=\"_blank\">deprecated.jl:56</a><li> full(M::<b>Tridiagonal</b>) at <a href=\"https://github.com/JuliaLang/julia/tree/d386e40c17d43b79fc89d3e579fc04547241787c/base/linalg/tridiag.jl#L501\" target=\"_blank\">linalg/tridiag.jl:501</a><li> getindex<i>{T}</i>(A::<b>Tridiagonal{T}</b>, i::<b>Integer</b>, j::<b>Integer</b>) at <a href=\"https://github.com/JuliaLang/julia/tree/d386e40c17d43b79fc89d3e579fc04547241787c/base/linalg/tridiag.jl#L547\" target=\"_blank\">linalg/tridiag.jl:547</a><li> imag(M::<b>Tridiagonal</b>) at <a href=\"https://github.com/JuliaLang/julia/tree/d386e40c17d43b79fc89d3e579fc04547241787c/base/linalg/tridiag.jl#L517\" target=\"_blank\">linalg/tridiag.jl:517</a><li> inv(A::<b>Tridiagonal</b>) at <a href=\"https://github.com/JuliaLang/julia/tree/d386e40c17d43b79fc89d3e579fc04547241787c/base/linalg/tridiag.jl#L634\" target=\"_blank\">linalg/tridiag.jl:634</a><li> istril(M::<b>Tridiagonal</b>) at <a href=\"https://github.com/JuliaLang/julia/tree/d386e40c17d43b79fc89d3e579fc04547241787c/base/linalg/tridiag.jl#L584\" target=\"_blank\">linalg/tridiag.jl:584</a><li> istriu(M::<b>Tridiagonal</b>) at <a href=\"https://github.com/JuliaLang/julia/tree/d386e40c17d43b79fc89d3e579fc04547241787c/base/linalg/tridiag.jl#L583\" target=\"_blank\">linalg/tridiag.jl:583</a><li> lufact!<i>{T}</i>(A::<b>Tridiagonal{T}</b>) at <a href=\"https://github.com/JuliaLang/julia/tree/d386e40c17d43b79fc89d3e579fc04547241787c/base/linalg/lu.jl#L321\" target=\"_blank\">linalg/lu.jl:321</a><li> lufact!<i>{T}</i>(A::<b>Tridiagonal{T}</b>, pivot::<b>Union{Type{Val{false}}, Type{Val{true}}}</b>) at <a href=\"https://github.com/JuliaLang/julia/tree/d386e40c17d43b79fc89d3e579fc04547241787c/base/linalg/lu.jl#L321\" target=\"_blank\">linalg/lu.jl:321</a><li> real(M::<b>Tridiagonal</b>) at <a href=\"https://github.com/JuliaLang/julia/tree/d386e40c17d43b79fc89d3e579fc04547241787c/base/linalg/tridiag.jl#L517\" target=\"_blank\">linalg/tridiag.jl:517</a><li> round(M::<b>Tridiagonal</b>) at <a href=\"https://github.com/JuliaLang/julia/tree/d386e40c17d43b79fc89d3e579fc04547241787c/base/deprecated.jl#L56\" target=\"_blank\">deprecated.jl:56</a><li> schur(A::<b>Tridiagonal</b>) at <a href=\"https://github.com/JuliaLang/julia/tree/d386e40c17d43b79fc89d3e579fc04547241787c/base/linalg/schur.jl#L114\" target=\"_blank\">linalg/schur.jl:114</a><li> setindex!(A::<b>Tridiagonal</b>, x, i::<b>Integer</b>, j::<b>Integer</b>) at <a href=\"https://github.com/JuliaLang/julia/tree/d386e40c17d43b79fc89d3e579fc04547241787c/base/linalg/tridiag.jl#L562\" target=\"_blank\">linalg/tridiag.jl:562</a><li> similar<i>{T}</i>(M::<b>Tridiagonal</b>, ::<b>Type{T}</b>) at <a href=\"https://github.com/JuliaLang/julia/tree/d386e40c17d43b79fc89d3e579fc04547241787c/base/linalg/tridiag.jl#L503\" target=\"_blank\">linalg/tridiag.jl:503</a><li> size(M::<b>Tridiagonal</b>) at <a href=\"https://github.com/JuliaLang/julia/tree/d386e40c17d43b79fc89d3e579fc04547241787c/base/linalg/tridiag.jl#L477\" target=\"_blank\">linalg/tridiag.jl:477</a><li> size(M::<b>Tridiagonal</b>, d::<b>Integer</b>) at <a href=\"https://github.com/JuliaLang/julia/tree/d386e40c17d43b79fc89d3e579fc04547241787c/base/linalg/tridiag.jl#L479\" target=\"_blank\">linalg/tridiag.jl:479</a><li> sparse(T::<b>Tridiagonal</b>) at <a href=\"https://github.com/JuliaLang/julia/tree/d386e40c17d43b79fc89d3e579fc04547241787c/base/sparse/sparsematrix.jl#L715\" target=\"_blank\">sparse/sparsematrix.jl:715</a><li> transpose(M::<b>Tridiagonal</b>) at <a href=\"https://github.com/JuliaLang/julia/tree/d386e40c17d43b79fc89d3e579fc04547241787c/base/linalg/tridiag.jl#L529\" target=\"_blank\">linalg/tridiag.jl:529</a><li> tril!(M::<b>Tridiagonal</b>) at <a href=\"https://github.com/JuliaLang/julia/tree/d386e40c17d43b79fc89d3e579fc04547241787c/base/linalg/tridiag.jl#L587\" target=\"_blank\">linalg/tridiag.jl:587</a><li> tril!(M::<b>Tridiagonal</b>, k::<b>Integer</b>) at <a href=\"https://github.com/JuliaLang/julia/tree/d386e40c17d43b79fc89d3e579fc04547241787c/base/linalg/tridiag.jl#L587\" target=\"_blank\">linalg/tridiag.jl:587</a><li> triu!(M::<b>Tridiagonal</b>) at <a href=\"https://github.com/JuliaLang/julia/tree/d386e40c17d43b79fc89d3e579fc04547241787c/base/linalg/tridiag.jl#L604\" target=\"_blank\">linalg/tridiag.jl:604</a><li> triu!(M::<b>Tridiagonal</b>, k::<b>Integer</b>) at <a href=\"https://github.com/JuliaLang/julia/tree/d386e40c17d43b79fc89d3e579fc04547241787c/base/linalg/tridiag.jl#L604\" target=\"_blank\">linalg/tridiag.jl:604</a><li> trunc(M::<b>Tridiagonal</b>) at <a href=\"https://github.com/JuliaLang/julia/tree/d386e40c17d43b79fc89d3e579fc04547241787c/base/deprecated.jl#L56\" target=\"_blank\">deprecated.jl:56</a></ul>"
      ],
      "text/plain": [
       "86-element Array{Method,1}:\n",
       " *(A::Tridiagonal, B::Number) in Base.LinAlg at linalg/tridiag.jl:626                                                                 \n",
       " *(A::Tridiagonal, B::UpperTriangular) in Base.LinAlg at linalg/triangular.jl:1430                                                    \n",
       " *(A::Tridiagonal, B::Base.LinAlg.UnitUpperTriangular) in Base.LinAlg at linalg/triangular.jl:1430                                    \n",
       " *(A::Tridiagonal, B::LowerTriangular) in Base.LinAlg at linalg/triangular.jl:1430                                                    \n",
       " *(A::Tridiagonal, B::Base.LinAlg.UnitLowerTriangular) in Base.LinAlg at linalg/triangular.jl:1430                                    \n",
       " *(B::Number, A::Tridiagonal) in Base.LinAlg at linalg/tridiag.jl:627                                                                 \n",
       " +(A::Tridiagonal, B::Tridiagonal) in Base.LinAlg at linalg/tridiag.jl:624                                                            \n",
       " +(A::Diagonal, B::Tridiagonal) in Base.LinAlg at linalg/special.jl:113                                                               \n",
       " +(A::Tridiagonal, B::Diagonal) in Base.LinAlg at linalg/special.jl:114                                                               \n",
       " +(A::Bidiagonal, B::Tridiagonal) in Base.LinAlg at linalg/special.jl:113                                                             \n",
       " +(A::Tridiagonal, B::Bidiagonal) in Base.LinAlg at linalg/special.jl:114                                                             \n",
       " +(A::Tridiagonal, B::Array{T,2} where T) in Base.LinAlg at linalg/special.jl:113                                                     \n",
       " +(A::Array{T,2} where T, B::Tridiagonal) in Base.LinAlg at linalg/special.jl:114                                                     \n",
       " +(A::SymTridiagonal, B::Tridiagonal) in Base.LinAlg at linalg/special.jl:122                                                         \n",
       " +(A::Tridiagonal, B::SymTridiagonal) in Base.LinAlg at linalg/special.jl:123                                                         \n",
       " +(A::Base.LinAlg.AbstractTriangular, B::Tridiagonal) in Base.LinAlg at linalg/special.jl:150                                         \n",
       " +(A::Tridiagonal, B::Base.LinAlg.AbstractTriangular) in Base.LinAlg at linalg/special.jl:151                                         \n",
       " -(A::Tridiagonal, B::Tridiagonal) in Base.LinAlg at linalg/tridiag.jl:625                                                            \n",
       " -(A::Diagonal, B::Tridiagonal) in Base.LinAlg at linalg/special.jl:113                                                               \n",
       " -(A::Tridiagonal, B::Diagonal) in Base.LinAlg at linalg/special.jl:114                                                               \n",
       " -(A::Bidiagonal, B::Tridiagonal) in Base.LinAlg at linalg/special.jl:113                                                             \n",
       " -(A::Tridiagonal, B::Bidiagonal) in Base.LinAlg at linalg/special.jl:114                                                             \n",
       " -(A::Tridiagonal, B::Array{T,2} where T) in Base.LinAlg at linalg/special.jl:113                                                     \n",
       " -(A::Array{T,2} where T, B::Tridiagonal) in Base.LinAlg at linalg/special.jl:114                                                     \n",
       " -(A::SymTridiagonal, B::Tridiagonal) in Base.LinAlg at linalg/special.jl:122                                                         \n",
       " -(A::Tridiagonal, B::SymTridiagonal) in Base.LinAlg at linalg/special.jl:123                                                         \n",
       " -(A::Base.LinAlg.AbstractTriangular, B::Tridiagonal) in Base.LinAlg at linalg/special.jl:150                                         \n",
       " -(A::Tridiagonal, B::Base.LinAlg.AbstractTriangular) in Base.LinAlg at linalg/special.jl:151                                         \n",
       " /(A::Tridiagonal, B::Number) in Base.LinAlg at linalg/tridiag.jl:628                                                                 \n",
       " ==(A::Tridiagonal, B::Tridiagonal) in Base.LinAlg at linalg/tridiag.jl:630                                                           \n",
       " ==(A::Tridiagonal, B::SymTridiagonal) in Base.LinAlg at linalg/tridiag.jl:631                                                        \n",
       " ==(A::SymTridiagonal, B::Tridiagonal) in Base.LinAlg at linalg/tridiag.jl:632                                                        \n",
       " A_mul_B!(A::Tridiagonal, B::Base.LinAlg.AbstractTriangular) in Base.LinAlg at linalg/triangular.jl:443                               \n",
       " A_mul_B!(C::AbstractArray{T,2} where T, A::Base.LinAlg.AbstractTriangular, B::Tridiagonal) in Base.LinAlg at linalg/triangular.jl:444\n",
       " A_mul_B!(C::AbstractArray{T,2} where T, A::Tridiagonal, B::Base.LinAlg.AbstractTriangular) in Base.LinAlg at linalg/triangular.jl:445\n",
       " abs(M::Tridiagonal) in Base at deprecated.jl:56                                                                                      \n",
       " broadcast(::Base.#abs, M::Tridiagonal) in Base.LinAlg at linalg/tridiag.jl:510                                                       \n",
       " broadcast(::Base.#round, M::Tridiagonal) in Base.LinAlg at linalg/tridiag.jl:511                                                     \n",
       " broadcast(::Base.#round, ::Type{T}, M::Tridiagonal) where T<:Integer in Base.LinAlg at linalg/tridiag.jl:520                         \n",
       " broadcast(::Base.#trunc, M::Tridiagonal) in Base.LinAlg at linalg/tridiag.jl:512                                                     \n",
       " broadcast(::Base.#trunc, ::Type{T}, M::Tridiagonal) where T<:Integer in Base.LinAlg at linalg/tridiag.jl:522                         \n",
       " broadcast(::Base.#floor, M::Tridiagonal) in Base.LinAlg at linalg/tridiag.jl:513                                                     \n",
       " broadcast(::Base.#floor, ::Type{T}, M::Tridiagonal) where T<:Integer in Base.LinAlg at linalg/tridiag.jl:524                         \n",
       " broadcast(::Base.#ceil, M::Tridiagonal) in Base.LinAlg at linalg/tridiag.jl:514                                                      \n",
       " broadcast(::Base.#ceil, ::Type{T}, M::Tridiagonal) where T<:Integer in Base.LinAlg at linalg/tridiag.jl:526                          \n",
       " ceil(M::Tridiagonal) in Base at deprecated.jl:56                                                                                     \n",
       " conj(M::Tridiagonal) in Base.LinAlg at linalg/tridiag.jl:517                                                                         \n",
       " convert(::Type{Array{T,2} where T}, M::Tridiagonal{T}) where T in Base.LinAlg at linalg/tridiag.jl:499                               \n",
       " convert(::Type{Array{T,2}}, M::Tridiagonal{T}) where T in Base.LinAlg at linalg/tridiag.jl:489                                       \n",
       " convert(::Type{AbstractArray{T,2}}, M::Tridiagonal) where T in Base.LinAlg at linalg/tridiag.jl:638                                  \n",
       " convert(::Type{Array}, M::Tridiagonal) in Base.LinAlg at linalg/tridiag.jl:500                                                       \n",
       " convert(::Type{Tridiagonal{T}}, M::Tridiagonal) where T in Base.LinAlg at linalg/tridiag.jl:637                                      \n",
       " convert(::Type{SymTridiagonal{T}}, M::Tridiagonal) where T in Base.LinAlg at linalg/tridiag.jl:641                                   \n",
       " convert(::Type{Diagonal}, A::Tridiagonal) in Base.LinAlg at linalg/special.jl:39                                                     \n",
       " convert(::Type{Bidiagonal}, A::Tridiagonal) in Base.LinAlg at linalg/special.jl:46                                                   \n",
       " convert(::Type{SymTridiagonal}, A::Tridiagonal) in Base.LinAlg at linalg/special.jl:56                                               \n",
       " copy(M::Tridiagonal) in Base.LinAlg at linalg/tridiag.jl:517                                                                         \n",
       " copy!(dest::Tridiagonal, src::Tridiagonal) in Base.LinAlg at linalg/tridiag.jl:507                                                   \n",
       " ctranspose(M::Tridiagonal) in Base.LinAlg at linalg/tridiag.jl:530                                                                   \n",
       " det(A::Tridiagonal) in Base.LinAlg at linalg/tridiag.jl:635                                                                          \n",
       " diag(M::Tridiagonal{T}) where T in Base.LinAlg at linalg/tridiag.jl:533                                                              \n",
       " diag(M::Tridiagonal{T}, n::Integer) where T in Base.LinAlg at linalg/tridiag.jl:533                                                  \n",
       " factorize(A::Tridiagonal) in Base.LinAlg at linalg/lu.jl:385                                                                         \n",
       " floor(M::Tridiagonal) in Base at deprecated.jl:56                                                                                    \n",
       " full(M::Tridiagonal) in Base.LinAlg at linalg/tridiag.jl:501                                                                         \n",
       " getindex(A::Tridiagonal{T}, i::Integer, j::Integer) where T in Base.LinAlg at linalg/tridiag.jl:547                                  \n",
       " imag(M::Tridiagonal) in Base.LinAlg at linalg/tridiag.jl:517                                                                         \n",
       " inv(A::Tridiagonal) in Base.LinAlg at linalg/tridiag.jl:634                                                                          \n",
       " istril(M::Tridiagonal) in Base.LinAlg at linalg/tridiag.jl:584                                                                       \n",
       " istriu(M::Tridiagonal) in Base.LinAlg at linalg/tridiag.jl:583                                                                       \n",
       " lufact!(A::Tridiagonal{T}) where T in Base.LinAlg at linalg/lu.jl:321                                                                \n",
       " lufact!(A::Tridiagonal{T}, pivot::Union{Type{Val{false}}, Type{Val{true}}}) where T in Base.LinAlg at linalg/lu.jl:321               \n",
       " real(M::Tridiagonal) in Base.LinAlg at linalg/tridiag.jl:517                                                                         \n",
       " round(M::Tridiagonal) in Base at deprecated.jl:56                                                                                    \n",
       " schur(A::Tridiagonal) in Base.LinAlg at linalg/schur.jl:114                                                                          \n",
       " setindex!(A::Tridiagonal, x, i::Integer, j::Integer) in Base.LinAlg at linalg/tridiag.jl:562                                         \n",
       " similar(M::Tridiagonal, ::Type{T}) where T in Base.LinAlg at linalg/tridiag.jl:503                                                   \n",
       " size(M::Tridiagonal) in Base.LinAlg at linalg/tridiag.jl:477                                                                         \n",
       " size(M::Tridiagonal, d::Integer) in Base.LinAlg at linalg/tridiag.jl:479                                                             \n",
       " sparse(T::Tridiagonal) in Base.SparseArrays at sparse/sparsematrix.jl:715                                                            \n",
       " transpose(M::Tridiagonal) in Base.LinAlg at linalg/tridiag.jl:529                                                                    \n",
       " tril!(M::Tridiagonal) in Base.LinAlg at linalg/tridiag.jl:587                                                                        \n",
       " tril!(M::Tridiagonal, k::Integer) in Base.LinAlg at linalg/tridiag.jl:587                                                            \n",
       " triu!(M::Tridiagonal) in Base.LinAlg at linalg/tridiag.jl:604                                                                        \n",
       " triu!(M::Tridiagonal, k::Integer) in Base.LinAlg at linalg/tridiag.jl:604                                                            \n",
       " trunc(M::Tridiagonal) in Base at deprecated.jl:56                                                                                    "
      ]
     },
     "execution_count": 31,
     "metadata": {},
     "output_type": "execute_result"
    }
   ],
   "source": [
    "methodswith(Tridiagonal)"
   ]
  },
  {
   "cell_type": "code",
   "execution_count": 32,
   "metadata": {},
   "outputs": [
    {
     "data": {
      "text/html": [
       "26-element Array{Method,1}:<ul><li> +(x::<b>Date</b>, y::<b>Base.Dates.Day</b>) at <a href=\"https://github.com/JuliaLang/julia/tree/d386e40c17d43b79fc89d3e579fc04547241787c/base/dates/arithmetic.jl#L77\" target=\"_blank\">dates/arithmetic.jl:77</a><li> -(x::<b>Date</b>, y::<b>Base.Dates.Day</b>) at <a href=\"https://github.com/JuliaLang/julia/tree/d386e40c17d43b79fc89d3e579fc04547241787c/base/dates/arithmetic.jl#L78\" target=\"_blank\">dates/arithmetic.jl:78</a><li> ==(x::<b>Union{Base.Dates.Day, Base.Dates.Hour, Base.Dates.Microsecond, Base.Dates.Millisecond, Base.Dates.Minute, Base.Dates.Nanosecond, Base.Dates.Second, Base.Dates.Week}</b>, y::<b>Union{Base.Dates.Month, Base.Dates.Year}</b>) at <a href=\"https://github.com/JuliaLang/julia/tree/d386e40c17d43b79fc89d3e579fc04547241787c/base/dates/periods.jl#L443\" target=\"_blank\">dates/periods.jl:443</a><li> ==(x::<b>Union{Base.Dates.Month, Base.Dates.Year}</b>, y::<b>Union{Base.Dates.Day, Base.Dates.Hour, Base.Dates.Microsecond, Base.Dates.Millisecond, Base.Dates.Minute, Base.Dates.Nanosecond, Base.Dates.Second, Base.Dates.Week}</b>) at <a href=\"https://github.com/JuliaLang/julia/tree/d386e40c17d43b79fc89d3e579fc04547241787c/base/dates/periods.jl#L444\" target=\"_blank\">dates/periods.jl:444</a><li> ceil(x::<b>Union{Base.Dates.Day, Base.Dates.TimePeriod, Base.Dates.Week}</b>, precision::<b>Union{Base.Dates.Day, Base.Dates.TimePeriod, Base.Dates.Week}</b>) at <a href=\"file:///mnt/juliabox/.julia/v0.6/Compat/src/Compat.jl\" target=\"_blank\">/mnt/juliabox/.julia/v0.6/Compat/src/Compat.jl:534</a><li> ceil<i>{P<:Base.Dates.Period}</i>(x::<b>Union{Base.Dates.Day, Base.Dates.TimePeriod, Base.Dates.TimeType, Base.Dates.Week}</b>, ::<b>Type{P}</b>) at <a href=\"file:///mnt/juliabox/.julia/v0.6/Compat/src/Compat.jl\" target=\"_blank\">/mnt/juliabox/.julia/v0.6/Compat/src/Compat.jl:589</a><li> convert(::<b>Type{Base.Dates.Week}</b>, x::<b>Base.Dates.Day</b>) at <a href=\"https://github.com/JuliaLang/julia/tree/d386e40c17d43b79fc89d3e579fc04547241787c/base/dates/periods.jl#L425\" target=\"_blank\">dates/periods.jl:425</a><li> convert(::<b>Type{Base.Dates.Hour}</b>, x::<b>Base.Dates.Day</b>) at <a href=\"https://github.com/JuliaLang/julia/tree/d386e40c17d43b79fc89d3e579fc04547241787c/base/dates/periods.jl#L418\" target=\"_blank\">dates/periods.jl:418</a><li> convert(::<b>Type{Base.Dates.Minute}</b>, x::<b>Base.Dates.Day</b>) at <a href=\"https://github.com/JuliaLang/julia/tree/d386e40c17d43b79fc89d3e579fc04547241787c/base/dates/periods.jl#L418\" target=\"_blank\">dates/periods.jl:418</a><li> convert(::<b>Type{Base.Dates.Second}</b>, x::<b>Base.Dates.Day</b>) at <a href=\"https://github.com/JuliaLang/julia/tree/d386e40c17d43b79fc89d3e579fc04547241787c/base/dates/periods.jl#L418\" target=\"_blank\">dates/periods.jl:418</a><li> convert(::<b>Type{Base.Dates.Millisecond}</b>, x::<b>Base.Dates.Day</b>) at <a href=\"https://github.com/JuliaLang/julia/tree/d386e40c17d43b79fc89d3e579fc04547241787c/base/dates/periods.jl#L418\" target=\"_blank\">dates/periods.jl:418</a><li> convert(::<b>Type{Base.Dates.Microsecond}</b>, x::<b>Base.Dates.Day</b>) at <a href=\"https://github.com/JuliaLang/julia/tree/d386e40c17d43b79fc89d3e579fc04547241787c/base/dates/periods.jl#L418\" target=\"_blank\">dates/periods.jl:418</a><li> convert(::<b>Type{Base.Dates.Nanosecond}</b>, x::<b>Base.Dates.Day</b>) at <a href=\"https://github.com/JuliaLang/julia/tree/d386e40c17d43b79fc89d3e579fc04547241787c/base/dates/periods.jl#L418\" target=\"_blank\">dates/periods.jl:418</a><li> convert(::<b>Type{Date}</b>, x::<b>Base.Dates.Day</b>) at <a href=\"https://github.com/JuliaLang/julia/tree/d386e40c17d43b79fc89d3e579fc04547241787c/base/dates/conversions.jl#L36\" target=\"_blank\">dates/conversions.jl:36</a><li> floor(dt::<b>Date</b>, p::<b>Base.Dates.Day</b>) at <a href=\"https://github.com/JuliaLang/julia/tree/d386e40c17d43b79fc89d3e579fc04547241787c/base/dates/rounding.jl#L66\" target=\"_blank\">dates/rounding.jl:66</a><li> floor<i>{T<:Union{Base.Dates.Day, Base.Dates.TimePeriod, Base.Dates.Week}}</i>(x::<b>Union{Base.Dates.Day, Base.Dates.TimePeriod, Base.Dates.Week}</b>, precision::<b>T</b>) at <a href=\"file:///mnt/juliabox/.julia/v0.6/Compat/src/Compat.jl\" target=\"_blank\">/mnt/juliabox/.julia/v0.6/Compat/src/Compat.jl:505</a><li> floor<i>{P<:Base.Dates.Period}</i>(x::<b>Union{Base.Dates.Day, Base.Dates.TimePeriod, Base.Dates.TimeType, Base.Dates.Week}</b>, ::<b>Type{P}</b>) at <a href=\"file:///mnt/juliabox/.julia/v0.6/Compat/src/Compat.jl\" target=\"_blank\">/mnt/juliabox/.julia/v0.6/Compat/src/Compat.jl:588</a><li> isless(x::<b>Union{Base.Dates.Day, Base.Dates.Hour, Base.Dates.Microsecond, Base.Dates.Millisecond, Base.Dates.Minute, Base.Dates.Nanosecond, Base.Dates.Second, Base.Dates.Week}</b>, y::<b>Union{Base.Dates.Month, Base.Dates.Year}</b>) at <a href=\"https://github.com/JuliaLang/julia/tree/d386e40c17d43b79fc89d3e579fc04547241787c/base/dates/periods.jl#L446\" target=\"_blank\">dates/periods.jl:446</a><li> isless(x::<b>Union{Base.Dates.Month, Base.Dates.Year}</b>, y::<b>Union{Base.Dates.Day, Base.Dates.Hour, Base.Dates.Microsecond, Base.Dates.Millisecond, Base.Dates.Minute, Base.Dates.Nanosecond, Base.Dates.Second, Base.Dates.Week}</b>) at <a href=\"https://github.com/JuliaLang/julia/tree/d386e40c17d43b79fc89d3e579fc04547241787c/base/dates/periods.jl#L447\" target=\"_blank\">dates/periods.jl:447</a><li> round(x::<b>Union{Base.Dates.Day, Base.Dates.TimePeriod, Base.Dates.Week}</b>, precision::<b>Union{Base.Dates.Day, Base.Dates.TimePeriod, Base.Dates.Week}</b>, r::<b>RoundingMode{:NearestTiesUp}</b>) at <a href=\"file:///mnt/juliabox/.julia/v0.6/Compat/src/Compat.jl\" target=\"_blank\">/mnt/juliabox/.julia/v0.6/Compat/src/Compat.jl:578</a><li> round(x::<b>Union{Base.Dates.Day, Base.Dates.TimePeriod, Base.Dates.TimeType, Base.Dates.Week}</b>, p::<b>Base.Dates.Period</b>) at <a href=\"file:///mnt/juliabox/.julia/v0.6/Compat/src/Compat.jl\" target=\"_blank\">/mnt/juliabox/.julia/v0.6/Compat/src/Compat.jl:587</a><li> round(x::<b>Union{Base.Dates.Day, Base.Dates.TimePeriod, Base.Dates.TimeType, Base.Dates.Week}</b>, p::<b>Base.Dates.Period</b>, r::<b>RoundingMode{:Down}</b>) at <a href=\"file:///mnt/juliabox/.julia/v0.6/Compat/src/Compat.jl\" target=\"_blank\">/mnt/juliabox/.julia/v0.6/Compat/src/Compat.jl:583</a><li> round(x::<b>Union{Base.Dates.Day, Base.Dates.TimePeriod, Base.Dates.TimeType, Base.Dates.Week}</b>, p::<b>Base.Dates.Period</b>, r::<b>RoundingMode{:Up}</b>) at <a href=\"file:///mnt/juliabox/.julia/v0.6/Compat/src/Compat.jl\" target=\"_blank\">/mnt/juliabox/.julia/v0.6/Compat/src/Compat.jl:584</a><li> round(::<b>Union{Base.Dates.Day, Base.Dates.TimePeriod, Base.Dates.TimeType, Base.Dates.Week}</b>, p::<b>Base.Dates.Period</b>, ::<b>RoundingMode</b>) at <a href=\"file:///mnt/juliabox/.julia/v0.6/Compat/src/Compat.jl\" target=\"_blank\">/mnt/juliabox/.julia/v0.6/Compat/src/Compat.jl:586</a><li> round<i>{P<:Base.Dates.Period}</i>(x::<b>Union{Base.Dates.Day, Base.Dates.TimePeriod, Base.Dates.TimeType, Base.Dates.Week}</b>, ::<b>Type{P}</b>) at <a href=\"file:///mnt/juliabox/.julia/v0.6/Compat/src/Compat.jl\" target=\"_blank\">/mnt/juliabox/.julia/v0.6/Compat/src/Compat.jl:591</a><li> round<i>{P<:Base.Dates.Period}</i>(x::<b>Union{Base.Dates.Day, Base.Dates.TimePeriod, Base.Dates.TimeType, Base.Dates.Week}</b>, ::<b>Type{P}</b>, r::<b>RoundingMode</b>) at <a href=\"file:///mnt/juliabox/.julia/v0.6/Compat/src/Compat.jl\" target=\"_blank\">/mnt/juliabox/.julia/v0.6/Compat/src/Compat.jl:591</a></ul>"
      ],
      "text/plain": [
       "26-element Array{Method,1}:\n",
       " +(x::Date, y::Base.Dates.Day) in Base.Dates at dates/arithmetic.jl:77                                                                                                                                                                                             \n",
       " -(x::Date, y::Base.Dates.Day) in Base.Dates at dates/arithmetic.jl:78                                                                                                                                                                                             \n",
       " ==(x::Union{Base.Dates.Day, Base.Dates.Hour, Base.Dates.Microsecond, Base.Dates.Millisecond, Base.Dates.Minute, Base.Dates.Nanosecond, Base.Dates.Second, Base.Dates.Week}, y::Union{Base.Dates.Month, Base.Dates.Year}) in Base.Dates at dates/periods.jl:443    \n",
       " ==(x::Union{Base.Dates.Month, Base.Dates.Year}, y::Union{Base.Dates.Day, Base.Dates.Hour, Base.Dates.Microsecond, Base.Dates.Millisecond, Base.Dates.Minute, Base.Dates.Nanosecond, Base.Dates.Second, Base.Dates.Week}) in Base.Dates at dates/periods.jl:444    \n",
       " ceil(x::Union{Base.Dates.Day, Base.Dates.TimePeriod, Base.Dates.Week}, precision::Union{Base.Dates.Day, Base.Dates.TimePeriod, Base.Dates.Week}) in Compat at /mnt/juliabox/.julia/v0.6/Compat/src/Compat.jl:534                                                  \n",
       " ceil(x::Union{Base.Dates.Day, Base.Dates.TimePeriod, Base.Dates.TimeType, Base.Dates.Week}, ::Type{P}) where P<:Base.Dates.Period in Compat at /mnt/juliabox/.julia/v0.6/Compat/src/Compat.jl:589                                                                 \n",
       " convert(::Type{Base.Dates.Week}, x::Base.Dates.Day) in Base.Dates at dates/periods.jl:425                                                                                                                                                                         \n",
       " convert(::Type{Base.Dates.Hour}, x::Base.Dates.Day) in Base.Dates at dates/periods.jl:418                                                                                                                                                                         \n",
       " convert(::Type{Base.Dates.Minute}, x::Base.Dates.Day) in Base.Dates at dates/periods.jl:418                                                                                                                                                                       \n",
       " convert(::Type{Base.Dates.Second}, x::Base.Dates.Day) in Base.Dates at dates/periods.jl:418                                                                                                                                                                       \n",
       " convert(::Type{Base.Dates.Millisecond}, x::Base.Dates.Day) in Base.Dates at dates/periods.jl:418                                                                                                                                                                  \n",
       " convert(::Type{Base.Dates.Microsecond}, x::Base.Dates.Day) in Base.Dates at dates/periods.jl:418                                                                                                                                                                  \n",
       " convert(::Type{Base.Dates.Nanosecond}, x::Base.Dates.Day) in Base.Dates at dates/periods.jl:418                                                                                                                                                                   \n",
       " convert(::Type{Date}, x::Base.Dates.Day) in Base.Dates at dates/conversions.jl:36                                                                                                                                                                                 \n",
       " floor(dt::Date, p::Base.Dates.Day) in Base.Dates at dates/rounding.jl:66                                                                                                                                                                                          \n",
       " floor(x::Union{Base.Dates.Day, Base.Dates.TimePeriod, Base.Dates.Week}, precision::T) where T<:Union{Base.Dates.Day, Base.Dates.TimePeriod, Base.Dates.Week} in Compat at /mnt/juliabox/.julia/v0.6/Compat/src/Compat.jl:505                                      \n",
       " floor(x::Union{Base.Dates.Day, Base.Dates.TimePeriod, Base.Dates.TimeType, Base.Dates.Week}, ::Type{P}) where P<:Base.Dates.Period in Compat at /mnt/juliabox/.julia/v0.6/Compat/src/Compat.jl:588                                                                \n",
       " isless(x::Union{Base.Dates.Day, Base.Dates.Hour, Base.Dates.Microsecond, Base.Dates.Millisecond, Base.Dates.Minute, Base.Dates.Nanosecond, Base.Dates.Second, Base.Dates.Week}, y::Union{Base.Dates.Month, Base.Dates.Year}) in Base.Dates at dates/periods.jl:446\n",
       " isless(x::Union{Base.Dates.Month, Base.Dates.Year}, y::Union{Base.Dates.Day, Base.Dates.Hour, Base.Dates.Microsecond, Base.Dates.Millisecond, Base.Dates.Minute, Base.Dates.Nanosecond, Base.Dates.Second, Base.Dates.Week}) in Base.Dates at dates/periods.jl:447\n",
       " round(x::Union{Base.Dates.Day, Base.Dates.TimePeriod, Base.Dates.Week}, precision::Union{Base.Dates.Day, Base.Dates.TimePeriod, Base.Dates.Week}, r::RoundingMode{:NearestTiesUp}) in Compat at /mnt/juliabox/.julia/v0.6/Compat/src/Compat.jl:578                \n",
       " round(x::Union{Base.Dates.Day, Base.Dates.TimePeriod, Base.Dates.TimeType, Base.Dates.Week}, p::Base.Dates.Period) in Compat at /mnt/juliabox/.julia/v0.6/Compat/src/Compat.jl:587                                                                                \n",
       " round(x::Union{Base.Dates.Day, Base.Dates.TimePeriod, Base.Dates.TimeType, Base.Dates.Week}, p::Base.Dates.Period, r::RoundingMode{:Down}) in Compat at /mnt/juliabox/.julia/v0.6/Compat/src/Compat.jl:583                                                        \n",
       " round(x::Union{Base.Dates.Day, Base.Dates.TimePeriod, Base.Dates.TimeType, Base.Dates.Week}, p::Base.Dates.Period, r::RoundingMode{:Up}) in Compat at /mnt/juliabox/.julia/v0.6/Compat/src/Compat.jl:584                                                          \n",
       " round(::Union{Base.Dates.Day, Base.Dates.TimePeriod, Base.Dates.TimeType, Base.Dates.Week}, p::Base.Dates.Period, ::RoundingMode) in Compat at /mnt/juliabox/.julia/v0.6/Compat/src/Compat.jl:586                                                                 \n",
       " round(x::Union{Base.Dates.Day, Base.Dates.TimePeriod, Base.Dates.TimeType, Base.Dates.Week}, ::Type{P}) where P<:Base.Dates.Period in Compat at /mnt/juliabox/.julia/v0.6/Compat/src/Compat.jl:591                                                                \n",
       " round(x::Union{Base.Dates.Day, Base.Dates.TimePeriod, Base.Dates.TimeType, Base.Dates.Week}, ::Type{P}, r::RoundingMode) where P<:Base.Dates.Period in Compat at /mnt/juliabox/.julia/v0.6/Compat/src/Compat.jl:591                                               "
      ]
     },
     "execution_count": 32,
     "metadata": {},
     "output_type": "execute_result"
    }
   ],
   "source": [
    "methodswith(Dates.Day)"
   ]
  },
  {
   "cell_type": "markdown",
   "metadata": {},
   "source": [
    "### The `\"*\"` operator"
   ]
  },
  {
   "cell_type": "code",
   "execution_count": 33,
   "metadata": {
    "scrolled": true
   },
   "outputs": [
    {
     "data": {
      "text/html": [
       "182 methods for generic function <b>*</b>:<ul><li> *(x::<b>Bool</b>, z::<b>Complex{Bool}</b>) at <a href=\"https://github.com/JuliaLang/julia/tree/d386e40c17d43b79fc89d3e579fc04547241787c/base/complex.jl#L236\" target=\"_blank\">complex.jl:236</a></li> <li> *(x::<b>Bool</b>, y::<b>Bool</b>) at <a href=\"https://github.com/JuliaLang/julia/tree/d386e40c17d43b79fc89d3e579fc04547241787c/base/bool.jl#L91\" target=\"_blank\">bool.jl:91</a></li> <li> *<i>{T<:Unsigned}</i>(x::<b>Bool</b>, y::<b>T</b>) at <a href=\"https://github.com/JuliaLang/julia/tree/d386e40c17d43b79fc89d3e579fc04547241787c/base/bool.jl#L104\" target=\"_blank\">bool.jl:104</a></li> <li> *(x::<b>Bool</b>, z::<b>Complex</b>) at <a href=\"https://github.com/JuliaLang/julia/tree/d386e40c17d43b79fc89d3e579fc04547241787c/base/complex.jl#L243\" target=\"_blank\">complex.jl:243</a></li> <li> *(x::<b>Bool</b>, y::<b>Irrational</b>) at <a href=\"https://github.com/JuliaLang/julia/tree/d386e40c17d43b79fc89d3e579fc04547241787c/base/irrationals.jl#L111\" target=\"_blank\">irrationals.jl:111</a></li> <li> *<i>{T<:Number}</i>(x::<b>Bool</b>, y::<b>T</b>) at <a href=\"https://github.com/JuliaLang/julia/tree/d386e40c17d43b79fc89d3e579fc04547241787c/base/bool.jl#L101\" target=\"_blank\">bool.jl:101</a></li> <li> *(a::<b>Float16</b>, b::<b>Float16</b>) at <a href=\"https://github.com/JuliaLang/julia/tree/d386e40c17d43b79fc89d3e579fc04547241787c/base/float.jl#L372\" target=\"_blank\">float.jl:372</a></li> <li> *(x::<b>Float32</b>, y::<b>Float32</b>) at <a href=\"https://github.com/JuliaLang/julia/tree/d386e40c17d43b79fc89d3e579fc04547241787c/base/float.jl#L378\" target=\"_blank\">float.jl:378</a></li> <li> *(x::<b>Float64</b>, y::<b>Float64</b>) at <a href=\"https://github.com/JuliaLang/julia/tree/d386e40c17d43b79fc89d3e579fc04547241787c/base/float.jl#L379\" target=\"_blank\">float.jl:379</a></li> <li> *(z::<b>Complex{Bool}</b>, x::<b>Bool</b>) at <a href=\"https://github.com/JuliaLang/julia/tree/d386e40c17d43b79fc89d3e579fc04547241787c/base/complex.jl#L237\" target=\"_blank\">complex.jl:237</a></li> <li> *(z::<b>Complex{Bool}</b>, x::<b>Real</b>) at <a href=\"https://github.com/JuliaLang/julia/tree/d386e40c17d43b79fc89d3e579fc04547241787c/base/complex.jl#L255\" target=\"_blank\">complex.jl:255</a></li> <li> *(this::<b>Base.Grisu.Float</b>, other::<b>Base.Grisu.Float</b>) at <a href=\"https://github.com/JuliaLang/julia/tree/d386e40c17d43b79fc89d3e579fc04547241787c/base/grisu/float.jl#L138\" target=\"_blank\">grisu/float.jl:138</a></li> <li> *(c::<b>BigInt</b>, x::<b>BigFloat</b>) at <a href=\"https://github.com/JuliaLang/julia/tree/d386e40c17d43b79fc89d3e579fc04547241787c/base/mpfr.jl#L312\" target=\"_blank\">mpfr.jl:312</a></li> <li> *(a::<b>BigInt</b>, b::<b>BigInt</b>, c::<b>BigInt</b>, d::<b>BigInt</b>, e::<b>BigInt</b>) at <a href=\"https://github.com/JuliaLang/julia/tree/d386e40c17d43b79fc89d3e579fc04547241787c/base/gmp.jl#L334\" target=\"_blank\">gmp.jl:334</a></li> <li> *(a::<b>BigInt</b>, b::<b>BigInt</b>, c::<b>BigInt</b>, d::<b>BigInt</b>) at <a href=\"https://github.com/JuliaLang/julia/tree/d386e40c17d43b79fc89d3e579fc04547241787c/base/gmp.jl#L327\" target=\"_blank\">gmp.jl:327</a></li> <li> *(a::<b>BigInt</b>, b::<b>BigInt</b>, c::<b>BigInt</b>) at <a href=\"https://github.com/JuliaLang/julia/tree/d386e40c17d43b79fc89d3e579fc04547241787c/base/gmp.jl#L321\" target=\"_blank\">gmp.jl:321</a></li> <li> *(x::<b>BigInt</b>, y::<b>BigInt</b>) at <a href=\"https://github.com/JuliaLang/julia/tree/d386e40c17d43b79fc89d3e579fc04547241787c/base/gmp.jl#L289\" target=\"_blank\">gmp.jl:289</a></li> <li> *(x::<b>BigInt</b>, c::<b>Union{UInt16, UInt32, UInt64, UInt8}</b>) at <a href=\"https://github.com/JuliaLang/julia/tree/d386e40c17d43b79fc89d3e579fc04547241787c/base/gmp.jl#L368\" target=\"_blank\">gmp.jl:368</a></li> <li> *(x::<b>BigInt</b>, c::<b>Union{Int16, Int32, Int64, Int8}</b>) at <a href=\"https://github.com/JuliaLang/julia/tree/d386e40c17d43b79fc89d3e579fc04547241787c/base/gmp.jl#L374\" target=\"_blank\">gmp.jl:374</a></li> <li> *(a::<b>BigFloat</b>, b::<b>BigFloat</b>, c::<b>BigFloat</b>, d::<b>BigFloat</b>, e::<b>BigFloat</b>) at <a href=\"https://github.com/JuliaLang/julia/tree/d386e40c17d43b79fc89d3e579fc04547241787c/base/mpfr.jl#L460\" target=\"_blank\">mpfr.jl:460</a></li> <li> *(a::<b>BigFloat</b>, b::<b>BigFloat</b>, c::<b>BigFloat</b>, d::<b>BigFloat</b>) at <a href=\"https://github.com/JuliaLang/julia/tree/d386e40c17d43b79fc89d3e579fc04547241787c/base/mpfr.jl#L453\" target=\"_blank\">mpfr.jl:453</a></li> <li> *(a::<b>BigFloat</b>, b::<b>BigFloat</b>, c::<b>BigFloat</b>) at <a href=\"https://github.com/JuliaLang/julia/tree/d386e40c17d43b79fc89d3e579fc04547241787c/base/mpfr.jl#L447\" target=\"_blank\">mpfr.jl:447</a></li> <li> *(x::<b>BigFloat</b>, c::<b>BigInt</b>) at <a href=\"https://github.com/JuliaLang/julia/tree/d386e40c17d43b79fc89d3e579fc04547241787c/base/mpfr.jl#L308\" target=\"_blank\">mpfr.jl:308</a></li> <li> *(x::<b>BigFloat</b>, y::<b>BigFloat</b>) at <a href=\"https://github.com/JuliaLang/julia/tree/d386e40c17d43b79fc89d3e579fc04547241787c/base/mpfr.jl#L277\" target=\"_blank\">mpfr.jl:277</a></li> <li> *(x::<b>BigFloat</b>, c::<b>Union{UInt16, UInt32, UInt64, UInt8}</b>) at <a href=\"https://github.com/JuliaLang/julia/tree/d386e40c17d43b79fc89d3e579fc04547241787c/base/mpfr.jl#L284\" target=\"_blank\">mpfr.jl:284</a></li> <li> *(x::<b>BigFloat</b>, c::<b>Union{Int16, Int32, Int64, Int8}</b>) at <a href=\"https://github.com/JuliaLang/julia/tree/d386e40c17d43b79fc89d3e579fc04547241787c/base/mpfr.jl#L292\" target=\"_blank\">mpfr.jl:292</a></li> <li> *(x::<b>BigFloat</b>, c::<b>Union{Float16, Float32, Float64}</b>) at <a href=\"https://github.com/JuliaLang/julia/tree/d386e40c17d43b79fc89d3e579fc04547241787c/base/mpfr.jl#L300\" target=\"_blank\">mpfr.jl:300</a></li> <li> *(B::<b>BitArray{2}</b>, J::<b>UniformScaling</b>) at <a href=\"https://github.com/JuliaLang/julia/tree/d386e40c17d43b79fc89d3e579fc04547241787c/base/linalg/uniformscaling.jl#L149\" target=\"_blank\">linalg/uniformscaling.jl:149</a></li> <li> *(z::<b>Complex</b>, w::<b>Complex</b>) at <a href=\"https://github.com/JuliaLang/julia/tree/d386e40c17d43b79fc89d3e579fc04547241787c/base/complex.jl#L223\" target=\"_blank\">complex.jl:223</a></li> <li> *(z::<b>Complex</b>, x::<b>Bool</b>) at <a href=\"https://github.com/JuliaLang/julia/tree/d386e40c17d43b79fc89d3e579fc04547241787c/base/complex.jl#L244\" target=\"_blank\">complex.jl:244</a></li> <li> *(x::<b>Real</b>, z::<b>Complex{Bool}</b>) at <a href=\"https://github.com/JuliaLang/julia/tree/d386e40c17d43b79fc89d3e579fc04547241787c/base/complex.jl#L254\" target=\"_blank\">complex.jl:254</a></li> <li> *(x::<b>Real</b>, z::<b>Complex</b>) at <a href=\"https://github.com/JuliaLang/julia/tree/d386e40c17d43b79fc89d3e579fc04547241787c/base/complex.jl#L266\" target=\"_blank\">complex.jl:266</a></li> <li> *(z::<b>Complex</b>, x::<b>Real</b>) at <a href=\"https://github.com/JuliaLang/julia/tree/d386e40c17d43b79fc89d3e579fc04547241787c/base/complex.jl#L267\" target=\"_blank\">complex.jl:267</a></li> <li> *(x::<b>Rational</b>, y::<b>Rational</b>) at <a href=\"https://github.com/JuliaLang/julia/tree/d386e40c17d43b79fc89d3e579fc04547241787c/base/rational.jl#L252\" target=\"_blank\">rational.jl:252</a></li> <li> *<i>{N}</i>(a::<b>Integer</b>, index::<b>CartesianIndex{N}</b>) at <a href=\"https://github.com/JuliaLang/julia/tree/d386e40c17d43b79fc89d3e579fc04547241787c/base/multidimensional.jl#L114\" target=\"_blank\">multidimensional.jl:114</a></li> <li> *(c::<b>Union{UInt16, UInt32, UInt64, UInt8}</b>, x::<b>BigInt</b>) at <a href=\"https://github.com/JuliaLang/julia/tree/d386e40c17d43b79fc89d3e579fc04547241787c/base/gmp.jl#L372\" target=\"_blank\">gmp.jl:372</a></li> <li> *(c::<b>Union{Int16, Int32, Int64, Int8}</b>, x::<b>BigInt</b>) at <a href=\"https://github.com/JuliaLang/julia/tree/d386e40c17d43b79fc89d3e579fc04547241787c/base/gmp.jl#L378\" target=\"_blank\">gmp.jl:378</a></li> <li> *(c::<b>Union{UInt16, UInt32, UInt64, UInt8}</b>, x::<b>BigFloat</b>) at <a href=\"https://github.com/JuliaLang/julia/tree/d386e40c17d43b79fc89d3e579fc04547241787c/base/mpfr.jl#L288\" target=\"_blank\">mpfr.jl:288</a></li> <li> *(c::<b>Union{Int16, Int32, Int64, Int8}</b>, x::<b>BigFloat</b>) at <a href=\"https://github.com/JuliaLang/julia/tree/d386e40c17d43b79fc89d3e579fc04547241787c/base/mpfr.jl#L296\" target=\"_blank\">mpfr.jl:296</a></li> <li> *(c::<b>Union{Float16, Float32, Float64}</b>, x::<b>BigFloat</b>) at <a href=\"https://github.com/JuliaLang/julia/tree/d386e40c17d43b79fc89d3e579fc04547241787c/base/mpfr.jl#L304\" target=\"_blank\">mpfr.jl:304</a></li> <li> *(x::<b>Irrational</b>, y::<b>Irrational</b>) at <a href=\"https://github.com/JuliaLang/julia/tree/d386e40c17d43b79fc89d3e579fc04547241787c/base/irrationals.jl#L109\" target=\"_blank\">irrationals.jl:109</a></li> <li> *(y::<b>Real</b>, x::<b>Base.Dates.Period</b>) at <a href=\"https://github.com/JuliaLang/julia/tree/d386e40c17d43b79fc89d3e579fc04547241787c/base/dates/periods.jl#L88\" target=\"_blank\">dates/periods.jl:88</a></li> <li> *(x::<b>Real</b>, r::<b>Base.Use_StepRangeLen_Instead</b>) at <a href=\"https://github.com/JuliaLang/julia/tree/d386e40c17d43b79fc89d3e579fc04547241787c/base/deprecated.jl#L1235\" target=\"_blank\">deprecated.jl:1235</a></li> <li> *(x::<b>Number</b>) at <a href=\"https://github.com/JuliaLang/julia/tree/d386e40c17d43b79fc89d3e579fc04547241787c/base/operators.jl#L400\" target=\"_blank\">operators.jl:400</a></li> <li> *(y::<b>Number</b>, x::<b>Bool</b>) at <a href=\"https://github.com/JuliaLang/julia/tree/d386e40c17d43b79fc89d3e579fc04547241787c/base/bool.jl#L106\" target=\"_blank\">bool.jl:106</a></li> <li> *<i>{T<:Union{Int128, UInt128}}</i>(x::<b>T</b>, y::<b>T</b>) at <a href=\"https://github.com/JuliaLang/julia/tree/d386e40c17d43b79fc89d3e579fc04547241787c/base/int.jl#L571\" target=\"_blank\">int.jl:571</a></li> <li> *<i>{T<:Union{Int128, Int16, Int32, Int64, Int8, UInt128, UInt16, UInt32, UInt64, UInt8}}</i>(x::<b>T</b>, y::<b>T</b>) at <a href=\"https://github.com/JuliaLang/julia/tree/d386e40c17d43b79fc89d3e579fc04547241787c/base/int.jl#L33\" target=\"_blank\">int.jl:33</a></li> <li> *<i>{T<:Number}</i>(x::<b>T</b>, y::<b>T</b>) at <a href=\"https://github.com/JuliaLang/julia/tree/d386e40c17d43b79fc89d3e579fc04547241787c/base/promotion.jl#L336\" target=\"_blank\">promotion.jl:336</a></li> <li> *(x::<b>Number</b>, y::<b>Number</b>) at <a href=\"https://github.com/JuliaLang/julia/tree/d386e40c17d43b79fc89d3e579fc04547241787c/base/promotion.jl#L250\" target=\"_blank\">promotion.jl:250</a></li> <li> *(x::<b>Real</b>, r::<b>StepRangeLen{#s45,#s44,S} where S where #s44<:Base.TwicePrecision where #s45<:Real</b>) at <a href=\"https://github.com/JuliaLang/julia/tree/d386e40c17d43b79fc89d3e579fc04547241787c/base/twiceprecision.jl#L226\" target=\"_blank\">twiceprecision.jl:226</a></li> <li> *(x::<b>Number</b>, r::<b>StepRangeLen</b>) at <a href=\"https://github.com/JuliaLang/julia/tree/d386e40c17d43b79fc89d3e579fc04547241787c/base/range.jl#L743\" target=\"_blank\">range.jl:743</a></li> <li> *(x::<b>Number</b>, r::<b>LinSpace</b>) at <a href=\"https://github.com/JuliaLang/julia/tree/d386e40c17d43b79fc89d3e579fc04547241787c/base/range.jl#L744\" target=\"_blank\">range.jl:744</a></li> <li> *(x::<b>Number</b>, r::<b>Range</b>) at <a href=\"https://github.com/JuliaLang/julia/tree/d386e40c17d43b79fc89d3e579fc04547241787c/base/range.jl#L742\" target=\"_blank\">range.jl:742</a></li> <li> *(r::<b>StepRangeLen{#s45,#s44,S} where S where #s44<:Base.TwicePrecision where #s45<:Real</b>, x::<b>Real</b>) at <a href=\"https://github.com/JuliaLang/julia/tree/d386e40c17d43b79fc89d3e579fc04547241787c/base/twiceprecision.jl#L228\" target=\"_blank\">twiceprecision.jl:228</a></li> <li> *(r::<b>StepRangeLen</b>, x::<b>Number</b>) at <a href=\"https://github.com/JuliaLang/julia/tree/d386e40c17d43b79fc89d3e579fc04547241787c/base/range.jl#L747\" target=\"_blank\">range.jl:747</a></li> <li> *(r::<b>LinSpace</b>, x::<b>Number</b>) at <a href=\"https://github.com/JuliaLang/julia/tree/d386e40c17d43b79fc89d3e579fc04547241787c/base/range.jl#L748\" target=\"_blank\">range.jl:748</a></li> <li> *(r::<b>Base.Use_StepRangeLen_Instead</b>, x::<b>Real</b>) at <a href=\"https://github.com/JuliaLang/julia/tree/d386e40c17d43b79fc89d3e579fc04547241787c/base/deprecated.jl#L1236\" target=\"_blank\">deprecated.jl:1236</a></li> <li> *(r::<b>Range</b>, x::<b>Number</b>) at <a href=\"https://github.com/JuliaLang/julia/tree/d386e40c17d43b79fc89d3e579fc04547241787c/base/range.jl#L746\" target=\"_blank\">range.jl:746</a></li> <li> *(x::<b>Base.TwicePrecision</b>, v::<b>Integer</b>) at <a href=\"https://github.com/JuliaLang/julia/tree/d386e40c17d43b79fc89d3e579fc04547241787c/base/twiceprecision.jl#L470\" target=\"_blank\">twiceprecision.jl:470</a></li> <li> *<i>{S<:Number, R}</i>(x::<b>Base.TwicePrecision{R}</b>, v::<b>S</b>) at <a href=\"https://github.com/JuliaLang/julia/tree/d386e40c17d43b79fc89d3e579fc04547241787c/base/twiceprecision.jl#L488\" target=\"_blank\">twiceprecision.jl:488</a></li> <li> *(v::<b>Number</b>, x::<b>Base.TwicePrecision</b>) at <a href=\"https://github.com/JuliaLang/julia/tree/d386e40c17d43b79fc89d3e579fc04547241787c/base/twiceprecision.jl#L492\" target=\"_blank\">twiceprecision.jl:492</a></li> <li> *<i>{T<:Real}</i>(rowvec::<b>RowVector{T,CV} where CV<:(ConjArray{T,1,V} where V<:(AbstractArray{T,1} where T) where T)</b>, vec::<b>AbstractArray{T,1}</b>) at <a href=\"https://github.com/JuliaLang/julia/tree/d386e40c17d43b79fc89d3e579fc04547241787c/base/linalg/rowvector.jl#L171\" target=\"_blank\">linalg/rowvector.jl:171</a></li> <li> *<i>{T<:Real}</i>(rowvec::<b>RowVector{T,V} where V<:(AbstractArray{T,1} where T)</b>, vec::<b>AbstractArray{T,1}</b>) at <a href=\"https://github.com/JuliaLang/julia/tree/d386e40c17d43b79fc89d3e579fc04547241787c/base/linalg/rowvector.jl#L170\" target=\"_blank\">linalg/rowvector.jl:170</a></li> <li> *(rowvec::<b>RowVector{T,CV} where CV<:(ConjArray{T,1,V} where V<:(AbstractArray{T,1} where T) where T) where T</b>, vec::<b>AbstractArray{T,1} where T</b>) at <a href=\"https://github.com/JuliaLang/julia/tree/d386e40c17d43b79fc89d3e579fc04547241787c/base/linalg/rowvector.jl#L172\" target=\"_blank\">linalg/rowvector.jl:172</a></li> <li> *(::<b>RowVector</b>, ::<b>RowVector</b>) at <a href=\"https://github.com/JuliaLang/julia/tree/d386e40c17d43b79fc89d3e579fc04547241787c/base/linalg/rowvector.jl#L182\" target=\"_blank\">linalg/rowvector.jl:182</a></li> <li> *(rowvec::<b>RowVector</b>, A::<b>Base.LinAlg.AbstractTriangular</b>) at <a href=\"https://github.com/JuliaLang/julia/tree/d386e40c17d43b79fc89d3e579fc04547241787c/base/linalg/triangular.jl#L1684\" target=\"_blank\">linalg/triangular.jl:1684</a></li> <li> *(rowvec::<b>RowVector</b>, D::<b>Diagonal</b>) at <a href=\"https://github.com/JuliaLang/julia/tree/d386e40c17d43b79fc89d3e579fc04547241787c/base/linalg/diagonal.jl#L270\" target=\"_blank\">linalg/diagonal.jl:270</a></li> <li> *(rowvec::<b>RowVector</b>, vec::<b>AbstractArray{T,1} where T</b>) at <a href=\"https://github.com/JuliaLang/julia/tree/d386e40c17d43b79fc89d3e579fc04547241787c/base/linalg/rowvector.jl#L176\" target=\"_blank\">linalg/rowvector.jl:176</a></li> <li> *(rowvec::<b>RowVector</b>, mat::<b>AbstractArray{T,2} where T</b>) at <a href=\"https://github.com/JuliaLang/julia/tree/d386e40c17d43b79fc89d3e579fc04547241787c/base/linalg/rowvector.jl#L181\" target=\"_blank\">linalg/rowvector.jl:181</a></li> <li> *<i>{T<:Union{Complex{Float32}, Complex{Float64}, Float32, Float64}, S}</i>(A::<b>Union{Base.ReshapedArray{T,2,A,MI} where MI<:Tuple{Vararg{Base.MultiplicativeInverses.SignedMultiplicativeInverse{Int64},N} where N} where A<:Union{DenseArray, SubArray{T,N,P,I,true} where I<:Tuple{Union{Base.Slice, UnitRange},Vararg{Any,N} where N} where P where N where T}, DenseArray{T,2}, SubArray{T,2,A,I,L} where L} where I<:Tuple{Vararg{Union{Base.AbstractCartesianIndex, Int64, Range{Int64}},N} where N} where A<:Union{Base.ReshapedArray{T,N,A,MI} where MI<:Tuple{Vararg{Base.MultiplicativeInverses.SignedMultiplicativeInverse{Int64},N} where N} where A<:Union{DenseArray, SubArray{T,N,P,I,true} where I<:Tuple{Union{Base.Slice, UnitRange},Vararg{Any,N} where N} where P where N where T} where N where T, DenseArray}</b>, x::<b>Union{Base.ReshapedArray{S,1,A,MI} where MI<:Tuple{Vararg{Base.MultiplicativeInverses.SignedMultiplicativeInverse{Int64},N} where N} where A<:Union{DenseArray, SubArray{T,N,P,I,true} where I<:Tuple{Union{Base.Slice, UnitRange},Vararg{Any,N} where N} where P where N where T}, DenseArray{S,1}, SubArray{S,1,A,I,L} where L} where I<:Tuple{Vararg{Union{Base.AbstractCartesianIndex, Int64, Range{Int64}},N} where N} where A<:Union{Base.ReshapedArray{T,N,A,MI} where MI<:Tuple{Vararg{Base.MultiplicativeInverses.SignedMultiplicativeInverse{Int64},N} where N} where A<:Union{DenseArray, SubArray{T,N,P,I,true} where I<:Tuple{Union{Base.Slice, UnitRange},Vararg{Any,N} where N} where P where N where T} where N where T, DenseArray}</b>) at <a href=\"https://github.com/JuliaLang/julia/tree/d386e40c17d43b79fc89d3e579fc04547241787c/base/linalg/matmul.jl#L74\" target=\"_blank\">linalg/matmul.jl:74</a></li> <li> *(A::<b>SymTridiagonal</b>, B::<b>Number</b>) at <a href=\"https://github.com/JuliaLang/julia/tree/d386e40c17d43b79fc89d3e579fc04547241787c/base/linalg/tridiag.jl#L130\" target=\"_blank\">linalg/tridiag.jl:130</a></li> <li> *(A::<b>Tridiagonal</b>, B::<b>Number</b>) at <a href=\"https://github.com/JuliaLang/julia/tree/d386e40c17d43b79fc89d3e579fc04547241787c/base/linalg/tridiag.jl#L626\" target=\"_blank\">linalg/tridiag.jl:626</a></li> <li> *(A::<b>UpperTriangular</b>, x::<b>Number</b>) at <a href=\"https://github.com/JuliaLang/julia/tree/d386e40c17d43b79fc89d3e579fc04547241787c/base/linalg/triangular.jl#L576\" target=\"_blank\">linalg/triangular.jl:576</a></li> <li> *(A::<b>Base.LinAlg.UnitUpperTriangular</b>, x::<b>Number</b>) at <a href=\"https://github.com/JuliaLang/julia/tree/d386e40c17d43b79fc89d3e579fc04547241787c/base/linalg/triangular.jl#L579\" target=\"_blank\">linalg/triangular.jl:579</a></li> <li> *(A::<b>LowerTriangular</b>, x::<b>Number</b>) at <a href=\"https://github.com/JuliaLang/julia/tree/d386e40c17d43b79fc89d3e579fc04547241787c/base/linalg/triangular.jl#L576\" target=\"_blank\">linalg/triangular.jl:576</a></li> <li> *(A::<b>Base.LinAlg.UnitLowerTriangular</b>, x::<b>Number</b>) at <a href=\"https://github.com/JuliaLang/julia/tree/d386e40c17d43b79fc89d3e579fc04547241787c/base/linalg/triangular.jl#L579\" target=\"_blank\">linalg/triangular.jl:579</a></li> <li> *(A::<b>Tridiagonal</b>, B::<b>UpperTriangular</b>) at <a href=\"https://github.com/JuliaLang/julia/tree/d386e40c17d43b79fc89d3e579fc04547241787c/base/linalg/triangular.jl#L1430\" target=\"_blank\">linalg/triangular.jl:1430</a></li> <li> *(A::<b>Tridiagonal</b>, B::<b>Base.LinAlg.UnitUpperTriangular</b>) at <a href=\"https://github.com/JuliaLang/julia/tree/d386e40c17d43b79fc89d3e579fc04547241787c/base/linalg/triangular.jl#L1430\" target=\"_blank\">linalg/triangular.jl:1430</a></li> <li> *(A::<b>Tridiagonal</b>, B::<b>LowerTriangular</b>) at <a href=\"https://github.com/JuliaLang/julia/tree/d386e40c17d43b79fc89d3e579fc04547241787c/base/linalg/triangular.jl#L1430\" target=\"_blank\">linalg/triangular.jl:1430</a></li> <li> *(A::<b>Tridiagonal</b>, B::<b>Base.LinAlg.UnitLowerTriangular</b>) at <a href=\"https://github.com/JuliaLang/julia/tree/d386e40c17d43b79fc89d3e579fc04547241787c/base/linalg/triangular.jl#L1430\" target=\"_blank\">linalg/triangular.jl:1430</a></li> <li> *(A::<b>LowerTriangular</b>, B::<b>LowerTriangular</b>) at <a href=\"https://github.com/JuliaLang/julia/tree/d386e40c17d43b79fc89d3e579fc04547241787c/base/linalg/triangular.jl#L1437\" target=\"_blank\">linalg/triangular.jl:1437</a></li> <li> *(A::<b>Base.LinAlg.UnitLowerTriangular</b>, B::<b>LowerTriangular</b>) at <a href=\"https://github.com/JuliaLang/julia/tree/d386e40c17d43b79fc89d3e579fc04547241787c/base/linalg/triangular.jl#L1445\" target=\"_blank\">linalg/triangular.jl:1445</a></li> <li> *(A::<b>UpperTriangular</b>, B::<b>UpperTriangular</b>) at <a href=\"https://github.com/JuliaLang/julia/tree/d386e40c17d43b79fc89d3e579fc04547241787c/base/linalg/triangular.jl#L1453\" target=\"_blank\">linalg/triangular.jl:1453</a></li> <li> *(A::<b>Base.LinAlg.UnitUpperTriangular</b>, B::<b>UpperTriangular</b>) at <a href=\"https://github.com/JuliaLang/julia/tree/d386e40c17d43b79fc89d3e579fc04547241787c/base/linalg/triangular.jl#L1461\" target=\"_blank\">linalg/triangular.jl:1461</a></li> <li> *(A::<b>Base.LinAlg.AbstractTriangular</b>, B::<b>Base.LinAlg.AbstractTriangular</b>) at <a href=\"https://github.com/JuliaLang/julia/tree/d386e40c17d43b79fc89d3e579fc04547241787c/base/linalg/triangular.jl#L1578\" target=\"_blank\">linalg/triangular.jl:1578</a></li> <li> *(A::<b>Base.LinAlg.AbstractTriangular</b>, D::<b>Diagonal</b>) at <a href=\"https://github.com/JuliaLang/julia/tree/d386e40c17d43b79fc89d3e579fc04547241787c/base/linalg/diagonal.jl#L149\" target=\"_blank\">linalg/diagonal.jl:149</a></li> <li> *(A::<b>Base.LinAlg.AbstractTriangular</b>, B::<b>Union{Bidiagonal, SymTridiagonal, Tridiagonal}</b>) at <a href=\"https://github.com/JuliaLang/julia/tree/d386e40c17d43b79fc89d3e579fc04547241787c/base/linalg/bidiag.jl#L498\" target=\"_blank\">linalg/bidiag.jl:498</a></li> <li> *(A::<b>Base.LinAlg.AbstractTriangular</b>, B::<b>AbstractArray{T,1} where T</b>) at <a href=\"https://github.com/JuliaLang/julia/tree/d386e40c17d43b79fc89d3e579fc04547241787c/base/linalg/triangular.jl#L1602\" target=\"_blank\">linalg/triangular.jl:1602</a></li> <li> *(A::<b>Base.LinAlg.AbstractTriangular</b>, B::<b>AbstractArray{T,2} where T</b>) at <a href=\"https://github.com/JuliaLang/julia/tree/d386e40c17d43b79fc89d3e579fc04547241787c/base/linalg/triangular.jl#L1602\" target=\"_blank\">linalg/triangular.jl:1602</a></li> <li> *(A::<b>Union{Base.LinAlg.QRCompactWYQ, Base.LinAlg.QRPackedQ}</b>, b::<b>Union{Base.ReshapedArray{T,1,A,MI} where MI<:Tuple{Vararg{Base.MultiplicativeInverses.SignedMultiplicativeInverse{Int64},N} where N} where A<:Union{DenseArray, SubArray{T,N,P,I,true} where I<:Tuple{Union{Base.Slice, UnitRange},Vararg{Any,N} where N} where P where N where T}, DenseArray{T,1}, SubArray{T,1,A,I,L} where L} where I<:Tuple{Vararg{Union{Base.AbstractCartesianIndex, Int64, Range{Int64}},N} where N} where A<:Union{Base.ReshapedArray{T,N,A,MI} where MI<:Tuple{Vararg{Base.MultiplicativeInverses.SignedMultiplicativeInverse{Int64},N} where N} where A<:Union{DenseArray, SubArray{T,N,P,I,true} where I<:Tuple{Union{Base.Slice, UnitRange},Vararg{Any,N} where N} where P where N where T} where N where T, DenseArray} where T</b>) at <a href=\"https://github.com/JuliaLang/julia/tree/d386e40c17d43b79fc89d3e579fc04547241787c/base/linalg/qr.jl#L527\" target=\"_blank\">linalg/qr.jl:527</a></li> <li> *(A::<b>Union{Base.LinAlg.QRCompactWYQ, Base.LinAlg.QRPackedQ}</b>, B::<b>Union{Base.ReshapedArray{T,2,A,MI} where MI<:Tuple{Vararg{Base.MultiplicativeInverses.SignedMultiplicativeInverse{Int64},N} where N} where A<:Union{DenseArray, SubArray{T,N,P,I,true} where I<:Tuple{Union{Base.Slice, UnitRange},Vararg{Any,N} where N} where P where N where T}, DenseArray{T,2}, SubArray{T,2,A,I,L} where L} where I<:Tuple{Vararg{Union{Base.AbstractCartesianIndex, Int64, Range{Int64}},N} where N} where A<:Union{Base.ReshapedArray{T,N,A,MI} where MI<:Tuple{Vararg{Base.MultiplicativeInverses.SignedMultiplicativeInverse{Int64},N} where N} where A<:Union{DenseArray, SubArray{T,N,P,I,true} where I<:Tuple{Union{Base.Slice, UnitRange},Vararg{Any,N} where N} where P where N where T} where N where T, DenseArray} where T</b>) at <a href=\"https://github.com/JuliaLang/julia/tree/d386e40c17d43b79fc89d3e579fc04547241787c/base/linalg/qr.jl#L539\" target=\"_blank\">linalg/qr.jl:539</a></li> <li> *(A::<b>Union{Base.ReshapedArray{T,2,A,MI} where MI<:Tuple{Vararg{Base.MultiplicativeInverses.SignedMultiplicativeInverse{Int64},N} where N} where A<:Union{DenseArray, SubArray{T,N,P,I,true} where I<:Tuple{Union{Base.Slice, UnitRange},Vararg{Any,N} where N} where P where N where T}, DenseArray{T,2}, SubArray{T,2,A,I,L} where L} where I<:Tuple{Vararg{Union{Base.AbstractCartesianIndex, Int64, Range{Int64}},N} where N} where A<:Union{Base.ReshapedArray{T,N,A,MI} where MI<:Tuple{Vararg{Base.MultiplicativeInverses.SignedMultiplicativeInverse{Int64},N} where N} where A<:Union{DenseArray, SubArray{T,N,P,I,true} where I<:Tuple{Union{Base.Slice, UnitRange},Vararg{Any,N} where N} where P where N where T} where N where T, DenseArray} where T</b>, Q::<b>Union{Base.LinAlg.QRCompactWYQ, Base.LinAlg.QRPackedQ}</b>) at <a href=\"https://github.com/JuliaLang/julia/tree/d386e40c17d43b79fc89d3e579fc04547241787c/base/linalg/qr.jl#L627\" target=\"_blank\">linalg/qr.jl:627</a></li> <li> *<i>{T, S}</i>(Q::<b>Base.LinAlg.HessenbergQ{T,S} where S<:(AbstractArray{T,2} where T)</b>, X::<b>Union{Union{Base.ReshapedArray{S,1,A,MI} where MI<:Tuple{Vararg{Base.MultiplicativeInverses.SignedMultiplicativeInverse{Int64},N} where N} where A<:Union{DenseArray, SubArray{T,N,P,I,true} where I<:Tuple{Union{Base.Slice, UnitRange},Vararg{Any,N} where N} where P where N where T}, DenseArray{S,1}, SubArray{S,1,A,I,L} where L} where I<:Tuple{Vararg{Union{Base.AbstractCartesianIndex, Int64, Range{Int64}},N} where N} where A<:Union{Base.ReshapedArray{T,N,A,MI} where MI<:Tuple{Vararg{Base.MultiplicativeInverses.SignedMultiplicativeInverse{Int64},N} where N} where A<:Union{DenseArray, SubArray{T,N,P,I,true} where I<:Tuple{Union{Base.Slice, UnitRange},Vararg{Any,N} where N} where P where N where T} where N where T, DenseArray}, Union{Base.ReshapedArray{S,2,A,MI} where MI<:Tuple{Vararg{Base.MultiplicativeInverses.SignedMultiplicativeInverse{Int64},N} where N} where A<:Union{DenseArray, SubArray{T,N,P,I,true} where I<:Tuple{Union{Base.Slice, UnitRange},Vararg{Any,N} where N} where P where N where T}, DenseArray{S,2}, SubArray{S,2,A,I,L} where L} where I<:Tuple{Vararg{Union{Base.AbstractCartesianIndex, Int64, Range{Int64}},N} where N} where A<:Union{Base.ReshapedArray{T,N,A,MI} where MI<:Tuple{Vararg{Base.MultiplicativeInverses.SignedMultiplicativeInverse{Int64},N} where N} where A<:Union{DenseArray, SubArray{T,N,P,I,true} where I<:Tuple{Union{Base.Slice, UnitRange},Vararg{Any,N} where N} where P where N where T} where N where T, DenseArray}}</b>) at <a href=\"https://github.com/JuliaLang/julia/tree/d386e40c17d43b79fc89d3e579fc04547241787c/base/linalg/hessenberg.jl#L101\" target=\"_blank\">linalg/hessenberg.jl:101</a></li> <li> *<i>{T, S}</i>(X::<b>Union{Union{Base.ReshapedArray{S,1,A,MI} where MI<:Tuple{Vararg{Base.MultiplicativeInverses.SignedMultiplicativeInverse{Int64},N} where N} where A<:Union{DenseArray, SubArray{T,N,P,I,true} where I<:Tuple{Union{Base.Slice, UnitRange},Vararg{Any,N} where N} where P where N where T}, DenseArray{S,1}, SubArray{S,1,A,I,L} where L} where I<:Tuple{Vararg{Union{Base.AbstractCartesianIndex, Int64, Range{Int64}},N} where N} where A<:Union{Base.ReshapedArray{T,N,A,MI} where MI<:Tuple{Vararg{Base.MultiplicativeInverses.SignedMultiplicativeInverse{Int64},N} where N} where A<:Union{DenseArray, SubArray{T,N,P,I,true} where I<:Tuple{Union{Base.Slice, UnitRange},Vararg{Any,N} where N} where P where N where T} where N where T, DenseArray}, Union{Base.ReshapedArray{S,2,A,MI} where MI<:Tuple{Vararg{Base.MultiplicativeInverses.SignedMultiplicativeInverse{Int64},N} where N} where A<:Union{DenseArray, SubArray{T,N,P,I,true} where I<:Tuple{Union{Base.Slice, UnitRange},Vararg{Any,N} where N} where P where N where T}, DenseArray{S,2}, SubArray{S,2,A,I,L} where L} where I<:Tuple{Vararg{Union{Base.AbstractCartesianIndex, Int64, Range{Int64}},N} where N} where A<:Union{Base.ReshapedArray{T,N,A,MI} where MI<:Tuple{Vararg{Base.MultiplicativeInverses.SignedMultiplicativeInverse{Int64},N} where N} where A<:Union{DenseArray, SubArray{T,N,P,I,true} where I<:Tuple{Union{Base.Slice, UnitRange},Vararg{Any,N} where N} where P where N where T} where N where T, DenseArray}}</b>, Q::<b>Base.LinAlg.HessenbergQ{T,S} where S<:(AbstractArray{T,2} where T)</b>) at <a href=\"https://github.com/JuliaLang/julia/tree/d386e40c17d43b79fc89d3e579fc04547241787c/base/linalg/hessenberg.jl#L105\" target=\"_blank\">linalg/hessenberg.jl:105</a></li> <li> *(A::<b>Base.LinAlg.LQPackedQ</b>, B::<b>Union{Union{Base.ReshapedArray{T,1,A,MI} where MI<:Tuple{Vararg{Base.MultiplicativeInverses.SignedMultiplicativeInverse{Int64},N} where N} where A<:Union{DenseArray, SubArray{T,N,P,I,true} where I<:Tuple{Union{Base.Slice, UnitRange},Vararg{Any,N} where N} where P where N where T}, DenseArray{T,1}, SubArray{T,1,A,I,L} where L} where I<:Tuple{Vararg{Union{Base.AbstractCartesianIndex, Int64, Range{Int64}},N} where N} where A<:Union{Base.ReshapedArray{T,N,A,MI} where MI<:Tuple{Vararg{Base.MultiplicativeInverses.SignedMultiplicativeInverse{Int64},N} where N} where A<:Union{DenseArray, SubArray{T,N,P,I,true} where I<:Tuple{Union{Base.Slice, UnitRange},Vararg{Any,N} where N} where P where N where T} where N where T, DenseArray}, Union{Base.ReshapedArray{T,2,A,MI} where MI<:Tuple{Vararg{Base.MultiplicativeInverses.SignedMultiplicativeInverse{Int64},N} where N} where A<:Union{DenseArray, SubArray{T,N,P,I,true} where I<:Tuple{Union{Base.Slice, UnitRange},Vararg{Any,N} where N} where P where N where T}, DenseArray{T,2}, SubArray{T,2,A,I,L} where L} where I<:Tuple{Vararg{Union{Base.AbstractCartesianIndex, Int64, Range{Int64}},N} where N} where A<:Union{Base.ReshapedArray{T,N,A,MI} where MI<:Tuple{Vararg{Base.MultiplicativeInverses.SignedMultiplicativeInverse{Int64},N} where N} where A<:Union{DenseArray, SubArray{T,N,P,I,true} where I<:Tuple{Union{Base.Slice, UnitRange},Vararg{Any,N} where N} where P where N where T} where N where T, DenseArray}} where T</b>) at <a href=\"https://github.com/JuliaLang/julia/tree/d386e40c17d43b79fc89d3e579fc04547241787c/base/linalg/lq.jl#L137\" target=\"_blank\">linalg/lq.jl:137</a></li> <li> *<i>{TA, TB}</i>(A::<b>Union{Base.ReshapedArray{TA,2,A,MI} where MI<:Tuple{Vararg{Base.MultiplicativeInverses.SignedMultiplicativeInverse{Int64},N} where N} where A<:Union{DenseArray, SubArray{T,N,P,I,true} where I<:Tuple{Union{Base.Slice, UnitRange},Vararg{Any,N} where N} where P where N where T}, DenseArray{TA,2}, SubArray{TA,2,A,I,L} where L} where I<:Tuple{Vararg{Union{Base.AbstractCartesianIndex, Int64, Range{Int64}},N} where N} where A<:Union{Base.ReshapedArray{T,N,A,MI} where MI<:Tuple{Vararg{Base.MultiplicativeInverses.SignedMultiplicativeInverse{Int64},N} where N} where A<:Union{DenseArray, SubArray{T,N,P,I,true} where I<:Tuple{Union{Base.Slice, UnitRange},Vararg{Any,N} where N} where P where N where T} where N where T, DenseArray}</b>, B::<b>Base.LinAlg.LQPackedQ{TB,S} where S<:(AbstractArray{T,2} where T)</b>) at <a href=\"https://github.com/JuliaLang/julia/tree/d386e40c17d43b79fc89d3e579fc04547241787c/base/linalg/lq.jl#L171\" target=\"_blank\">linalg/lq.jl:171</a></li> <li> *(A::<b>Union{Hermitian{T,S}, Symmetric{T,S}} where S where T</b>, B::<b>Union{Hermitian{T,S}, Symmetric{T,S}} where S where T</b>) at <a href=\"https://github.com/JuliaLang/julia/tree/d386e40c17d43b79fc89d3e579fc04547241787c/base/linalg/symmetric.jl#L269\" target=\"_blank\">linalg/symmetric.jl:269</a></li> <li> *(A::<b>Union{Base.ReshapedArray{T,2,A,MI} where MI<:Tuple{Vararg{Base.MultiplicativeInverses.SignedMultiplicativeInverse{Int64},N} where N} where A<:Union{DenseArray, SubArray{T,N,P,I,true} where I<:Tuple{Union{Base.Slice, UnitRange},Vararg{Any,N} where N} where P where N where T}, DenseArray{T,2}, SubArray{T,2,A,I,L} where L} where I<:Tuple{Vararg{Union{Base.AbstractCartesianIndex, Int64, Range{Int64}},N} where N} where A<:Union{Base.ReshapedArray{T,N,A,MI} where MI<:Tuple{Vararg{Base.MultiplicativeInverses.SignedMultiplicativeInverse{Int64},N} where N} where A<:Union{DenseArray, SubArray{T,N,P,I,true} where I<:Tuple{Union{Base.Slice, UnitRange},Vararg{Any,N} where N} where P where N where T} where N where T, DenseArray} where T</b>, B::<b>Union{Hermitian{T,S}, Symmetric{T,S}} where S where T</b>) at <a href=\"https://github.com/JuliaLang/julia/tree/d386e40c17d43b79fc89d3e579fc04547241787c/base/linalg/symmetric.jl#L270\" target=\"_blank\">linalg/symmetric.jl:270</a></li> <li> *(A::<b>Symmetric</b>, x::<b>Bool</b>) at <a href=\"https://github.com/JuliaLang/julia/tree/d386e40c17d43b79fc89d3e579fc04547241787c/base/linalg/symmetric.jl#L274\" target=\"_blank\">linalg/symmetric.jl:274</a></li> <li> *(A::<b>Symmetric</b>, x::<b>Number</b>) at <a href=\"https://github.com/JuliaLang/julia/tree/d386e40c17d43b79fc89d3e579fc04547241787c/base/linalg/symmetric.jl#L276\" target=\"_blank\">linalg/symmetric.jl:276</a></li> <li> *(A::<b>Hermitian</b>, x::<b>Bool</b>) at <a href=\"https://github.com/JuliaLang/julia/tree/d386e40c17d43b79fc89d3e579fc04547241787c/base/linalg/symmetric.jl#L274\" target=\"_blank\">linalg/symmetric.jl:274</a></li> <li> *(A::<b>Hermitian</b>, x::<b>Real</b>) at <a href=\"https://github.com/JuliaLang/julia/tree/d386e40c17d43b79fc89d3e579fc04547241787c/base/linalg/symmetric.jl#L276\" target=\"_blank\">linalg/symmetric.jl:276</a></li> <li> *(D::<b>Diagonal</b>, x::<b>Number</b>) at <a href=\"https://github.com/JuliaLang/julia/tree/d386e40c17d43b79fc89d3e579fc04547241787c/base/linalg/diagonal.jl#L144\" target=\"_blank\">linalg/diagonal.jl:144</a></li> <li> *(Da::<b>Diagonal</b>, Db::<b>Diagonal</b>) at <a href=\"https://github.com/JuliaLang/julia/tree/d386e40c17d43b79fc89d3e579fc04547241787c/base/linalg/diagonal.jl#L146\" target=\"_blank\">linalg/diagonal.jl:146</a></li> <li> *(D::<b>Diagonal</b>, B::<b>Base.LinAlg.AbstractTriangular</b>) at <a href=\"https://github.com/JuliaLang/julia/tree/d386e40c17d43b79fc89d3e579fc04547241787c/base/linalg/diagonal.jl#L150\" target=\"_blank\">linalg/diagonal.jl:150</a></li> <li> *(D::<b>Diagonal</b>, A::<b>SparseMatrixCSC</b>) at <a href=\"https://github.com/JuliaLang/julia/tree/d386e40c17d43b79fc89d3e579fc04547241787c/base/sparse/linalg.jl#L114\" target=\"_blank\">sparse/linalg.jl:114</a></li> <li> *(D::<b>Diagonal</b>, V::<b>AbstractArray{T,1} where T</b>) at <a href=\"https://github.com/JuliaLang/julia/tree/d386e40c17d43b79fc89d3e579fc04547241787c/base/linalg/diagonal.jl#L147\" target=\"_blank\">linalg/diagonal.jl:147</a></li> <li> *(D::<b>Diagonal</b>, A::<b>AbstractArray{T,2} where T</b>) at <a href=\"https://github.com/JuliaLang/julia/tree/d386e40c17d43b79fc89d3e579fc04547241787c/base/linalg/diagonal.jl#L154\" target=\"_blank\">linalg/diagonal.jl:154</a></li> <li> *(A::<b>Bidiagonal</b>, B::<b>Number</b>) at <a href=\"https://github.com/JuliaLang/julia/tree/d386e40c17d43b79fc89d3e579fc04547241787c/base/linalg/bidiag.jl#L346\" target=\"_blank\">linalg/bidiag.jl:346</a></li> <li> *(A::<b>Union{Bidiagonal, SymTridiagonal, Tridiagonal}</b>, B::<b>Union{Bidiagonal, SymTridiagonal, Tridiagonal}</b>) at <a href=\"https://github.com/JuliaLang/julia/tree/d386e40c17d43b79fc89d3e579fc04547241787c/base/linalg/bidiag.jl#L499\" target=\"_blank\">linalg/bidiag.jl:499</a></li> <li> *<i>{T}</i>(A::<b>Bidiagonal{T}</b>, B::<b>AbstractArray{T,1}</b>) at <a href=\"https://github.com/JuliaLang/julia/tree/d386e40c17d43b79fc89d3e579fc04547241787c/base/linalg/bidiag.jl#L503\" target=\"_blank\">linalg/bidiag.jl:503</a></li> <li> *<i>{P<:Base.Dates.Period}</i>(X::<b>Union{Base.ReshapedArray{P,N,A,MI} where MI<:Tuple{Vararg{Base.MultiplicativeInverses.SignedMultiplicativeInverse{Int64},N} where N} where A<:Union{DenseArray, SubArray{T,N,P,I,true} where I<:Tuple{Union{Base.Slice, UnitRange},Vararg{Any,N} where N} where P where N where T}, DenseArray{P,N}, SubArray{P,N,A,I,L} where L} where I<:Tuple{Vararg{Union{Base.AbstractCartesianIndex, Int64, Range{Int64}},N} where N} where A<:Union{Base.ReshapedArray{T,N,A,MI} where MI<:Tuple{Vararg{Base.MultiplicativeInverses.SignedMultiplicativeInverse{Int64},N} where N} where A<:Union{DenseArray, SubArray{T,N,P,I,true} where I<:Tuple{Union{Base.Slice, UnitRange},Vararg{Any,N} where N} where P where N where T} where N where T, DenseArray} where N</b>, y::<b>Real</b>) at <a href=\"https://github.com/JuliaLang/julia/tree/d386e40c17d43b79fc89d3e579fc04547241787c/base/dates/periods.jl#L93\" target=\"_blank\">dates/periods.jl:93</a></li> <li> *(x::<b>AbstractSparseArray{Tv,Ti,1} where Ti where Tv</b>, a::<b>Number</b>) at <a href=\"https://github.com/JuliaLang/julia/tree/d386e40c17d43b79fc89d3e579fc04547241787c/base/sparse/sparsevector.jl#L1447\" target=\"_blank\">sparse/sparsevector.jl:1447</a></li> <li> *<i>{TX, TvA, TiA}</i>(X::<b>Union{Base.ReshapedArray{TX,2,A,MI} where MI<:Tuple{Vararg{Base.MultiplicativeInverses.SignedMultiplicativeInverse{Int64},N} where N} where A<:Union{DenseArray, SubArray{T,N,P,I,true} where I<:Tuple{Union{Base.Slice, UnitRange},Vararg{Any,N} where N} where P where N where T}, DenseArray{TX,2}, SubArray{TX,2,A,I,L} where L} where I<:Tuple{Vararg{Union{Base.AbstractCartesianIndex, Int64, Range{Int64}},N} where N} where A<:Union{Base.ReshapedArray{T,N,A,MI} where MI<:Tuple{Vararg{Base.MultiplicativeInverses.SignedMultiplicativeInverse{Int64},N} where N} where A<:Union{DenseArray, SubArray{T,N,P,I,true} where I<:Tuple{Union{Base.Slice, UnitRange},Vararg{Any,N} where N} where P where N where T} where N where T, DenseArray}</b>, A::<b>SparseMatrixCSC{TvA,TiA}</b>) at <a href=\"https://github.com/JuliaLang/julia/tree/d386e40c17d43b79fc89d3e579fc04547241787c/base/sparse/linalg.jl#L102\" target=\"_blank\">sparse/linalg.jl:102</a></li> <li> *<i>{Ta, Tx}</i>(A::<b>Union{Base.ReshapedArray{Ta,2,A,MI} where MI<:Tuple{Vararg{Base.MultiplicativeInverses.SignedMultiplicativeInverse{Int64},N} where N} where A<:Union{DenseArray, SubArray{T,N,P,I,true} where I<:Tuple{Union{Base.Slice, UnitRange},Vararg{Any,N} where N} where P where N where T}, DenseArray{Ta,2}, SubArray{Ta,2,A,I,L} where L} where I<:Tuple{Vararg{Union{Base.AbstractCartesianIndex, Int64, Range{Int64}},N} where N} where A<:Union{Base.ReshapedArray{T,N,A,MI} where MI<:Tuple{Vararg{Base.MultiplicativeInverses.SignedMultiplicativeInverse{Int64},N} where N} where A<:Union{DenseArray, SubArray{T,N,P,I,true} where I<:Tuple{Union{Base.Slice, UnitRange},Vararg{Any,N} where N} where P where N where T} where N where T, DenseArray}</b>, x::<b>AbstractSparseArray{Tx,Ti,1} where Ti</b>) at <a href=\"https://github.com/JuliaLang/julia/tree/d386e40c17d43b79fc89d3e579fc04547241787c/base/sparse/sparsevector.jl#L1522\" target=\"_blank\">sparse/sparsevector.jl:1522</a></li> <li> *(A::<b>SparseMatrixCSC</b>, x::<b>AbstractSparseArray{Tv,Ti,1} where Ti where Tv</b>) at <a href=\"https://github.com/JuliaLang/julia/tree/d386e40c17d43b79fc89d3e579fc04547241787c/base/sparse/sparsevector.jl#L1700\" target=\"_blank\">sparse/sparsevector.jl:1700</a></li> <li> *<i>{Tv, Ti}</i>(A::<b>SparseMatrixCSC{Tv,Ti}</b>, B::<b>SparseMatrixCSC{Tv,Ti}</b>) at <a href=\"https://github.com/JuliaLang/julia/tree/d386e40c17d43b79fc89d3e579fc04547241787c/base/sparse/linalg.jl#L125\" target=\"_blank\">sparse/linalg.jl:125</a></li> <li> *<i>{TvA, TiA, TvB, TiB}</i>(A::<b>SparseMatrixCSC{TvA,TiA}</b>, B::<b>SparseMatrixCSC{TvB,TiB}</b>) at <a href=\"https://github.com/JuliaLang/julia/tree/d386e40c17d43b79fc89d3e579fc04547241787c/base/sparse/linalg.jl#L24\" target=\"_blank\">sparse/linalg.jl:24</a></li> <li> *(A::<b>SparseMatrixCSC</b>, D::<b>Diagonal</b>) at <a href=\"https://github.com/JuliaLang/julia/tree/d386e40c17d43b79fc89d3e579fc04547241787c/base/sparse/linalg.jl#L118\" target=\"_blank\">sparse/linalg.jl:118</a></li> <li> *(A::<b>Base.SparseArrays.CHOLMOD.Sparse</b>, B::<b>Base.SparseArrays.CHOLMOD.Sparse</b>) at <a href=\"https://github.com/JuliaLang/julia/tree/d386e40c17d43b79fc89d3e579fc04547241787c/base/sparse/cholmod.jl#L1286\" target=\"_blank\">sparse/cholmod.jl:1286</a></li> <li> *(A::<b>Base.SparseArrays.CHOLMOD.Sparse</b>, B::<b>Base.SparseArrays.CHOLMOD.Dense</b>) at <a href=\"https://github.com/JuliaLang/julia/tree/d386e40c17d43b79fc89d3e579fc04547241787c/base/sparse/cholmod.jl#L1287\" target=\"_blank\">sparse/cholmod.jl:1287</a></li> <li> *(A::<b>Base.SparseArrays.CHOLMOD.Sparse</b>, B::<b>Union{Array{T,1}, Array{T,2}} where T</b>) at <a href=\"https://github.com/JuliaLang/julia/tree/d386e40c17d43b79fc89d3e579fc04547241787c/base/sparse/cholmod.jl#L1288\" target=\"_blank\">sparse/cholmod.jl:1288</a></li> <li> *<i>{Ti}</i>(A::<b>Symmetric{Float64,SparseMatrixCSC{Float64,Ti}}</b>, B::<b>Union{SparseMatrixCSC{Float64,Ti}, SparseVector{Float64,Ti}}</b>) at <a href=\"https://github.com/JuliaLang/julia/tree/d386e40c17d43b79fc89d3e579fc04547241787c/base/sparse/cholmod.jl#L1712\" target=\"_blank\">sparse/cholmod.jl:1712</a></li> <li> *<i>{Ti}</i>(A::<b>Hermitian{Complex{Float64},SparseMatrixCSC{Complex{Float64},Ti}}</b>, B::<b>Union{SparseMatrixCSC{Complex{Float64},Ti}, SparseVector{Complex{Float64},Ti}}</b>) at <a href=\"https://github.com/JuliaLang/julia/tree/d386e40c17d43b79fc89d3e579fc04547241787c/base/sparse/cholmod.jl#L1714\" target=\"_blank\">sparse/cholmod.jl:1714</a></li> <li> *<i>{Ti}</i>(A::<b>Hermitian{Float64,SparseMatrixCSC{Float64,Ti}}</b>, B::<b>Union{SparseMatrixCSC{Float64,Ti}, SparseVector{Float64,Ti}}</b>) at <a href=\"https://github.com/JuliaLang/julia/tree/d386e40c17d43b79fc89d3e579fc04547241787c/base/sparse/cholmod.jl#L1716\" target=\"_blank\">sparse/cholmod.jl:1716</a></li> <li> *<i>{Ti}</i>(A::<b>Union{SparseMatrixCSC{Float64,Ti}, SparseVector{Float64,Ti}}</b>, B::<b>Symmetric{Float64,SparseMatrixCSC{Float64,Ti}}</b>) at <a href=\"https://github.com/JuliaLang/julia/tree/d386e40c17d43b79fc89d3e579fc04547241787c/base/sparse/cholmod.jl#L1719\" target=\"_blank\">sparse/cholmod.jl:1719</a></li> <li> *<i>{Ti}</i>(A::<b>Union{SparseMatrixCSC{Complex{Float64},Ti}, SparseVector{Complex{Float64},Ti}}</b>, B::<b>Hermitian{Complex{Float64},SparseMatrixCSC{Complex{Float64},Ti}}</b>) at <a href=\"https://github.com/JuliaLang/julia/tree/d386e40c17d43b79fc89d3e579fc04547241787c/base/sparse/cholmod.jl#L1721\" target=\"_blank\">sparse/cholmod.jl:1721</a></li> <li> *<i>{Ti}</i>(A::<b>Union{SparseMatrixCSC{Float64,Ti}, SparseVector{Float64,Ti}}</b>, B::<b>Hermitian{Float64,SparseMatrixCSC{Float64,Ti}}</b>) at <a href=\"https://github.com/JuliaLang/julia/tree/d386e40c17d43b79fc89d3e579fc04547241787c/base/sparse/cholmod.jl#L1723\" target=\"_blank\">sparse/cholmod.jl:1723</a></li> <li> *(x::<b>AbstractArray{#s45,2} where #s45<:Number</b>) at <a href=\"https://github.com/JuliaLang/julia/tree/d386e40c17d43b79fc89d3e579fc04547241787c/base/abstractarraymath.jl#L96\" target=\"_blank\">abstractarraymath.jl:96</a></li> <li> *(B::<b>Number</b>, A::<b>SymTridiagonal</b>) at <a href=\"https://github.com/JuliaLang/julia/tree/d386e40c17d43b79fc89d3e579fc04547241787c/base/linalg/tridiag.jl#L131\" target=\"_blank\">linalg/tridiag.jl:131</a></li> <li> *(B::<b>Number</b>, A::<b>Tridiagonal</b>) at <a href=\"https://github.com/JuliaLang/julia/tree/d386e40c17d43b79fc89d3e579fc04547241787c/base/linalg/tridiag.jl#L627\" target=\"_blank\">linalg/tridiag.jl:627</a></li> <li> *(x::<b>Number</b>, A::<b>UpperTriangular</b>) at <a href=\"https://github.com/JuliaLang/julia/tree/d386e40c17d43b79fc89d3e579fc04547241787c/base/linalg/triangular.jl#L586\" target=\"_blank\">linalg/triangular.jl:586</a></li> <li> *(x::<b>Number</b>, A::<b>Base.LinAlg.UnitUpperTriangular</b>) at <a href=\"https://github.com/JuliaLang/julia/tree/d386e40c17d43b79fc89d3e579fc04547241787c/base/linalg/triangular.jl#L589\" target=\"_blank\">linalg/triangular.jl:589</a></li> <li> *(x::<b>Number</b>, A::<b>LowerTriangular</b>) at <a href=\"https://github.com/JuliaLang/julia/tree/d386e40c17d43b79fc89d3e579fc04547241787c/base/linalg/triangular.jl#L586\" target=\"_blank\">linalg/triangular.jl:586</a></li> <li> *(x::<b>Number</b>, A::<b>Base.LinAlg.UnitLowerTriangular</b>) at <a href=\"https://github.com/JuliaLang/julia/tree/d386e40c17d43b79fc89d3e579fc04547241787c/base/linalg/triangular.jl#L589\" target=\"_blank\">linalg/triangular.jl:589</a></li> <li> *(x::<b>Number</b>, D::<b>Diagonal</b>) at <a href=\"https://github.com/JuliaLang/julia/tree/d386e40c17d43b79fc89d3e579fc04547241787c/base/linalg/diagonal.jl#L143\" target=\"_blank\">linalg/diagonal.jl:143</a></li> <li> *(B::<b>Number</b>, A::<b>Bidiagonal</b>) at <a href=\"https://github.com/JuliaLang/julia/tree/d386e40c17d43b79fc89d3e579fc04547241787c/base/linalg/bidiag.jl#L347\" target=\"_blank\">linalg/bidiag.jl:347</a></li> <li> *(a::<b>Number</b>, x::<b>AbstractSparseArray{Tv,Ti,1} where Ti where Tv</b>) at <a href=\"https://github.com/JuliaLang/julia/tree/d386e40c17d43b79fc89d3e579fc04547241787c/base/sparse/sparsevector.jl#L1448\" target=\"_blank\">sparse/sparsevector.jl:1448</a></li> <li> *(A::<b>Number</b>, B::<b>AbstractArray</b>) at <a href=\"https://github.com/JuliaLang/julia/tree/d386e40c17d43b79fc89d3e579fc04547241787c/base/arraymath.jl#L45\" target=\"_blank\">arraymath.jl:45</a></li> <li> *(A::<b>AbstractArray</b>, B::<b>Number</b>) at <a href=\"https://github.com/JuliaLang/julia/tree/d386e40c17d43b79fc89d3e579fc04547241787c/base/arraymath.jl#L48\" target=\"_blank\">arraymath.jl:48</a></li> <li> *(s1::<b>AbstractString</b>, ss::<b>AbstractString...</b>) at <a href=\"https://github.com/JuliaLang/julia/tree/d386e40c17d43b79fc89d3e579fc04547241787c/base/strings/basic.jl#L74\" target=\"_blank\">strings/basic.jl:74</a></li> <li> *(index::<b>CartesianIndex</b>, a::<b>Integer</b>) at <a href=\"https://github.com/JuliaLang/julia/tree/d386e40c17d43b79fc89d3e579fc04547241787c/base/multidimensional.jl#L115\" target=\"_blank\">multidimensional.jl:115</a></li> <li> *(vec::<b>AbstractArray{T,1} where T</b>, rowvec::<b>RowVector</b>) at <a href=\"https://github.com/JuliaLang/julia/tree/d386e40c17d43b79fc89d3e579fc04547241787c/base/linalg/rowvector.jl#L183\" target=\"_blank\">linalg/rowvector.jl:183</a></li> <li> *(vec::<b>AbstractArray{T,1} where T</b>, rowvec::<b>AbstractArray{T,1} where T</b>) at <a href=\"https://github.com/JuliaLang/julia/tree/d386e40c17d43b79fc89d3e579fc04547241787c/base/linalg/rowvector.jl#L184\" target=\"_blank\">linalg/rowvector.jl:184</a></li> <li> *(A::<b>AbstractArray{T,2} where T</b>, B::<b>Base.LinAlg.AbstractTriangular</b>) at <a href=\"https://github.com/JuliaLang/julia/tree/d386e40c17d43b79fc89d3e579fc04547241787c/base/linalg/triangular.jl#L1635\" target=\"_blank\">linalg/triangular.jl:1635</a></li> <li> *(A::<b>AbstractArray{T,2} where T</b>, D::<b>Diagonal</b>) at <a href=\"https://github.com/JuliaLang/julia/tree/d386e40c17d43b79fc89d3e579fc04547241787c/base/linalg/diagonal.jl#L152\" target=\"_blank\">linalg/diagonal.jl:152</a></li> <li> *<i>{T, S}</i>(A::<b>AbstractArray{T,2}</b>, x::<b>AbstractArray{S,1}</b>) at <a href=\"https://github.com/JuliaLang/julia/tree/d386e40c17d43b79fc89d3e579fc04547241787c/base/linalg/matmul.jl#L78\" target=\"_blank\">linalg/matmul.jl:78</a></li> <li> *(a::<b>AbstractArray{T,1} where T</b>, B::<b>AbstractArray{T,2} where T</b>) at <a href=\"https://github.com/JuliaLang/julia/tree/d386e40c17d43b79fc89d3e579fc04547241787c/base/linalg/matmul.jl#L87\" target=\"_blank\">linalg/matmul.jl:87</a></li> <li> *<i>{T, S}</i>(A::<b>AbstractArray{T,2}</b>, B::<b>AbstractArray{S,2}</b>) at <a href=\"https://github.com/JuliaLang/julia/tree/d386e40c17d43b79fc89d3e579fc04547241787c/base/linalg/matmul.jl#L145\" target=\"_blank\">linalg/matmul.jl:145</a></li> <li> *<i>{TA, TB}</i>(A::<b>Base.LinAlg.LQ{TA,S} where S<:(AbstractArray{T,2} where T)</b>, B::<b>Union{Union{Base.ReshapedArray{TB,1,A,MI} where MI<:Tuple{Vararg{Base.MultiplicativeInverses.SignedMultiplicativeInverse{Int64},N} where N} where A<:Union{DenseArray, SubArray{T,N,P,I,true} where I<:Tuple{Union{Base.Slice, UnitRange},Vararg{Any,N} where N} where P where N where T}, DenseArray{TB,1}, SubArray{TB,1,A,I,L} where L} where I<:Tuple{Vararg{Union{Base.AbstractCartesianIndex, Int64, Range{Int64}},N} where N} where A<:Union{Base.ReshapedArray{T,N,A,MI} where MI<:Tuple{Vararg{Base.MultiplicativeInverses.SignedMultiplicativeInverse{Int64},N} where N} where A<:Union{DenseArray, SubArray{T,N,P,I,true} where I<:Tuple{Union{Base.Slice, UnitRange},Vararg{Any,N} where N} where P where N where T} where N where T, DenseArray}, Union{Base.ReshapedArray{TB,2,A,MI} where MI<:Tuple{Vararg{Base.MultiplicativeInverses.SignedMultiplicativeInverse{Int64},N} where N} where A<:Union{DenseArray, SubArray{T,N,P,I,true} where I<:Tuple{Union{Base.Slice, UnitRange},Vararg{Any,N} where N} where P where N where T}, DenseArray{TB,2}, SubArray{TB,2,A,I,L} where L} where I<:Tuple{Vararg{Union{Base.AbstractCartesianIndex, Int64, Range{Int64}},N} where N} where A<:Union{Base.ReshapedArray{T,N,A,MI} where MI<:Tuple{Vararg{Base.MultiplicativeInverses.SignedMultiplicativeInverse{Int64},N} where N} where A<:Union{DenseArray, SubArray{T,N,P,I,true} where I<:Tuple{Union{Base.Slice, UnitRange},Vararg{Any,N} where N} where P where N where T} where N where T, DenseArray}}</b>) at <a href=\"https://github.com/JuliaLang/julia/tree/d386e40c17d43b79fc89d3e579fc04547241787c/base/linalg/lq.jl#L121\" target=\"_blank\">linalg/lq.jl:121</a></li> <li> *<i>{TA, TB}</i>(A::<b>Base.LinAlg.LQ{TA,S} where S<:(AbstractArray{T,2} where T)</b>, B::<b>Base.LinAlg.QR{TB,S} where S<:(AbstractArray{T,2} where T)</b>) at <a href=\"https://github.com/JuliaLang/julia/tree/d386e40c17d43b79fc89d3e579fc04547241787c/base/linalg/lq.jl#L125\" target=\"_blank\">linalg/lq.jl:125</a></li> <li> *<i>{TA, TB}</i>(A::<b>Base.LinAlg.QR{TA,S} where S<:(AbstractArray{T,2} where T)</b>, B::<b>Base.LinAlg.LQ{TB,S} where S<:(AbstractArray{T,2} where T)</b>) at <a href=\"https://github.com/JuliaLang/julia/tree/d386e40c17d43b79fc89d3e579fc04547241787c/base/linalg/lq.jl#L129\" target=\"_blank\">linalg/lq.jl:129</a></li> <li> *(J1::<b>UniformScaling</b>, J2::<b>UniformScaling</b>) at <a href=\"https://github.com/JuliaLang/julia/tree/d386e40c17d43b79fc89d3e579fc04547241787c/base/linalg/uniformscaling.jl#L148\" target=\"_blank\">linalg/uniformscaling.jl:148</a></li> <li> *(J::<b>UniformScaling</b>, B::<b>BitArray{2}</b>) at <a href=\"https://github.com/JuliaLang/julia/tree/d386e40c17d43b79fc89d3e579fc04547241787c/base/linalg/uniformscaling.jl#L150\" target=\"_blank\">linalg/uniformscaling.jl:150</a></li> <li> *(A::<b>AbstractArray{T,2} where T</b>, J::<b>UniformScaling</b>) at <a href=\"https://github.com/JuliaLang/julia/tree/d386e40c17d43b79fc89d3e579fc04547241787c/base/linalg/uniformscaling.jl#L151\" target=\"_blank\">linalg/uniformscaling.jl:151</a></li> <li> *(J::<b>UniformScaling</b>, A::<b>Union{AbstractArray{T,1}, AbstractArray{T,2}} where T</b>) at <a href=\"https://github.com/JuliaLang/julia/tree/d386e40c17d43b79fc89d3e579fc04547241787c/base/linalg/uniformscaling.jl#L152\" target=\"_blank\">linalg/uniformscaling.jl:152</a></li> <li> *(x::<b>Number</b>, J::<b>UniformScaling</b>) at <a href=\"https://github.com/JuliaLang/julia/tree/d386e40c17d43b79fc89d3e579fc04547241787c/base/linalg/uniformscaling.jl#L153\" target=\"_blank\">linalg/uniformscaling.jl:153</a></li> <li> *(J::<b>UniformScaling</b>, x::<b>Number</b>) at <a href=\"https://github.com/JuliaLang/julia/tree/d386e40c17d43b79fc89d3e579fc04547241787c/base/linalg/uniformscaling.jl#L154\" target=\"_blank\">linalg/uniformscaling.jl:154</a></li> <li> *<i>{T, S}</i>(R::<b>Base.LinAlg.AbstractRotation{T}</b>, A::<b>Union{AbstractArray{S,1}, AbstractArray{S,2}}</b>) at <a href=\"https://github.com/JuliaLang/julia/tree/d386e40c17d43b79fc89d3e579fc04547241787c/base/linalg/givens.jl#L9\" target=\"_blank\">linalg/givens.jl:9</a></li> <li> *<i>{T}</i>(G1::<b>Base.LinAlg.Givens{T}</b>, G2::<b>Base.LinAlg.Givens{T}</b>) at <a href=\"https://github.com/JuliaLang/julia/tree/d386e40c17d43b79fc89d3e579fc04547241787c/base/linalg/givens.jl#L363\" target=\"_blank\">linalg/givens.jl:363</a></li> <li> *(p::<b>Base.DFT.ScaledPlan</b>, x::<b>AbstractArray</b>) at <a href=\"https://github.com/JuliaLang/julia/tree/d386e40c17d43b79fc89d3e579fc04547241787c/base/dft.jl#L255\" target=\"_blank\">dft.jl:255</a></li> <li> *<i>{T, K, N}</i>(p::<b>Base.DFT.FFTW.cFFTWPlan{T,K,false,N} where N</b>, x::<b>Union{Base.ReshapedArray{T,N,A,MI} where MI<:Tuple{Vararg{Base.MultiplicativeInverses.SignedMultiplicativeInverse{Int64},N} where N} where A<:Union{DenseArray, SubArray{T,N,P,I,true} where I<:Tuple{Union{Base.Slice, UnitRange},Vararg{Any,N} where N} where P where N where T}, DenseArray{T,N}, SubArray{T,N,A,I,L} where L} where I<:Tuple{Vararg{Union{Base.AbstractCartesianIndex, Int64, Range{Int64}},N} where N} where A<:Union{Base.ReshapedArray{T,N,A,MI} where MI<:Tuple{Vararg{Base.MultiplicativeInverses.SignedMultiplicativeInverse{Int64},N} where N} where A<:Union{DenseArray, SubArray{T,N,P,I,true} where I<:Tuple{Union{Base.Slice, UnitRange},Vararg{Any,N} where N} where P where N where T} where N where T, DenseArray}</b>) at <a href=\"https://github.com/JuliaLang/julia/tree/d386e40c17d43b79fc89d3e579fc04547241787c/base/fft/FFTW.jl#L627\" target=\"_blank\">fft/FFTW.jl:627</a></li> <li> *<i>{T, K}</i>(p::<b>Base.DFT.FFTW.cFFTWPlan{T,K,true,N} where N</b>, x::<b>Union{Base.ReshapedArray{T,N,A,MI} where MI<:Tuple{Vararg{Base.MultiplicativeInverses.SignedMultiplicativeInverse{Int64},N} where N} where A<:Union{DenseArray, SubArray{T,N,P,I,true} where I<:Tuple{Union{Base.Slice, UnitRange},Vararg{Any,N} where N} where P where N where T}, DenseArray{T,N}, SubArray{T,N,A,I,L} where L} where I<:Tuple{Vararg{Union{Base.AbstractCartesianIndex, Int64, Range{Int64}},N} where N} where A<:Union{Base.ReshapedArray{T,N,A,MI} where MI<:Tuple{Vararg{Base.MultiplicativeInverses.SignedMultiplicativeInverse{Int64},N} where N} where A<:Union{DenseArray, SubArray{T,N,P,I,true} where I<:Tuple{Union{Base.Slice, UnitRange},Vararg{Any,N} where N} where P where N where T} where N where T, DenseArray} where N</b>) at <a href=\"https://github.com/JuliaLang/julia/tree/d386e40c17d43b79fc89d3e579fc04547241787c/base/fft/FFTW.jl#L634\" target=\"_blank\">fft/FFTW.jl:634</a></li> <li> *<i>{N}</i>(p::<b>Base.DFT.FFTW.rFFTWPlan{Float32,-1,false,N} where N</b>, x::<b>Union{Base.ReshapedArray{Float32,N,A,MI} where MI<:Tuple{Vararg{Base.MultiplicativeInverses.SignedMultiplicativeInverse{Int64},N} where N} where A<:Union{DenseArray, SubArray{T,N,P,I,true} where I<:Tuple{Union{Base.Slice, UnitRange},Vararg{Any,N} where N} where P where N where T}, DenseArray{Float32,N}, SubArray{Float32,N,A,I,L} where L} where I<:Tuple{Vararg{Union{Base.AbstractCartesianIndex, Int64, Range{Int64}},N} where N} where A<:Union{Base.ReshapedArray{T,N,A,MI} where MI<:Tuple{Vararg{Base.MultiplicativeInverses.SignedMultiplicativeInverse{Int64},N} where N} where A<:Union{DenseArray, SubArray{T,N,P,I,true} where I<:Tuple{Union{Base.Slice, UnitRange},Vararg{Any,N} where N} where P where N where T} where N where T, DenseArray}</b>) at <a href=\"https://github.com/JuliaLang/julia/tree/d386e40c17d43b79fc89d3e579fc04547241787c/base/fft/FFTW.jl#L704\" target=\"_blank\">fft/FFTW.jl:704</a></li> <li> *<i>{N}</i>(p::<b>Base.DFT.FFTW.rFFTWPlan{Complex{Float32},1,false,N} where N</b>, x::<b>Union{Base.ReshapedArray{Complex{Float32},N,A,MI} where MI<:Tuple{Vararg{Base.MultiplicativeInverses.SignedMultiplicativeInverse{Int64},N} where N} where A<:Union{DenseArray, SubArray{T,N,P,I,true} where I<:Tuple{Union{Base.Slice, UnitRange},Vararg{Any,N} where N} where P where N where T}, DenseArray{Complex{Float32},N}, SubArray{Complex{Float32},N,A,I,L} where L} where I<:Tuple{Vararg{Union{Base.AbstractCartesianIndex, Int64, Range{Int64}},N} where N} where A<:Union{Base.ReshapedArray{T,N,A,MI} where MI<:Tuple{Vararg{Base.MultiplicativeInverses.SignedMultiplicativeInverse{Int64},N} where N} where A<:Union{DenseArray, SubArray{T,N,P,I,true} where I<:Tuple{Union{Base.Slice, UnitRange},Vararg{Any,N} where N} where P where N where T} where N where T, DenseArray}</b>) at <a href=\"https://github.com/JuliaLang/julia/tree/d386e40c17d43b79fc89d3e579fc04547241787c/base/fft/FFTW.jl#L711\" target=\"_blank\">fft/FFTW.jl:711</a></li> <li> *<i>{N}</i>(p::<b>Base.DFT.FFTW.rFFTWPlan{Float64,-1,false,N} where N</b>, x::<b>Union{Base.ReshapedArray{Float64,N,A,MI} where MI<:Tuple{Vararg{Base.MultiplicativeInverses.SignedMultiplicativeInverse{Int64},N} where N} where A<:Union{DenseArray, SubArray{T,N,P,I,true} where I<:Tuple{Union{Base.Slice, UnitRange},Vararg{Any,N} where N} where P where N where T}, DenseArray{Float64,N}, SubArray{Float64,N,A,I,L} where L} where I<:Tuple{Vararg{Union{Base.AbstractCartesianIndex, Int64, Range{Int64}},N} where N} where A<:Union{Base.ReshapedArray{T,N,A,MI} where MI<:Tuple{Vararg{Base.MultiplicativeInverses.SignedMultiplicativeInverse{Int64},N} where N} where A<:Union{DenseArray, SubArray{T,N,P,I,true} where I<:Tuple{Union{Base.Slice, UnitRange},Vararg{Any,N} where N} where P where N where T} where N where T, DenseArray}</b>) at <a href=\"https://github.com/JuliaLang/julia/tree/d386e40c17d43b79fc89d3e579fc04547241787c/base/fft/FFTW.jl#L704\" target=\"_blank\">fft/FFTW.jl:704</a></li> <li> *<i>{N}</i>(p::<b>Base.DFT.FFTW.rFFTWPlan{Complex{Float64},1,false,N} where N</b>, x::<b>Union{Base.ReshapedArray{Complex{Float64},N,A,MI} where MI<:Tuple{Vararg{Base.MultiplicativeInverses.SignedMultiplicativeInverse{Int64},N} where N} where A<:Union{DenseArray, SubArray{T,N,P,I,true} where I<:Tuple{Union{Base.Slice, UnitRange},Vararg{Any,N} where N} where P where N where T}, DenseArray{Complex{Float64},N}, SubArray{Complex{Float64},N,A,I,L} where L} where I<:Tuple{Vararg{Union{Base.AbstractCartesianIndex, Int64, Range{Int64}},N} where N} where A<:Union{Base.ReshapedArray{T,N,A,MI} where MI<:Tuple{Vararg{Base.MultiplicativeInverses.SignedMultiplicativeInverse{Int64},N} where N} where A<:Union{DenseArray, SubArray{T,N,P,I,true} where I<:Tuple{Union{Base.Slice, UnitRange},Vararg{Any,N} where N} where P where N where T} where N where T, DenseArray}</b>) at <a href=\"https://github.com/JuliaLang/julia/tree/d386e40c17d43b79fc89d3e579fc04547241787c/base/fft/FFTW.jl#L711\" target=\"_blank\">fft/FFTW.jl:711</a></li> <li> *<i>{T, K, N}</i>(p::<b>Base.DFT.FFTW.r2rFFTWPlan{T,K,false,N} where N</b>, x::<b>Union{Base.ReshapedArray{T,N,A,MI} where MI<:Tuple{Vararg{Base.MultiplicativeInverses.SignedMultiplicativeInverse{Int64},N} where N} where A<:Union{DenseArray, SubArray{T,N,P,I,true} where I<:Tuple{Union{Base.Slice, UnitRange},Vararg{Any,N} where N} where P where N where T}, DenseArray{T,N}, SubArray{T,N,A,I,L} where L} where I<:Tuple{Vararg{Union{Base.AbstractCartesianIndex, Int64, Range{Int64}},N} where N} where A<:Union{Base.ReshapedArray{T,N,A,MI} where MI<:Tuple{Vararg{Base.MultiplicativeInverses.SignedMultiplicativeInverse{Int64},N} where N} where A<:Union{DenseArray, SubArray{T,N,P,I,true} where I<:Tuple{Union{Base.Slice, UnitRange},Vararg{Any,N} where N} where P where N where T} where N where T, DenseArray}</b>) at <a href=\"https://github.com/JuliaLang/julia/tree/d386e40c17d43b79fc89d3e579fc04547241787c/base/fft/FFTW.jl#L790\" target=\"_blank\">fft/FFTW.jl:790</a></li> <li> *<i>{T, K}</i>(p::<b>Base.DFT.FFTW.r2rFFTWPlan{T,K,true,N} where N</b>, x::<b>Union{Base.ReshapedArray{T,N,A,MI} where MI<:Tuple{Vararg{Base.MultiplicativeInverses.SignedMultiplicativeInverse{Int64},N} where N} where A<:Union{DenseArray, SubArray{T,N,P,I,true} where I<:Tuple{Union{Base.Slice, UnitRange},Vararg{Any,N} where N} where P where N where T}, DenseArray{T,N}, SubArray{T,N,A,I,L} where L} where I<:Tuple{Vararg{Union{Base.AbstractCartesianIndex, Int64, Range{Int64}},N} where N} where A<:Union{Base.ReshapedArray{T,N,A,MI} where MI<:Tuple{Vararg{Base.MultiplicativeInverses.SignedMultiplicativeInverse{Int64},N} where N} where A<:Union{DenseArray, SubArray{T,N,P,I,true} where I<:Tuple{Union{Base.Slice, UnitRange},Vararg{Any,N} where N} where P where N where T} where N where T, DenseArray} where N</b>) at <a href=\"https://github.com/JuliaLang/julia/tree/d386e40c17d43b79fc89d3e579fc04547241787c/base/fft/FFTW.jl#L797\" target=\"_blank\">fft/FFTW.jl:797</a></li> <li> *<i>{T}</i>(p::<b>Base.DFT.FFTW.DCTPlan{T,5,false}</b>, x::<b>Union{Base.ReshapedArray{T,N,A,MI} where MI<:Tuple{Vararg{Base.MultiplicativeInverses.SignedMultiplicativeInverse{Int64},N} where N} where A<:Union{DenseArray, SubArray{T,N,P,I,true} where I<:Tuple{Union{Base.Slice, UnitRange},Vararg{Any,N} where N} where P where N where T}, DenseArray{T,N}, SubArray{T,N,A,I,L} where L} where I<:Tuple{Vararg{Union{Base.AbstractCartesianIndex, Int64, Range{Int64}},N} where N} where A<:Union{Base.ReshapedArray{T,N,A,MI} where MI<:Tuple{Vararg{Base.MultiplicativeInverses.SignedMultiplicativeInverse{Int64},N} where N} where A<:Union{DenseArray, SubArray{T,N,P,I,true} where I<:Tuple{Union{Base.Slice, UnitRange},Vararg{Any,N} where N} where P where N where T} where N where T, DenseArray} where N</b>) at <a href=\"https://github.com/JuliaLang/julia/tree/d386e40c17d43b79fc89d3e579fc04547241787c/base/fft/dct.jl#L97\" target=\"_blank\">fft/dct.jl:97</a></li> <li> *<i>{T}</i>(p::<b>Base.DFT.FFTW.DCTPlan{T,4,false}</b>, x::<b>Union{Base.ReshapedArray{T,N,A,MI} where MI<:Tuple{Vararg{Base.MultiplicativeInverses.SignedMultiplicativeInverse{Int64},N} where N} where A<:Union{DenseArray, SubArray{T,N,P,I,true} where I<:Tuple{Union{Base.Slice, UnitRange},Vararg{Any,N} where N} where P where N where T}, DenseArray{T,N}, SubArray{T,N,A,I,L} where L} where I<:Tuple{Vararg{Union{Base.AbstractCartesianIndex, Int64, Range{Int64}},N} where N} where A<:Union{Base.ReshapedArray{T,N,A,MI} where MI<:Tuple{Vararg{Base.MultiplicativeInverses.SignedMultiplicativeInverse{Int64},N} where N} where A<:Union{DenseArray, SubArray{T,N,P,I,true} where I<:Tuple{Union{Base.Slice, UnitRange},Vararg{Any,N} where N} where P where N where T} where N where T, DenseArray} where N</b>) at <a href=\"https://github.com/JuliaLang/julia/tree/d386e40c17d43b79fc89d3e579fc04547241787c/base/fft/dct.jl#L100\" target=\"_blank\">fft/dct.jl:100</a></li> <li> *<i>{T, K}</i>(p::<b>Base.DFT.FFTW.DCTPlan{T,K,true}</b>, x::<b>Union{Base.ReshapedArray{T,N,A,MI} where MI<:Tuple{Vararg{Base.MultiplicativeInverses.SignedMultiplicativeInverse{Int64},N} where N} where A<:Union{DenseArray, SubArray{T,N,P,I,true} where I<:Tuple{Union{Base.Slice, UnitRange},Vararg{Any,N} where N} where P where N where T}, DenseArray{T,N}, SubArray{T,N,A,I,L} where L} where I<:Tuple{Vararg{Union{Base.AbstractCartesianIndex, Int64, Range{Int64}},N} where N} where A<:Union{Base.ReshapedArray{T,N,A,MI} where MI<:Tuple{Vararg{Base.MultiplicativeInverses.SignedMultiplicativeInverse{Int64},N} where N} where A<:Union{DenseArray, SubArray{T,N,P,I,true} where I<:Tuple{Union{Base.Slice, UnitRange},Vararg{Any,N} where N} where P where N where T} where N where T, DenseArray} where N</b>) at <a href=\"https://github.com/JuliaLang/julia/tree/d386e40c17d43b79fc89d3e579fc04547241787c/base/fft/dct.jl#L103\" target=\"_blank\">fft/dct.jl:103</a></li> <li> *<i>{T}</i>(p::<b>Base.DFT.Plan{T}</b>, x::<b>AbstractArray</b>) at <a href=\"https://github.com/JuliaLang/julia/tree/d386e40c17d43b79fc89d3e579fc04547241787c/base/dft.jl#L214\" target=\"_blank\">dft.jl:214</a></li> <li> *(α::<b>Number</b>, p::<b>Base.DFT.Plan</b>) at <a href=\"https://github.com/JuliaLang/julia/tree/d386e40c17d43b79fc89d3e579fc04547241787c/base/dft.jl#L257\" target=\"_blank\">dft.jl:257</a></li> <li> *(p::<b>Base.DFT.Plan</b>, α::<b>Number</b>) at <a href=\"https://github.com/JuliaLang/julia/tree/d386e40c17d43b79fc89d3e579fc04547241787c/base/dft.jl#L258\" target=\"_blank\">dft.jl:258</a></li> <li> *(I::<b>UniformScaling</b>, p::<b>Base.DFT.ScaledPlan</b>) at <a href=\"https://github.com/JuliaLang/julia/tree/d386e40c17d43b79fc89d3e579fc04547241787c/base/dft.jl#L259\" target=\"_blank\">dft.jl:259</a></li> <li> *(p::<b>Base.DFT.ScaledPlan</b>, I::<b>UniformScaling</b>) at <a href=\"https://github.com/JuliaLang/julia/tree/d386e40c17d43b79fc89d3e579fc04547241787c/base/dft.jl#L260\" target=\"_blank\">dft.jl:260</a></li> <li> *(I::<b>UniformScaling</b>, p::<b>Base.DFT.Plan</b>) at <a href=\"https://github.com/JuliaLang/julia/tree/d386e40c17d43b79fc89d3e579fc04547241787c/base/dft.jl#L261\" target=\"_blank\">dft.jl:261</a></li> <li> *(p::<b>Base.DFT.Plan</b>, I::<b>UniformScaling</b>) at <a href=\"https://github.com/JuliaLang/julia/tree/d386e40c17d43b79fc89d3e579fc04547241787c/base/dft.jl#L262\" target=\"_blank\">dft.jl:262</a></li> <li> *<i>{P<:Base.Dates.Period}</i>(x::<b>P</b>, y::<b>Real</b>) at <a href=\"https://github.com/JuliaLang/julia/tree/d386e40c17d43b79fc89d3e579fc04547241787c/base/dates/periods.jl#L87\" target=\"_blank\">dates/periods.jl:87</a></li> <li> *(s1::<b>Union{AbstractString, Char}</b>, ss::<b>Union{AbstractString, Char}...</b>) at <a href=\"file:///mnt/juliabox/.julia/v0.6/Compat/src/Compat.jl\" target=\"_blank\">/mnt/juliabox/.julia/v0.6/Compat/src/Compat.jl:759</a></li> <li> *(a, b, c, xs...) at <a href=\"https://github.com/JuliaLang/julia/tree/d386e40c17d43b79fc89d3e579fc04547241787c/base/operators.jl#L424\" target=\"_blank\">operators.jl:424</a></li> </ul>"
      ],
      "text/plain": [
       "# 182 methods for generic function \"*\":\n",
       "*(x::Bool, z::Complex{Bool}) in Base at complex.jl:236\n",
       "*(x::Bool, y::Bool) in Base at bool.jl:91\n",
       "*(x::Bool, y::T) where T<:Unsigned in Base at bool.jl:104\n",
       "*(x::Bool, z::Complex) in Base at complex.jl:243\n",
       "*(x::Bool, y::Irrational) in Base at irrationals.jl:111\n",
       "*(x::Bool, y::T) where T<:Number in Base at bool.jl:101\n",
       "*(a::Float16, b::Float16) in Base at float.jl:372\n",
       "*(x::Float32, y::Float32) in Base at float.jl:378\n",
       "*(x::Float64, y::Float64) in Base at float.jl:379\n",
       "*(z::Complex{Bool}, x::Bool) in Base at complex.jl:237\n",
       "*(z::Complex{Bool}, x::Real) in Base at complex.jl:255\n",
       "*(this::Base.Grisu.Float, other::Base.Grisu.Float) in Base.Grisu at grisu/float.jl:138\n",
       "*(c::BigInt, x::BigFloat) in Base.MPFR at mpfr.jl:312\n",
       "*(a::BigInt, b::BigInt, c::BigInt, d::BigInt, e::BigInt) in Base.GMP at gmp.jl:334\n",
       "*(a::BigInt, b::BigInt, c::BigInt, d::BigInt) in Base.GMP at gmp.jl:327\n",
       "*(a::BigInt, b::BigInt, c::BigInt) in Base.GMP at gmp.jl:321\n",
       "*(x::BigInt, y::BigInt) in Base.GMP at gmp.jl:289\n",
       "*(x::BigInt, c::Union{UInt16, UInt32, UInt64, UInt8}) in Base.GMP at gmp.jl:368\n",
       "*(x::BigInt, c::Union{Int16, Int32, Int64, Int8}) in Base.GMP at gmp.jl:374\n",
       "*(a::BigFloat, b::BigFloat, c::BigFloat, d::BigFloat, e::BigFloat) in Base.MPFR at mpfr.jl:460\n",
       "*(a::BigFloat, b::BigFloat, c::BigFloat, d::BigFloat) in Base.MPFR at mpfr.jl:453\n",
       "*(a::BigFloat, b::BigFloat, c::BigFloat) in Base.MPFR at mpfr.jl:447\n",
       "*(x::BigFloat, c::BigInt) in Base.MPFR at mpfr.jl:308\n",
       "*(x::BigFloat, y::BigFloat) in Base.MPFR at mpfr.jl:277\n",
       "*(x::BigFloat, c::Union{UInt16, UInt32, UInt64, UInt8}) in Base.MPFR at mpfr.jl:284\n",
       "*(x::BigFloat, c::Union{Int16, Int32, Int64, Int8}) in Base.MPFR at mpfr.jl:292\n",
       "*(x::BigFloat, c::Union{Float16, Float32, Float64}) in Base.MPFR at mpfr.jl:300\n",
       "*(B::BitArray{2}, J::UniformScaling) in Base.LinAlg at linalg/uniformscaling.jl:149\n",
       "*(z::Complex, w::Complex) in Base at complex.jl:223\n",
       "*(z::Complex, x::Bool) in Base at complex.jl:244\n",
       "*(x::Real, z::Complex{Bool}) in Base at complex.jl:254\n",
       "*(x::Real, z::Complex) in Base at complex.jl:266\n",
       "*(z::Complex, x::Real) in Base at complex.jl:267\n",
       "*(x::Rational, y::Rational) in Base at rational.jl:252\n",
       "*(a::Integer, index::CartesianIndex{N}) where N in Base.IteratorsMD at multidimensional.jl:114\n",
       "*(c::Union{UInt16, UInt32, UInt64, UInt8}, x::BigInt) in Base.GMP at gmp.jl:372\n",
       "*(c::Union{Int16, Int32, Int64, Int8}, x::BigInt) in Base.GMP at gmp.jl:378\n",
       "*(c::Union{UInt16, UInt32, UInt64, UInt8}, x::BigFloat) in Base.MPFR at mpfr.jl:288\n",
       "*(c::Union{Int16, Int32, Int64, Int8}, x::BigFloat) in Base.MPFR at mpfr.jl:296\n",
       "*(c::Union{Float16, Float32, Float64}, x::BigFloat) in Base.MPFR at mpfr.jl:304\n",
       "*(x::Irrational, y::Irrational) in Base at irrationals.jl:109\n",
       "*(y::Real, x::Base.Dates.Period) in Base.Dates at dates/periods.jl:88\n",
       "*(x::Real, r::Base.Use_StepRangeLen_Instead) in Base at deprecated.jl:1235\n",
       "*(x::Number) in Base at operators.jl:400\n",
       "*(y::Number, x::Bool) in Base at bool.jl:106\n",
       "*(x::T, y::T) where T<:Union{Int128, UInt128} in Base at int.jl:571\n",
       "*(x::T, y::T) where T<:Union{Int128, Int16, Int32, Int64, Int8, UInt128, UInt16, UInt32, UInt64, UInt8} in Base at int.jl:33\n",
       "*(x::T, y::T) where T<:Number in Base at promotion.jl:336\n",
       "*(x::Number, y::Number) in Base at promotion.jl:250\n",
       "*(x::Real, r::StepRangeLen{#s45,#s44,S} where S where #s44<:Base.TwicePrecision where #s45<:Real) in Base at twiceprecision.jl:226\n",
       "*(x::Number, r::StepRangeLen) in Base at range.jl:743\n",
       "*(x::Number, r::LinSpace) in Base at range.jl:744\n",
       "*(x::Number, r::Range) in Base at range.jl:742\n",
       "*(r::StepRangeLen{#s45,#s44,S} where S where #s44<:Base.TwicePrecision where #s45<:Real, x::Real) in Base at twiceprecision.jl:228\n",
       "*(r::StepRangeLen, x::Number) in Base at range.jl:747\n",
       "*(r::LinSpace, x::Number) in Base at range.jl:748\n",
       "*(r::Base.Use_StepRangeLen_Instead, x::Real) in Base at deprecated.jl:1236\n",
       "*(r::Range, x::Number) in Base at range.jl:746\n",
       "*(x::Base.TwicePrecision, v::Integer) in Base at twiceprecision.jl:470\n",
       "*(x::Base.TwicePrecision{R}, v::S) where {S<:Number, R} in Base at twiceprecision.jl:488\n",
       "*(v::Number, x::Base.TwicePrecision) in Base at twiceprecision.jl:492\n",
       "*(rowvec::RowVector{T,CV} where CV<:(ConjArray{T,1,V} where V<:(AbstractArray{T,1} where T) where T), vec::AbstractArray{T,1}) where T<:Real in Base.LinAlg at linalg/rowvector.jl:171\n",
       "*(rowvec::RowVector{T,V} where V<:(AbstractArray{T,1} where T), vec::AbstractArray{T,1}) where T<:Real in Base.LinAlg at linalg/rowvector.jl:170\n",
       "*(rowvec::RowVector{T,CV} where CV<:(ConjArray{T,1,V} where V<:(AbstractArray{T,1} where T) where T) where T, vec::AbstractArray{T,1} where T) in Base.LinAlg at linalg/rowvector.jl:172\n",
       "*(::RowVector, ::RowVector) in Base.LinAlg at linalg/rowvector.jl:182\n",
       "*(rowvec::RowVector, A::Base.LinAlg.AbstractTriangular) in Base.LinAlg at linalg/triangular.jl:1684\n",
       "*(rowvec::RowVector, D::Diagonal) in Base.LinAlg at linalg/diagonal.jl:270\n",
       "*(rowvec::RowVector, vec::AbstractArray{T,1} where T) in Base.LinAlg at linalg/rowvector.jl:176\n",
       "*(rowvec::RowVector, mat::AbstractArray{T,2} where T) in Base.LinAlg at linalg/rowvector.jl:181\n",
       "*(A::Union{Base.ReshapedArray{T,2,A,MI} where MI<:Tuple{Vararg{Base.MultiplicativeInverses.SignedMultiplicativeInverse{Int64},N} where N} where A<:Union{DenseArray, SubArray{T,N,P,I,true} where I<:Tuple{Union{Base.Slice, UnitRange},Vararg{Any,N} where N} where P where N where T}, DenseArray{T,2}, SubArray{T,2,A,I,L} where L} where I<:Tuple{Vararg{Union{Base.AbstractCartesianIndex, Int64, Range{Int64}},N} where N} where A<:Union{Base.ReshapedArray{T,N,A,MI} where MI<:Tuple{Vararg{Base.MultiplicativeInverses.SignedMultiplicativeInverse{Int64},N} where N} where A<:Union{DenseArray, SubArray{T,N,P,I,true} where I<:Tuple{Union{Base.Slice, UnitRange},Vararg{Any,N} where N} where P where N where T} where N where T, DenseArray}, x::Union{Base.ReshapedArray{S,1,A,MI} where MI<:Tuple{Vararg{Base.MultiplicativeInverses.SignedMultiplicativeInverse{Int64},N} where N} where A<:Union{DenseArray, SubArray{T,N,P,I,true} where I<:Tuple{Union{Base.Slice, UnitRange},Vararg{Any,N} where N} where P where N where T}, DenseArray{S,1}, SubArray{S,1,A,I,L} where L} where I<:Tuple{Vararg{Union{Base.AbstractCartesianIndex, Int64, Range{Int64}},N} where N} where A<:Union{Base.ReshapedArray{T,N,A,MI} where MI<:Tuple{Vararg{Base.MultiplicativeInverses.SignedMultiplicativeInverse{Int64},N} where N} where A<:Union{DenseArray, SubArray{T,N,P,I,true} where I<:Tuple{Union{Base.Slice, UnitRange},Vararg{Any,N} where N} where P where N where T} where N where T, DenseArray}) where {T<:Union{Complex{Float32}, Complex{Float64}, Float32, Float64}, S} in Base.LinAlg at linalg/matmul.jl:74\n",
       "*(A::SymTridiagonal, B::Number) in Base.LinAlg at linalg/tridiag.jl:130\n",
       "*(A::Tridiagonal, B::Number) in Base.LinAlg at linalg/tridiag.jl:626\n",
       "*(A::UpperTriangular, x::Number) in Base.LinAlg at linalg/triangular.jl:576\n",
       "*(A::Base.LinAlg.UnitUpperTriangular, x::Number) in Base.LinAlg at linalg/triangular.jl:579\n",
       "*(A::LowerTriangular, x::Number) in Base.LinAlg at linalg/triangular.jl:576\n",
       "*(A::Base.LinAlg.UnitLowerTriangular, x::Number) in Base.LinAlg at linalg/triangular.jl:579\n",
       "*(A::Tridiagonal, B::UpperTriangular) in Base.LinAlg at linalg/triangular.jl:1430\n",
       "*(A::Tridiagonal, B::Base.LinAlg.UnitUpperTriangular) in Base.LinAlg at linalg/triangular.jl:1430\n",
       "*(A::Tridiagonal, B::LowerTriangular) in Base.LinAlg at linalg/triangular.jl:1430\n",
       "*(A::Tridiagonal, B::Base.LinAlg.UnitLowerTriangular) in Base.LinAlg at linalg/triangular.jl:1430\n",
       "*(A::LowerTriangular, B::LowerTriangular) in Base.LinAlg at linalg/triangular.jl:1437\n",
       "*(A::Base.LinAlg.UnitLowerTriangular, B::LowerTriangular) in Base.LinAlg at linalg/triangular.jl:1445\n",
       "*(A::UpperTriangular, B::UpperTriangular) in Base.LinAlg at linalg/triangular.jl:1453\n",
       "*(A::Base.LinAlg.UnitUpperTriangular, B::UpperTriangular) in Base.LinAlg at linalg/triangular.jl:1461\n",
       "*(A::Base.LinAlg.AbstractTriangular, B::Base.LinAlg.AbstractTriangular) in Base.LinAlg at linalg/triangular.jl:1578\n",
       "*(A::Base.LinAlg.AbstractTriangular, D::Diagonal) in Base.LinAlg at linalg/diagonal.jl:149\n",
       "*(A::Base.LinAlg.AbstractTriangular, B::Union{Bidiagonal, SymTridiagonal, Tridiagonal}) in Base.LinAlg at linalg/bidiag.jl:498\n",
       "*(A::Base.LinAlg.AbstractTriangular, B::AbstractArray{T,1} where T) in Base.LinAlg at linalg/triangular.jl:1602\n",
       "*(A::Base.LinAlg.AbstractTriangular, B::AbstractArray{T,2} where T) in Base.LinAlg at linalg/triangular.jl:1602\n",
       "*(A::Union{Base.LinAlg.QRCompactWYQ, Base.LinAlg.QRPackedQ}, b::Union{Base.ReshapedArray{T,1,A,MI} where MI<:Tuple{Vararg{Base.MultiplicativeInverses.SignedMultiplicativeInverse{Int64},N} where N} where A<:Union{DenseArray, SubArray{T,N,P,I,true} where I<:Tuple{Union{Base.Slice, UnitRange},Vararg{Any,N} where N} where P where N where T}, DenseArray{T,1}, SubArray{T,1,A,I,L} where L} where I<:Tuple{Vararg{Union{Base.AbstractCartesianIndex, Int64, Range{Int64}},N} where N} where A<:Union{Base.ReshapedArray{T,N,A,MI} where MI<:Tuple{Vararg{Base.MultiplicativeInverses.SignedMultiplicativeInverse{Int64},N} where N} where A<:Union{DenseArray, SubArray{T,N,P,I,true} where I<:Tuple{Union{Base.Slice, UnitRange},Vararg{Any,N} where N} where P where N where T} where N where T, DenseArray} where T) in Base.LinAlg at linalg/qr.jl:527\n",
       "*(A::Union{Base.LinAlg.QRCompactWYQ, Base.LinAlg.QRPackedQ}, B::Union{Base.ReshapedArray{T,2,A,MI} where MI<:Tuple{Vararg{Base.MultiplicativeInverses.SignedMultiplicativeInverse{Int64},N} where N} where A<:Union{DenseArray, SubArray{T,N,P,I,true} where I<:Tuple{Union{Base.Slice, UnitRange},Vararg{Any,N} where N} where P where N where T}, DenseArray{T,2}, SubArray{T,2,A,I,L} where L} where I<:Tuple{Vararg{Union{Base.AbstractCartesianIndex, Int64, Range{Int64}},N} where N} where A<:Union{Base.ReshapedArray{T,N,A,MI} where MI<:Tuple{Vararg{Base.MultiplicativeInverses.SignedMultiplicativeInverse{Int64},N} where N} where A<:Union{DenseArray, SubArray{T,N,P,I,true} where I<:Tuple{Union{Base.Slice, UnitRange},Vararg{Any,N} where N} where P where N where T} where N where T, DenseArray} where T) in Base.LinAlg at linalg/qr.jl:539\n",
       "*(A::Union{Base.ReshapedArray{T,2,A,MI} where MI<:Tuple{Vararg{Base.MultiplicativeInverses.SignedMultiplicativeInverse{Int64},N} where N} where A<:Union{DenseArray, SubArray{T,N,P,I,true} where I<:Tuple{Union{Base.Slice, UnitRange},Vararg{Any,N} where N} where P where N where T}, DenseArray{T,2}, SubArray{T,2,A,I,L} where L} where I<:Tuple{Vararg{Union{Base.AbstractCartesianIndex, Int64, Range{Int64}},N} where N} where A<:Union{Base.ReshapedArray{T,N,A,MI} where MI<:Tuple{Vararg{Base.MultiplicativeInverses.SignedMultiplicativeInverse{Int64},N} where N} where A<:Union{DenseArray, SubArray{T,N,P,I,true} where I<:Tuple{Union{Base.Slice, UnitRange},Vararg{Any,N} where N} where P where N where T} where N where T, DenseArray} where T, Q::Union{Base.LinAlg.QRCompactWYQ, Base.LinAlg.QRPackedQ}) in Base.LinAlg at linalg/qr.jl:627\n",
       "*(Q::Base.LinAlg.HessenbergQ{T,S} where S<:(AbstractArray{T,2} where T), X::Union{Union{Base.ReshapedArray{S,1,A,MI} where MI<:Tuple{Vararg{Base.MultiplicativeInverses.SignedMultiplicativeInverse{Int64},N} where N} where A<:Union{DenseArray, SubArray{T,N,P,I,true} where I<:Tuple{Union{Base.Slice, UnitRange},Vararg{Any,N} where N} where P where N where T}, DenseArray{S,1}, SubArray{S,1,A,I,L} where L} where I<:Tuple{Vararg{Union{Base.AbstractCartesianIndex, Int64, Range{Int64}},N} where N} where A<:Union{Base.ReshapedArray{T,N,A,MI} where MI<:Tuple{Vararg{Base.MultiplicativeInverses.SignedMultiplicativeInverse{Int64},N} where N} where A<:Union{DenseArray, SubArray{T,N,P,I,true} where I<:Tuple{Union{Base.Slice, UnitRange},Vararg{Any,N} where N} where P where N where T} where N where T, DenseArray}, Union{Base.ReshapedArray{S,2,A,MI} where MI<:Tuple{Vararg{Base.MultiplicativeInverses.SignedMultiplicativeInverse{Int64},N} where N} where A<:Union{DenseArray, SubArray{T,N,P,I,true} where I<:Tuple{Union{Base.Slice, UnitRange},Vararg{Any,N} where N} where P where N where T}, DenseArray{S,2}, SubArray{S,2,A,I,L} where L} where I<:Tuple{Vararg{Union{Base.AbstractCartesianIndex, Int64, Range{Int64}},N} where N} where A<:Union{Base.ReshapedArray{T,N,A,MI} where MI<:Tuple{Vararg{Base.MultiplicativeInverses.SignedMultiplicativeInverse{Int64},N} where N} where A<:Union{DenseArray, SubArray{T,N,P,I,true} where I<:Tuple{Union{Base.Slice, UnitRange},Vararg{Any,N} where N} where P where N where T} where N where T, DenseArray}}) where {T, S} in Base.LinAlg at linalg/hessenberg.jl:101\n",
       "*(X::Union{Union{Base.ReshapedArray{S,1,A,MI} where MI<:Tuple{Vararg{Base.MultiplicativeInverses.SignedMultiplicativeInverse{Int64},N} where N} where A<:Union{DenseArray, SubArray{T,N,P,I,true} where I<:Tuple{Union{Base.Slice, UnitRange},Vararg{Any,N} where N} where P where N where T}, DenseArray{S,1}, SubArray{S,1,A,I,L} where L} where I<:Tuple{Vararg{Union{Base.AbstractCartesianIndex, Int64, Range{Int64}},N} where N} where A<:Union{Base.ReshapedArray{T,N,A,MI} where MI<:Tuple{Vararg{Base.MultiplicativeInverses.SignedMultiplicativeInverse{Int64},N} where N} where A<:Union{DenseArray, SubArray{T,N,P,I,true} where I<:Tuple{Union{Base.Slice, UnitRange},Vararg{Any,N} where N} where P where N where T} where N where T, DenseArray}, Union{Base.ReshapedArray{S,2,A,MI} where MI<:Tuple{Vararg{Base.MultiplicativeInverses.SignedMultiplicativeInverse{Int64},N} where N} where A<:Union{DenseArray, SubArray{T,N,P,I,true} where I<:Tuple{Union{Base.Slice, UnitRange},Vararg{Any,N} where N} where P where N where T}, DenseArray{S,2}, SubArray{S,2,A,I,L} where L} where I<:Tuple{Vararg{Union{Base.AbstractCartesianIndex, Int64, Range{Int64}},N} where N} where A<:Union{Base.ReshapedArray{T,N,A,MI} where MI<:Tuple{Vararg{Base.MultiplicativeInverses.SignedMultiplicativeInverse{Int64},N} where N} where A<:Union{DenseArray, SubArray{T,N,P,I,true} where I<:Tuple{Union{Base.Slice, UnitRange},Vararg{Any,N} where N} where P where N where T} where N where T, DenseArray}}, Q::Base.LinAlg.HessenbergQ{T,S} where S<:(AbstractArray{T,2} where T)) where {T, S} in Base.LinAlg at linalg/hessenberg.jl:105\n",
       "*(A::Base.LinAlg.LQPackedQ, B::Union{Union{Base.ReshapedArray{T,1,A,MI} where MI<:Tuple{Vararg{Base.MultiplicativeInverses.SignedMultiplicativeInverse{Int64},N} where N} where A<:Union{DenseArray, SubArray{T,N,P,I,true} where I<:Tuple{Union{Base.Slice, UnitRange},Vararg{Any,N} where N} where P where N where T}, DenseArray{T,1}, SubArray{T,1,A,I,L} where L} where I<:Tuple{Vararg{Union{Base.AbstractCartesianIndex, Int64, Range{Int64}},N} where N} where A<:Union{Base.ReshapedArray{T,N,A,MI} where MI<:Tuple{Vararg{Base.MultiplicativeInverses.SignedMultiplicativeInverse{Int64},N} where N} where A<:Union{DenseArray, SubArray{T,N,P,I,true} where I<:Tuple{Union{Base.Slice, UnitRange},Vararg{Any,N} where N} where P where N where T} where N where T, DenseArray}, Union{Base.ReshapedArray{T,2,A,MI} where MI<:Tuple{Vararg{Base.MultiplicativeInverses.SignedMultiplicativeInverse{Int64},N} where N} where A<:Union{DenseArray, SubArray{T,N,P,I,true} where I<:Tuple{Union{Base.Slice, UnitRange},Vararg{Any,N} where N} where P where N where T}, DenseArray{T,2}, SubArray{T,2,A,I,L} where L} where I<:Tuple{Vararg{Union{Base.AbstractCartesianIndex, Int64, Range{Int64}},N} where N} where A<:Union{Base.ReshapedArray{T,N,A,MI} where MI<:Tuple{Vararg{Base.MultiplicativeInverses.SignedMultiplicativeInverse{Int64},N} where N} where A<:Union{DenseArray, SubArray{T,N,P,I,true} where I<:Tuple{Union{Base.Slice, UnitRange},Vararg{Any,N} where N} where P where N where T} where N where T, DenseArray}} where T) in Base.LinAlg at linalg/lq.jl:137\n",
       "*(A::Union{Base.ReshapedArray{TA,2,A,MI} where MI<:Tuple{Vararg{Base.MultiplicativeInverses.SignedMultiplicativeInverse{Int64},N} where N} where A<:Union{DenseArray, SubArray{T,N,P,I,true} where I<:Tuple{Union{Base.Slice, UnitRange},Vararg{Any,N} where N} where P where N where T}, DenseArray{TA,2}, SubArray{TA,2,A,I,L} where L} where I<:Tuple{Vararg{Union{Base.AbstractCartesianIndex, Int64, Range{Int64}},N} where N} where A<:Union{Base.ReshapedArray{T,N,A,MI} where MI<:Tuple{Vararg{Base.MultiplicativeInverses.SignedMultiplicativeInverse{Int64},N} where N} where A<:Union{DenseArray, SubArray{T,N,P,I,true} where I<:Tuple{Union{Base.Slice, UnitRange},Vararg{Any,N} where N} where P where N where T} where N where T, DenseArray}, B::Base.LinAlg.LQPackedQ{TB,S} where S<:(AbstractArray{T,2} where T)) where {TA, TB} in Base.LinAlg at linalg/lq.jl:171\n",
       "*(A::Union{Hermitian{T,S}, Symmetric{T,S}} where S where T, B::Union{Hermitian{T,S}, Symmetric{T,S}} where S where T) in Base.LinAlg at linalg/symmetric.jl:269\n",
       "*(A::Union{Base.ReshapedArray{T,2,A,MI} where MI<:Tuple{Vararg{Base.MultiplicativeInverses.SignedMultiplicativeInverse{Int64},N} where N} where A<:Union{DenseArray, SubArray{T,N,P,I,true} where I<:Tuple{Union{Base.Slice, UnitRange},Vararg{Any,N} where N} where P where N where T}, DenseArray{T,2}, SubArray{T,2,A,I,L} where L} where I<:Tuple{Vararg{Union{Base.AbstractCartesianIndex, Int64, Range{Int64}},N} where N} where A<:Union{Base.ReshapedArray{T,N,A,MI} where MI<:Tuple{Vararg{Base.MultiplicativeInverses.SignedMultiplicativeInverse{Int64},N} where N} where A<:Union{DenseArray, SubArray{T,N,P,I,true} where I<:Tuple{Union{Base.Slice, UnitRange},Vararg{Any,N} where N} where P where N where T} where N where T, DenseArray} where T, B::Union{Hermitian{T,S}, Symmetric{T,S}} where S where T) in Base.LinAlg at linalg/symmetric.jl:270\n",
       "*(A::Symmetric, x::Bool) in Base.LinAlg at linalg/symmetric.jl:274\n",
       "*(A::Symmetric, x::Number) in Base.LinAlg at linalg/symmetric.jl:276\n",
       "*(A::Hermitian, x::Bool) in Base.LinAlg at linalg/symmetric.jl:274\n",
       "*(A::Hermitian, x::Real) in Base.LinAlg at linalg/symmetric.jl:276\n",
       "*(D::Diagonal, x::Number) in Base.LinAlg at linalg/diagonal.jl:144\n",
       "*(Da::Diagonal, Db::Diagonal) in Base.LinAlg at linalg/diagonal.jl:146\n",
       "*(D::Diagonal, B::Base.LinAlg.AbstractTriangular) in Base.LinAlg at linalg/diagonal.jl:150\n",
       "*(D::Diagonal, A::SparseMatrixCSC) in Base.SparseArrays at sparse/linalg.jl:114\n",
       "*(D::Diagonal, V::AbstractArray{T,1} where T) in Base.LinAlg at linalg/diagonal.jl:147\n",
       "*(D::Diagonal, A::AbstractArray{T,2} where T) in Base.LinAlg at linalg/diagonal.jl:154\n",
       "*(A::Bidiagonal, B::Number) in Base.LinAlg at linalg/bidiag.jl:346\n",
       "*(A::Union{Bidiagonal, SymTridiagonal, Tridiagonal}, B::Union{Bidiagonal, SymTridiagonal, Tridiagonal}) in Base.LinAlg at linalg/bidiag.jl:499\n",
       "*(A::Bidiagonal{T}, B::AbstractArray{T,1}) where T in Base.LinAlg at linalg/bidiag.jl:503\n",
       "*(X::Union{Base.ReshapedArray{P,N,A,MI} where MI<:Tuple{Vararg{Base.MultiplicativeInverses.SignedMultiplicativeInverse{Int64},N} where N} where A<:Union{DenseArray, SubArray{T,N,P,I,true} where I<:Tuple{Union{Base.Slice, UnitRange},Vararg{Any,N} where N} where P where N where T}, DenseArray{P,N}, SubArray{P,N,A,I,L} where L} where I<:Tuple{Vararg{Union{Base.AbstractCartesianIndex, Int64, Range{Int64}},N} where N} where A<:Union{Base.ReshapedArray{T,N,A,MI} where MI<:Tuple{Vararg{Base.MultiplicativeInverses.SignedMultiplicativeInverse{Int64},N} where N} where A<:Union{DenseArray, SubArray{T,N,P,I,true} where I<:Tuple{Union{Base.Slice, UnitRange},Vararg{Any,N} where N} where P where N where T} where N where T, DenseArray} where N, y::Real) where P<:Base.Dates.Period in Base.Dates at dates/periods.jl:93\n",
       "*(x::AbstractSparseArray{Tv,Ti,1} where Ti where Tv, a::Number) in Base.SparseArrays at sparse/sparsevector.jl:1447\n",
       "*(X::Union{Base.ReshapedArray{TX,2,A,MI} where MI<:Tuple{Vararg{Base.MultiplicativeInverses.SignedMultiplicativeInverse{Int64},N} where N} where A<:Union{DenseArray, SubArray{T,N,P,I,true} where I<:Tuple{Union{Base.Slice, UnitRange},Vararg{Any,N} where N} where P where N where T}, DenseArray{TX,2}, SubArray{TX,2,A,I,L} where L} where I<:Tuple{Vararg{Union{Base.AbstractCartesianIndex, Int64, Range{Int64}},N} where N} where A<:Union{Base.ReshapedArray{T,N,A,MI} where MI<:Tuple{Vararg{Base.MultiplicativeInverses.SignedMultiplicativeInverse{Int64},N} where N} where A<:Union{DenseArray, SubArray{T,N,P,I,true} where I<:Tuple{Union{Base.Slice, UnitRange},Vararg{Any,N} where N} where P where N where T} where N where T, DenseArray}, A::SparseMatrixCSC{TvA,TiA}) where {TX, TvA, TiA} in Base.SparseArrays at sparse/linalg.jl:102\n",
       "*(A::Union{Base.ReshapedArray{Ta,2,A,MI} where MI<:Tuple{Vararg{Base.MultiplicativeInverses.SignedMultiplicativeInverse{Int64},N} where N} where A<:Union{DenseArray, SubArray{T,N,P,I,true} where I<:Tuple{Union{Base.Slice, UnitRange},Vararg{Any,N} where N} where P where N where T}, DenseArray{Ta,2}, SubArray{Ta,2,A,I,L} where L} where I<:Tuple{Vararg{Union{Base.AbstractCartesianIndex, Int64, Range{Int64}},N} where N} where A<:Union{Base.ReshapedArray{T,N,A,MI} where MI<:Tuple{Vararg{Base.MultiplicativeInverses.SignedMultiplicativeInverse{Int64},N} where N} where A<:Union{DenseArray, SubArray{T,N,P,I,true} where I<:Tuple{Union{Base.Slice, UnitRange},Vararg{Any,N} where N} where P where N where T} where N where T, DenseArray}, x::AbstractSparseArray{Tx,Ti,1} where Ti) where {Ta, Tx} in Base.SparseArrays at sparse/sparsevector.jl:1522\n",
       "*(A::SparseMatrixCSC, x::AbstractSparseArray{Tv,Ti,1} where Ti where Tv) in Base.SparseArrays at sparse/sparsevector.jl:1700\n",
       "*(A::SparseMatrixCSC{Tv,Ti}, B::SparseMatrixCSC{Tv,Ti}) where {Tv, Ti} in Base.SparseArrays at sparse/linalg.jl:125\n",
       "*(A::SparseMatrixCSC{TvA,TiA}, B::SparseMatrixCSC{TvB,TiB}) where {TvA, TiA, TvB, TiB} in Base.SparseArrays at sparse/linalg.jl:24\n",
       "*(A::SparseMatrixCSC, D::Diagonal) in Base.SparseArrays at sparse/linalg.jl:118\n",
       "*(A::Base.SparseArrays.CHOLMOD.Sparse, B::Base.SparseArrays.CHOLMOD.Sparse) in Base.SparseArrays.CHOLMOD at sparse/cholmod.jl:1286\n",
       "*(A::Base.SparseArrays.CHOLMOD.Sparse, B::Base.SparseArrays.CHOLMOD.Dense) in Base.SparseArrays.CHOLMOD at sparse/cholmod.jl:1287\n",
       "*(A::Base.SparseArrays.CHOLMOD.Sparse, B::Union{Array{T,1}, Array{T,2}} where T) in Base.SparseArrays.CHOLMOD at sparse/cholmod.jl:1288\n",
       "*(A::Symmetric{Float64,SparseMatrixCSC{Float64,Ti}}, B::Union{SparseMatrixCSC{Float64,Ti}, SparseVector{Float64,Ti}}) where Ti in Base.SparseArrays.CHOLMOD at sparse/cholmod.jl:1712\n",
       "*(A::Hermitian{Complex{Float64},SparseMatrixCSC{Complex{Float64},Ti}}, B::Union{SparseMatrixCSC{Complex{Float64},Ti}, SparseVector{Complex{Float64},Ti}}) where Ti in Base.SparseArrays.CHOLMOD at sparse/cholmod.jl:1714\n",
       "*(A::Hermitian{Float64,SparseMatrixCSC{Float64,Ti}}, B::Union{SparseMatrixCSC{Float64,Ti}, SparseVector{Float64,Ti}}) where Ti in Base.SparseArrays.CHOLMOD at sparse/cholmod.jl:1716\n",
       "*(A::Union{SparseMatrixCSC{Float64,Ti}, SparseVector{Float64,Ti}}, B::Symmetric{Float64,SparseMatrixCSC{Float64,Ti}}) where Ti in Base.SparseArrays.CHOLMOD at sparse/cholmod.jl:1719\n",
       "*(A::Union{SparseMatrixCSC{Complex{Float64},Ti}, SparseVector{Complex{Float64},Ti}}, B::Hermitian{Complex{Float64},SparseMatrixCSC{Complex{Float64},Ti}}) where Ti in Base.SparseArrays.CHOLMOD at sparse/cholmod.jl:1721\n",
       "*(A::Union{SparseMatrixCSC{Float64,Ti}, SparseVector{Float64,Ti}}, B::Hermitian{Float64,SparseMatrixCSC{Float64,Ti}}) where Ti in Base.SparseArrays.CHOLMOD at sparse/cholmod.jl:1723\n",
       "*(x::AbstractArray{#s45,2} where #s45<:Number) in Base at abstractarraymath.jl:96\n",
       "*(B::Number, A::SymTridiagonal) in Base.LinAlg at linalg/tridiag.jl:131\n",
       "*(B::Number, A::Tridiagonal) in Base.LinAlg at linalg/tridiag.jl:627\n",
       "*(x::Number, A::UpperTriangular) in Base.LinAlg at linalg/triangular.jl:586\n",
       "*(x::Number, A::Base.LinAlg.UnitUpperTriangular) in Base.LinAlg at linalg/triangular.jl:589\n",
       "*(x::Number, A::LowerTriangular) in Base.LinAlg at linalg/triangular.jl:586\n",
       "*(x::Number, A::Base.LinAlg.UnitLowerTriangular) in Base.LinAlg at linalg/triangular.jl:589\n",
       "*(x::Number, D::Diagonal) in Base.LinAlg at linalg/diagonal.jl:143\n",
       "*(B::Number, A::Bidiagonal) in Base.LinAlg at linalg/bidiag.jl:347\n",
       "*(a::Number, x::AbstractSparseArray{Tv,Ti,1} where Ti where Tv) in Base.SparseArrays at sparse/sparsevector.jl:1448\n",
       "*(A::Number, B::AbstractArray) in Base at arraymath.jl:45\n",
       "*(A::AbstractArray, B::Number) in Base at arraymath.jl:48\n",
       "*(s1::AbstractString, ss::AbstractString...) in Base at strings/basic.jl:74\n",
       "*(index::CartesianIndex, a::Integer) in Base.IteratorsMD at multidimensional.jl:115\n",
       "*(vec::AbstractArray{T,1} where T, rowvec::RowVector) in Base.LinAlg at linalg/rowvector.jl:183\n",
       "*(vec::AbstractArray{T,1} where T, rowvec::AbstractArray{T,1} where T) in Base.LinAlg at linalg/rowvector.jl:184\n",
       "*(A::AbstractArray{T,2} where T, B::Base.LinAlg.AbstractTriangular) in Base.LinAlg at linalg/triangular.jl:1635\n",
       "*(A::AbstractArray{T,2} where T, D::Diagonal) in Base.LinAlg at linalg/diagonal.jl:152\n",
       "*(A::AbstractArray{T,2}, x::AbstractArray{S,1}) where {T, S} in Base.LinAlg at linalg/matmul.jl:78\n",
       "*(a::AbstractArray{T,1} where T, B::AbstractArray{T,2} where T) in Base.LinAlg at linalg/matmul.jl:87\n",
       "*(A::AbstractArray{T,2}, B::AbstractArray{S,2}) where {T, S} in Base.LinAlg at linalg/matmul.jl:145\n",
       "*(A::Base.LinAlg.LQ{TA,S} where S<:(AbstractArray{T,2} where T), B::Union{Union{Base.ReshapedArray{TB,1,A,MI} where MI<:Tuple{Vararg{Base.MultiplicativeInverses.SignedMultiplicativeInverse{Int64},N} where N} where A<:Union{DenseArray, SubArray{T,N,P,I,true} where I<:Tuple{Union{Base.Slice, UnitRange},Vararg{Any,N} where N} where P where N where T}, DenseArray{TB,1}, SubArray{TB,1,A,I,L} where L} where I<:Tuple{Vararg{Union{Base.AbstractCartesianIndex, Int64, Range{Int64}},N} where N} where A<:Union{Base.ReshapedArray{T,N,A,MI} where MI<:Tuple{Vararg{Base.MultiplicativeInverses.SignedMultiplicativeInverse{Int64},N} where N} where A<:Union{DenseArray, SubArray{T,N,P,I,true} where I<:Tuple{Union{Base.Slice, UnitRange},Vararg{Any,N} where N} where P where N where T} where N where T, DenseArray}, Union{Base.ReshapedArray{TB,2,A,MI} where MI<:Tuple{Vararg{Base.MultiplicativeInverses.SignedMultiplicativeInverse{Int64},N} where N} where A<:Union{DenseArray, SubArray{T,N,P,I,true} where I<:Tuple{Union{Base.Slice, UnitRange},Vararg{Any,N} where N} where P where N where T}, DenseArray{TB,2}, SubArray{TB,2,A,I,L} where L} where I<:Tuple{Vararg{Union{Base.AbstractCartesianIndex, Int64, Range{Int64}},N} where N} where A<:Union{Base.ReshapedArray{T,N,A,MI} where MI<:Tuple{Vararg{Base.MultiplicativeInverses.SignedMultiplicativeInverse{Int64},N} where N} where A<:Union{DenseArray, SubArray{T,N,P,I,true} where I<:Tuple{Union{Base.Slice, UnitRange},Vararg{Any,N} where N} where P where N where T} where N where T, DenseArray}}) where {TA, TB} in Base.LinAlg at linalg/lq.jl:121\n",
       "*(A::Base.LinAlg.LQ{TA,S} where S<:(AbstractArray{T,2} where T), B::Base.LinAlg.QR{TB,S} where S<:(AbstractArray{T,2} where T)) where {TA, TB} in Base.LinAlg at linalg/lq.jl:125\n",
       "*(A::Base.LinAlg.QR{TA,S} where S<:(AbstractArray{T,2} where T), B::Base.LinAlg.LQ{TB,S} where S<:(AbstractArray{T,2} where T)) where {TA, TB} in Base.LinAlg at linalg/lq.jl:129\n",
       "*(J1::UniformScaling, J2::UniformScaling) in Base.LinAlg at linalg/uniformscaling.jl:148\n",
       "*(J::UniformScaling, B::BitArray{2}) in Base.LinAlg at linalg/uniformscaling.jl:150\n",
       "*(A::AbstractArray{T,2} where T, J::UniformScaling) in Base.LinAlg at linalg/uniformscaling.jl:151\n",
       "*(J::UniformScaling, A::Union{AbstractArray{T,1}, AbstractArray{T,2}} where T) in Base.LinAlg at linalg/uniformscaling.jl:152\n",
       "*(x::Number, J::UniformScaling) in Base.LinAlg at linalg/uniformscaling.jl:153\n",
       "*(J::UniformScaling, x::Number) in Base.LinAlg at linalg/uniformscaling.jl:154\n",
       "*(R::Base.LinAlg.AbstractRotation{T}, A::Union{AbstractArray{S,1}, AbstractArray{S,2}}) where {T, S} in Base.LinAlg at linalg/givens.jl:9\n",
       "*(G1::Base.LinAlg.Givens{T}, G2::Base.LinAlg.Givens{T}) where T in Base.LinAlg at linalg/givens.jl:363\n",
       "*(p::Base.DFT.ScaledPlan, x::AbstractArray) in Base.DFT at dft.jl:255\n",
       "*(p::Base.DFT.FFTW.cFFTWPlan{T,K,false,N} where N, x::Union{Base.ReshapedArray{T,N,A,MI} where MI<:Tuple{Vararg{Base.MultiplicativeInverses.SignedMultiplicativeInverse{Int64},N} where N} where A<:Union{DenseArray, SubArray{T,N,P,I,true} where I<:Tuple{Union{Base.Slice, UnitRange},Vararg{Any,N} where N} where P where N where T}, DenseArray{T,N}, SubArray{T,N,A,I,L} where L} where I<:Tuple{Vararg{Union{Base.AbstractCartesianIndex, Int64, Range{Int64}},N} where N} where A<:Union{Base.ReshapedArray{T,N,A,MI} where MI<:Tuple{Vararg{Base.MultiplicativeInverses.SignedMultiplicativeInverse{Int64},N} where N} where A<:Union{DenseArray, SubArray{T,N,P,I,true} where I<:Tuple{Union{Base.Slice, UnitRange},Vararg{Any,N} where N} where P where N where T} where N where T, DenseArray}) where {T, K, N} in Base.DFT.FFTW at fft/FFTW.jl:627\n",
       "*(p::Base.DFT.FFTW.cFFTWPlan{T,K,true,N} where N, x::Union{Base.ReshapedArray{T,N,A,MI} where MI<:Tuple{Vararg{Base.MultiplicativeInverses.SignedMultiplicativeInverse{Int64},N} where N} where A<:Union{DenseArray, SubArray{T,N,P,I,true} where I<:Tuple{Union{Base.Slice, UnitRange},Vararg{Any,N} where N} where P where N where T}, DenseArray{T,N}, SubArray{T,N,A,I,L} where L} where I<:Tuple{Vararg{Union{Base.AbstractCartesianIndex, Int64, Range{Int64}},N} where N} where A<:Union{Base.ReshapedArray{T,N,A,MI} where MI<:Tuple{Vararg{Base.MultiplicativeInverses.SignedMultiplicativeInverse{Int64},N} where N} where A<:Union{DenseArray, SubArray{T,N,P,I,true} where I<:Tuple{Union{Base.Slice, UnitRange},Vararg{Any,N} where N} where P where N where T} where N where T, DenseArray} where N) where {T, K} in Base.DFT.FFTW at fft/FFTW.jl:634\n",
       "*(p::Base.DFT.FFTW.rFFTWPlan{Float32,-1,false,N} where N, x::Union{Base.ReshapedArray{Float32,N,A,MI} where MI<:Tuple{Vararg{Base.MultiplicativeInverses.SignedMultiplicativeInverse{Int64},N} where N} where A<:Union{DenseArray, SubArray{T,N,P,I,true} where I<:Tuple{Union{Base.Slice, UnitRange},Vararg{Any,N} where N} where P where N where T}, DenseArray{Float32,N}, SubArray{Float32,N,A,I,L} where L} where I<:Tuple{Vararg{Union{Base.AbstractCartesianIndex, Int64, Range{Int64}},N} where N} where A<:Union{Base.ReshapedArray{T,N,A,MI} where MI<:Tuple{Vararg{Base.MultiplicativeInverses.SignedMultiplicativeInverse{Int64},N} where N} where A<:Union{DenseArray, SubArray{T,N,P,I,true} where I<:Tuple{Union{Base.Slice, UnitRange},Vararg{Any,N} where N} where P where N where T} where N where T, DenseArray}) where N in Base.DFT.FFTW at fft/FFTW.jl:704\n",
       "*(p::Base.DFT.FFTW.rFFTWPlan{Complex{Float32},1,false,N} where N, x::Union{Base.ReshapedArray{Complex{Float32},N,A,MI} where MI<:Tuple{Vararg{Base.MultiplicativeInverses.SignedMultiplicativeInverse{Int64},N} where N} where A<:Union{DenseArray, SubArray{T,N,P,I,true} where I<:Tuple{Union{Base.Slice, UnitRange},Vararg{Any,N} where N} where P where N where T}, DenseArray{Complex{Float32},N}, SubArray{Complex{Float32},N,A,I,L} where L} where I<:Tuple{Vararg{Union{Base.AbstractCartesianIndex, Int64, Range{Int64}},N} where N} where A<:Union{Base.ReshapedArray{T,N,A,MI} where MI<:Tuple{Vararg{Base.MultiplicativeInverses.SignedMultiplicativeInverse{Int64},N} where N} where A<:Union{DenseArray, SubArray{T,N,P,I,true} where I<:Tuple{Union{Base.Slice, UnitRange},Vararg{Any,N} where N} where P where N where T} where N where T, DenseArray}) where N in Base.DFT.FFTW at fft/FFTW.jl:711\n",
       "*(p::Base.DFT.FFTW.rFFTWPlan{Float64,-1,false,N} where N, x::Union{Base.ReshapedArray{Float64,N,A,MI} where MI<:Tuple{Vararg{Base.MultiplicativeInverses.SignedMultiplicativeInverse{Int64},N} where N} where A<:Union{DenseArray, SubArray{T,N,P,I,true} where I<:Tuple{Union{Base.Slice, UnitRange},Vararg{Any,N} where N} where P where N where T}, DenseArray{Float64,N}, SubArray{Float64,N,A,I,L} where L} where I<:Tuple{Vararg{Union{Base.AbstractCartesianIndex, Int64, Range{Int64}},N} where N} where A<:Union{Base.ReshapedArray{T,N,A,MI} where MI<:Tuple{Vararg{Base.MultiplicativeInverses.SignedMultiplicativeInverse{Int64},N} where N} where A<:Union{DenseArray, SubArray{T,N,P,I,true} where I<:Tuple{Union{Base.Slice, UnitRange},Vararg{Any,N} where N} where P where N where T} where N where T, DenseArray}) where N in Base.DFT.FFTW at fft/FFTW.jl:704\n",
       "*(p::Base.DFT.FFTW.rFFTWPlan{Complex{Float64},1,false,N} where N, x::Union{Base.ReshapedArray{Complex{Float64},N,A,MI} where MI<:Tuple{Vararg{Base.MultiplicativeInverses.SignedMultiplicativeInverse{Int64},N} where N} where A<:Union{DenseArray, SubArray{T,N,P,I,true} where I<:Tuple{Union{Base.Slice, UnitRange},Vararg{Any,N} where N} where P where N where T}, DenseArray{Complex{Float64},N}, SubArray{Complex{Float64},N,A,I,L} where L} where I<:Tuple{Vararg{Union{Base.AbstractCartesianIndex, Int64, Range{Int64}},N} where N} where A<:Union{Base.ReshapedArray{T,N,A,MI} where MI<:Tuple{Vararg{Base.MultiplicativeInverses.SignedMultiplicativeInverse{Int64},N} where N} where A<:Union{DenseArray, SubArray{T,N,P,I,true} where I<:Tuple{Union{Base.Slice, UnitRange},Vararg{Any,N} where N} where P where N where T} where N where T, DenseArray}) where N in Base.DFT.FFTW at fft/FFTW.jl:711\n",
       "*(p::Base.DFT.FFTW.r2rFFTWPlan{T,K,false,N} where N, x::Union{Base.ReshapedArray{T,N,A,MI} where MI<:Tuple{Vararg{Base.MultiplicativeInverses.SignedMultiplicativeInverse{Int64},N} where N} where A<:Union{DenseArray, SubArray{T,N,P,I,true} where I<:Tuple{Union{Base.Slice, UnitRange},Vararg{Any,N} where N} where P where N where T}, DenseArray{T,N}, SubArray{T,N,A,I,L} where L} where I<:Tuple{Vararg{Union{Base.AbstractCartesianIndex, Int64, Range{Int64}},N} where N} where A<:Union{Base.ReshapedArray{T,N,A,MI} where MI<:Tuple{Vararg{Base.MultiplicativeInverses.SignedMultiplicativeInverse{Int64},N} where N} where A<:Union{DenseArray, SubArray{T,N,P,I,true} where I<:Tuple{Union{Base.Slice, UnitRange},Vararg{Any,N} where N} where P where N where T} where N where T, DenseArray}) where {T, K, N} in Base.DFT.FFTW at fft/FFTW.jl:790\n",
       "*(p::Base.DFT.FFTW.r2rFFTWPlan{T,K,true,N} where N, x::Union{Base.ReshapedArray{T,N,A,MI} where MI<:Tuple{Vararg{Base.MultiplicativeInverses.SignedMultiplicativeInverse{Int64},N} where N} where A<:Union{DenseArray, SubArray{T,N,P,I,true} where I<:Tuple{Union{Base.Slice, UnitRange},Vararg{Any,N} where N} where P where N where T}, DenseArray{T,N}, SubArray{T,N,A,I,L} where L} where I<:Tuple{Vararg{Union{Base.AbstractCartesianIndex, Int64, Range{Int64}},N} where N} where A<:Union{Base.ReshapedArray{T,N,A,MI} where MI<:Tuple{Vararg{Base.MultiplicativeInverses.SignedMultiplicativeInverse{Int64},N} where N} where A<:Union{DenseArray, SubArray{T,N,P,I,true} where I<:Tuple{Union{Base.Slice, UnitRange},Vararg{Any,N} where N} where P where N where T} where N where T, DenseArray} where N) where {T, K} in Base.DFT.FFTW at fft/FFTW.jl:797\n",
       "*(p::Base.DFT.FFTW.DCTPlan{T,5,false}, x::Union{Base.ReshapedArray{T,N,A,MI} where MI<:Tuple{Vararg{Base.MultiplicativeInverses.SignedMultiplicativeInverse{Int64},N} where N} where A<:Union{DenseArray, SubArray{T,N,P,I,true} where I<:Tuple{Union{Base.Slice, UnitRange},Vararg{Any,N} where N} where P where N where T}, DenseArray{T,N}, SubArray{T,N,A,I,L} where L} where I<:Tuple{Vararg{Union{Base.AbstractCartesianIndex, Int64, Range{Int64}},N} where N} where A<:Union{Base.ReshapedArray{T,N,A,MI} where MI<:Tuple{Vararg{Base.MultiplicativeInverses.SignedMultiplicativeInverse{Int64},N} where N} where A<:Union{DenseArray, SubArray{T,N,P,I,true} where I<:Tuple{Union{Base.Slice, UnitRange},Vararg{Any,N} where N} where P where N where T} where N where T, DenseArray} where N) where T in Base.DFT.FFTW at fft/dct.jl:97\n",
       "*(p::Base.DFT.FFTW.DCTPlan{T,4,false}, x::Union{Base.ReshapedArray{T,N,A,MI} where MI<:Tuple{Vararg{Base.MultiplicativeInverses.SignedMultiplicativeInverse{Int64},N} where N} where A<:Union{DenseArray, SubArray{T,N,P,I,true} where I<:Tuple{Union{Base.Slice, UnitRange},Vararg{Any,N} where N} where P where N where T}, DenseArray{T,N}, SubArray{T,N,A,I,L} where L} where I<:Tuple{Vararg{Union{Base.AbstractCartesianIndex, Int64, Range{Int64}},N} where N} where A<:Union{Base.ReshapedArray{T,N,A,MI} where MI<:Tuple{Vararg{Base.MultiplicativeInverses.SignedMultiplicativeInverse{Int64},N} where N} where A<:Union{DenseArray, SubArray{T,N,P,I,true} where I<:Tuple{Union{Base.Slice, UnitRange},Vararg{Any,N} where N} where P where N where T} where N where T, DenseArray} where N) where T in Base.DFT.FFTW at fft/dct.jl:100\n",
       "*(p::Base.DFT.FFTW.DCTPlan{T,K,true}, x::Union{Base.ReshapedArray{T,N,A,MI} where MI<:Tuple{Vararg{Base.MultiplicativeInverses.SignedMultiplicativeInverse{Int64},N} where N} where A<:Union{DenseArray, SubArray{T,N,P,I,true} where I<:Tuple{Union{Base.Slice, UnitRange},Vararg{Any,N} where N} where P where N where T}, DenseArray{T,N}, SubArray{T,N,A,I,L} where L} where I<:Tuple{Vararg{Union{Base.AbstractCartesianIndex, Int64, Range{Int64}},N} where N} where A<:Union{Base.ReshapedArray{T,N,A,MI} where MI<:Tuple{Vararg{Base.MultiplicativeInverses.SignedMultiplicativeInverse{Int64},N} where N} where A<:Union{DenseArray, SubArray{T,N,P,I,true} where I<:Tuple{Union{Base.Slice, UnitRange},Vararg{Any,N} where N} where P where N where T} where N where T, DenseArray} where N) where {T, K} in Base.DFT.FFTW at fft/dct.jl:103\n",
       "*(p::Base.DFT.Plan{T}, x::AbstractArray) where T in Base.DFT at dft.jl:214\n",
       "*(α::Number, p::Base.DFT.Plan) in Base.DFT at dft.jl:257\n",
       "*(p::Base.DFT.Plan, α::Number) in Base.DFT at dft.jl:258\n",
       "*(I::UniformScaling, p::Base.DFT.ScaledPlan) in Base.DFT at dft.jl:259\n",
       "*(p::Base.DFT.ScaledPlan, I::UniformScaling) in Base.DFT at dft.jl:260\n",
       "*(I::UniformScaling, p::Base.DFT.Plan) in Base.DFT at dft.jl:261\n",
       "*(p::Base.DFT.Plan, I::UniformScaling) in Base.DFT at dft.jl:262\n",
       "*(x::P, y::Real) where P<:Base.Dates.Period in Base.Dates at dates/periods.jl:87\n",
       "*(s1::Union{AbstractString, Char}, ss::Union{AbstractString, Char}...) in Compat at /mnt/juliabox/.julia/v0.6/Compat/src/Compat.jl:759\n",
       "*(a, b, c, xs...) in Base at operators.jl:424"
      ]
     },
     "execution_count": 33,
     "metadata": {},
     "output_type": "execute_result"
    }
   ],
   "source": [
    "methods(*)"
   ]
  },
  {
   "cell_type": "markdown",
   "metadata": {},
   "source": [
    "We can multiply various types of numbers and matrices. Notice, however, that there is no multiplication specifically defined for `Tridiagonal` matrices. This would not make much sense, since the product of two tridiagonal matrices is a pentadiagonal matrix, the product of three tridiagonal matrices is septadiagonal matrix, ...\n",
    "\n",
    "Therefore, two tridiagonal matrices are first converted to full matrices, and then multiplied, as is seen in the source code."
   ]
  },
  {
   "cell_type": "code",
   "execution_count": 34,
   "metadata": {},
   "outputs": [
    {
     "data": {
      "text/plain": [
       "7×7 Array{Float64,2}:\n",
       " -1.81226   -1.13437   -4.68052    0.0        0.0        0.0       0.0     \n",
       " -2.76324   -4.34921   -5.67324   -2.26397    0.0        0.0       0.0     \n",
       " -0.152914   0.917485  -1.47408   -2.64681   -0.87397    0.0       0.0     \n",
       "  0.0        0.0       -0.995814  -8.57305   -6.07593   -2.32858   0.0     \n",
       "  0.0        0.0       -0.813414  -3.38436   -4.62188    5.00954  -0.650699\n",
       "  0.0        0.0        0.0       -0.976591  -2.03668    8.51639   1.94345 \n",
       "  0.0        0.0        0.0        0.0        0.119422   2.31134   1.23655 "
      ]
     },
     "execution_count": 34,
     "metadata": {},
     "output_type": "execute_result"
    }
   ],
   "source": [
    "T1*T2"
   ]
  },
  {
   "cell_type": "code",
   "execution_count": 35,
   "metadata": {},
   "outputs": [
    {
     "data": {
      "text/html": [
       "*(A::<b>Union{Bidiagonal, SymTridiagonal, Tridiagonal}</b>, B::<b>Union{Bidiagonal, SymTridiagonal, Tridiagonal}</b>) at <a href=\"https://github.com/JuliaLang/julia/tree/d386e40c17d43b79fc89d3e579fc04547241787c/base/linalg/bidiag.jl#L499\" target=\"_blank\">linalg/bidiag.jl:499</a>"
      ],
      "text/plain": [
       "*(A::Union{Bidiagonal, SymTridiagonal, Tridiagonal}, B::Union{Bidiagonal, SymTridiagonal, Tridiagonal}) in Base.LinAlg at linalg/bidiag.jl:499"
      ]
     },
     "execution_count": 35,
     "metadata": {},
     "output_type": "execute_result"
    }
   ],
   "source": [
    "@which T1*T2"
   ]
  },
  {
   "cell_type": "code",
   "execution_count": 36,
   "metadata": {},
   "outputs": [
    {
     "data": {
      "text/plain": [
       "7×7 Array{Float64,2}:\n",
       " -2.16677  -2.80098   -1.52869   -0.681773    0.0        0.0        0.0    \n",
       " -5.91446  -6.06419   -4.41376   -1.36172    -1.75728    0.0        0.0    \n",
       "  0.82693   0.378842  -2.13055   -1.55149    -2.11155   -0.568691   0.0    \n",
       "  0.0      -0.152274  -6.76689   -7.11451    -8.18843   -6.03324   -2.2017 \n",
       "  0.0      -0.124383  -2.77979   -4.67826    -0.482814   1.38882    4.44248\n",
       "  0.0       0.0       -0.741575  -1.88759     3.2674     6.51274    8.93079\n",
       "  0.0       0.0        0.0        0.0971396   1.13642    2.28962    2.74431"
      ]
     },
     "execution_count": 36,
     "metadata": {},
     "output_type": "execute_result"
    }
   ],
   "source": [
    "T1*T2*T1"
   ]
  },
  {
   "cell_type": "markdown",
   "metadata": {},
   "source": [
    "### The \"$\\cdot$\" operator"
   ]
  },
  {
   "cell_type": "code",
   "execution_count": 37,
   "metadata": {},
   "outputs": [
    {
     "data": {
      "text/html": [
       "11 methods for generic function <b>dot</b>:<ul><li> dot(x::<b>BitArray{1}</b>, y::<b>BitArray{1}</b>) at <a href=\"https://github.com/JuliaLang/julia/tree/d386e40c17d43b79fc89d3e579fc04547241787c/base/linalg/bitarray.jl#L5\" target=\"_blank\">linalg/bitarray.jl:5</a></li> <li> dot(x::<b>Number</b>, y::<b>Number</b>) at <a href=\"https://github.com/JuliaLang/julia/tree/d386e40c17d43b79fc89d3e579fc04547241787c/base/linalg/generic.jl#L675\" target=\"_blank\">linalg/generic.jl:675</a></li> <li> dot<i>{T<:Union{Float32, Float64}}</i>(DX::<b>Union{DenseArray{T,N} where N, Union{Base.ReshapedArray{T,1,A,MI} where MI<:Tuple{Vararg{Base.MultiplicativeInverses.SignedMultiplicativeInverse{Int64},N} where N} where A<:Union{DenseArray, SubArray{T,N,P,I,true} where I<:Tuple{Union{Base.Slice, UnitRange},Vararg{Any,N} where N} where P where N where T}, DenseArray{T,1}, SubArray{T,1,A,I,L} where L} where I<:Tuple{Vararg{Union{Base.AbstractCartesianIndex, Int64, Range{Int64}},N} where N} where A<:Union{Base.ReshapedArray{T,N,A,MI} where MI<:Tuple{Vararg{Base.MultiplicativeInverses.SignedMultiplicativeInverse{Int64},N} where N} where A<:Union{DenseArray, SubArray{T,N,P,I,true} where I<:Tuple{Union{Base.Slice, UnitRange},Vararg{Any,N} where N} where P where N where T} where N where T, DenseArray}}</b>, DY::<b>Union{DenseArray{T,N} where N, Union{Base.ReshapedArray{T,1,A,MI} where MI<:Tuple{Vararg{Base.MultiplicativeInverses.SignedMultiplicativeInverse{Int64},N} where N} where A<:Union{DenseArray, SubArray{T,N,P,I,true} where I<:Tuple{Union{Base.Slice, UnitRange},Vararg{Any,N} where N} where P where N where T}, DenseArray{T,1}, SubArray{T,1,A,I,L} where L} where I<:Tuple{Vararg{Union{Base.AbstractCartesianIndex, Int64, Range{Int64}},N} where N} where A<:Union{Base.ReshapedArray{T,N,A,MI} where MI<:Tuple{Vararg{Base.MultiplicativeInverses.SignedMultiplicativeInverse{Int64},N} where N} where A<:Union{DenseArray, SubArray{T,N,P,I,true} where I<:Tuple{Union{Base.Slice, UnitRange},Vararg{Any,N} where N} where P where N where T} where N where T, DenseArray}}</b>) at <a href=\"https://github.com/JuliaLang/julia/tree/d386e40c17d43b79fc89d3e579fc04547241787c/base/linalg/blas.jl#L309\" target=\"_blank\">linalg/blas.jl:309</a></li> <li> dot<i>{T<:Union{Float32, Float64}, TI<:Integer}</i>(x::<b>Array{T,1}</b>, rx::<b>Union{Range{TI}, UnitRange{TI}}</b>, y::<b>Array{T,1}</b>, ry::<b>Union{Range{TI}, UnitRange{TI}}</b>) at <a href=\"https://github.com/JuliaLang/julia/tree/d386e40c17d43b79fc89d3e579fc04547241787c/base/linalg/matmul.jl#L45\" target=\"_blank\">linalg/matmul.jl:45</a></li> <li> dot<i>{T<:Union{Complex{Float32}, Complex{Float64}}, TI<:Integer}</i>(x::<b>Array{T,1}</b>, rx::<b>Union{Range{TI}, UnitRange{TI}}</b>, y::<b>Array{T,1}</b>, ry::<b>Union{Range{TI}, UnitRange{TI}}</b>) at <a href=\"https://github.com/JuliaLang/julia/tree/d386e40c17d43b79fc89d3e579fc04547241787c/base/linalg/matmul.jl#L58\" target=\"_blank\">linalg/matmul.jl:58</a></li> <li> dot<i>{Tx<:Number, Ty<:Number}</i>(x::<b>Union{Base.ReshapedArray{Tx,1,A,MI} where MI<:Tuple{Vararg{Base.MultiplicativeInverses.SignedMultiplicativeInverse{Int64},N} where N} where A<:Union{DenseArray, SubArray{T,N,P,I,true} where I<:Tuple{Union{Base.Slice, UnitRange},Vararg{Any,N} where N} where P where N where T}, DenseArray{Tx,1}, SubArray{Tx,1,A,I,L} where L} where I<:Tuple{Vararg{Union{Base.AbstractCartesianIndex, Int64, Range{Int64}},N} where N} where A<:Union{Base.ReshapedArray{T,N,A,MI} where MI<:Tuple{Vararg{Base.MultiplicativeInverses.SignedMultiplicativeInverse{Int64},N} where N} where A<:Union{DenseArray, SubArray{T,N,P,I,true} where I<:Tuple{Union{Base.Slice, UnitRange},Vararg{Any,N} where N} where P where N where T} where N where T, DenseArray}</b>, y::<b>AbstractSparseArray{Ty,Ti,1} where Ti</b>) at <a href=\"https://github.com/JuliaLang/julia/tree/d386e40c17d43b79fc89d3e579fc04547241787c/base/sparse/sparsevector.jl#L1457\" target=\"_blank\">sparse/sparsevector.jl:1457</a></li> <li> dot(x::<b>AbstractSparseArray{#s268,Ti,1} where Ti where #s268<:Number</b>, y::<b>AbstractSparseArray{#s267,Ti,1} where Ti where #s267<:Number</b>) at <a href=\"https://github.com/JuliaLang/julia/tree/d386e40c17d43b79fc89d3e579fc04547241787c/base/sparse/sparsevector.jl#L1502\" target=\"_blank\">sparse/sparsevector.jl:1502</a></li> <li> dot<i>{Tx<:Number, Ty<:Number}</i>(x::<b>AbstractSparseArray{Tx,Ti,1} where Ti</b>, y::<b>AbstractArray{Ty,1}</b>) at <a href=\"https://github.com/JuliaLang/julia/tree/d386e40c17d43b79fc89d3e579fc04547241787c/base/sparse/sparsevector.jl#L1469\" target=\"_blank\">sparse/sparsevector.jl:1469</a></li> <li> dot(x::<b>AbstractArray{T,1} where T</b>, y::<b>AbstractArray{T,1} where T</b>) at <a href=\"https://github.com/JuliaLang/julia/tree/d386e40c17d43b79fc89d3e579fc04547241787c/base/linalg/generic.jl#L693\" target=\"_blank\">linalg/generic.jl:693</a></li> <li> dot(n::<b>Integer</b>, DX::<b>Union{DenseArray{Float64,N} where N, Ptr{Float64}}</b>, incx::<b>Integer</b>, DY::<b>Union{DenseArray{Float64,N} where N, Ptr{Float64}}</b>, incy::<b>Integer</b>) at <a href=\"https://github.com/JuliaLang/julia/tree/d386e40c17d43b79fc89d3e579fc04547241787c/base/linalg/blas.jl#L266\" target=\"_blank\">linalg/blas.jl:266</a></li> <li> dot(n::<b>Integer</b>, DX::<b>Union{DenseArray{Float32,N} where N, Ptr{Float32}}</b>, incx::<b>Integer</b>, DY::<b>Union{DenseArray{Float32,N} where N, Ptr{Float32}}</b>, incy::<b>Integer</b>) at <a href=\"https://github.com/JuliaLang/julia/tree/d386e40c17d43b79fc89d3e579fc04547241787c/base/linalg/blas.jl#L266\" target=\"_blank\">linalg/blas.jl:266</a></li> </ul>"
      ],
      "text/plain": [
       "# 11 methods for generic function \"dot\":\n",
       "dot(x::BitArray{1}, y::BitArray{1}) in Base.LinAlg at linalg/bitarray.jl:5\n",
       "dot(x::Number, y::Number) in Base.LinAlg at linalg/generic.jl:675\n",
       "dot(DX::Union{DenseArray{T,N} where N, Union{Base.ReshapedArray{T,1,A,MI} where MI<:Tuple{Vararg{Base.MultiplicativeInverses.SignedMultiplicativeInverse{Int64},N} where N} where A<:Union{DenseArray, SubArray{T,N,P,I,true} where I<:Tuple{Union{Base.Slice, UnitRange},Vararg{Any,N} where N} where P where N where T}, DenseArray{T,1}, SubArray{T,1,A,I,L} where L} where I<:Tuple{Vararg{Union{Base.AbstractCartesianIndex, Int64, Range{Int64}},N} where N} where A<:Union{Base.ReshapedArray{T,N,A,MI} where MI<:Tuple{Vararg{Base.MultiplicativeInverses.SignedMultiplicativeInverse{Int64},N} where N} where A<:Union{DenseArray, SubArray{T,N,P,I,true} where I<:Tuple{Union{Base.Slice, UnitRange},Vararg{Any,N} where N} where P where N where T} where N where T, DenseArray}}, DY::Union{DenseArray{T,N} where N, Union{Base.ReshapedArray{T,1,A,MI} where MI<:Tuple{Vararg{Base.MultiplicativeInverses.SignedMultiplicativeInverse{Int64},N} where N} where A<:Union{DenseArray, SubArray{T,N,P,I,true} where I<:Tuple{Union{Base.Slice, UnitRange},Vararg{Any,N} where N} where P where N where T}, DenseArray{T,1}, SubArray{T,1,A,I,L} where L} where I<:Tuple{Vararg{Union{Base.AbstractCartesianIndex, Int64, Range{Int64}},N} where N} where A<:Union{Base.ReshapedArray{T,N,A,MI} where MI<:Tuple{Vararg{Base.MultiplicativeInverses.SignedMultiplicativeInverse{Int64},N} where N} where A<:Union{DenseArray, SubArray{T,N,P,I,true} where I<:Tuple{Union{Base.Slice, UnitRange},Vararg{Any,N} where N} where P where N where T} where N where T, DenseArray}}) where T<:Union{Float32, Float64} in Base.LinAlg.BLAS at linalg/blas.jl:309\n",
       "dot(x::Array{T,1}, rx::Union{Range{TI}, UnitRange{TI}}, y::Array{T,1}, ry::Union{Range{TI}, UnitRange{TI}}) where {T<:Union{Float32, Float64}, TI<:Integer} in Base.LinAlg at linalg/matmul.jl:45\n",
       "dot(x::Array{T,1}, rx::Union{Range{TI}, UnitRange{TI}}, y::Array{T,1}, ry::Union{Range{TI}, UnitRange{TI}}) where {T<:Union{Complex{Float32}, Complex{Float64}}, TI<:Integer} in Base.LinAlg at linalg/matmul.jl:58\n",
       "dot(x::Union{Base.ReshapedArray{Tx,1,A,MI} where MI<:Tuple{Vararg{Base.MultiplicativeInverses.SignedMultiplicativeInverse{Int64},N} where N} where A<:Union{DenseArray, SubArray{T,N,P,I,true} where I<:Tuple{Union{Base.Slice, UnitRange},Vararg{Any,N} where N} where P where N where T}, DenseArray{Tx,1}, SubArray{Tx,1,A,I,L} where L} where I<:Tuple{Vararg{Union{Base.AbstractCartesianIndex, Int64, Range{Int64}},N} where N} where A<:Union{Base.ReshapedArray{T,N,A,MI} where MI<:Tuple{Vararg{Base.MultiplicativeInverses.SignedMultiplicativeInverse{Int64},N} where N} where A<:Union{DenseArray, SubArray{T,N,P,I,true} where I<:Tuple{Union{Base.Slice, UnitRange},Vararg{Any,N} where N} where P where N where T} where N where T, DenseArray}, y::AbstractSparseArray{Ty,Ti,1} where Ti) where {Tx<:Number, Ty<:Number} in Base.SparseArrays at sparse/sparsevector.jl:1457\n",
       "dot(x::AbstractSparseArray{#s268,Ti,1} where Ti where #s268<:Number, y::AbstractSparseArray{#s267,Ti,1} where Ti where #s267<:Number) in Base.SparseArrays at sparse/sparsevector.jl:1502\n",
       "dot(x::AbstractSparseArray{Tx,Ti,1} where Ti, y::AbstractArray{Ty,1}) where {Tx<:Number, Ty<:Number} in Base.SparseArrays at sparse/sparsevector.jl:1469\n",
       "dot(x::AbstractArray{T,1} where T, y::AbstractArray{T,1} where T) in Base.LinAlg at linalg/generic.jl:693\n",
       "dot(n::Integer, DX::Union{DenseArray{Float64,N} where N, Ptr{Float64}}, incx::Integer, DY::Union{DenseArray{Float64,N} where N, Ptr{Float64}}, incy::Integer) in Base.LinAlg.BLAS at linalg/blas.jl:266\n",
       "dot(n::Integer, DX::Union{DenseArray{Float32,N} where N, Ptr{Float32}}, incx::Integer, DY::Union{DenseArray{Float32,N} where N, Ptr{Float32}}, incy::Integer) in Base.LinAlg.BLAS at linalg/blas.jl:266"
      ]
     },
     "execution_count": 37,
     "metadata": {},
     "output_type": "execute_result"
    }
   ],
   "source": [
    "methods(⋅)"
   ]
  },
  {
   "cell_type": "markdown",
   "metadata": {},
   "source": [
    "By inspecting the source, we see that the `scalar` or the `dot` product of two vectors (1-dimensional arrays) is \n",
    "computed via `BLAS` function `dot` for real arguments, and the function `dotc` for complex arguments.  "
   ]
  },
  {
   "cell_type": "code",
   "execution_count": 38,
   "metadata": {},
   "outputs": [
    {
     "data": {
      "text/plain": [
       "(-46, 9.331863349903418, 9.331863349903418, 5.9900412673431225 + 5.30699017165842im, 1.420496843195788 + 1.2983153562457361im, 1.420496843195788 - 1.2983153562457361im)"
      ]
     },
     "execution_count": 38,
     "metadata": {},
     "output_type": "execute_result"
    },
    {
     "name": "stdout",
     "output_type": "stream",
     "text": [
      "(x, y, z, w) = ([3, 3, 3, 2, 2], [-2, -5, -5, -4, -1], [0.891897, 0.748854, 0.948561, 0.30606, 0.475904], Complex{Float64}[0.526859+0.370006im, 0.377778+0.0309977im, 0.0486324+0.389386im, 0.725864+0.723284im, 0.839253+0.744627im])\n",
      "(a, b, c, d, e, f) = (-46, 9.331863349903418, 9.331863349903418, 5.9900412673431225 + 5.30699017165842im, 1.420496843195788 + 1.2983153562457361im, 1.420496843195788 - 1.2983153562457361im)\n"
     ]
    }
   ],
   "source": [
    "x = rand(1:5,5); y  = rand(-5:0,5); a = x⋅y\n",
    "z = rand(5); b = x⋅z; c = z⋅x\n",
    "w = rand(5) + im*rand(5); d = x⋅w; e = z⋅w; f = w⋅z\n",
    "@show x, y, z, w\n",
    "@show a, b, c, d, e, f"
   ]
  },
  {
   "cell_type": "markdown",
   "metadata": {},
   "source": [
    "## `whos()`\n",
    "\n",
    "The command `whos()` reveals the content of the specified package or module. It can be invoked either with the package name, or with the package name and a regular expression."
   ]
  },
  {
   "cell_type": "code",
   "execution_count": 39,
   "metadata": {
    "scrolled": true
   },
   "outputs": [
    {
     "name": "stdout",
     "output_type": "stream",
     "text": [
      "               @dateformat_str      0 bytes  Base.Dates.#@dateformat_str\n",
      "                           Apr      8 bytes  Int64\n",
      "                         April      8 bytes  Int64\n",
      "                           Aug      8 bytes  Int64\n",
      "                        August      8 bytes  Int64\n",
      "                          Date    112 bytes  DataType\n",
      "                    DateFormat     80 bytes  UnionAll\n",
      "                    DatePeriod     92 bytes  DataType\n",
      "                      DateTime    112 bytes  DataType\n",
      "                         Dates  22585 KB     Module\n",
      "                      Datetime      0 bytes  Base.Dates.#Datetime\n",
      "                           Day    112 bytes  DataType\n",
      "                           Dec      8 bytes  Int64\n",
      "                      December      8 bytes  Int64\n",
      "                           Feb      8 bytes  Int64\n",
      "                      February      8 bytes  Int64\n",
      "                           Fri      8 bytes  Int64\n",
      "                        Friday      8 bytes  Int64\n",
      "                          Hour    112 bytes  DataType\n",
      "                 ISODateFormat   6503 bytes  DateFormat{Symbol(\"yyyy-mm-dd\"),Tu…\n",
      "             ISODateTimeFormat   6599 bytes  DateFormat{Symbol(\"yyyy-mm-dd\\\\THH…\n",
      "                           Jan      8 bytes  Int64\n",
      "                       January      8 bytes  Int64\n",
      "                           Jul      8 bytes  Int64\n",
      "                          July      8 bytes  Int64\n",
      "                           Jun      8 bytes  Int64\n",
      "                          June      8 bytes  Int64\n",
      "                           Mar      8 bytes  Int64\n",
      "                         March      8 bytes  Int64\n",
      "                           May      8 bytes  Int64\n",
      "                   Microsecond    112 bytes  DataType\n",
      "                   Millisecond    112 bytes  DataType\n",
      "                        Minute    112 bytes  DataType\n",
      "                           Mon      8 bytes  Int64\n",
      "                        Monday      8 bytes  Int64\n",
      "                         Month    112 bytes  DataType\n",
      "                    Nanosecond    112 bytes  DataType\n",
      "                           Nov      8 bytes  Int64\n",
      "                      November      8 bytes  Int64\n",
      "                           Oct      8 bytes  Int64\n",
      "                       October      8 bytes  Int64\n",
      "                        Period     92 bytes  DataType\n",
      "                 RFC1123Format   6625 bytes  DateFormat{Symbol(\"e, dd u yyyy HH…\n",
      "                           Sat      8 bytes  Int64\n",
      "                      Saturday      8 bytes  Int64\n",
      "                        Second    112 bytes  DataType\n",
      "                           Sep      8 bytes  Int64\n",
      "                     September      8 bytes  Int64\n",
      "                           Sun      8 bytes  Int64\n",
      "                        Sunday      8 bytes  Int64\n",
      "                           Thu      8 bytes  Int64\n",
      "                      Thursday      8 bytes  Int64\n",
      "                          Time    112 bytes  DataType\n",
      "                    TimePeriod     92 bytes  DataType\n",
      "                      TimeType     92 bytes  DataType\n",
      "                      TimeZone     92 bytes  DataType\n",
      "                           Tue      8 bytes  Int64\n",
      "                       Tuesday      8 bytes  Int64\n",
      "                           UTC     92 bytes  DataType\n",
      "                           Wed      8 bytes  Int64\n",
      "                     Wednesday      8 bytes  Int64\n",
      "                          Week    112 bytes  DataType\n",
      "                          Year    112 bytes  DataType\n",
      "                        adjust      0 bytes  Base.Dates.#adjust\n",
      "                  canonicalize      0 bytes  Base.Dates.#canonicalize\n",
      "               datetime2julian      0 bytes  Base.Dates.#datetime2julian\n",
      "                 datetime2rata      0 bytes  Base.Dates.#datetime2rata\n",
      "                 datetime2unix      0 bytes  Base.Dates.#datetime2unix\n",
      "                           day      0 bytes  Base.Dates.#day\n",
      "                       dayabbr      0 bytes  Base.Dates.#dayabbr\n",
      "                       dayname      0 bytes  Base.Dates.#dayname\n",
      "                    dayofmonth      0 bytes  Base.Dates.#dayofmonth\n",
      "                  dayofquarter      0 bytes  Base.Dates.#dayofquarter\n",
      "                     dayofweek      0 bytes  Base.Dates.#dayofweek\n",
      "              dayofweekofmonth      0 bytes  Base.Dates.#dayofweekofmonth\n",
      "                     dayofyear      0 bytes  Base.Dates.#dayofyear\n",
      "                   daysinmonth      0 bytes  Base.Dates.#daysinmonth\n",
      "                    daysinyear      0 bytes  Base.Dates.#daysinyear\n",
      "             daysofweekinmonth      0 bytes  Base.Dates.#daysofweekinmonth\n",
      "               firstdayofmonth      0 bytes  Base.Dates.#firstdayofmonth\n",
      "             firstdayofquarter      0 bytes  Base.Dates.#firstdayofquarter\n",
      "                firstdayofweek      0 bytes  Base.Dates.#firstdayofweek\n",
      "                firstdayofyear      0 bytes  Base.Dates.#firstdayofyear\n",
      "                          hour      0 bytes  Base.Dates.#hour\n",
      "                    isleapyear      0 bytes  Base.Dates.#isleapyear\n",
      "               julian2datetime      0 bytes  Base.Dates.#julian2datetime\n",
      "                lastdayofmonth      0 bytes  Base.Dates.#lastdayofmonth\n",
      "              lastdayofquarter      0 bytes  Base.Dates.#lastdayofquarter\n",
      "                 lastdayofweek      0 bytes  Base.Dates.#lastdayofweek\n",
      "                 lastdayofyear      0 bytes  Base.Dates.#lastdayofyear\n",
      "                   microsecond      0 bytes  Base.Dates.#microsecond\n",
      "                   millisecond      0 bytes  Base.Dates.#millisecond\n",
      "                        minute      0 bytes  Base.Dates.#minute\n",
      "                         month      0 bytes  Base.Dates.#month\n",
      "                     monthabbr      0 bytes  Base.Dates.#monthabbr\n",
      "                      monthday      0 bytes  Base.Dates.#monthday\n",
      "                     monthname      0 bytes  Base.Dates.#monthname\n",
      "                    nanosecond      0 bytes  Base.Dates.#nanosecond\n",
      "                           now      0 bytes  Base.Dates.#now\n",
      "                 quarterofyear      0 bytes  Base.Dates.#quarterofyear\n",
      "                 rata2datetime      0 bytes  Base.Dates.#rata2datetime\n",
      "                        second      0 bytes  Base.Dates.#second\n",
      "                         today      0 bytes  Base.Dates.#today\n",
      "                       tofirst      0 bytes  Base.Dates.#tofirst\n",
      "                        tolast      0 bytes  Base.Dates.#tolast\n",
      "                        tonext      0 bytes  Base.Dates.#tonext\n",
      "                        toprev      0 bytes  Base.Dates.#toprev\n",
      "                 unix2datetime      0 bytes  Base.Dates.#unix2datetime\n",
      "                          week      0 bytes  Base.Dates.#week\n",
      "                          year      0 bytes  Base.Dates.#year\n",
      "                     yearmonth      0 bytes  Base.Dates.#yearmonth\n",
      "                  yearmonthday      0 bytes  Base.Dates.#yearmonthday\n"
     ]
    }
   ],
   "source": [
    "whos(Dates)"
   ]
  },
  {
   "cell_type": "code",
   "execution_count": 40,
   "metadata": {
    "scrolled": true
   },
   "outputs": [
    {
     "name": "stdout",
     "output_type": "stream",
     "text": [
      "                             /      0 bytes  Base.#/\n",
      "               ARPACKException    112 bytes  DataType\n",
      "                     A_ldiv_B!      0 bytes  Base.LinAlg.#A_ldiv_B!\n",
      "                     A_ldiv_Bc      0 bytes  Base.#A_ldiv_Bc\n",
      "                     A_ldiv_Bt      0 bytes  Base.#A_ldiv_Bt\n",
      "                      A_mul_B!      0 bytes  Base.LinAlg.#A_mul_B!\n",
      "                      A_mul_Bc      0 bytes  Base.#A_mul_Bc\n",
      "                     A_mul_Bc!      0 bytes  Base.LinAlg.#A_mul_Bc!\n",
      "                      A_mul_Bt      0 bytes  Base.#A_mul_Bt\n",
      "                     A_mul_Bt!      0 bytes  Base.LinAlg.#A_mul_Bt!\n",
      "                     A_rdiv_Bc      0 bytes  Base.#A_rdiv_Bc\n",
      "                     A_rdiv_Bt      0 bytes  Base.#A_rdiv_Bt\n",
      "                     Ac_ldiv_B      0 bytes  Base.#Ac_ldiv_B\n",
      "                    Ac_ldiv_B!      0 bytes  Base.LinAlg.#Ac_ldiv_B!\n",
      "                    Ac_ldiv_Bc      0 bytes  Base.#Ac_ldiv_Bc\n",
      "                      Ac_mul_B      0 bytes  Base.#Ac_mul_B\n",
      "                     Ac_mul_B!      0 bytes  Base.LinAlg.#Ac_mul_B!\n",
      "                     Ac_mul_Bc      0 bytes  Base.#Ac_mul_Bc\n",
      "                    Ac_mul_Bc!      0 bytes  Base.LinAlg.#Ac_mul_Bc!\n",
      "                     Ac_rdiv_B      0 bytes  Base.#Ac_rdiv_B\n",
      "                    Ac_rdiv_Bc      0 bytes  Base.#Ac_rdiv_Bc\n",
      "                     At_ldiv_B      0 bytes  Base.#At_ldiv_B\n",
      "                    At_ldiv_B!      0 bytes  Base.LinAlg.#At_ldiv_B!\n",
      "                    At_ldiv_Bt      0 bytes  Base.#At_ldiv_Bt\n",
      "                      At_mul_B      0 bytes  Base.#At_mul_B\n",
      "                     At_mul_B!      0 bytes  Base.LinAlg.#At_mul_B!\n",
      "                     At_mul_Bt      0 bytes  Base.#At_mul_Bt\n",
      "                    At_mul_Bt!      0 bytes  Base.LinAlg.#At_mul_Bt!\n",
      "                     At_rdiv_B      0 bytes  Base.#At_rdiv_B\n",
      "                    At_rdiv_Bt      0 bytes  Base.#At_rdiv_Bt\n",
      "                          BLAS  22594 KB     Module\n",
      "                    Bidiagonal     40 bytes  UnionAll\n",
      "                  BunchKaufman    120 bytes  UnionAll\n",
      "                      Cholesky    120 bytes  UnionAll\n",
      "               CholeskyPivoted    120 bytes  UnionAll\n",
      "                     ConjArray    200 bytes  UnionAll\n",
      "                    ConjMatrix    120 bytes  UnionAll\n",
      "                    ConjVector    120 bytes  UnionAll\n",
      "                      Diagonal     40 bytes  UnionAll\n",
      "                         Eigen    240 bytes  UnionAll\n",
      "                 Factorization     40 bytes  UnionAll\n",
      "              GeneralizedEigen    240 bytes  UnionAll\n",
      "                GeneralizedSVD     80 bytes  UnionAll\n",
      "              GeneralizedSchur    120 bytes  UnionAll\n",
      "                     Hermitian    120 bytes  UnionAll\n",
      "                    Hessenberg    120 bytes  UnionAll\n",
      "                             I      8 bytes  UniformScaling{Int64}\n",
      "                        LAPACK  23330 KB     Module\n",
      "               LAPACKException    112 bytes  DataType\n",
      "                          LDLt    120 bytes  UnionAll\n",
      "                            LQ    120 bytes  UnionAll\n",
      "                            LU    120 bytes  UnionAll\n",
      "                        LinAlg  24778 KB     Module\n",
      "               LowerTriangular    120 bytes  UnionAll\n",
      "               PosDefException    112 bytes  DataType\n",
      "                            QR    120 bytes  UnionAll\n",
      "                     QRPivoted    120 bytes  UnionAll\n",
      "        RankDeficientException    112 bytes  DataType\n",
      "                     RowVector    120 bytes  UnionAll\n",
      "                           SVD    200 bytes  UnionAll\n",
      "                         Schur    120 bytes  UnionAll\n",
      "             SingularException    112 bytes  DataType\n",
      "                SymTridiagonal     40 bytes  UnionAll\n",
      "                     Symmetric    120 bytes  UnionAll\n",
      "                   Tridiagonal     40 bytes  UnionAll\n",
      "                UniformScaling     40 bytes  UnionAll\n",
      "               UpperTriangular    120 bytes  UnionAll\n",
      "                             \\      0 bytes  Base.#\\\n",
      "                         axpy!      0 bytes  Base.LinAlg.#axpy!\n",
      "                        bkfact      0 bytes  Base.LinAlg.#bkfact\n",
      "                       bkfact!      0 bytes  Base.LinAlg.#bkfact!\n",
      "                          chol      0 bytes  Base.LinAlg.#chol\n",
      "                      cholfact      0 bytes  Base.LinAlg.#cholfact\n",
      "                     cholfact!      0 bytes  Base.LinAlg.#cholfact!\n",
      "                          cond      0 bytes  Base.LinAlg.#cond\n",
      "                     condskeel      0 bytes  Base.LinAlg.#condskeel\n",
      "                         copy!      0 bytes  Base.#copy!\n",
      "               copy_transpose!      0 bytes  Base.LinAlg.#copy_transpose!\n",
      "                         cross      0 bytes  Base.LinAlg.#cross\n",
      "                    ctranspose      0 bytes  Base.#ctranspose\n",
      "                   ctranspose!      0 bytes  Base.LinAlg.#ctranspose!\n",
      "                           det      0 bytes  Base.LinAlg.#det\n",
      "                          diag      0 bytes  Base.LinAlg.#diag\n",
      "                       diagind      0 bytes  Base.LinAlg.#diagind\n",
      "                         diagm      0 bytes  Base.LinAlg.#diagm\n",
      "                          diff      0 bytes  Base.LinAlg.#diff\n",
      "                           dot      0 bytes  Base.LinAlg.#dot\n",
      "                           eig      0 bytes  Base.LinAlg.#eig\n",
      "                       eigfact      0 bytes  Base.LinAlg.#eigfact\n",
      "                      eigfact!      0 bytes  Base.LinAlg.#eigfact!\n",
      "                        eigmax      0 bytes  Base.LinAlg.#eigmax\n",
      "                        eigmin      0 bytes  Base.LinAlg.#eigmin\n",
      "                          eigs      0 bytes  Base.LinAlg.#eigs\n",
      "                       eigvals      0 bytes  Base.LinAlg.#eigvals\n",
      "                      eigvals!      0 bytes  Base.LinAlg.#eigvals!\n",
      "                       eigvecs      0 bytes  Base.LinAlg.#eigvecs\n",
      "                          expm      0 bytes  Base.LinAlg.#expm\n",
      "                           eye      0 bytes  Base.#eye\n",
      "                     factorize      0 bytes  Base.LinAlg.#factorize\n",
      "                        givens      0 bytes  Base.LinAlg.#givens\n",
      "                      gradient      0 bytes  Base.LinAlg.#gradient\n",
      "                      hessfact      0 bytes  Base.LinAlg.#hessfact\n",
      "                     hessfact!      0 bytes  Base.LinAlg.#hessfact!\n",
      "                        isdiag      0 bytes  Base.LinAlg.#isdiag\n",
      "                   ishermitian      0 bytes  Base.LinAlg.#ishermitian\n",
      "                      isposdef      0 bytes  Base.LinAlg.#isposdef\n",
      "                     isposdef!      0 bytes  Base.LinAlg.#isposdef!\n",
      "                   issymmetric      0 bytes  Base.LinAlg.#issymmetric\n",
      "                        istril      0 bytes  Base.LinAlg.#istril\n",
      "                        istriu      0 bytes  Base.LinAlg.#istriu\n",
      "                          kron      0 bytes  Base.#kron\n",
      "                      ldltfact      0 bytes  Base.LinAlg.#ldltfact\n",
      "                     ldltfact!      0 bytes  Base.LinAlg.#ldltfact!\n",
      "                        linreg      0 bytes  Base.LinAlg.#linreg\n",
      "                     logabsdet      0 bytes  Base.LinAlg.#logabsdet\n",
      "                        logdet      0 bytes  Base.LinAlg.#logdet\n",
      "                          logm      0 bytes  Base.LinAlg.#logm\n",
      "                            lq      0 bytes  Base.LinAlg.#lq\n",
      "                        lqfact      0 bytes  Base.LinAlg.#lqfact\n",
      "                       lqfact!      0 bytes  Base.LinAlg.#lqfact!\n",
      "                            lu      0 bytes  Base.LinAlg.#lu\n",
      "                        lufact      0 bytes  Base.LinAlg.#lufact\n",
      "                       lufact!      0 bytes  Base.LinAlg.#lufact!\n",
      "                          lyap      0 bytes  Base.LinAlg.#lyap\n",
      "                          norm      0 bytes  Base.LinAlg.#norm\n",
      "                     normalize      0 bytes  Base.LinAlg.#normalize\n",
      "                    normalize!      0 bytes  Base.LinAlg.#normalize!\n",
      "                     nullspace      0 bytes  Base.LinAlg.#nullspace\n",
      "                      ordschur      0 bytes  Base.LinAlg.#ordschur\n",
      "                     ordschur!      0 bytes  Base.LinAlg.#ordschur!\n",
      "                     peakflops      0 bytes  Base.LinAlg.#peakflops\n",
      "                          pinv      0 bytes  Base.LinAlg.#pinv\n",
      "                            qr      0 bytes  Base.LinAlg.#qr\n",
      "                        qrfact      0 bytes  Base.LinAlg.#qrfact\n",
      "                       qrfact!      0 bytes  Base.LinAlg.#qrfact!\n",
      "                          rank      0 bytes  Base.LinAlg.#rank\n",
      "                        scale!      0 bytes  Base.LinAlg.#scale!\n",
      "                         schur      0 bytes  Base.LinAlg.#schur\n",
      "                     schurfact      0 bytes  Base.LinAlg.#schurfact\n",
      "                    schurfact!      0 bytes  Base.LinAlg.#schurfact!\n",
      "                         sqrtm      0 bytes  Base.LinAlg.#sqrtm\n",
      "                           svd      0 bytes  Base.LinAlg.#svd\n",
      "                       svdfact      0 bytes  Base.LinAlg.#svdfact\n",
      "                      svdfact!      0 bytes  Base.LinAlg.#svdfact!\n",
      "                          svds      0 bytes  Base.LinAlg.#svds\n",
      "                       svdvals      0 bytes  Base.LinAlg.#svdvals\n",
      "                      svdvals!      0 bytes  Base.LinAlg.#svdvals!\n",
      "                     sylvester      0 bytes  Base.LinAlg.#sylvester\n",
      "                         trace      0 bytes  Base.LinAlg.#trace\n",
      "                     transpose      0 bytes  Base.#transpose\n",
      "                    transpose!      0 bytes  Base.LinAlg.#transpose!\n",
      "                transpose_type      0 bytes  Base.LinAlg.#transpose_type\n",
      "                          tril      0 bytes  Base.LinAlg.#tril\n",
      "                         tril!      0 bytes  Base.LinAlg.#tril!\n",
      "                          triu      0 bytes  Base.LinAlg.#triu\n",
      "                         triu!      0 bytes  Base.LinAlg.#triu!\n"
     ]
    },
    {
     "name": "stdout",
     "output_type": "stream",
     "text": [
      "                        vecdot      0 bytes  Base.LinAlg.#vecdot\n",
      "                       vecnorm      0 bytes  Base.LinAlg.#vecnorm\n"
     ]
    }
   ],
   "source": [
    "whos(LinAlg)"
   ]
  },
  {
   "cell_type": "code",
   "execution_count": 41,
   "metadata": {},
   "outputs": [
    {
     "name": "stdout",
     "output_type": "stream",
     "text": [
      "                           eig      0 bytes  Base.LinAlg.#eig\n",
      "                       eigfact      0 bytes  Base.LinAlg.#eigfact\n",
      "                      eigfact!      0 bytes  Base.LinAlg.#eigfact!\n",
      "                        eigmax      0 bytes  Base.LinAlg.#eigmax\n",
      "                        eigmin      0 bytes  Base.LinAlg.#eigmin\n",
      "                          eigs      0 bytes  Base.LinAlg.#eigs\n",
      "                       eigvals      0 bytes  Base.LinAlg.#eigvals\n",
      "                      eigvals!      0 bytes  Base.LinAlg.#eigvals!\n",
      "                       eigvecs      0 bytes  Base.LinAlg.#eigvecs\n"
     ]
    }
   ],
   "source": [
    "# Now with a regular expression - we are looking for \n",
    "# 'eigenvalue' related stuff. \n",
    "whos(Base, Regex(\"eig\"))"
   ]
  },
  {
   "cell_type": "markdown",
   "metadata": {},
   "source": [
    "Funally, let us list all we have in `Julia`'s `Base` module. __It is a long list!__ \n",
    "Notice that `Dates` and `LinAlg` are modules themselves."
   ]
  },
  {
   "cell_type": "code",
   "execution_count": 42,
   "metadata": {
    "scrolled": true
   },
   "outputs": [
    {
     "name": "stdout",
     "output_type": "stream",
     "text": [
      "                             !      0 bytes  Base.#!\n",
      "                            !=      0 bytes  Base.#!=\n",
      "                           !==      0 bytes  Base.#!==\n",
      "                             $      0 bytes  Base.#$\n",
      "                             %      0 bytes  Base.#rem\n",
      "                             &      0 bytes  Base.#&\n",
      "                             *      0 bytes  Base.#*\n",
      "                             +      0 bytes  Base.#+\n",
      "                             -      0 bytes  Base.#-\n",
      "                           .!=      0 bytes  Base.##711#712\n",
      "                            .%      0 bytes  Base.##725#726\n",
      "                            .*      0 bytes  Base.##719#720\n",
      "                            .+      0 bytes  Base.##715#716\n",
      "                            .-      0 bytes  Base.##717#718\n",
      "                            ./      0 bytes  Base.##721#722\n",
      "                           .//      0 bytes  Base.##745#746\n",
      "                            .<      0 bytes  Base.##727#728\n",
      "                           .<<      0 bytes  Base.##749#750\n",
      "                           .<=      0 bytes  Base.##729#730\n",
      "                           .==      0 bytes  Base.##733#734\n",
      "                            .>      0 bytes  Base.##735#736\n",
      "                           .>=      0 bytes  Base.##737#738\n",
      "                           .>>      0 bytes  Base.##747#748\n",
      "                            .\\      0 bytes  Base.##741#742\n",
      "                            .^      0 bytes  Base.##743#744\n",
      "                            .÷      0 bytes  Base.##723#724\n",
      "                            .≠      0 bytes  Base.##713#714\n",
      "                            .≤      0 bytes  Base.##731#732\n",
      "                            .≥      0 bytes  Base.##739#740\n",
      "                             /      0 bytes  Base.#/\n",
      "                            //      0 bytes  Base.#//\n",
      "                             :      0 bytes  Colon\n",
      "                             <      0 bytes  Base.#<\n",
      "                            <:      0 bytes  Core.#issubtype\n",
      "                            <<      0 bytes  Base.#<<\n",
      "                            <=      0 bytes  Base.#<=\n",
      "                            ==      0 bytes  Base.#==\n",
      "                            =>     80 bytes  UnionAll\n",
      "                             >      0 bytes  Base.#>\n",
      "                            >:      0 bytes  Base.#>:\n",
      "                            >=      0 bytes  Base.#>=\n",
      "                            >>      0 bytes  Base.#>>\n",
      "                           >>>      0 bytes  Base.#>>>\n",
      "                     @MIME_str      0 bytes  Base.#@MIME_str\n",
      "                      @__DIR__      0 bytes  Base.#@__DIR__\n",
      "                     @__FILE__      0 bytes  Base.#@__FILE__\n",
      "                      @__dot__      0 bytes  Base.Broadcast.#@__dot__\n",
      "                    @allocated      0 bytes  Base.#@allocated\n",
      "                       @assert      0 bytes  Base.#@assert\n",
      "                        @async      0 bytes  Base.#@async\n",
      "                        @b_str      0 bytes  Base.#@b_str\n",
      "                      @big_str      0 bytes  Base.#@big_str\n",
      "                  @boundscheck      0 bytes  Base.#@boundscheck\n",
      "                          @cmd      0 bytes  Base.#@cmd\n",
      "                    @code_llvm      0 bytes  Base.#@code_llvm\n",
      "                 @code_lowered      0 bytes  Base.#@code_lowered\n",
      "                  @code_native      0 bytes  Base.#@code_native\n",
      "                   @code_typed      0 bytes  Base.#@code_typed\n",
      "                @code_warntype      0 bytes  Base.#@code_warntype\n",
      "               @dateformat_str      0 bytes  Base.Dates.#@dateformat_str\n",
      "                    @deprecate      0 bytes  Base.#@deprecate\n",
      "                          @doc      0 bytes  Core.#@doc\n",
      "                      @doc_str      0 bytes  Core.#@doc_str\n",
      "                         @edit      0 bytes  Base.#@edit\n",
      "                      @elapsed      0 bytes  Base.#@elapsed\n",
      "                         @enum      0 bytes  Base.Enums.#@enum\n",
      "                         @eval      0 bytes  Base.#@eval\n",
      "                     @evalpoly      0 bytes  Base.Math.#@evalpoly\n",
      "                   @everywhere      0 bytes  Base.Distributed.#@everywhere\n",
      "                     @fastmath      0 bytes  Base.FastMath.#@fastmath\n",
      "                        @fetch      0 bytes  Base.Distributed.#@fetch\n",
      "                    @fetchfrom      0 bytes  Base.Distributed.#@fetchfrom\n",
      "                  @functionloc      0 bytes  Base.#@functionloc\n",
      "                    @generated      0 bytes  Base.#@generated\n",
      "                       @gensym      0 bytes  Base.#@gensym\n",
      "                         @goto      0 bytes  Base.#@goto\n",
      "                     @html_str      0 bytes  Base.Docs.#@html_str\n",
      "                     @inbounds      0 bytes  Base.#@inbounds\n",
      "                       @inline      0 bytes  Base.#@inline\n",
      "                   @int128_str      0 bytes  Base.#@int128_str\n",
      "                       @ip_str      0 bytes  Base.#@ip_str\n",
      "                        @label      0 bytes  Base.#@label\n",
      "                         @less      0 bytes  Base.#@less\n",
      "                  @macroexpand      0 bytes  Base.#@macroexpand\n",
      "                     @noinline      0 bytes  Base.#@noinline\n",
      "                     @parallel      0 bytes  Base.Distributed.#@parallel\n",
      "                        @polly      0 bytes  Base.#@polly\n",
      "                       @printf      0 bytes  Base.Printf.#@printf\n",
      "                      @profile      0 bytes  Base.Profile.#@profile\n",
      "                        @r_str      0 bytes  Base.#@r_str\n",
      "                      @raw_str      0 bytes  Base.#@raw_str\n",
      "                        @s_str      0 bytes  Base.#@s_str\n",
      "                     @schedule      0 bytes  Base.#@schedule\n",
      "                         @show      0 bytes  Base.#@show\n",
      "                         @simd      0 bytes  Base.SimdLoop.#@simd\n",
      "                        @spawn      0 bytes  Base.Distributed.#@spawn\n",
      "                      @spawnat      0 bytes  Base.Distributed.#@spawnat\n",
      "                      @sprintf      0 bytes  Base.Printf.#@sprintf\n",
      "                       @static      0 bytes  Base.#@static\n",
      "                         @sync      0 bytes  Base.#@sync\n",
      "                         @task      0 bytes  Base.#@task\n",
      "                     @text_str      0 bytes  Base.Docs.#@text_str\n",
      "                   @threadcall      0 bytes  Base.#@threadcall\n",
      "                         @time      0 bytes  Base.#@time\n",
      "                        @timed      0 bytes  Base.#@timed\n",
      "                        @timev      0 bytes  Base.#@timev\n",
      "                  @uint128_str      0 bytes  Base.#@uint128_str\n",
      "                        @v_str      0 bytes  Base.#@v_str\n",
      "               @vectorize_1arg      0 bytes  Base.#@vectorize_1arg\n",
      "               @vectorize_2arg      0 bytes  Base.#@vectorize_2arg\n",
      "                         @view      0 bytes  Base.#@view\n",
      "                        @views      0 bytes  Base.#@views\n",
      "                        @which      0 bytes  Base.#@which\n",
      "                          ARGS     91 bytes  1-element Array{String,1}\n",
      "                     A_ldiv_B!      0 bytes  Base.LinAlg.#A_ldiv_B!\n",
      "                     A_ldiv_Bc      0 bytes  Base.#A_ldiv_Bc\n",
      "                     A_ldiv_Bt      0 bytes  Base.#A_ldiv_Bt\n",
      "                      A_mul_B!      0 bytes  Base.LinAlg.#A_mul_B!\n",
      "                      A_mul_Bc      0 bytes  Base.#A_mul_Bc\n",
      "                     A_mul_Bc!      0 bytes  Base.LinAlg.#A_mul_Bc!\n",
      "                      A_mul_Bt      0 bytes  Base.#A_mul_Bt\n",
      "                     A_mul_Bt!      0 bytes  Base.LinAlg.#A_mul_Bt!\n",
      "                     A_rdiv_Bc      0 bytes  Base.#A_rdiv_Bc\n",
      "                     A_rdiv_Bt      0 bytes  Base.#A_rdiv_Bt\n",
      "               AbstractChannel     92 bytes  DataType\n",
      "                AbstractMatrix     40 bytes  UnionAll\n",
      "                   AbstractRNG     92 bytes  DataType\n",
      "            AbstractSerializer     92 bytes  DataType\n",
      "                   AbstractSet     40 bytes  UnionAll\n",
      "           AbstractSparseArray    120 bytes  UnionAll\n",
      "          AbstractSparseMatrix     80 bytes  UnionAll\n",
      "          AbstractSparseVector     80 bytes  UnionAll\n",
      "             AbstractUnitRange     40 bytes  UnionAll\n",
      "              AbstractVecOrMat     56 bytes  UnionAll\n",
      "                AbstractVector     40 bytes  UnionAll\n",
      "                     Ac_ldiv_B      0 bytes  Base.#Ac_ldiv_B\n",
      "                    Ac_ldiv_B!      0 bytes  Base.LinAlg.#Ac_ldiv_B!\n",
      "                    Ac_ldiv_Bc      0 bytes  Base.#Ac_ldiv_Bc\n",
      "                      Ac_mul_B      0 bytes  Base.#Ac_mul_B\n",
      "                     Ac_mul_B!      0 bytes  Base.LinAlg.#Ac_mul_B!\n",
      "                     Ac_mul_Bc      0 bytes  Base.#Ac_mul_Bc\n",
      "                    Ac_mul_Bc!      0 bytes  Base.LinAlg.#Ac_mul_Bc!\n",
      "                     Ac_rdiv_B      0 bytes  Base.#Ac_rdiv_B\n",
      "                    Ac_rdiv_Bc      0 bytes  Base.#Ac_rdiv_Bc\n",
      "                 ArgumentError    112 bytes  DataType\n",
      "                         Array     80 bytes  UnionAll\n",
      "                AssertionError    112 bytes  DataType\n",
      "                   Associative     80 bytes  UnionAll\n",
      "                     At_ldiv_B      0 bytes  Base.#At_ldiv_B\n",
      "                    At_ldiv_B!      0 bytes  Base.LinAlg.#At_ldiv_B!\n",
      "                    At_ldiv_Bt      0 bytes  Base.#At_ldiv_Bt\n",
      "                      At_mul_B      0 bytes  Base.#At_mul_B\n",
      "                     At_mul_B!      0 bytes  Base.LinAlg.#At_mul_B!\n",
      "                     At_mul_Bt      0 bytes  Base.#At_mul_Bt\n",
      "                    At_mul_Bt!      0 bytes  Base.LinAlg.#At_mul_Bt!\n",
      "                     At_rdiv_B      0 bytes  Base.#At_rdiv_B\n",
      "                    At_rdiv_Bt      0 bytes  Base.#At_rdiv_Bt\n"
     ]
    },
    {
     "name": "stdout",
     "output_type": "stream",
     "text": [
      "                          BLAS  22872 KB     Module\n",
      "                          Base               Module\n",
      "              Base64DecodePipe    136 bytes  DataType\n",
      "              Base64EncodePipe    148 bytes  DataType\n",
      "                    Bidiagonal     40 bytes  UnionAll\n",
      "                      BigFloat    148 bytes  DataType\n",
      "                        BigInt    136 bytes  DataType\n",
      "                      BitArray     40 bytes  UnionAll\n",
      "                     BitMatrix    152 bytes  DataType\n",
      "                     BitVector    152 bytes  DataType\n",
      "                  BufferStream    172 bytes  DataType\n",
      "                        C_NULL      8 bytes  Ptr{Void}\n",
      "                   CachingPool    136 bytes  DataType\n",
      "             CapturedException    124 bytes  DataType\n",
      "                CartesianIndex     40 bytes  UnionAll\n",
      "                CartesianRange     80 bytes  UnionAll\n",
      "                         Cchar     92 bytes  DataType\n",
      "                       Cdouble     92 bytes  DataType\n",
      "                        Cfloat     92 bytes  DataType\n",
      "                       Channel     40 bytes  UnionAll\n",
      "                          Cint     92 bytes  DataType\n",
      "                     Cintmax_t     92 bytes  DataType\n",
      "                         Clong     92 bytes  DataType\n",
      "                     Clonglong     92 bytes  DataType\n",
      "                ClusterManager     92 bytes  DataType\n",
      "                           Cmd    216 bytes  DataType\n",
      "                   Collections     23 KB     Module\n",
      "                         Colon     92 bytes  DataType\n",
      "                       Complex     40 bytes  UnionAll\n",
      "                    Complex128    132 bytes  DataType\n",
      "                     Complex32    132 bytes  DataType\n",
      "                     Complex64    132 bytes  DataType\n",
      "            CompositeException    112 bytes  DataType\n",
      "                     Condition    112 bytes  DataType\n",
      "                     ConjArray    200 bytes  UnionAll\n",
      "                    ConjMatrix    120 bytes  UnionAll\n",
      "                    ConjVector    120 bytes  UnionAll\n",
      "                    Cptrdiff_t     92 bytes  DataType\n",
      "                        Cshort     92 bytes  DataType\n",
      "                       Csize_t     92 bytes  DataType\n",
      "                      Cssize_t     92 bytes  DataType\n",
      "                       Cstring     92 bytes  DataType\n",
      "                        Cuchar     92 bytes  DataType\n",
      "                         Cuint     92 bytes  DataType\n",
      "                    Cuintmax_t     92 bytes  DataType\n",
      "                        Culong     92 bytes  DataType\n",
      "                    Culonglong     92 bytes  DataType\n",
      "                       Cushort     92 bytes  DataType\n",
      "                      Cwchar_t     92 bytes  DataType\n",
      "                      Cwstring     92 bytes  DataType\n",
      "                          Date    112 bytes  DataType\n",
      "                    DateFormat     80 bytes  UnionAll\n",
      "                      DateTime    112 bytes  DataType\n",
      "                         Dates  22965 KB     Module\n",
      "                   DenseMatrix     40 bytes  UnionAll\n",
      "                 DenseVecOrMat     56 bytes  UnionAll\n",
      "                   DenseVector     40 bytes  UnionAll\n",
      "                       DevNull      0 bytes  Base.DevNullStream\n",
      "                      Diagonal     40 bytes  UnionAll\n",
      "                          Dict     80 bytes  UnionAll\n",
      "             DimensionMismatch    112 bytes  DataType\n",
      "                          Dims     40 bytes  UnionAll\n",
      "                       Display     92 bytes  DataType\n",
      "                   Distributed  23001 KB     Module\n",
      "                          Docs  22938 KB     Module\n",
      "                    ENDIAN_BOM      4 bytes  UInt32\n",
      "                           ENV      0 bytes  Base.EnvHash with 55 entries\n",
      "                      EOFError     92 bytes  DataType\n",
      "                      EachLine    136 bytes  DataType\n",
      "                          Enum     40 bytes  UnionAll\n",
      "                     Enumerate     40 bytes  UnionAll\n",
      "                ErrorException    112 bytes  DataType\n",
      "            ExponentialBackOff    160 bytes  DataType\n",
      "                          FFTW    138 KB     Module\n",
      "                 Factorization     40 bytes  UnionAll\n",
      "                   FileMonitor    148 bytes  DataType\n",
      "                        Future    148 bytes  DataType\n",
      "                          HTML     40 bytes  UnionAll\n",
      "                     Hermitian    120 bytes  UnionAll\n",
      "                             I      8 bytes  UniformScaling{Int64}\n",
      "                      IOBuffer    216 bytes  DataType\n",
      "                     IOContext     40 bytes  UnionAll\n",
      "                      IOStream    148 bytes  DataType\n",
      "                        IPAddr     92 bytes  DataType\n",
      "                          IPv4    112 bytes  DataType\n",
      "                          IPv6    112 bytes  DataType\n",
      "                IndexCartesian     92 bytes  DataType\n",
      "                   IndexLinear     92 bytes  DataType\n",
      "                    IndexStyle     92 bytes  DataType\n",
      "                           Inf      8 bytes  Float64\n",
      "                         Inf16      2 bytes  Float16\n",
      "                         Inf32      4 bytes  Float32\n",
      "                         Inf64      8 bytes  Float64\n",
      "                     InitError    124 bytes  DataType\n",
      "                 InsertionSort      0 bytes  Base.Sort.InsertionSortAlg\n",
      "                        IntSet    112 bytes  DataType\n",
      "         InvalidStateException    124 bytes  DataType\n",
      "                    Irrational     40 bytes  UnionAll\n",
      "                     Iterators  22720 KB     Module\n",
      "                    JULIA_HOME     28 bytes  String\n",
      "                      KeyError    112 bytes  DataType\n",
      "                        LAPACK  23643 KB     Module\n",
      "                     LOAD_PATH    152 bytes  3-element Array{Any,1}\n",
      "                       LibGit2  23085 KB     Module\n",
      "                          Libc  22679 KB     Module\n",
      "                         Libdl  22670 KB     Module\n",
      "                        LinAlg  25095 KB     Module\n",
      "                      LinSpace     40 bytes  UnionAll\n",
      "                     LoadError    136 bytes  DataType\n",
      "               LowerTriangular    120 bytes  UnionAll\n",
      "                          MIME     40 bytes  UnionAll\n",
      "                      Markdown  23080 KB     Module\n",
      "                        Matrix     40 bytes  UnionAll\n",
      "                     MergeSort      0 bytes  Base.Sort.MergeSortAlg\n",
      "               MersenneTwister    148 bytes  DataType\n",
      "                          Meta  22676 KB     Module\n",
      "                   MethodError    136 bytes  DataType\n",
      "                          Mmap     47 KB     Module\n",
      "                        NTuple     80 bytes  UnionAll\n",
      "                           NaN      8 bytes  Float64\n",
      "                         NaN16      2 bytes  Float16\n",
      "                         NaN32      4 bytes  Float32\n",
      "                         NaN64      8 bytes  Float64\n",
      "                 NullException     92 bytes  DataType\n",
      "                      Nullable     40 bytes  UnionAll\n",
      "                  ObjectIdDict    124 bytes  DataType\n",
      "                     Operators     16 bytes  Module\n",
      "                  OrdinalRange     80 bytes  UnionAll\n",
      "                  PROGRAM_FILE     51 bytes  String\n",
      "                          Pair     80 bytes  UnionAll\n",
      "                    ParseError    112 bytes  DataType\n",
      "              PartialQuickSort    136 bytes  UnionAll\n",
      "             PermutedDimsArray    280 bytes  UnionAll\n",
      "                          Pipe    124 bytes  DataType\n",
      "                    PipeBuffer      0 bytes  Base.#PipeBuffer\n",
      "                           Pkg  23007 KB     Module\n",
      "            PollingFileWatcher    160 bytes  DataType\n",
      "        ProcessExitedException     92 bytes  DataType\n",
      "                       Profile  22745 KB     Module\n",
      "                     QuickSort      0 bytes  Base.Sort.QuickSortAlg\n",
      "                  RandomDevice    124 bytes  DataType\n",
      "                         Range     40 bytes  UnionAll\n",
      "                    RangeIndex     16 bytes  Union\n",
      "                      Rational     40 bytes  UnionAll\n",
      "                         RawFD    112 bytes  DataType\n",
      "                 ReentrantLock    136 bytes  DataType\n",
      "                         Regex    184 bytes  DataType\n",
      "                    RegexMatch    160 bytes  DataType\n",
      "                 RemoteChannel     40 bytes  UnionAll\n",
      "               RemoteException    124 bytes  DataType\n",
      "                     RevString     40 bytes  UnionAll\n",
      "                     RoundDown      0 bytes  RoundingMode{:Down}\n",
      "                 RoundFromZero      0 bytes  RoundingMode{:FromZero}\n",
      "                  RoundNearest      0 bytes  RoundingMode{:Nearest}\n",
      "          RoundNearestTiesAway      0 bytes  RoundingMode{:NearestTiesAway}\n",
      "            RoundNearestTiesUp      0 bytes  RoundingMode{:NearestTiesUp}\n",
      "                   RoundToZero      0 bytes  RoundingMode{:ToZero}\n",
      "                       RoundUp      0 bytes  RoundingMode{:Up}\n",
      "                  RoundingMode     40 bytes  UnionAll\n",
      "                     RowVector    120 bytes  UnionAll\n",
      "                        STDERR    359 bytes  IJulia.IJuliaStdio{Base.PipeEndpoi…\n",
      "                         STDIN    358 bytes  IJulia.IJuliaStdio{Base.PipeEndpoi…\n",
      "                        STDOUT    359 bytes  IJulia.IJuliaStdio{Base.PipeEndpoi…\n",
      "            SerializationState     40 bytes  UnionAll\n"
     ]
    },
    {
     "name": "stdout",
     "output_type": "stream",
     "text": [
      "                    Serializer  22763 KB     Module\n",
      "                           Set     40 bytes  UnionAll\n",
      "                   SharedArray     80 bytes  UnionAll\n",
      "                  SharedMatrix     40 bytes  UnionAll\n",
      "                  SharedVector     40 bytes  UnionAll\n",
      "                  SparseArrays  23309 KB     Module\n",
      "               SparseMatrixCSC     80 bytes  UnionAll\n",
      "                  SparseVector     80 bytes  UnionAll\n",
      "                    StackFrame    184 bytes  DataType\n",
      "                    StackTrace    124 bytes  DataType\n",
      "                   StackTraces  22709 KB     Module\n",
      "                     StepRange     80 bytes  UnionAll\n",
      "                  StepRangeLen    120 bytes  UnionAll\n",
      "                  StridedArray    696 bytes  UnionAll\n",
      "                 StridedMatrix    656 bytes  UnionAll\n",
      "               StridedVecOrMat    848 bytes  UnionAll\n",
      "                 StridedVector    656 bytes  UnionAll\n",
      "                      SubArray    200 bytes  UnionAll\n",
      "                     SubString     40 bytes  UnionAll\n",
      "                SymTridiagonal     40 bytes  UnionAll\n",
      "                     Symmetric    120 bytes  UnionAll\n",
      "                           Sys  22711 KB     Module\n",
      "                   SystemError    136 bytes  DataType\n",
      "                     TCPSocket    208 bytes  DataType\n",
      "                          Test  22799 KB     Module\n",
      "                          Text     40 bytes  UnionAll\n",
      "                   TextDisplay    112 bytes  DataType\n",
      "                       Threads  22794 KB     Module\n",
      "                         Timer    136 bytes  DataType\n",
      "                   Tridiagonal     40 bytes  UnionAll\n",
      "                     TypeError    188 bytes  DataType\n",
      "                     UDPSocket    160 bytes  DataType\n",
      "                  UnicodeError    136 bytes  DataType\n",
      "                UniformScaling     40 bytes  UnionAll\n",
      "                     UnitRange     40 bytes  UnionAll\n",
      "               UpperTriangular    120 bytes  UnionAll\n",
      "                       VERSION     40 bytes  VersionNumber\n",
      "                           Val     40 bytes  UnionAll\n",
      "                      VecOrMat     56 bytes  UnionAll\n",
      "                        Vector     40 bytes  UnionAll\n",
      "                 VersionNumber    160 bytes  DataType\n",
      "                   WeakKeyDict     80 bytes  UnionAll\n",
      "                  WorkerConfig    316 bytes  DataType\n",
      "                    WorkerPool    176 bytes  DataType\n",
      "                             \\      0 bytes  Base.#\\\n",
      "                             ^      0 bytes  Base.#^\n",
      "                __precompile__      0 bytes  Base.#__precompile__\n",
      "                           abs      0 bytes  Base.#abs\n",
      "                          abs2      0 bytes  Base.#abs2\n",
      "                       abspath      0 bytes  Base.Filesystem.#abspath\n",
      "                        accept      0 bytes  Base.#accept\n",
      "                    accumulate      0 bytes  Base.#accumulate\n",
      "                   accumulate!      0 bytes  Base.#accumulate!\n",
      "                          acos      0 bytes  Base.#acos\n",
      "                         acosd      0 bytes  Base.Math.#acosd\n",
      "                         acosh      0 bytes  Base.#acosh\n",
      "                          acot      0 bytes  Base.Math.#acot\n",
      "                         acotd      0 bytes  Base.Math.#acotd\n",
      "                         acoth      0 bytes  Base.Math.#acoth\n",
      "                          acsc      0 bytes  Base.Math.#acsc\n",
      "                         acscd      0 bytes  Base.Math.#acscd\n",
      "                         acsch      0 bytes  Base.Math.#acsch\n",
      "                      addprocs      0 bytes  Base.Distributed.#addprocs\n",
      "                          airy      0 bytes  Base.#airy\n",
      "                        airyai      0 bytes  Base.#airyai\n",
      "                   airyaiprime      0 bytes  Base.#airyaiprime\n",
      "                  airyaiprimex      0 bytes  Base.#airyaiprimex\n",
      "                       airyaix      0 bytes  Base.#airyaix\n",
      "                        airybi      0 bytes  Base.#airybi\n",
      "                   airybiprime      0 bytes  Base.#airybiprime\n",
      "                  airybiprimex      0 bytes  Base.#airybiprimex\n",
      "                       airybix      0 bytes  Base.#airybix\n",
      "                     airyprime      0 bytes  Base.#airyprime\n",
      "                         airyx      0 bytes  Base.#airyx\n",
      "                           all      0 bytes  Base.#all\n",
      "                          all!      0 bytes  Base.#all!\n",
      "                     allunique      0 bytes  Base.#allunique\n",
      "                         angle      0 bytes  Base.#angle\n",
      "                           any      0 bytes  Base.#any\n",
      "                          any!      0 bytes  Base.#any!\n",
      "                       append!      0 bytes  Base.#append!\n",
      "                       apropos      0 bytes  Base.Docs.#apropos\n",
      "                         ascii      0 bytes  Base.#ascii\n",
      "                          asec      0 bytes  Base.Math.#asec\n",
      "                         asecd      0 bytes  Base.Math.#asecd\n",
      "                         asech      0 bytes  Base.Math.#asech\n",
      "                          asin      0 bytes  Base.#asin\n",
      "                         asind      0 bytes  Base.Math.#asind\n",
      "                         asinh      0 bytes  Base.#asinh\n",
      "                        assert      0 bytes  Base.#assert\n",
      "                      asyncmap      0 bytes  Base.#asyncmap\n",
      "                     asyncmap!      0 bytes  Base.#asyncmap!\n",
      "                          atan      0 bytes  Base.#atan\n",
      "                         atan2      0 bytes  Base.Math.#atan2\n",
      "                         atand      0 bytes  Base.Math.#atand\n",
      "                         atanh      0 bytes  Base.#atanh\n",
      "                        atexit      0 bytes  Base.#atexit\n",
      "                    atreplinit      0 bytes  Base.#atreplinit\n",
      "                     backtrace      0 bytes  Base.#backtrace\n",
      "                          base      0 bytes  Base.#base\n",
      "                  base64decode      0 bytes  Base.Base64.#base64decode\n",
      "                  base64encode      0 bytes  Base.Base64.#base64encode\n",
      "                      basename      0 bytes  Base.Filesystem.#basename\n",
      "                       besselh      0 bytes  Base.#besselh\n",
      "                      besselhx      0 bytes  Base.#besselhx\n",
      "                       besseli      0 bytes  Base.#besseli\n",
      "                      besselix      0 bytes  Base.#besselix\n",
      "                       besselj      0 bytes  Base.#besselj\n",
      "                      besselj0      0 bytes  Base.#besselj0\n",
      "                      besselj1      0 bytes  Base.#besselj1\n",
      "                      besseljx      0 bytes  Base.#besseljx\n",
      "                       besselk      0 bytes  Base.#besselk\n",
      "                      besselkx      0 bytes  Base.#besselkx\n",
      "                       bessely      0 bytes  Base.#bessely\n",
      "                      bessely0      0 bytes  Base.#bessely0\n",
      "                      bessely1      0 bytes  Base.#bessely1\n",
      "                      besselyx      0 bytes  Base.#besselyx\n",
      "                          beta      0 bytes  Base.Math.#beta\n",
      "                          bfft      0 bytes  Base.DFT.#bfft\n",
      "                         bfft!      0 bytes  Base.DFT.#bfft!\n",
      "                           big      0 bytes  Base.#big\n",
      "                           bin      0 bytes  Base.#bin\n",
      "                          bind      0 bytes  Base.#bind\n",
      "                      binomial      0 bytes  Base.#binomial\n",
      "                  bitbroadcast      0 bytes  Base.#bitbroadcast\n",
      "                       bitrand      0 bytes  Base.Random.#bitrand\n",
      "                          bits      0 bytes  Base.#bits\n",
      "                        bkfact      0 bytes  Base.LinAlg.#bkfact\n",
      "                       bkfact!      0 bytes  Base.LinAlg.#bkfact!\n",
      "                       blkdiag      0 bytes  Base.SparseArrays.#blkdiag\n",
      "                         brfft      0 bytes  Base.DFT.#brfft\n",
      "                     broadcast      0 bytes  Base.#broadcast\n",
      "                    broadcast!      0 bytes  Base.#broadcast!\n",
      "            broadcast_getindex      0 bytes  Base.Broadcast.#broadcast_getindex\n",
      "           broadcast_setindex!      0 bytes  Base.Broadcast.#broadcast_setindex!\n",
      "                         bswap      0 bytes  Base.#bswap\n",
      "                     bytes2hex      0 bytes  Base.#bytes2hex\n",
      "                           cat      0 bytes  Base.#cat\n",
      "                       catalan      0 bytes  Irrational{:catalan}\n",
      "               catch_backtrace      0 bytes  Base.#catch_backtrace\n",
      "              catch_stacktrace      0 bytes  Base.StackTraces.#catch_stacktrace\n",
      "                          cbrt      0 bytes  Base.Math.#cbrt\n",
      "                            cd      0 bytes  Base.Filesystem.#cd\n",
      "                          ceil      0 bytes  Base.#ceil\n",
      "                     cfunction      0 bytes  Base.#cfunction\n",
      "                       cglobal      4 bytes  Core.IntrinsicFunction\n",
      "                     charwidth      0 bytes  Base.UTF8proc.#charwidth\n",
      "                   checkbounds      0 bytes  Base.#checkbounds\n",
      "                    checkindex      0 bytes  Base.#checkindex\n",
      "                         chmod      0 bytes  Base.Filesystem.#chmod\n",
      "                          chol      0 bytes  Base.LinAlg.#chol\n",
      "                      cholfact      0 bytes  Base.LinAlg.#cholfact\n",
      "                     cholfact!      0 bytes  Base.LinAlg.#cholfact!\n",
      "                         chomp      0 bytes  Base.#chomp\n",
      "                          chop      0 bytes  Base.#chop\n",
      "                         chown      0 bytes  Base.Filesystem.#chown\n",
      "                       chr2ind      0 bytes  Base.#chr2ind\n",
      "                     circcopy!      0 bytes  Base.#circcopy!\n"
     ]
    },
    {
     "name": "stdout",
     "output_type": "stream",
     "text": [
      "                     circshift      0 bytes  Base.#circshift\n",
      "                    circshift!      0 bytes  Base.#circshift!\n",
      "                           cis      0 bytes  Base.#cis\n",
      "                         clamp      0 bytes  Base.Math.#clamp\n",
      "                        clamp!      0 bytes  Base.Math.#clamp!\n",
      "                           cld      0 bytes  Base.#cld\n",
      "                        clear!      0 bytes  Base.Distributed.#clear!\n",
      "                     clipboard      0 bytes  Base.#clipboard\n",
      "                         close      0 bytes  Base.#close\n",
      "                           cmp      0 bytes  Base.#cmp\n",
      "                     code_llvm      0 bytes  Base.#code_llvm\n",
      "                  code_lowered      0 bytes  Base.#code_lowered\n",
      "                   code_native      0 bytes  Base.#code_native\n",
      "                    code_typed      0 bytes  Base.#code_typed\n",
      "                 code_warntype      0 bytes  Base.#code_warntype\n",
      "                      codeunit      0 bytes  Base.#codeunit\n",
      "                       collect      0 bytes  Base.#collect\n",
      "                         colon      0 bytes  Base.#colon\n",
      "                       complex      0 bytes  Base.#complex\n",
      "                          cond      0 bytes  Base.LinAlg.#cond\n",
      "                     condskeel      0 bytes  Base.LinAlg.#condskeel\n",
      "                          conj      0 bytes  Base.#conj\n",
      "                         conj!      0 bytes  Base.#conj!\n",
      "                       connect      0 bytes  Base.#connect\n",
      "                       consume      0 bytes  Base.#consume\n",
      "                      contains      0 bytes  Base.#contains\n",
      "                          conv      0 bytes  Base.DSP.#conv\n",
      "                         conv2      0 bytes  Base.DSP.#conv2\n",
      "                       convert      0 bytes  Base.#convert\n",
      "                          copy      0 bytes  Base.#copy\n",
      "                         copy!      0 bytes  Base.#copy!\n",
      "                      copysign      0 bytes  Base.#copysign\n",
      "                           cor      0 bytes  Base.#cor\n",
      "                           cos      0 bytes  Base.#cos\n",
      "                          cosc      0 bytes  Base.Math.#cosc\n",
      "                          cosd      0 bytes  Base.Math.#cosd\n",
      "                          cosh      0 bytes  Base.#cosh\n",
      "                         cospi      0 bytes  Base.Math.#cospi\n",
      "                           cot      0 bytes  Base.Math.#cot\n",
      "                          cotd      0 bytes  Base.Math.#cotd\n",
      "                          coth      0 bytes  Base.Math.#coth\n",
      "                         count      0 bytes  Base.#count\n",
      "                    count_ones      0 bytes  Base.#count_ones\n",
      "                   count_zeros      0 bytes  Base.#count_zeros\n",
      "                    countlines      0 bytes  Base.DataFmt.#countlines\n",
      "                       countnz      0 bytes  Base.#countnz\n",
      "                           cov      0 bytes  Base.#cov\n",
      "                            cp      0 bytes  Base.Filesystem.#cp\n",
      "                         cross      0 bytes  Base.LinAlg.#cross\n",
      "                           csc      0 bytes  Base.Math.#csc\n",
      "                          cscd      0 bytes  Base.Math.#cscd\n",
      "                          csch      0 bytes  Base.Math.#csch\n",
      "                         ctime      0 bytes  Base.Filesystem.#ctime\n",
      "                    ctranspose      0 bytes  Base.#ctranspose\n",
      "                   ctranspose!      0 bytes  Base.LinAlg.#ctranspose!\n",
      "                        cummax      0 bytes  Base.#cummax\n",
      "                        cummin      0 bytes  Base.#cummin\n",
      "                       cumprod      0 bytes  Base.#cumprod\n",
      "                      cumprod!      0 bytes  Base.#cumprod!\n",
      "                        cumsum      0 bytes  Base.#cumsum\n",
      "                       cumsum!      0 bytes  Base.#cumsum!\n",
      "                    cumsum_kbn      0 bytes  Base.#cumsum_kbn\n",
      "                current_module      0 bytes  Base.#current_module\n",
      "                  current_task      0 bytes  Base.#current_task\n",
      "                        dawson      0 bytes  Base.#dawson\n",
      "                           dct      0 bytes  Base.DFT.FFTW.#dct\n",
      "                          dct!      0 bytes  Base.DFT.FFTW.#dct!\n",
      "                           dec      0 bytes  Base.#dec\n",
      "                        deconv      0 bytes  Base.DSP.#deconv\n",
      "                      deepcopy      0 bytes  Base.#deepcopy\n",
      "           default_worker_pool      0 bytes  Base.Distributed.#default_worker_p…\n",
      "                       deg2rad      0 bytes  Base.Math.#deg2rad\n",
      "                       delete!      0 bytes  Base.#delete!\n",
      "                     deleteat!      0 bytes  Base.#deleteat!\n",
      "                           den      0 bytes  Base.#den\n",
      "                   denominator      0 bytes  Base.#denominator\n",
      "                   deserialize      0 bytes  Base.Serializer.#deserialize\n",
      "                           det      0 bytes  Base.LinAlg.#det\n",
      "                        detach      0 bytes  Base.#detach\n",
      "                          diag      0 bytes  Base.LinAlg.#diag\n",
      "                       diagind      0 bytes  Base.LinAlg.#diagind\n",
      "                         diagm      0 bytes  Base.LinAlg.#diagm\n",
      "                          diff      0 bytes  Base.LinAlg.#diff\n",
      "                       digamma      0 bytes  Base.#digamma\n",
      "                        digits      0 bytes  Base.#digits\n",
      "                       digits!      0 bytes  Base.#digits!\n",
      "                       dirname      0 bytes  Base.Filesystem.#dirname\n",
      "                disable_sigint      0 bytes  Base.#disable_sigint\n",
      "                       display      0 bytes  Base.Multimedia.#display\n",
      "                   displayable      0 bytes  Base.Multimedia.#displayable\n",
      "                   displaysize      0 bytes  Base.#displaysize\n",
      "                           div      0 bytes  Base.#div\n",
      "                        divrem      0 bytes  Base.#divrem\n",
      "                          done      0 bytes  Base.#done\n",
      "                           dot      0 bytes  Base.LinAlg.#dot\n",
      "                      download      0 bytes  Base.#download\n",
      "                     dropzeros      0 bytes  Base.SparseArrays.#dropzeros\n",
      "                    dropzeros!      0 bytes  Base.SparseArrays.#dropzeros!\n",
      "                          dump      0 bytes  Base.#dump\n",
      "                             e      0 bytes  Irrational{:e}\n",
      "                     eachindex      0 bytes  Base.#eachindex\n",
      "                      eachline      0 bytes  Base.#eachline\n",
      "                     eachmatch      0 bytes  Base.#eachmatch\n",
      "                          edit      0 bytes  Base.#edit\n",
      "                           eig      0 bytes  Base.LinAlg.#eig\n",
      "                       eigfact      0 bytes  Base.LinAlg.#eigfact\n",
      "                      eigfact!      0 bytes  Base.LinAlg.#eigfact!\n",
      "                        eigmax      0 bytes  Base.LinAlg.#eigmax\n",
      "                        eigmin      0 bytes  Base.LinAlg.#eigmin\n",
      "                          eigs      0 bytes  Base.LinAlg.#eigs\n",
      "                       eigvals      0 bytes  Base.LinAlg.#eigvals\n",
      "                      eigvals!      0 bytes  Base.LinAlg.#eigvals!\n",
      "                       eigvecs      0 bytes  Base.LinAlg.#eigvecs\n",
      "                        eltype      0 bytes  Base.#eltype\n",
      "                        empty!      0 bytes  Base.#empty!\n",
      "                         endof      0 bytes  Base.#endof\n",
      "                      endswith      0 bytes  Base.#endswith\n",
      "                     enumerate      0 bytes  Base.Iterators.#enumerate\n",
      "                           eof      0 bytes  Base.#eof\n",
      "                           eps      0 bytes  Base.#eps\n",
      "                           erf      0 bytes  Base.#erf\n",
      "                          erfc      0 bytes  Base.#erfc\n",
      "                       erfcinv      0 bytes  Base.#erfcinv\n",
      "                         erfcx      0 bytes  Base.#erfcx\n",
      "                          erfi      0 bytes  Base.#erfi\n",
      "                        erfinv      0 bytes  Base.#erfinv\n",
      "                         error      0 bytes  Base.#error\n",
      "                           esc      0 bytes  Base.#esc\n",
      "                 escape_string      0 bytes  Base.#escape_string\n",
      "                           eta      0 bytes  Base.#eta\n",
      "                            eu      0 bytes  Irrational{:e}\n",
      "                    eulergamma      0 bytes  Irrational{:γ}\n",
      "                      evalfile      0 bytes  Base.#evalfile\n",
      "                          exit      0 bytes  Base.#exit\n"
     ]
    },
    {
     "name": "stdout",
     "output_type": "stream",
     "text": [
      "                           exp      0 bytes  Base.#exp\n",
      "                         exp10      0 bytes  Base.#exp10\n",
      "                          exp2      0 bytes  Base.#exp2\n",
      "                        expand      0 bytes  Base.#expand\n",
      "                    expanduser      0 bytes  Base.Filesystem.#expanduser\n",
      "                          expm      0 bytes  Base.LinAlg.#expm\n",
      "                         expm1      0 bytes  Base.#expm1\n",
      "                      exponent      0 bytes  Base.Math.#exponent\n",
      "                       extrema      0 bytes  Base.#extrema\n",
      "                           eye      0 bytes  Base.#eye\n",
      "                     factorial      0 bytes  Base.#factorial\n",
      "                     factorize      0 bytes  Base.LinAlg.#factorize\n",
      "                        falses      0 bytes  Base.#falses\n",
      "                            fd      0 bytes  Base.#fd\n",
      "                          fdio      0 bytes  Base.#fdio\n",
      "                         fetch      0 bytes  Base.#fetch\n",
      "                           fft      0 bytes  Base.DFT.#fft\n",
      "                          fft!      0 bytes  Base.DFT.#fft!\n",
      "                      fftshift      0 bytes  Base.DFT.#fftshift\n",
      "                     fieldname      0 bytes  Base.#fieldname\n",
      "                    fieldnames      0 bytes  Base.#fieldnames\n",
      "                   fieldoffset      0 bytes  Base.#fieldoffset\n",
      "                      filemode      0 bytes  Base.Filesystem.#filemode\n",
      "                      filesize      0 bytes  Base.Filesystem.#filesize\n",
      "                          fill      0 bytes  Base.#fill\n",
      "                         fill!      0 bytes  Base.#fill!\n",
      "                          filt      0 bytes  Base.DSP.#filt\n",
      "                         filt!      0 bytes  Base.DSP.#filt!\n",
      "                        filter      0 bytes  Base.#filter\n",
      "                       filter!      0 bytes  Base.#filter!\n",
      "                      finalize      0 bytes  Base.#finalize\n",
      "                     finalizer      0 bytes  Base.#finalizer\n",
      "                          find      0 bytes  Base.#find\n",
      "                     findfirst      0 bytes  Base.#findfirst\n",
      "                        findin      0 bytes  Base.#findin\n",
      "                      findlast      0 bytes  Base.#findlast\n",
      "                       findmax      0 bytes  Base.#findmax\n",
      "                      findmax!      0 bytes  Base.#findmax!\n",
      "                       findmin      0 bytes  Base.#findmin\n",
      "                      findmin!      0 bytes  Base.#findmin!\n",
      "                         findn      0 bytes  Base.#findn\n",
      "                      findnext      0 bytes  Base.#findnext\n",
      "                        findnz      0 bytes  Base.#findnz\n",
      "                      findprev      0 bytes  Base.#findprev\n",
      "                         first      0 bytes  Base.#first\n",
      "                           fld      0 bytes  Base.#fld\n",
      "                          fld1      0 bytes  Base.#fld1\n",
      "                        fldmod      0 bytes  Base.#fldmod\n",
      "                       fldmod1      0 bytes  Base.#fldmod1\n",
      "                     flipbits!      0 bytes  Base.#flipbits!\n",
      "                       flipdim      0 bytes  Base.#flipdim\n",
      "                      flipsign      0 bytes  Base.#flipsign\n",
      "                         float      0 bytes  Base.#float\n",
      "                         floor      0 bytes  Base.#floor\n",
      "                         flush      0 bytes  Base.#flush\n",
      "                           fma      0 bytes  Base.#fma\n",
      "                         foldl      0 bytes  Base.#foldl\n",
      "                         foldr      0 bytes  Base.#foldr\n",
      "                       foreach      0 bytes  Base.#foreach\n",
      "                         frexp      0 bytes  Base.Math.#frexp\n",
      "                          full      0 bytes  Base.#full\n",
      "                      fullname      0 bytes  Base.#fullname\n",
      "                   functionloc      0 bytes  Base.#functionloc\n",
      "                         gamma      0 bytes  Base.Math.#gamma\n",
      "                            gc      0 bytes  Base.#gc\n",
      "                     gc_enable      0 bytes  Base.#gc_enable\n",
      "                           gcd      0 bytes  Base.#gcd\n",
      "                          gcdx      0 bytes  Base.#gcdx\n",
      "                        gensym      0 bytes  Base.#gensym\n",
      "                           get      0 bytes  Base.#get\n",
      "                          get!      0 bytes  Base.#get!\n",
      "           get_zero_subnormals      0 bytes  Base.Rounding.#get_zero_subnormals\n",
      "                   getaddrinfo      0 bytes  Base.#getaddrinfo\n",
      "                   gethostname      0 bytes  Base.Libc.#gethostname\n",
      "                      getindex      0 bytes  Base.#getindex\n",
      "                     getipaddr      0 bytes  Base.#getipaddr\n",
      "                        getkey      0 bytes  Base.#getkey\n",
      "                        getpid      0 bytes  Base.Libc.#getpid\n",
      "                   getsockname      0 bytes  Base.#getsockname\n",
      "                        givens      0 bytes  Base.LinAlg.#givens\n",
      "                        golden      0 bytes  Irrational{:φ}\n",
      "                         gperm      0 bytes  Base.Filesystem.#gperm\n",
      "                      gradient      0 bytes  Base.LinAlg.#gradient\n",
      "                     graphemes      0 bytes  Base.UTF8proc.#graphemes\n",
      "                      hankelh1      0 bytes  Base.#hankelh1\n",
      "                     hankelh1x      0 bytes  Base.#hankelh1x\n",
      "                      hankelh2      0 bytes  Base.#hankelh2\n",
      "                     hankelh2x      0 bytes  Base.#hankelh2x\n",
      "                          hash      0 bytes  Base.#hash\n",
      "                        haskey      0 bytes  Base.#haskey\n",
      "                          hcat      0 bytes  Base.#hcat\n",
      "                      hessfact      0 bytes  Base.LinAlg.#hessfact\n",
      "                     hessfact!      0 bytes  Base.LinAlg.#hessfact!\n",
      "                           hex      0 bytes  Base.#hex\n",
      "                     hex2bytes      0 bytes  Base.#hex2bytes\n",
      "                       hex2num      0 bytes  Base.#hex2num\n",
      "                       homedir      0 bytes  Base.Filesystem.#homedir\n",
      "                          htol      0 bytes  Base.#htol\n",
      "                          hton      0 bytes  Base.#hton\n",
      "                         hvcat      0 bytes  Base.#hvcat\n",
      "                         hypot      0 bytes  Base.Math.#hypot\n",
      "                          idct      0 bytes  Base.DFT.FFTW.#idct\n",
      "                         idct!      0 bytes  Base.DFT.FFTW.#idct!\n",
      "                      identity      0 bytes  Base.#identity\n",
      "                        ifelse      0 bytes  Base.#ifelse\n",
      "                          ifft      0 bytes  Base.DFT.#ifft\n",
      "                         ifft!      0 bytes  Base.DFT.#ifft!\n",
      "                     ifftshift      0 bytes  Base.DFT.#ifftshift\n",
      "                  ignorestatus      0 bytes  Base.#ignorestatus\n",
      "                            im      2 bytes  Complex{Bool}\n",
      "                          imag      0 bytes  Base.#imag\n",
      "                            in      0 bytes  Base.#in\n",
      "                       include      0 bytes  Base.#include\n",
      "            include_dependency      0 bytes  Base.#include_dependency\n",
      "                include_string      0 bytes  Base.#include_string\n",
      "                       ind2chr      0 bytes  Base.#ind2chr\n",
      "                       ind2sub      0 bytes  Base.#ind2sub\n",
      "                       indexin      0 bytes  Base.#indexin\n",
      "                     indexpids      0 bytes  Base.#indexpids\n",
      "                       indices      0 bytes  Base.#indices\n",
      "                        indmax      0 bytes  Base.#indmax\n",
      "                        indmin      0 bytes  Base.#indmin\n",
      "                          info      0 bytes  Base.#info\n",
      "                   init_worker      0 bytes  Base.Distributed.#init_worker\n",
      "                       insert!      0 bytes  Base.#insert!\n",
      "                     instances      0 bytes  Base.#instances\n",
      "                     interrupt      0 bytes  Base.Distributed.#interrupt\n",
      "                     intersect      0 bytes  Base.#intersect\n",
      "                    intersect!      0 bytes  Base.#intersect!\n",
      "                           inv      0 bytes  Base.#inv\n",
      "                    invdigamma      0 bytes  Base.#invdigamma\n",
      "                        invmod      0 bytes  Base.#invmod\n",
      "                       invperm      0 bytes  Base.#invperm\n",
      "                     ipermute!      0 bytes  Base.#ipermute!\n",
      "                  ipermutedims      0 bytes  Base.#ipermutedims\n",
      "                         irfft      0 bytes  Base.DFT.#irfft\n"
     ]
    },
    {
     "name": "stdout",
     "output_type": "stream",
     "text": [
      "                            is      0 bytes  Base.#is\n",
      "                      is_apple      0 bytes  Base.#is_apple\n",
      "              is_assigned_char      0 bytes  Base.UTF8proc.#is_assigned_char\n",
      "                        is_bsd      0 bytes  Base.#is_bsd\n",
      "                      is_linux      0 bytes  Base.#is_linux\n",
      "                       is_unix      0 bytes  Base.#is_unix\n",
      "                    is_windows      0 bytes  Base.#is_windows\n",
      "                     isabspath      0 bytes  Base.Filesystem.#isabspath\n",
      "                       isalnum      0 bytes  Base.UTF8proc.#isalnum\n",
      "                       isalpha      0 bytes  Base.UTF8proc.#isalpha\n",
      "                      isapprox      0 bytes  Base.#isapprox\n",
      "                       isascii      0 bytes  Base.#isascii\n",
      "                    isassigned      0 bytes  Base.#isassigned\n",
      "                        isbits      0 bytes  Base.#isbits\n",
      "                    isblockdev      0 bytes  Base.Filesystem.#isblockdev\n",
      "                     ischardev      0 bytes  Base.Filesystem.#ischardev\n",
      "                       iscntrl      0 bytes  Base.UTF8proc.#iscntrl\n",
      "                       isconst      0 bytes  Base.#isconst\n",
      "                        isdiag      0 bytes  Base.LinAlg.#isdiag\n",
      "                       isdigit      0 bytes  Base.UTF8proc.#isdigit\n",
      "                         isdir      0 bytes  Base.Filesystem.#isdir\n",
      "                     isdirpath      0 bytes  Base.Filesystem.#isdirpath\n",
      "                       isempty      0 bytes  Base.#isempty\n",
      "                       isequal      0 bytes  Base.#isequal\n",
      "                        iseven      0 bytes  Base.#iseven\n",
      "                        isfifo      0 bytes  Base.Filesystem.#isfifo\n",
      "                        isfile      0 bytes  Base.Filesystem.#isfile\n",
      "                      isfinite      0 bytes  Base.#isfinite\n",
      "                       isgraph      0 bytes  Base.UTF8proc.#isgraph\n",
      "                   ishermitian      0 bytes  Base.LinAlg.#ishermitian\n",
      "                        isimag      0 bytes  Base.#isimag\n",
      "                   isimmutable      0 bytes  Base.#isimmutable\n",
      "                         isinf      0 bytes  Base.#isinf\n",
      "                     isinteger      0 bytes  Base.#isinteger\n",
      "                 isinteractive      0 bytes  Base.#isinteractive\n",
      "                    isleaftype      0 bytes  Base.#isleaftype\n",
      "                        isless      0 bytes  Base.#isless\n",
      "                        islink      0 bytes  Base.Filesystem.#islink\n",
      "                      islocked      0 bytes  Base.#islocked\n",
      "                       islower      0 bytes  Base.UTF8proc.#islower\n",
      "                      ismarked      0 bytes  Base.#ismarked\n",
      "                       ismatch      0 bytes  Base.#ismatch\n",
      "                       ismount      0 bytes  Base.Filesystem.#ismount\n",
      "                         isnan      0 bytes  Base.#isnan\n",
      "                        isnull      0 bytes  Base.#isnull\n",
      "                      isnumber      0 bytes  Base.UTF8proc.#isnumber\n",
      "                         isodd      0 bytes  Base.#isodd\n",
      "                        isopen      0 bytes  Base.#isopen\n",
      "                        ispath      0 bytes  Base.Filesystem.#ispath\n",
      "                        isperm      0 bytes  Base.#isperm\n",
      "                      isposdef      0 bytes  Base.LinAlg.#isposdef\n",
      "                     isposdef!      0 bytes  Base.LinAlg.#isposdef!\n",
      "                        ispow2      0 bytes  Base.#ispow2\n",
      "                       isprint      0 bytes  Base.UTF8proc.#isprint\n",
      "                       ispunct      0 bytes  Base.UTF8proc.#ispunct\n",
      "                         isqrt      0 bytes  Base.#isqrt\n",
      "                    isreadable      0 bytes  Base.#isreadable\n",
      "                    isreadonly      0 bytes  Base.#isreadonly\n",
      "                       isready      0 bytes  Base.#isready\n",
      "                        isreal      0 bytes  Base.#isreal\n",
      "                      issetgid      0 bytes  Base.Filesystem.#issetgid\n",
      "                      issetuid      0 bytes  Base.Filesystem.#issetuid\n",
      "                      issocket      0 bytes  Base.Filesystem.#issocket\n",
      "                      issorted      0 bytes  Base.#issorted\n",
      "                       isspace      0 bytes  Base.UTF8proc.#isspace\n",
      "                      issparse      0 bytes  Base.SparseArrays.#issparse\n",
      "                      issticky      0 bytes  Base.Filesystem.#issticky\n",
      "                   issubnormal      0 bytes  Base.#issubnormal\n",
      "                      issubset      0 bytes  Base.#issubset\n",
      "                   issymmetric      0 bytes  Base.LinAlg.#issymmetric\n",
      "                    istaskdone      0 bytes  Base.#istaskdone\n",
      "                 istaskstarted      0 bytes  Base.#istaskstarted\n",
      "                    istextmime      0 bytes  Base.Multimedia.#istextmime\n",
      "                        istril      0 bytes  Base.LinAlg.#istril\n",
      "                        istriu      0 bytes  Base.LinAlg.#istriu\n",
      "                       isupper      0 bytes  Base.UTF8proc.#isupper\n",
      "                       isvalid      0 bytes  Base.#isvalid\n",
      "                    iswritable      0 bytes  Base.#iswritable\n",
      "                      isxdigit      0 bytes  Base.#isxdigit\n",
      "                        iszero      0 bytes  Base.#iszero\n",
      "                          join      0 bytes  Base.#join\n",
      "                      joinpath      0 bytes  Base.Filesystem.#joinpath\n",
      "                          keys      0 bytes  Base.#keys\n",
      "                       keytype      0 bytes  Base.#keytype\n",
      "                          kill      0 bytes  Base.#kill\n",
      "                          kron      0 bytes  Base.#kron\n",
      "                          last      0 bytes  Base.#last\n",
      "                        launch      0 bytes  Base.Distributed.#launch\n",
      "                         lbeta      0 bytes  Base.Math.#lbeta\n",
      "                       lcfirst      0 bytes  Base.#lcfirst\n",
      "                           lcm      0 bytes  Base.#lcm\n",
      "                         ldexp      0 bytes  Base.Math.#ldexp\n",
      "                      ldltfact      0 bytes  Base.LinAlg.#ldltfact\n",
      "                     ldltfact!      0 bytes  Base.LinAlg.#ldltfact!\n",
      "                  leading_ones      0 bytes  Base.#leading_ones\n",
      "                 leading_zeros      0 bytes  Base.#leading_zeros\n",
      "                        length      0 bytes  Base.#length\n",
      "                          less      0 bytes  Base.#less\n",
      "                        lexcmp      0 bytes  Base.#lexcmp\n",
      "                       lexless      0 bytes  Base.#lexless\n",
      "                         lfact      0 bytes  Base.Math.#lfact\n",
      "                        lgamma      0 bytes  Base.Math.#lgamma\n",
      "                 linearindices      0 bytes  Base.#linearindices\n",
      "                        linreg      0 bytes  Base.LinAlg.#linreg\n",
      "                      linspace      0 bytes  Base.#linspace\n",
      "                        listen      0 bytes  Base.#listen\n",
      "                     listenany      0 bytes  Base.#listenany\n",
      "                  localindexes      0 bytes  Base.#localindexes\n",
      "                          lock      0 bytes  Base.#lock\n",
      "                           log      0 bytes  Base.#log\n",
      "                         log10      0 bytes  Base.#log10\n",
      "                         log1p      0 bytes  Base.#log1p\n",
      "                          log2      0 bytes  Base.#log2\n",
      "                     logabsdet      0 bytes  Base.LinAlg.#logabsdet\n",
      "                        logdet      0 bytes  Base.LinAlg.#logdet\n",
      "                       logging      0 bytes  Base.#logging\n",
      "                          logm      0 bytes  Base.LinAlg.#logm\n",
      "                      logspace      0 bytes  Base.#logspace\n",
      "                     lowercase      0 bytes  Base.#lowercase\n",
      "                          lpad      0 bytes  Base.#lpad\n",
      "                            lq      0 bytes  Base.LinAlg.#lq\n",
      "                        lqfact      0 bytes  Base.LinAlg.#lqfact\n",
      "                       lqfact!      0 bytes  Base.LinAlg.#lqfact!\n",
      "                         lstat      0 bytes  Base.Filesystem.#lstat\n",
      "                        lstrip      0 bytes  Base.#lstrip\n",
      "                          ltoh      0 bytes  Base.#ltoh\n",
      "                            lu      0 bytes  Base.LinAlg.#lu\n",
      "                        lufact      0 bytes  Base.LinAlg.#lufact\n",
      "                       lufact!      0 bytes  Base.LinAlg.#lufact!\n",
      "                          lyap      0 bytes  Base.LinAlg.#lyap\n",
      "                   macroexpand      0 bytes  Base.#macroexpand\n",
      "                        manage      0 bytes  Base.Distributed.#manage\n"
     ]
    },
    {
     "name": "stdout",
     "output_type": "stream",
     "text": [
      "                           map      0 bytes  Base.#map\n",
      "                          map!      0 bytes  Base.#map!\n",
      "                      mapfoldl      0 bytes  Base.#mapfoldl\n",
      "                      mapfoldr      0 bytes  Base.#mapfoldr\n",
      "                     mapreduce      0 bytes  Base.#mapreduce\n",
      "                  mapreducedim      0 bytes  Base.#mapreducedim\n",
      "                     mapslices      0 bytes  Base.#mapslices\n",
      "                          mark      0 bytes  Base.#mark\n",
      "                         match      0 bytes  Base.#match\n",
      "                      matchall      0 bytes  Base.#matchall\n",
      "                           max      0 bytes  Base.#max\n",
      "                        maxabs      0 bytes  Base.#maxabs\n",
      "                       maximum      0 bytes  Base.#maximum\n",
      "                      maximum!      0 bytes  Base.#maximum!\n",
      "                   maxintfloat      0 bytes  Base.#maxintfloat\n",
      "                          mean      0 bytes  Base.#mean\n",
      "                         mean!      0 bytes  Base.#mean!\n",
      "                        median      0 bytes  Base.#median\n",
      "                       median!      0 bytes  Base.#median!\n",
      "                         merge      0 bytes  Base.#merge\n",
      "                        merge!      0 bytes  Base.#merge!\n",
      "                 method_exists      0 bytes  Base.#method_exists\n",
      "                       methods      0 bytes  Base.#methods\n",
      "                   methodswith      0 bytes  Base.#methodswith\n",
      "                        middle      0 bytes  Base.#middle\n",
      "                     midpoints      0 bytes  Base.#midpoints\n",
      "                  mimewritable      0 bytes  Base.Multimedia.#mimewritable\n",
      "                           min      0 bytes  Base.#min\n",
      "                        minabs      0 bytes  Base.#minabs\n",
      "                       minimum      0 bytes  Base.#minimum\n",
      "                      minimum!      0 bytes  Base.#minimum!\n",
      "                        minmax      0 bytes  Base.#minmax\n",
      "                         mkdir      0 bytes  Base.Filesystem.#mkdir\n",
      "                        mkpath      0 bytes  Base.Filesystem.#mkpath\n",
      "                        mktemp      0 bytes  Base.Filesystem.#mktemp\n",
      "                     mktempdir      0 bytes  Base.Filesystem.#mktempdir\n",
      "                           mod      0 bytes  Base.#mod\n",
      "                          mod1      0 bytes  Base.#mod1\n",
      "                        mod2pi      0 bytes  Base.Math.#mod2pi\n",
      "                          modf      0 bytes  Base.Math.#modf\n",
      "                   module_name      0 bytes  Base.#module_name\n",
      "                 module_parent      0 bytes  Base.#module_parent\n",
      "                         mtime      0 bytes  Base.Filesystem.#mtime\n",
      "                        muladd      0 bytes  Base.#muladd\n",
      "                            mv      0 bytes  Base.Filesystem.#mv\n",
      "                          myid      0 bytes  Base.Distributed.#myid\n",
      "                         names      0 bytes  Base.#names\n",
      "                  nb_available      0 bytes  Base.#nb_available\n",
      "                       ndigits      0 bytes  Base.#ndigits\n",
      "                         ndims      0 bytes  Base.#ndims\n",
      "                          next      0 bytes  Base.#next\n",
      "                     nextfloat      0 bytes  Base.#nextfloat\n",
      "                       nextind      0 bytes  Base.#nextind\n",
      "                       nextpow      0 bytes  Base.#nextpow\n",
      "                      nextpow2      0 bytes  Base.#nextpow2\n",
      "                      nextprod      0 bytes  Base.#nextprod\n",
      "                           nnz      0 bytes  Base.SparseArrays.#nnz\n",
      "                      nonzeros      0 bytes  Base.SparseArrays.#nonzeros\n",
      "                          norm      0 bytes  Base.LinAlg.#norm\n",
      "                     normalize      0 bytes  Base.LinAlg.#normalize\n",
      "                    normalize!      0 bytes  Base.LinAlg.#normalize!\n",
      "              normalize_string      0 bytes  Base.UTF8proc.#normalize_string\n",
      "                      normpath      0 bytes  Base.Filesystem.#normpath\n",
      "                        notify      0 bytes  Base.#notify\n",
      "                           now      0 bytes  Base.Dates.#now\n",
      "                        nprocs      0 bytes  Base.Distributed.#nprocs\n",
      "                          ntoh      0 bytes  Base.#ntoh\n",
      "                        ntuple      0 bytes  Base.#ntuple\n",
      "                     nullspace      0 bytes  Base.LinAlg.#nullspace\n",
      "                           num      0 bytes  Base.#num\n",
      "                       num2hex      0 bytes  Base.#num2hex\n",
      "                     numerator      0 bytes  Base.#numerator\n",
      "                      nworkers      0 bytes  Base.Distributed.#nworkers\n",
      "                       nzrange      0 bytes  Base.SparseArrays.#nzrange\n",
      "                     object_id      0 bytes  Base.#object_id\n",
      "                           oct      0 bytes  Base.#oct\n",
      "                        oftype      0 bytes  Base.#oftype\n",
      "                           one      0 bytes  Base.#one\n",
      "                          ones      0 bytes  Base.#ones\n",
      "                       oneunit      0 bytes  Base.#oneunit\n",
      "                          open      0 bytes  Base.#open\n",
      "                         operm      0 bytes  Base.Filesystem.#operm\n",
      "                      ordschur      0 bytes  Base.LinAlg.#ordschur\n",
      "                     ordschur!      0 bytes  Base.LinAlg.#ordschur!\n",
      "                        parent      0 bytes  Base.#parent\n",
      "                 parentindexes      0 bytes  Base.#parentindexes\n",
      "                         parse      0 bytes  Base.#parse\n",
      "                     peakflops      0 bytes  Base.LinAlg.#peakflops\n",
      "                       permute      0 bytes  Base.SparseArrays.#permute\n",
      "                      permute!      0 bytes  Base.#permute!\n",
      "                   permutedims      0 bytes  Base.#permutedims\n",
      "                  permutedims!      0 bytes  Base.#permutedims!\n",
      "                            pi      0 bytes  Irrational{:π}\n",
      "                          pinv      0 bytes  Base.LinAlg.#pinv\n",
      "                      pipeline      0 bytes  Base.#pipeline\n",
      "                     plan_bfft      0 bytes  Base.DFT.#plan_bfft\n",
      "                    plan_bfft!      0 bytes  Base.DFT.#plan_bfft!\n",
      "                    plan_brfft      0 bytes  Base.DFT.#plan_brfft\n",
      "                      plan_dct      0 bytes  Base.DFT.FFTW.#plan_dct\n",
      "                     plan_dct!      0 bytes  Base.DFT.FFTW.#plan_dct!\n",
      "                      plan_fft      0 bytes  Base.DFT.#plan_fft\n",
      "                     plan_fft!      0 bytes  Base.DFT.#plan_fft!\n",
      "                     plan_idct      0 bytes  Base.DFT.FFTW.#plan_idct\n",
      "                    plan_idct!      0 bytes  Base.DFT.FFTW.#plan_idct!\n",
      "                     plan_ifft      0 bytes  Base.DFT.#plan_ifft\n",
      "                    plan_ifft!      0 bytes  Base.DFT.#plan_ifft!\n",
      "                    plan_irfft      0 bytes  Base.DFT.#plan_irfft\n",
      "                     plan_rfft      0 bytes  Base.DFT.#plan_rfft\n",
      "                          pmap      0 bytes  Base.Distributed.#pmap\n",
      "                       pointer      0 bytes  Base.#pointer\n",
      "           pointer_from_objref      0 bytes  Base.#pointer_from_objref\n",
      "                       poll_fd      0 bytes  Base.Filesystem.#poll_fd\n",
      "                     poll_file      0 bytes  Base.Filesystem.#poll_file\n",
      "                     polygamma      0 bytes  Base.#polygamma\n",
      "                          pop!      0 bytes  Base.#pop!\n",
      "                    popdisplay      0 bytes  Base.Multimedia.#popdisplay\n",
      "                      position      0 bytes  Base.#position\n",
      "                      powermod      0 bytes  Base.#powermod\n",
      "                     precision      0 bytes  Base.#precision\n",
      "                    precompile      0 bytes  Base.#precompile\n",
      "                      prepend!      0 bytes  Base.#prepend!\n",
      "                     prevfloat      0 bytes  Base.#prevfloat\n",
      "                       prevind      0 bytes  Base.#prevind\n",
      "                       prevpow      0 bytes  Base.#prevpow\n",
      "                      prevpow2      0 bytes  Base.#prevpow2\n",
      "                         print      0 bytes  Base.#print\n",
      "                print_shortest      0 bytes  Base.Grisu.#print_shortest\n",
      "              print_with_color      0 bytes  Base.#print_with_color\n",
      "                       println      0 bytes  Base.#println\n",
      "                process_exited      0 bytes  Base.#process_exited\n",
      "               process_running      0 bytes  Base.#process_running\n",
      "                         procs      0 bytes  Base.Distributed.#procs\n",
      "                          prod      0 bytes  Base.#prod\n",
      "                         prod!      0 bytes  Base.#prod!\n",
      "                       produce      0 bytes  Base.#produce\n",
      "                       promote      0 bytes  Base.#promote\n"
     ]
    },
    {
     "name": "stdout",
     "output_type": "stream",
     "text": [
      "                  promote_rule      0 bytes  Base.#promote_rule\n",
      "                 promote_shape      0 bytes  Base.#promote_shape\n",
      "                  promote_type      0 bytes  Base.#promote_type\n",
      "                         push!      0 bytes  Base.#push!\n",
      "                   pushdisplay      0 bytes  Base.Multimedia.#pushdisplay\n",
      "                          put!      0 bytes  Base.#put!\n",
      "                           pwd      0 bytes  Base.Filesystem.#pwd\n",
      "                            qr      0 bytes  Base.LinAlg.#qr\n",
      "                        qrfact      0 bytes  Base.LinAlg.#qrfact\n",
      "                       qrfact!      0 bytes  Base.LinAlg.#qrfact!\n",
      "                        quadgk      0 bytes  Base.#quadgk\n",
      "                      quantile      0 bytes  Base.#quantile\n",
      "                     quantile!      0 bytes  Base.#quantile!\n",
      "                          quit      0 bytes  Base.#quit\n",
      "                       rad2deg      0 bytes  Base.Math.#rad2deg\n",
      "                          rand      0 bytes  Base.Random.#rand\n",
      "                         rand!      0 bytes  Base.Random.#rand!\n",
      "                     randcycle      0 bytes  Base.Random.#randcycle\n",
      "                       randexp      0 bytes  Base.Random.#randexp\n",
      "                      randexp!      0 bytes  Base.Random.#randexp!\n",
      "                      randjump      0 bytes  Base.Random.#randjump\n",
      "                         randn      0 bytes  Base.Random.#randn\n",
      "                        randn!      0 bytes  Base.Random.#randn!\n",
      "                      randperm      0 bytes  Base.Random.#randperm\n",
      "                    randstring      0 bytes  Base.Random.#randstring\n",
      "                    randsubseq      0 bytes  Base.Random.#randsubseq\n",
      "                   randsubseq!      0 bytes  Base.Random.#randsubseq!\n",
      "                         range      0 bytes  Base.#range\n",
      "                          rank      0 bytes  Base.LinAlg.#rank\n",
      "                   rationalize      0 bytes  Base.#rationalize\n",
      "                          read      0 bytes  Base.#read\n",
      "                         read!      0 bytes  Base.#read!\n",
      "                  readandwrite      0 bytes  Base.#readandwrite\n",
      "                 readavailable      0 bytes  Base.#readavailable\n",
      "                    readbytes!      0 bytes  Base.#readbytes!\n",
      "                     readchomp      0 bytes  Base.#readchomp\n",
      "                       readcsv      0 bytes  Base.DataFmt.#readcsv\n",
      "                       readdir      0 bytes  Base.Filesystem.#readdir\n",
      "                       readdlm      0 bytes  Base.DataFmt.#readdlm\n",
      "                      readline      0 bytes  Base.#readline\n",
      "                     readlines      0 bytes  Base.#readlines\n",
      "                      readlink      0 bytes  Base.Filesystem.#readlink\n",
      "                    readstring      0 bytes  Base.#readstring\n",
      "                     readuntil      0 bytes  Base.#readuntil\n",
      "                          real      0 bytes  Base.#real\n",
      "                       realmax      0 bytes  Base.#realmax\n",
      "                       realmin      0 bytes  Base.#realmin\n",
      "                      realpath      0 bytes  Base.Filesystem.#realpath\n",
      "                          recv      0 bytes  Base.#recv\n",
      "                      recvfrom      0 bytes  Base.#recvfrom\n",
      "               redirect_stderr      0 bytes  Base.#redirect_stderr\n",
      "                redirect_stdin      0 bytes  Base.#redirect_stdin\n",
      "               redirect_stdout      0 bytes  Base.#redirect_stdout\n",
      "                     redisplay      0 bytes  Base.Multimedia.#redisplay\n",
      "                        reduce      0 bytes  Base.#reduce\n",
      "                     reducedim      0 bytes  Base.#reducedim\n",
      "               reenable_sigint      0 bytes  Base.#reenable_sigint\n",
      "                          reim      0 bytes  Base.#reim\n",
      "                   reinterpret      0 bytes  Base.#reinterpret\n",
      "                        reload      0 bytes  Base.#reload\n",
      "                       relpath      0 bytes  Base.Filesystem.#relpath\n",
      "                           rem      0 bytes  Base.#rem\n",
      "                        rem2pi      0 bytes  Base.Math.#rem2pi\n",
      "                        remote      0 bytes  Base.Distributed.#remote\n",
      "                     remote_do      0 bytes  Base.Distributed.#remote_do\n",
      "                    remotecall      0 bytes  Base.Distributed.#remotecall\n",
      "              remotecall_fetch      0 bytes  Base.Distributed.#remotecall_fetch\n",
      "               remotecall_wait      0 bytes  Base.Distributed.#remotecall_wait\n",
      "                        repeat      0 bytes  Base.#repeat\n",
      "                       replace      0 bytes  Base.#replace\n",
      "                        repmat      0 bytes  Base.#repmat\n",
      "                          repr      0 bytes  Base.#repr\n",
      "                      reprmime      0 bytes  Base.Multimedia.#reprmime\n",
      "                         reset      0 bytes  Base.#reset\n",
      "                       reshape      0 bytes  Base.#reshape\n",
      "                       resize!      0 bytes  Base.#resize!\n",
      "                       rethrow      0 bytes  Base.#rethrow\n",
      "                         retry      0 bytes  Base.#retry\n",
      "                       reverse      0 bytes  Base.#reverse\n",
      "                      reverse!      0 bytes  Base.#reverse!\n",
      "                    reverseind      0 bytes  Base.#reverseind\n",
      "                          rfft      0 bytes  Base.DFT.#rfft\n",
      "                            rm      0 bytes  Base.Filesystem.#rm\n",
      "                       rmprocs      0 bytes  Base.Distributed.#rmprocs\n",
      "                           rol      0 bytes  Base.#rol\n",
      "                          rol!      0 bytes  Base.#rol!\n",
      "                           ror      0 bytes  Base.#ror\n",
      "                          ror!      0 bytes  Base.#ror!\n",
      "                        rot180      0 bytes  Base.#rot180\n",
      "                        rotl90      0 bytes  Base.#rotl90\n",
      "                        rotr90      0 bytes  Base.#rotr90\n",
      "                         round      0 bytes  Base.#round\n",
      "                      rounding      0 bytes  Base.Rounding.#rounding\n",
      "                       rowvals      0 bytes  Base.SparseArrays.#rowvals\n",
      "                          rpad      0 bytes  Base.#rpad\n",
      "                       rsearch      0 bytes  Base.#rsearch\n",
      "                  rsearchindex      0 bytes  Base.#rsearchindex\n",
      "                        rsplit      0 bytes  Base.#rsplit\n",
      "                        rstrip      0 bytes  Base.#rstrip\n",
      "                           run      0 bytes  Base.#run\n",
      "                        scale!      0 bytes  Base.LinAlg.#scale!\n",
      "                      schedule      0 bytes  Base.#schedule\n",
      "                         schur      0 bytes  Base.LinAlg.#schur\n",
      "                     schurfact      0 bytes  Base.LinAlg.#schurfact\n",
      "                    schurfact!      0 bytes  Base.LinAlg.#schurfact!\n",
      "                         sdata      0 bytes  Base.#sdata\n",
      "                        search      0 bytes  Base.#search\n",
      "                   searchindex      0 bytes  Base.#searchindex\n",
      "                  searchsorted      0 bytes  Base.Sort.#searchsorted\n",
      "             searchsortedfirst      0 bytes  Base.Sort.#searchsortedfirst\n",
      "              searchsortedlast      0 bytes  Base.Sort.#searchsortedlast\n",
      "                           sec      0 bytes  Base.Math.#sec\n",
      "                          secd      0 bytes  Base.Math.#secd\n",
      "                          sech      0 bytes  Base.Math.#sech\n",
      "                          seek      0 bytes  Base.#seek\n",
      "                       seekend      0 bytes  Base.#seekend\n",
      "                     seekstart      0 bytes  Base.#seekstart\n",
      "                        select      0 bytes  Base.Sort.#select\n",
      "                       select!      0 bytes  Base.Sort.#select!\n",
      "                    selectperm      0 bytes  Base.Sort.#selectperm\n",
      "                   selectperm!      0 bytes  Base.Sort.#selectperm!\n",
      "                          send      0 bytes  Base.#send\n",
      "                     serialize      0 bytes  Base.Serializer.#serialize\n",
      "           set_zero_subnormals      0 bytes  Base.Rounding.#set_zero_subnormals\n",
      "                       setdiff      0 bytes  Base.#setdiff\n",
      "                      setdiff!      0 bytes  Base.#setdiff!\n",
      "                        setenv      0 bytes  Base.#setenv\n",
      "                     setindex!      0 bytes  Base.#setindex!\n",
      "                  setprecision      0 bytes  Base.MPFR.#setprecision\n",
      "                   setrounding      0 bytes  Base.Rounding.#setrounding\n",
      "                        shift!      0 bytes  Base.#shift!\n",
      "                          show      0 bytes  Base.#show\n",
      "                       showall      0 bytes  Base.#showall\n",
      "                   showcompact      0 bytes  Base.#showcompact\n",
      "                     showerror      0 bytes  Base.#showerror\n",
      "                       shuffle      0 bytes  Base.Random.#shuffle\n"
     ]
    },
    {
     "name": "stdout",
     "output_type": "stream",
     "text": [
      "                      shuffle!      0 bytes  Base.Random.#shuffle!\n",
      "                          sign      0 bytes  Base.#sign\n",
      "                       signbit      0 bytes  Base.#signbit\n",
      "                        signed      0 bytes  Base.#signed\n",
      "                        signif      0 bytes  Base.#signif\n",
      "                   significand      0 bytes  Base.Math.#significand\n",
      "                       similar      0 bytes  Base.#similar\n",
      "                           sin      0 bytes  Base.#sin\n",
      "                          sinc      0 bytes  Base.Math.#sinc\n",
      "                          sind      0 bytes  Base.Math.#sind\n",
      "                          sinh      0 bytes  Base.#sinh\n",
      "                         sinpi      0 bytes  Base.Math.#sinpi\n",
      "                          size      0 bytes  Base.#size\n",
      "                     sizehint!      0 bytes  Base.#sizehint!\n",
      "                        sizeof      0 bytes  Base.#sizeof\n",
      "                          skip      0 bytes  Base.#skip\n",
      "                     skipchars      0 bytes  Base.#skipchars\n",
      "                         sleep      0 bytes  Base.#sleep\n",
      "                      slicedim      0 bytes  Base.#slicedim\n",
      "                          sort      0 bytes  Base.#sort\n",
      "                         sort!      0 bytes  Base.#sort!\n",
      "                      sortcols      0 bytes  Base.Sort.#sortcols\n",
      "                      sortperm      0 bytes  Base.#sortperm\n",
      "                     sortperm!      0 bytes  Base.Sort.#sortperm!\n",
      "                      sortrows      0 bytes  Base.Sort.#sortrows\n",
      "                        sparse      0 bytes  Base.SparseArrays.#sparse\n",
      "                     sparsevec      0 bytes  Base.SparseArrays.#sparsevec\n",
      "                         spawn      0 bytes  Base.#spawn\n",
      "                       spdiagm      0 bytes  Base.SparseArrays.#spdiagm\n",
      "                         speye      0 bytes  Base.SparseArrays.#speye\n",
      "                       splice!      0 bytes  Base.#splice!\n",
      "                         split      0 bytes  Base.#split\n",
      "                      splitdir      0 bytes  Base.Filesystem.#splitdir\n",
      "                    splitdrive      0 bytes  Base.Filesystem.#splitdrive\n",
      "                      splitext      0 bytes  Base.Filesystem.#splitext\n",
      "                        spones      0 bytes  Base.SparseArrays.#spones\n",
      "                        sprand      0 bytes  Base.SparseArrays.#sprand\n",
      "                       sprandn      0 bytes  Base.SparseArrays.#sprandn\n",
      "                        sprint      0 bytes  Base.#sprint\n",
      "                       spzeros      0 bytes  Base.SparseArrays.#spzeros\n",
      "                          sqrt      0 bytes  Base.#sqrt\n",
      "                         sqrtm      0 bytes  Base.LinAlg.#sqrtm\n",
      "                       squeeze      0 bytes  Base.#squeeze\n",
      "                         srand      0 bytes  Base.Random.#srand\n",
      "                    stacktrace      0 bytes  Base.StackTraces.#stacktrace\n",
      "                         start      0 bytes  Base.#start\n",
      "                    startswith      0 bytes  Base.#startswith\n",
      "                          stat      0 bytes  Base.#stat\n",
      "                           std      0 bytes  Base.#std\n",
      "                          stdm      0 bytes  Base.#stdm\n",
      "                          step      0 bytes  Base.#step\n",
      "                        stride      0 bytes  Base.#stride\n",
      "                       strides      0 bytes  Base.#strides\n",
      "                        string      0 bytes  Base.#string\n",
      "                    stringmime      0 bytes  Base.Multimedia.#stringmime\n",
      "                         strip      0 bytes  Base.#strip\n",
      "                      strwidth      0 bytes  Base.#strwidth\n",
      "                       sub2ind      0 bytes  Base.#sub2ind\n",
      "                      subtypes      0 bytes  Base.#subtypes\n",
      "                       success      0 bytes  Base.#success\n",
      "                           sum      0 bytes  Base.#sum\n",
      "                          sum!      0 bytes  Base.#sum!\n",
      "                       sum_kbn      0 bytes  Base.#sum_kbn\n",
      "                        sumabs      0 bytes  Base.#sumabs\n",
      "                       sumabs2      0 bytes  Base.#sumabs2\n",
      "                       summary      0 bytes  Base.#summary\n",
      "                     supertype      0 bytes  Base.#supertype\n",
      "                           svd      0 bytes  Base.LinAlg.#svd\n",
      "                       svdfact      0 bytes  Base.LinAlg.#svdfact\n",
      "                      svdfact!      0 bytes  Base.LinAlg.#svdfact!\n",
      "                          svds      0 bytes  Base.LinAlg.#svds\n",
      "                       svdvals      0 bytes  Base.LinAlg.#svdvals\n",
      "                      svdvals!      0 bytes  Base.LinAlg.#svdvals!\n",
      "                     sylvester      0 bytes  Base.LinAlg.#sylvester\n",
      "                       symdiff      0 bytes  Base.#symdiff\n",
      "                      symdiff!      0 bytes  Base.#symdiff!\n",
      "                       symlink      0 bytes  Base.Filesystem.#symlink\n",
      "                   systemerror      0 bytes  Base.#systemerror\n",
      "                         take!      0 bytes  Base.#take!\n",
      "                 takebuf_array      0 bytes  Base.#takebuf_array\n",
      "                takebuf_string      0 bytes  Base.#takebuf_string\n",
      "                           tan      0 bytes  Base.#tan\n",
      "                          tand      0 bytes  Base.Math.#tand\n",
      "                          tanh      0 bytes  Base.#tanh\n",
      "            task_local_storage      0 bytes  Base.#task_local_storage\n",
      "                       tempdir      0 bytes  Base.Filesystem.#tempdir\n",
      "                      tempname      0 bytes  Base.Filesystem.#tempname\n",
      "                           tic      0 bytes  Base.#tic\n",
      "                          time      0 bytes  Base.Libc.#time\n",
      "                       time_ns      0 bytes  Base.#time_ns\n",
      "                     timedwait      0 bytes  Base.#timedwait\n",
      "                     titlecase      0 bytes  Base.#titlecase\n",
      "                    to_indices      0 bytes  Base.#to_indices\n",
      "                           toc      0 bytes  Base.#toc\n",
      "                           toq      0 bytes  Base.#toq\n",
      "                         touch      0 bytes  Base.Filesystem.#touch\n",
      "                         trace      0 bytes  Base.LinAlg.#trace\n",
      "                 trailing_ones      0 bytes  Base.#trailing_ones\n",
      "                trailing_zeros      0 bytes  Base.#trailing_zeros\n",
      "                     transcode      0 bytes  Base.#transcode\n",
      "                     transpose      0 bytes  Base.#transpose\n",
      "                    transpose!      0 bytes  Base.LinAlg.#transpose!\n",
      "                      trigamma      0 bytes  Base.#trigamma\n",
      "                          tril      0 bytes  Base.LinAlg.#tril\n",
      "                         tril!      0 bytes  Base.LinAlg.#tril!\n",
      "                          triu      0 bytes  Base.LinAlg.#triu\n",
      "                         triu!      0 bytes  Base.LinAlg.#triu!\n",
      "                         trues      0 bytes  Base.#trues\n",
      "                         trunc      0 bytes  Base.#trunc\n",
      "                      truncate      0 bytes  Base.#truncate\n",
      "                       trylock      0 bytes  Base.#trylock\n",
      "                      tryparse      0 bytes  Base.#tryparse\n",
      "                 typeintersect      0 bytes  Base.#typeintersect\n",
      "                      typejoin      0 bytes  Base.#typejoin\n",
      "                       typemax      0 bytes  Base.#typemax\n",
      "                       typemin      0 bytes  Base.#typemin\n",
      "                       ucfirst      0 bytes  Base.#ucfirst\n",
      "               unescape_string      0 bytes  Base.#unescape_string\n",
      "                         union      0 bytes  Base.#union\n",
      "                        union!      0 bytes  Base.#union!\n",
      "                        unique      0 bytes  Base.#unique\n",
      "                        unlock      0 bytes  Base.#unlock\n",
      "                        unmark      0 bytes  Base.#unmark\n",
      "                  unsafe_copy!      0 bytes  Base.#unsafe_copy!\n",
      "                    unsafe_get      0 bytes  Base.#unsafe_get\n",
      "                   unsafe_load      0 bytes  Base.#unsafe_load\n",
      "      unsafe_pointer_to_objref      0 bytes  Base.#unsafe_pointer_to_objref\n",
      "                   unsafe_read      0 bytes  Base.#unsafe_read\n",
      "                 unsafe_store!      0 bytes  Base.#unsafe_store!\n",
      "                 unsafe_string      0 bytes  Base.#unsafe_string\n",
      "                  unsafe_trunc      0 bytes  Base.#unsafe_trunc\n",
      "                   unsafe_wrap      0 bytes  Base.#unsafe_wrap\n",
      "                  unsafe_write      0 bytes  Base.#unsafe_write\n",
      "                      unshift!      0 bytes  Base.#unshift!\n",
      "                      unsigned      0 bytes  Base.#unsigned\n",
      "                         uperm      0 bytes  Base.Filesystem.#uperm\n",
      "                     uppercase      0 bytes  Base.#uppercase\n",
      "                       valtype      0 bytes  Base.#valtype\n",
      "                        values      0 bytes  Base.#values\n",
      "                           var      0 bytes  Base.#var\n",
      "                          varm      0 bytes  Base.#varm\n",
      "                          vcat      0 bytes  Base.#vcat\n",
      "                           vec      0 bytes  Base.#vec\n",
      "                        vecdot      0 bytes  Base.LinAlg.#vecdot\n",
      "                       vecnorm      0 bytes  Base.LinAlg.#vecnorm\n"
     ]
    },
    {
     "name": "stdout",
     "output_type": "stream",
     "text": [
      "                   versioninfo      0 bytes  Base.#versioninfo\n",
      "                          view      0 bytes  Base.#view\n",
      "                          wait      0 bytes  Base.#wait\n",
      "                       walkdir      0 bytes  Base.Filesystem.#walkdir\n",
      "                          warn      0 bytes  Base.#warn\n",
      "                    watch_file      0 bytes  Base.Filesystem.#watch_file\n",
      "                         which      0 bytes  Base.#which\n",
      "                          whos      0 bytes  Base.#whos\n",
      "                       widemul      0 bytes  Base.#widemul\n",
      "                         widen      0 bytes  Base.#widen\n",
      "                       withenv      0 bytes  Base.#withenv\n",
      "                       workers      0 bytes  Base.Distributed.#workers\n",
      "                     workspace      0 bytes  Base.#workspace\n",
      "                         write      0 bytes  Base.#write\n",
      "                      writecsv      0 bytes  Base.DataFmt.#writecsv\n",
      "                      writedlm      0 bytes  Base.DataFmt.#writedlm\n",
      "                         xcorr      0 bytes  Base.DSP.#xcorr\n",
      "                           xor      0 bytes  Base.#xor\n",
      "                         yield      0 bytes  Base.#yield\n",
      "                       yieldto      0 bytes  Base.#yieldto\n",
      "                          zero      0 bytes  Base.#zero\n",
      "                         zeros      0 bytes  Base.#zeros\n",
      "                          zeta      0 bytes  Base.#zeta\n",
      "                           zip      0 bytes  Base.Iterators.#zip\n",
      "                             |      0 bytes  Base.#|\n",
      "                            |>      0 bytes  Base.#|>\n",
      "                             ~      0 bytes  Base.#~\n",
      "                             ×      0 bytes  Base.LinAlg.#cross\n",
      "                             ÷      0 bytes  Base.#div\n",
      "                             γ      0 bytes  Irrational{:γ}\n",
      "                             π      0 bytes  Irrational{:π}\n",
      "                             φ      0 bytes  Irrational{:φ}\n",
      "                             ∈      0 bytes  Base.#in\n",
      "                             ∉      0 bytes  Base.#∉\n",
      "                             ∋      0 bytes  Base.#∋\n",
      "                             ∌      0 bytes  Base.#∌\n",
      "                             ∘      0 bytes  Base.#∘\n",
      "                             √      0 bytes  Base.#sqrt\n",
      "                             ∛      0 bytes  Base.Math.#cbrt\n",
      "                             ∩      0 bytes  Base.#intersect\n",
      "                             ∪      0 bytes  Base.#union\n",
      "                             ≈      0 bytes  Base.#isapprox\n",
      "                             ≉      0 bytes  Base.#≉\n",
      "                             ≠      0 bytes  Base.#!=\n",
      "                             ≡      0 bytes  Core.#===\n",
      "                             ≢      0 bytes  Base.#!==\n",
      "                             ≤      0 bytes  Base.#<=\n",
      "                             ≥      0 bytes  Base.#>=\n",
      "                             ⊆      0 bytes  Base.#issubset\n",
      "                             ⊈      0 bytes  Base.#⊈\n",
      "                             ⊊      0 bytes  Base.#⊊\n",
      "                             ⊻      0 bytes  Base.#xor\n",
      "                             ⋅      0 bytes  Base.LinAlg.#dot\n"
     ]
    }
   ],
   "source": [
    "whos(Base)"
   ]
  },
  {
   "cell_type": "markdown",
   "metadata": {
    "collapsed": true
   },
   "source": [
    "## Example - struct with function"
   ]
  },
  {
   "cell_type": "code",
   "execution_count": 43,
   "metadata": {},
   "outputs": [],
   "source": [
    "mutable struct student\n",
    "    ime::String\n",
    "    prezime::String\n",
    "    rođendan::Dates.Date\n",
    "    starost::Int\n",
    "    student(ime,prezime,rođendan)=new(ime,prezime,rođendan,div(Dates.today()-rođendan,365))\n",
    "    student(ime::String)=student(ime,\"NULL\",Date(1,1,1))\n",
    "    student(ime::String,prezime::String)=student(ime,prezime,Date(1,1,1))\n",
    "end"
   ]
  },
  {
   "cell_type": "code",
   "execution_count": 44,
   "metadata": {},
   "outputs": [
    {
     "data": {
      "text/plain": [
       "5-element Array{student,1}:\n",
       " #undef\n",
       " #undef\n",
       " #undef\n",
       " #undef\n",
       " #undef"
      ]
     },
     "execution_count": 44,
     "metadata": {},
     "output_type": "execute_result"
    }
   ],
   "source": [
    "A=Array{student}(5)"
   ]
  },
  {
   "cell_type": "code",
   "execution_count": 45,
   "metadata": {},
   "outputs": [
    {
     "data": {
      "text/plain": [
       "student(\"Ivan\", \"Slapničar\", 1961-07-13, 57)"
      ]
     },
     "execution_count": 45,
     "metadata": {},
     "output_type": "execute_result"
    }
   ],
   "source": [
    "A[1]=student(\"Ivan\",\"Slapničar\",Date(1961,07,13))"
   ]
  },
  {
   "cell_type": "code",
   "execution_count": 46,
   "metadata": {},
   "outputs": [
    {
     "data": {
      "text/plain": [
       "57"
      ]
     },
     "execution_count": 46,
     "metadata": {},
     "output_type": "execute_result"
    }
   ],
   "source": [
    "A[1].starost"
   ]
  },
  {
   "cell_type": "code",
   "execution_count": 47,
   "metadata": {},
   "outputs": [
    {
     "data": {
      "text/plain": [
       "student(\"Marko\", \"NULL\", 0001-01-01, 2019)"
      ]
     },
     "execution_count": 47,
     "metadata": {},
     "output_type": "execute_result"
    }
   ],
   "source": [
    "A[2]=student(\"Marko\")"
   ]
  },
  {
   "cell_type": "code",
   "execution_count": 48,
   "metadata": {},
   "outputs": [
    {
     "data": {
      "text/plain": [
       "1961-07-13"
      ]
     },
     "execution_count": 48,
     "metadata": {},
     "output_type": "execute_result"
    }
   ],
   "source": [
    "A[1].rođendan"
   ]
  },
  {
   "cell_type": "code",
   "execution_count": 49,
   "metadata": {},
   "outputs": [
    {
     "data": {
      "text/plain": [
       "13"
      ]
     },
     "execution_count": 49,
     "metadata": {},
     "output_type": "execute_result"
    }
   ],
   "source": [
    "A[1].starost=13"
   ]
  },
  {
   "cell_type": "code",
   "execution_count": 50,
   "metadata": {},
   "outputs": [
    {
     "data": {
      "text/plain": [
       "student(\"Ivan\", \"Slapničar\", 1961-07-13, 13)"
      ]
     },
     "execution_count": 50,
     "metadata": {},
     "output_type": "execute_result"
    }
   ],
   "source": [
    "A[1]"
   ]
  },
  {
   "cell_type": "code",
   "execution_count": null,
   "metadata": {},
   "outputs": [],
   "source": []
  }
 ],
 "metadata": {
  "anaconda-cloud": {},
  "kernelspec": {
   "display_name": "Julia 0.6.4",
   "language": "julia",
   "name": "julia-0.6"
  },
  "language_info": {
   "file_extension": ".jl",
   "mimetype": "application/julia",
   "name": "julia",
   "version": "0.6.4"
  }
 },
 "nbformat": 4,
 "nbformat_minor": 1
}
