{
 "cells": [
  {
   "cell_type": "markdown",
   "metadata": {
    "slideshow": {
     "slide_type": "slide"
    }
   },
   "source": [
    "# Lightning Round - Basic Features and Commands \n",
    "\n",
    "\n",
    "In this notebook, we go through basic constructs and commands.\n",
    "\n",
    "## Competences \n",
    "\n",
    "The user should know to start `Julia` in various modes (command line prompt, `IJulia`), how to exit, learn some features and be able to write simple programs.\n",
    "\n",
    "## Credits\n",
    "\n",
    "This notebook is based on the [slides](https://github.com/JuliaLang/julia-tutorial/tree/master/LightningRound) accompanying  the Lightning Round [video]( https://www.youtube.com/watch?v=37L1OMk_3FU&feature=player_embedded#at=33) by [Alan Edelman](http://www-math.mit.edu/~edelman/index.php), all part of the [Julia Tutorial](https://github.com/JuliaLang/julia-tutorial) - now somewhat outdated."
   ]
  },
  {
   "cell_type": "markdown",
   "metadata": {
    "hide_input": false,
    "slideshow": {
     "slide_type": "slide"
    }
   },
   "source": [
    "## Julia resources\n",
    "\n",
    "Julia resources are accessible through the [Julia home page](http://julialang.org).\n",
    "\n",
    "Please check `packages`, `docs` and `juliacon` (_here you will also find links to videos from previous conferences_)."
   ]
  },
  {
   "cell_type": "markdown",
   "metadata": {
    "slideshow": {
     "slide_type": "slide"
    }
   },
   "source": [
    "## Execution\n",
    "To execute cell use `Shift + Enter` or press `Play` (__Run cell__).\n",
    "\n",
    "To run all cells in the notebook go to `Cell` -> `Run All` "
   ]
  },
  {
   "cell_type": "markdown",
   "metadata": {
    "slideshow": {
     "slide_type": "slide"
    }
   },
   "source": [
    "## Markdown cells\n",
    "\n",
    "Possibility to write comments / code / formulas in `Markdown` cells, makes Jupyter notebooks ideal for teaching and research. Text is written using _Julia Markdown_, which is _GitHub Markdown_ with additional understanding of basic `LaTeX`.\n",
    "\n",
    "[Mastering (GitHub) Markdown](https://guides.github.com/features/mastering-markdown/) is a 3-minute read, another short and very good manual is at http://daringfireball.net/projects/markdown/.\n",
    "\n",
    "Some particulars of Julia Markdown are described in \n",
    "[Documentation](https://docs.julialang.org/en/latest/manual/documentation/) section of Julia Manual, yet another short read."
   ]
  },
  {
   "cell_type": "markdown",
   "metadata": {
    "slideshow": {
     "slide_type": "slide"
    }
   },
   "source": [
    "## `nbconvert`\n",
    "\n",
    "It is extremely easy to convert notebooks to slides, LaTeX, or PDF.\n",
    "For details see the \n",
    "[documentation](https://nbconvert.readthedocs.org/en/latest/usage.html).\n",
    "\n",
    "### Slides\n",
    "\n",
    "Clicking `View` -> `Cell Toolbar` -> `Slideshow` opens the `Slide Type` menu for each cell.\n",
    "\n",
    "The slideshow is made with the command\n",
    "\n",
    "`jupyter nbconvert --to slides notebook.ipynb`\n",
    "\n",
    "The slideshow is displayed in browser with the command\n",
    "\n",
    "`jupyter nbconvert --to slides --post serve notebook.ipynb`\n",
    "\n",
    "\n",
    "### LaTeX\n",
    "\n",
    "`jupyter nbconvert --to latex notebook.ipynb`\n",
    "\n",
    "###  PDF \n",
    "\n",
    "`jupyter nbconvert --to PDF notebook.ipynb`\n",
    "\n",
    "N.B. For the above conversions [Pandoc](http://pandoc.org/installing.html) needs to be installed."
   ]
  },
  {
   "cell_type": "markdown",
   "metadata": {
    "slideshow": {
     "slide_type": "slide"
    }
   },
   "source": [
    "## Which version of `Julia` is running?"
   ]
  },
  {
   "cell_type": "code",
   "execution_count": 1,
   "metadata": {},
   "outputs": [
    {
     "name": "stdout",
     "output_type": "stream",
     "text": [
      "Julia Version 1.0.3\n",
      "Commit 099e826241 (2018-12-18 01:34 UTC)\n",
      "Platform Info:\n",
      "  OS: Windows (x86_64-w64-mingw32)\n",
      "  CPU: Intel(R) Core(TM) i5-7200U CPU @ 2.50GHz\n",
      "  WORD_SIZE: 64\n",
      "  LIBM: libopenlibm\n",
      "  LLVM: libLLVM-6.0.0 (ORCJIT, skylake)\n",
      "Environment:\n",
      "  JULIA_NUM_THREADS = 4\n"
     ]
    }
   ],
   "source": [
    "versioninfo()"
   ]
  },
  {
   "cell_type": "markdown",
   "metadata": {},
   "source": [
    "## Quitting\n",
    "\n",
    "__Exiting__ from `julia>` or __restarting kernel__ in `IJulia`"
   ]
  },
  {
   "cell_type": "code",
   "execution_count": 2,
   "metadata": {},
   "outputs": [],
   "source": [
    "# exit()"
   ]
  },
  {
   "cell_type": "markdown",
   "metadata": {
    "slideshow": {
     "slide_type": "slide"
    }
   },
   "source": [
    "## Documentation\n",
    "\n",
    "Documentation is well written and the starting point is http://docs.julialang.org/en/v1/ or http://docs.julialang.org/en/latest/\n",
    "\n",
    "But, also remeber that `Julia` is __open source__ and all routines are available on [GitHub](http://github.com). You will learn how to make full use of this later in the course."
   ]
  },
  {
   "cell_type": "markdown",
   "metadata": {},
   "source": [
    "## Punctuation review\n",
    "\n",
    "* `[...]` are for indexing, array constructors and __Comprehensions__\n",
    "* `(...)` are __required__ for functions `quit()`, `tic()`, `toc()`, `help()` \n",
    "* `{...}` are for arrays\n",
    "* `#` is for comments"
   ]
  },
  {
   "cell_type": "markdown",
   "metadata": {},
   "source": [
    "## Basic indexing"
   ]
  },
  {
   "cell_type": "code",
   "execution_count": 3,
   "metadata": {},
   "outputs": [
    {
     "data": {
      "text/plain": [
       "5×5 Array{Float64,2}:\n",
       " 0.773216  0.576048  0.993742  0.230373  0.541942\n",
       " 0.533247  0.305395  0.242301  0.59168   0.5596  \n",
       " 0.626428  0.796186  0.273377  0.65412   0.127449\n",
       " 0.571913  0.361608  0.490199  0.548964  0.9264  \n",
       " 0.448973  0.671705  0.480668  0.829981  0.920526"
      ]
     },
     "execution_count": 3,
     "metadata": {},
     "output_type": "execute_result"
    }
   ],
   "source": [
    "A=rand(5,5) # Matrix with random entries between 0 and 1"
   ]
  },
  {
   "cell_type": "code",
   "execution_count": 4,
   "metadata": {},
   "outputs": [
    {
     "data": {
      "text/plain": [
       "0.7732163966011425"
      ]
     },
     "execution_count": 4,
     "metadata": {},
     "output_type": "execute_result"
    }
   ],
   "source": [
    "A[1,1]"
   ]
  },
  {
   "cell_type": "code",
   "execution_count": 5,
   "metadata": {},
   "outputs": [
    {
     "data": {
      "text/plain": [
       "2×2 Array{Float64,2}:\n",
       " 0.226712  0.190801\n",
       " 0.795565  0.64126 "
      ]
     },
     "execution_count": 5,
     "metadata": {},
     "output_type": "execute_result"
    }
   ],
   "source": [
    "rand(5,5)[1:2,3:4] # You can even do this"
   ]
  },
  {
   "cell_type": "markdown",
   "metadata": {},
   "source": [
    "### Indexing is elegant\n",
    "\n",
    "If you want to compute the lower right $2\\times 2$ block of $A^{10}$, in most languages you need to first compute $B=A^{10}$ and then index into $B$. In Julia, the command is simply"
   ]
  },
  {
   "cell_type": "code",
   "execution_count": 6,
   "metadata": {},
   "outputs": [
    {
     "data": {
      "text/plain": [
       "2×2 Array{Float64,2}:\n",
       " 7296.41  8070.62\n",
       " 8277.47  9155.78"
      ]
     },
     "execution_count": 6,
     "metadata": {},
     "output_type": "execute_result"
    }
   ],
   "source": [
    "(A^10)[4:5,4:5] # Parenthesses around A^10 are necessary"
   ]
  },
  {
   "cell_type": "markdown",
   "metadata": {},
   "source": [
    "### Comprehensions - elegant array constructors"
   ]
  },
  {
   "cell_type": "code",
   "execution_count": 7,
   "metadata": {},
   "outputs": [
    {
     "data": {
      "text/plain": [
       "5-element Array{Int64,1}:\n",
       " 1\n",
       " 2\n",
       " 3\n",
       " 4\n",
       " 5"
      ]
     },
     "execution_count": 7,
     "metadata": {},
     "output_type": "execute_result"
    }
   ],
   "source": [
    "[i for i=1:5]"
   ]
  },
  {
   "cell_type": "code",
   "execution_count": 8,
   "metadata": {},
   "outputs": [
    {
     "data": {
      "text/plain": [
       "1:10"
      ]
     },
     "execution_count": 8,
     "metadata": {},
     "output_type": "execute_result"
    }
   ],
   "source": [
    "x=1:10"
   ]
  },
  {
   "cell_type": "code",
   "execution_count": 9,
   "metadata": {
    "scrolled": true
   },
   "outputs": [
    {
     "data": {
      "text/plain": [
       "9-element Array{Int64,1}:\n",
       "  3\n",
       "  5\n",
       "  7\n",
       "  9\n",
       " 11\n",
       " 13\n",
       " 15\n",
       " 17\n",
       " 19"
      ]
     },
     "execution_count": 9,
     "metadata": {},
     "output_type": "execute_result"
    }
   ],
   "source": [
    "[ x[i]+x[i+1] for i=1:9 ]"
   ]
  },
  {
   "cell_type": "code",
   "execution_count": 10,
   "metadata": {},
   "outputs": [],
   "source": [
    "using LinearAlgebra"
   ]
  },
  {
   "cell_type": "code",
   "execution_count": 11,
   "metadata": {},
   "outputs": [
    {
     "data": {
      "text/plain": [
       "5-element Array{Array{Int16,2},1}:\n",
       " [1]                                             \n",
       " [1 0; 0 1]                                      \n",
       " [1 0 0; 0 1 0; 0 0 1]                           \n",
       " [1 0 0 0; 0 1 0 0; 0 0 1 0; 0 0 0 1]            \n",
       " [1 0 … 0 0; 0 1 … 0 0; … ; 0 0 … 1 0; 0 0 … 0 1]"
      ]
     },
     "execution_count": 11,
     "metadata": {},
     "output_type": "execute_result"
    }
   ],
   "source": [
    "z = [Matrix{Int16}(I,n,n) for n=1:5]  # z is Array of Arrays"
   ]
  },
  {
   "cell_type": "code",
   "execution_count": 12,
   "metadata": {},
   "outputs": [
    {
     "data": {
      "text/plain": [
       "1×1 Array{Int16,2}:\n",
       " 1"
      ]
     },
     "execution_count": 12,
     "metadata": {},
     "output_type": "execute_result"
    }
   ],
   "source": [
    "z[1] # First element is a 1x1 Array"
   ]
  },
  {
   "cell_type": "code",
   "execution_count": 13,
   "metadata": {},
   "outputs": [
    {
     "data": {
      "text/plain": [
       "4×4 Array{Int16,2}:\n",
       " 1  0  0  0\n",
       " 0  1  0  0\n",
       " 0  0  1  0\n",
       " 0  0  0  1"
      ]
     },
     "execution_count": 13,
     "metadata": {},
     "output_type": "execute_result"
    }
   ],
   "source": [
    "z[4] # What is the fourth element?"
   ]
  },
  {
   "cell_type": "code",
   "execution_count": 14,
   "metadata": {},
   "outputs": [
    {
     "data": {
      "text/plain": [
       "5×5 Array{Int64,2}:\n",
       " 2  3  4  5   6\n",
       " 3  4  5  6   7\n",
       " 4  5  6  7   8\n",
       " 5  6  7  8   9\n",
       " 6  7  8  9  10"
      ]
     },
     "execution_count": 14,
     "metadata": {},
     "output_type": "execute_result"
    }
   ],
   "source": [
    "A=[ i+j for i=1:5, j=1:5 ] # Another example of a comprehension"
   ]
  },
  {
   "cell_type": "code",
   "execution_count": 15,
   "metadata": {},
   "outputs": [
    {
     "data": {
      "text/plain": [
       "5×5 Array{Float64,2}:\n",
       " 2.0  3.0  4.0  5.0   6.0\n",
       " 3.0  4.0  5.0  6.0   7.0\n",
       " 4.0  5.0  6.0  7.0   8.0\n",
       " 5.0  6.0  7.0  8.0   9.0\n",
       " 6.0  7.0  8.0  9.0  10.0"
      ]
     },
     "execution_count": 15,
     "metadata": {},
     "output_type": "execute_result"
    }
   ],
   "source": [
    "B=[ i+j for i=1:5, j=1.0:5 ] # Notice the promotion"
   ]
  },
  {
   "cell_type": "markdown",
   "metadata": {},
   "source": [
    "## Commands `ndims()` and `typeof()`"
   ]
  },
  {
   "cell_type": "code",
   "execution_count": 16,
   "metadata": {},
   "outputs": [
    {
     "data": {
      "text/plain": [
       "2"
      ]
     },
     "execution_count": 16,
     "metadata": {},
     "output_type": "execute_result"
    }
   ],
   "source": [
    "ndims(B)"
   ]
  },
  {
   "cell_type": "code",
   "execution_count": 17,
   "metadata": {},
   "outputs": [
    {
     "data": {
      "text/plain": [
       "1"
      ]
     },
     "execution_count": 17,
     "metadata": {},
     "output_type": "execute_result"
    }
   ],
   "source": [
    "ndims(z) # z is a one-dimensional array"
   ]
  },
  {
   "cell_type": "code",
   "execution_count": 18,
   "metadata": {},
   "outputs": [
    {
     "data": {
      "text/plain": [
       "Array{Array{Int16,2},1}"
      ]
     },
     "execution_count": 18,
     "metadata": {},
     "output_type": "execute_result"
    }
   ],
   "source": [
    "typeof(z) # Array of Arrays"
   ]
  },
  {
   "cell_type": "code",
   "execution_count": 19,
   "metadata": {},
   "outputs": [
    {
     "data": {
      "text/plain": [
       "Array{Int16,2}"
      ]
     },
     "execution_count": 19,
     "metadata": {},
     "output_type": "execute_result"
    }
   ],
   "source": [
    "typeof(z[5]) # z[5] is a two-dimensional array"
   ]
  },
  {
   "cell_type": "code",
   "execution_count": 20,
   "metadata": {},
   "outputs": [
    {
     "data": {
      "text/plain": [
       "Array{Int64,2}"
      ]
     },
     "execution_count": 20,
     "metadata": {},
     "output_type": "execute_result"
    }
   ],
   "source": [
    "typeof(A)"
   ]
  },
  {
   "cell_type": "markdown",
   "metadata": {},
   "source": [
    "## Vectors are 1-dimensional arrays\n",
    "\n",
    "See [Multi-dimensional arrays](https://docs.julialang.org/en/latest/manual/arrays/#man-multi-dim-arrays-1) for more."
   ]
  },
  {
   "cell_type": "code",
   "execution_count": 21,
   "metadata": {},
   "outputs": [
    {
     "data": {
      "text/plain": [
       "5×1 Array{Float64,2}:\n",
       " 0.42995646851576064\n",
       " 0.678862357173905  \n",
       " 0.6196069978130478 \n",
       " 0.16695588197979072\n",
       " 0.7320769882185658 "
      ]
     },
     "execution_count": 21,
     "metadata": {},
     "output_type": "execute_result"
    }
   ],
   "source": [
    "v=rand(5,1) # This is 2-dimensional array"
   ]
  },
  {
   "cell_type": "code",
   "execution_count": 22,
   "metadata": {},
   "outputs": [
    {
     "data": {
      "text/plain": [
       "5-element Array{Float64,1}:\n",
       " 0.42995646851576064\n",
       " 0.678862357173905  \n",
       " 0.6196069978130478 \n",
       " 0.16695588197979072\n",
       " 0.7320769882185658 "
      ]
     },
     "execution_count": 22,
     "metadata": {},
     "output_type": "execute_result"
    }
   ],
   "source": [
    "vv=vec(v) # This is an 1-dimensional array or vector"
   ]
  },
  {
   "cell_type": "code",
   "execution_count": 23,
   "metadata": {},
   "outputs": [
    {
     "data": {
      "text/plain": [
       "false"
      ]
     },
     "execution_count": 23,
     "metadata": {},
     "output_type": "execute_result"
    }
   ],
   "source": [
    "v==vv  # Notice that they are different"
   ]
  },
  {
   "cell_type": "code",
   "execution_count": 24,
   "metadata": {},
   "outputs": [
    {
     "data": {
      "text/plain": [
       "5×1 Array{Float64,2}:\n",
       " 0.0\n",
       " 0.0\n",
       " 0.0\n",
       " 0.0\n",
       " 0.0"
      ]
     },
     "execution_count": 24,
     "metadata": {},
     "output_type": "execute_result"
    }
   ],
   "source": [
    "v-vv # Again a promotion"
   ]
  },
  {
   "cell_type": "code",
   "execution_count": 25,
   "metadata": {},
   "outputs": [
    {
     "data": {
      "text/plain": [
       "5-element Array{Float64,1}:\n",
       " 0.908249101499033   \n",
       " 0.004806315275456052\n",
       " 0.7081412605479112  \n",
       " 0.5713356251057549  \n",
       " 0.8931844031019729  "
      ]
     },
     "execution_count": 25,
     "metadata": {},
     "output_type": "execute_result"
    }
   ],
   "source": [
    "w=rand(5) # This is again a vector"
   ]
  },
  {
   "cell_type": "code",
   "execution_count": 26,
   "metadata": {},
   "outputs": [
    {
     "data": {
      "text/plain": [
       "5×2 Array{Float64,2}:\n",
       " 0.429956  0.908249  \n",
       " 0.678862  0.00480632\n",
       " 0.619607  0.708141  \n",
       " 0.166956  0.571336  \n",
       " 0.732077  0.893184  "
      ]
     },
     "execution_count": 26,
     "metadata": {},
     "output_type": "execute_result"
    }
   ],
   "source": [
    "Mv=[v w] # First column is a 5 x 1 matrix, second column is a vector of length 5"
   ]
  },
  {
   "cell_type": "code",
   "execution_count": 27,
   "metadata": {},
   "outputs": [
    {
     "data": {
      "text/plain": [
       "5-element Array{Float64,1}:\n",
       " 0.42995646851576064\n",
       " 0.678862357173905  \n",
       " 0.6196069978130478 \n",
       " 0.16695588197979072\n",
       " 0.7320769882185658 "
      ]
     },
     "execution_count": 27,
     "metadata": {},
     "output_type": "execute_result"
    }
   ],
   "source": [
    "x=Mv[:,1] # Matrix columns are extracted as vectors"
   ]
  },
  {
   "cell_type": "code",
   "execution_count": 28,
   "metadata": {},
   "outputs": [
    {
     "data": {
      "text/plain": [
       "5-element Array{Float64,1}:\n",
       " 0.908249101499033   \n",
       " 0.004806315275456052\n",
       " 0.7081412605479112  \n",
       " 0.5713356251057549  \n",
       " 0.8931844031019729  "
      ]
     },
     "execution_count": 28,
     "metadata": {},
     "output_type": "execute_result"
    }
   ],
   "source": [
    "y=Mv[:,2]"
   ]
  },
  {
   "cell_type": "code",
   "execution_count": 29,
   "metadata": {},
   "outputs": [
    {
     "data": {
      "text/plain": [
       "false"
      ]
     },
     "execution_count": 29,
     "metadata": {},
     "output_type": "execute_result"
    }
   ],
   "source": [
    "x==v # The types differ"
   ]
  },
  {
   "cell_type": "code",
   "execution_count": 30,
   "metadata": {},
   "outputs": [
    {
     "data": {
      "text/plain": [
       "true"
      ]
     },
     "execution_count": 30,
     "metadata": {},
     "output_type": "execute_result"
    }
   ],
   "source": [
    "y==w"
   ]
  },
  {
   "cell_type": "code",
   "execution_count": 32,
   "metadata": {},
   "outputs": [
    {
     "data": {
      "text/plain": [
       "2-element Array{Float64,1}:\n",
       " 0.42995646851576064\n",
       " 0.908249101499033  "
      ]
     },
     "execution_count": 32,
     "metadata": {},
     "output_type": "execute_result"
    }
   ],
   "source": [
    "row1=Mv[1,:] # matrix rows are also vectors"
   ]
  },
  {
   "cell_type": "code",
   "execution_count": 33,
   "metadata": {},
   "outputs": [
    {
     "data": {
      "text/plain": [
       "1×2 Transpose{Float64,Array{Float64,1}}:\n",
       " 0.429956  0.908249"
      ]
     },
     "execution_count": 33,
     "metadata": {},
     "output_type": "execute_result"
    }
   ],
   "source": [
    "transpose(row1)"
   ]
  },
  {
   "cell_type": "markdown",
   "metadata": {},
   "source": [
    "### 1D and 2D arrays"
   ]
  },
  {
   "cell_type": "code",
   "execution_count": 34,
   "metadata": {},
   "outputs": [
    {
     "data": {
      "text/plain": [
       "1.0:1.0:5.0"
      ]
     },
     "execution_count": 34,
     "metadata": {},
     "output_type": "execute_result"
    }
   ],
   "source": [
    "w=1.0:5"
   ]
  },
  {
   "cell_type": "code",
   "execution_count": 35,
   "metadata": {},
   "outputs": [
    {
     "data": {
      "text/plain": [
       "5-element Array{Float64,1}:\n",
       "  70.0\n",
       "  85.0\n",
       " 100.0\n",
       " 115.0\n",
       " 130.0"
      ]
     },
     "execution_count": 35,
     "metadata": {},
     "output_type": "execute_result"
    }
   ],
   "source": [
    "A*w"
   ]
  },
  {
   "cell_type": "code",
   "execution_count": 36,
   "metadata": {},
   "outputs": [
    {
     "data": {
      "text/plain": [
       "5-element Array{Float64,1}:\n",
       " 1.0\n",
       " 2.0\n",
       " 3.0\n",
       " 4.0\n",
       " 5.0"
      ]
     },
     "execution_count": 36,
     "metadata": {},
     "output_type": "execute_result"
    }
   ],
   "source": [
    "w=collect(1.0:5) "
   ]
  },
  {
   "cell_type": "code",
   "execution_count": 37,
   "metadata": {},
   "outputs": [
    {
     "data": {
      "text/plain": [
       "5-element Array{Float64,1}:\n",
       "  70.0\n",
       "  85.0\n",
       " 100.0\n",
       " 115.0\n",
       " 130.0"
      ]
     },
     "execution_count": 37,
     "metadata": {},
     "output_type": "execute_result"
    }
   ],
   "source": [
    "A*w  # This returns a 1-dimensional array"
   ]
  },
  {
   "cell_type": "code",
   "execution_count": 38,
   "metadata": {},
   "outputs": [
    {
     "data": {
      "text/plain": [
       "5×1 Array{Float64,2}:\n",
       " 10.602169339015775\n",
       " 13.229628032716846\n",
       " 15.857086726417917\n",
       " 18.484545420118984\n",
       " 21.112004113820056"
      ]
     },
     "execution_count": 38,
     "metadata": {},
     "output_type": "execute_result"
    }
   ],
   "source": [
    "A*v # This returns a 2-dimensional array - v is a 5 x 1 array"
   ]
  },
  {
   "cell_type": "markdown",
   "metadata": {},
   "source": [
    "## Discussion\n",
    "\n",
    "Such behavior is due to the fact that `Julia` has vectors as a special type. __ Pros? Cons? __\n",
    " \n",
    "What is matrix $\\times$ vector?\n",
    "\n",
    "What is the result of \n",
    "\n",
    "$$ C[i,j]=A[i,:]*B[:,j]$$"
   ]
  },
  {
   "cell_type": "code",
   "execution_count": 39,
   "metadata": {},
   "outputs": [
    {
     "data": {
      "text/plain": [
       "5×5 Array{Int64,2}:\n",
       "  90  110  130  150  170\n",
       " 110  135  160  185  210\n",
       " 130  160  190  220  250\n",
       " 150  185  220  255  290\n",
       " 170  210  250  290  330"
      ]
     },
     "execution_count": 39,
     "metadata": {},
     "output_type": "execute_result"
    }
   ],
   "source": [
    "B=[A[i,:]⋅A[:,j] for i=1:5, j=1:5] # use ⋅"
   ]
  },
  {
   "cell_type": "code",
   "execution_count": 40,
   "metadata": {},
   "outputs": [
    {
     "data": {
      "text/plain": [
       "5×5 Array{Int64,2}:\n",
       "  90  110  130  150  170\n",
       " 110  135  160  185  210\n",
       " 130  160  190  220  250\n",
       " 150  185  220  255  290\n",
       " 170  210  250  290  330"
      ]
     },
     "execution_count": 40,
     "metadata": {},
     "output_type": "execute_result"
    }
   ],
   "source": [
    "A*A"
   ]
  },
  {
   "cell_type": "code",
   "execution_count": 41,
   "metadata": {},
   "outputs": [
    {
     "ename": "MethodError",
     "evalue": "MethodError: no method matching *(::Array{Int64,1}, ::Array{Int64,1})\nClosest candidates are:\n  *(::Any, ::Any, !Matched::Any, !Matched::Any...) at operators.jl:502\n  *(!Matched::Adjoint{#s576,#s575} where #s575<:Union{DenseArray{T<:Union{Complex{Float32}, Complex{Float64}, Float32, Float64},2}, ReinterpretArray{T<:Union{Complex{Float32}, Complex{Float64}, Float32, Float64},2,S,A} where S where A<:Union{SubArray{T,N,A,I,true} where I<:Tuple{AbstractUnitRange,Vararg{Any,N} where N} where A<:DenseArray where N where T, DenseArray}, ReshapedArray{T<:Union{Complex{Float32}, Complex{Float64}, Float32, Float64},2,A,MI} where MI<:Tuple{Vararg{SignedMultiplicativeInverse{Int64},N} where N} where A<:Union{ReinterpretArray{T,N,S,A} where S where A<:Union{SubArray{T,N,A,I,true} where I<:Tuple{AbstractUnitRange,Vararg{Any,N} where N} where A<:DenseArray where N where T, DenseArray} where N where T, SubArray{T,N,A,I,true} where I<:Tuple{AbstractUnitRange,Vararg{Any,N} where N} where A<:DenseArray where N where T, DenseArray}, SubArray{T<:Union{Complex{Float32}, Complex{Float64}, Float32, Float64},2,A,I,L} where L where I<:Tuple{Vararg{Union{Int64, AbstractRange{Int64}, AbstractCartesianIndex},N} where N} where A<:Union{ReinterpretArray{T,N,S,A} where S where A<:Union{SubArray{T,N,A,I,true} where I<:Tuple{AbstractUnitRange,Vararg{Any,N} where N} where A<:DenseArray where N where T, DenseArray} where N where T, ReshapedArray{T,N,A,MI} where MI<:Tuple{Vararg{SignedMultiplicativeInverse{Int64},N} where N} where A<:Union{ReinterpretArray{T,N,S,A} where S where A<:Union{SubArray{T,N,A,I,true} where I<:Tuple{AbstractUnitRange,Vararg{Any,N} where N} where A<:DenseArray where N where T, DenseArray} where N where T, SubArray{T,N,A,I,true} where I<:Tuple{AbstractUnitRange,Vararg{Any,N} where N} where A<:DenseArray where N where T, DenseArray} where N where T, DenseArray}} where #s576, ::Union{DenseArray{S,1}, ReinterpretArray{S,1,S,A} where S where A<:Union{SubArray{T,N,A,I,true} where I<:Tuple{AbstractUnitRange,Vararg{Any,N} where N} where A<:DenseArray where N where T, DenseArray}, ReshapedArray{S,1,A,MI} where MI<:Tuple{Vararg{SignedMultiplicativeInverse{Int64},N} where N} where A<:Union{ReinterpretArray{T,N,S,A} where S where A<:Union{SubArray{T,N,A,I,true} where I<:Tuple{AbstractUnitRange,Vararg{Any,N} where N} where A<:DenseArray where N where T, DenseArray} where N where T, SubArray{T,N,A,I,true} where I<:Tuple{AbstractUnitRange,Vararg{Any,N} where N} where A<:DenseArray where N where T, DenseArray}, SubArray{S,1,A,I,L} where L where I<:Tuple{Vararg{Union{Int64, AbstractRange{Int64}, AbstractCartesianIndex},N} where N} where A<:Union{ReinterpretArray{T,N,S,A} where S where A<:Union{SubArray{T,N,A,I,true} where I<:Tuple{AbstractUnitRange,Vararg{Any,N} where N} where A<:DenseArray where N where T, DenseArray} where N where T, ReshapedArray{T,N,A,MI} where MI<:Tuple{Vararg{SignedMultiplicativeInverse{Int64},N} where N} where A<:Union{ReinterpretArray{T,N,S,A} where S where A<:Union{SubArray{T,N,A,I,true} where I<:Tuple{AbstractUnitRange,Vararg{Any,N} where N} where A<:DenseArray where N where T, DenseArray} where N where T, SubArray{T,N,A,I,true} where I<:Tuple{AbstractUnitRange,Vararg{Any,N} where N} where A<:DenseArray where N where T, DenseArray} where N where T, DenseArray}}) where {T<:Union{Complex{Float32}, Complex{Float64}, Float32, Float64}, S} at C:\\cygwin\\home\\Administrator\\buildbot\\worker\\package_win64\\build\\usr\\share\\julia\\stdlib\\v1.0\\LinearAlgebra\\src\\matmul.jl:98\n  *(!Matched::Adjoint{#s576,#s575} where #s575<:LinearAlgebra.AbstractTriangular where #s576, ::AbstractArray{T,1} where T) at C:\\cygwin\\home\\Administrator\\buildbot\\worker\\package_win64\\build\\usr\\share\\julia\\stdlib\\v1.0\\LinearAlgebra\\src\\triangular.jl:1805\n  ...",
     "output_type": "error",
     "traceback": [
      "MethodError: no method matching *(::Array{Int64,1}, ::Array{Int64,1})\nClosest candidates are:\n  *(::Any, ::Any, !Matched::Any, !Matched::Any...) at operators.jl:502\n  *(!Matched::Adjoint{#s576,#s575} where #s575<:Union{DenseArray{T<:Union{Complex{Float32}, Complex{Float64}, Float32, Float64},2}, ReinterpretArray{T<:Union{Complex{Float32}, Complex{Float64}, Float32, Float64},2,S,A} where S where A<:Union{SubArray{T,N,A,I,true} where I<:Tuple{AbstractUnitRange,Vararg{Any,N} where N} where A<:DenseArray where N where T, DenseArray}, ReshapedArray{T<:Union{Complex{Float32}, Complex{Float64}, Float32, Float64},2,A,MI} where MI<:Tuple{Vararg{SignedMultiplicativeInverse{Int64},N} where N} where A<:Union{ReinterpretArray{T,N,S,A} where S where A<:Union{SubArray{T,N,A,I,true} where I<:Tuple{AbstractUnitRange,Vararg{Any,N} where N} where A<:DenseArray where N where T, DenseArray} where N where T, SubArray{T,N,A,I,true} where I<:Tuple{AbstractUnitRange,Vararg{Any,N} where N} where A<:DenseArray where N where T, DenseArray}, SubArray{T<:Union{Complex{Float32}, Complex{Float64}, Float32, Float64},2,A,I,L} where L where I<:Tuple{Vararg{Union{Int64, AbstractRange{Int64}, AbstractCartesianIndex},N} where N} where A<:Union{ReinterpretArray{T,N,S,A} where S where A<:Union{SubArray{T,N,A,I,true} where I<:Tuple{AbstractUnitRange,Vararg{Any,N} where N} where A<:DenseArray where N where T, DenseArray} where N where T, ReshapedArray{T,N,A,MI} where MI<:Tuple{Vararg{SignedMultiplicativeInverse{Int64},N} where N} where A<:Union{ReinterpretArray{T,N,S,A} where S where A<:Union{SubArray{T,N,A,I,true} where I<:Tuple{AbstractUnitRange,Vararg{Any,N} where N} where A<:DenseArray where N where T, DenseArray} where N where T, SubArray{T,N,A,I,true} where I<:Tuple{AbstractUnitRange,Vararg{Any,N} where N} where A<:DenseArray where N where T, DenseArray} where N where T, DenseArray}} where #s576, ::Union{DenseArray{S,1}, ReinterpretArray{S,1,S,A} where S where A<:Union{SubArray{T,N,A,I,true} where I<:Tuple{AbstractUnitRange,Vararg{Any,N} where N} where A<:DenseArray where N where T, DenseArray}, ReshapedArray{S,1,A,MI} where MI<:Tuple{Vararg{SignedMultiplicativeInverse{Int64},N} where N} where A<:Union{ReinterpretArray{T,N,S,A} where S where A<:Union{SubArray{T,N,A,I,true} where I<:Tuple{AbstractUnitRange,Vararg{Any,N} where N} where A<:DenseArray where N where T, DenseArray} where N where T, SubArray{T,N,A,I,true} where I<:Tuple{AbstractUnitRange,Vararg{Any,N} where N} where A<:DenseArray where N where T, DenseArray}, SubArray{S,1,A,I,L} where L where I<:Tuple{Vararg{Union{Int64, AbstractRange{Int64}, AbstractCartesianIndex},N} where N} where A<:Union{ReinterpretArray{T,N,S,A} where S where A<:Union{SubArray{T,N,A,I,true} where I<:Tuple{AbstractUnitRange,Vararg{Any,N} where N} where A<:DenseArray where N where T, DenseArray} where N where T, ReshapedArray{T,N,A,MI} where MI<:Tuple{Vararg{SignedMultiplicativeInverse{Int64},N} where N} where A<:Union{ReinterpretArray{T,N,S,A} where S where A<:Union{SubArray{T,N,A,I,true} where I<:Tuple{AbstractUnitRange,Vararg{Any,N} where N} where A<:DenseArray where N where T, DenseArray} where N where T, SubArray{T,N,A,I,true} where I<:Tuple{AbstractUnitRange,Vararg{Any,N} where N} where A<:DenseArray where N where T, DenseArray} where N where T, DenseArray}}) where {T<:Union{Complex{Float32}, Complex{Float64}, Float32, Float64}, S} at C:\\cygwin\\home\\Administrator\\buildbot\\worker\\package_win64\\build\\usr\\share\\julia\\stdlib\\v1.0\\LinearAlgebra\\src\\matmul.jl:98\n  *(!Matched::Adjoint{#s576,#s575} where #s575<:LinearAlgebra.AbstractTriangular where #s576, ::AbstractArray{T,1} where T) at C:\\cygwin\\home\\Administrator\\buildbot\\worker\\package_win64\\build\\usr\\share\\julia\\stdlib\\v1.0\\LinearAlgebra\\src\\triangular.jl:1805\n  ...",
      "",
      "Stacktrace:",
      " [1] (::getfield(Main, Symbol(\"##15#16\")))(::Tuple{Int64,Int64}) at .\\none:0",
      " [2] iterate at .\\generator.jl:47 [inlined]",
      " [3] collect(::Base.Generator{Base.Iterators.ProductIterator{Tuple{UnitRange{Int64},UnitRange{Int64}}},getfield(Main, Symbol(\"##15#16\"))}) at .\\array.jl:619",
      " [4] top-level scope at In[41]:1"
     ]
    }
   ],
   "source": [
    "[A[i,:]*A[:,j] for i=1:5, j=1:5]"
   ]
  },
  {
   "cell_type": "code",
   "execution_count": 42,
   "metadata": {},
   "outputs": [
    {
     "data": {
      "text/plain": [
       "5×5 Array{Int64,2}:\n",
       "  90  110  130  150  170\n",
       " 110  135  160  185  210\n",
       " 130  160  190  220  250\n",
       " 150  185  220  255  290\n",
       " 170  210  250  290  330"
      ]
     },
     "execution_count": 42,
     "metadata": {},
     "output_type": "execute_result"
    }
   ],
   "source": [
    "[transpose(A[i,:])*A[:,j] for i=1:5, j=1:5]"
   ]
  },
  {
   "cell_type": "markdown",
   "metadata": {},
   "source": [
    "## `ones()`, `eye()` and `zeros()`\n",
    "   \n",
    "Notice that the output type depends on the argument. This is a general Julia feature called `Multiple dispatch` \n",
    "and will be explained later in more detail. "
   ]
  },
  {
   "cell_type": "code",
   "execution_count": 43,
   "metadata": {},
   "outputs": [
    {
     "data": {
      "text/plain": [
       "3×5 Array{Float64,2}:\n",
       " 1.0  1.0  1.0  1.0  1.0\n",
       " 1.0  1.0  1.0  1.0  1.0\n",
       " 1.0  1.0  1.0  1.0  1.0"
      ]
     },
     "execution_count": 43,
     "metadata": {},
     "output_type": "execute_result"
    }
   ],
   "source": [
    "ones(3,5)"
   ]
  },
  {
   "cell_type": "code",
   "execution_count": 44,
   "metadata": {},
   "outputs": [
    {
     "data": {
      "text/plain": [
       "5-element Array{Int64,1}:\n",
       " 1\n",
       " 1\n",
       " 1\n",
       " 1\n",
       " 1"
      ]
     },
     "execution_count": 44,
     "metadata": {},
     "output_type": "execute_result"
    }
   ],
   "source": [
    "ones(Int,5)"
   ]
  },
  {
   "cell_type": "code",
   "execution_count": 45,
   "metadata": {},
   "outputs": [
    {
     "data": {
      "text/plain": [
       "4×6 Array{Float64,2}:\n",
       " 1.0  1.0  1.0  1.0  1.0  1.0\n",
       " 1.0  1.0  1.0  1.0  1.0  1.0\n",
       " 1.0  1.0  1.0  1.0  1.0  1.0\n",
       " 1.0  1.0  1.0  1.0  1.0  1.0"
      ]
     },
     "execution_count": 45,
     "metadata": {},
     "output_type": "execute_result"
    }
   ],
   "source": [
    "ones(size(rand(1:3,4,6)))\n",
    "# The output type depends on the argument. Float64 is the default."
   ]
  },
  {
   "cell_type": "code",
   "execution_count": 46,
   "metadata": {},
   "outputs": [
    {
     "data": {
      "text/plain": [
       "3×5 Array{Float64,2}:\n",
       " 0.0  0.0  0.0  0.0  0.0\n",
       " 0.0  0.0  0.0  0.0  0.0\n",
       " 0.0  0.0  0.0  0.0  0.0"
      ]
     },
     "execution_count": 46,
     "metadata": {},
     "output_type": "execute_result"
    }
   ],
   "source": [
    "zeros(3,5)"
   ]
  },
  {
   "cell_type": "code",
   "execution_count": 47,
   "metadata": {},
   "outputs": [
    {
     "data": {
      "text/plain": [
       "4×4 Array{Int64,2}:\n",
       " 1  0  0  0\n",
       " 0  1  0  0\n",
       " 0  0  1  0\n",
       " 0  0  0  1"
      ]
     },
     "execution_count": 47,
     "metadata": {},
     "output_type": "execute_result"
    }
   ],
   "source": [
    "# There is no function eye()\n",
    "Matrix{Int}(I,4,4)"
   ]
  },
  {
   "cell_type": "code",
   "execution_count": 48,
   "metadata": {},
   "outputs": [
    {
     "data": {
      "text/plain": [
       "4×4 Array{Int64,2}:\n",
       "  4   7   3   0\n",
       " -1  -2   3  -8\n",
       "  4  -4  -1  -3\n",
       " -4  -1  -9   2"
      ]
     },
     "execution_count": 48,
     "metadata": {},
     "output_type": "execute_result"
    }
   ],
   "source": [
    "# I is computed automatically\n",
    "A=rand(-9:9,4,4)"
   ]
  },
  {
   "cell_type": "code",
   "execution_count": 49,
   "metadata": {},
   "outputs": [
    {
     "data": {
      "text/plain": [
       "4×4 Array{Int64,2}:\n",
       "  3   7   3   0\n",
       " -1  -3   3  -8\n",
       "  4  -4  -2  -3\n",
       " -4  -1  -9   1"
      ]
     },
     "execution_count": 49,
     "metadata": {},
     "output_type": "execute_result"
    }
   ],
   "source": [
    "A-I"
   ]
  },
  {
   "cell_type": "markdown",
   "metadata": {},
   "source": [
    "## Complex numbers\n",
    "\n",
    "`i` is too valuable symbol for loops, so Julia uses `im` for the complex unit. "
   ]
  },
  {
   "cell_type": "code",
   "execution_count": 50,
   "metadata": {},
   "outputs": [
    {
     "data": {
      "text/plain": [
       "im"
      ]
     },
     "execution_count": 50,
     "metadata": {},
     "output_type": "execute_result"
    }
   ],
   "source": [
    "im"
   ]
  },
  {
   "cell_type": "code",
   "execution_count": 51,
   "metadata": {},
   "outputs": [
    {
     "data": {
      "text/plain": [
       "0 + 2im"
      ]
     },
     "execution_count": 51,
     "metadata": {},
     "output_type": "execute_result"
    }
   ],
   "source": [
    "2im"
   ]
  },
  {
   "cell_type": "code",
   "execution_count": 52,
   "metadata": {},
   "outputs": [
    {
     "data": {
      "text/plain": [
       "Complex{Int64}"
      ]
     },
     "execution_count": 52,
     "metadata": {},
     "output_type": "execute_result"
    }
   ],
   "source": [
    "typeof(ans)"
   ]
  },
  {
   "cell_type": "code",
   "execution_count": 53,
   "metadata": {},
   "outputs": [
    {
     "data": {
      "text/plain": [
       "Complex{Float64}"
      ]
     },
     "execution_count": 53,
     "metadata": {},
     "output_type": "execute_result"
    }
   ],
   "source": [
    "typeof(2.0im)"
   ]
  },
  {
   "cell_type": "code",
   "execution_count": 54,
   "metadata": {},
   "outputs": [
    {
     "data": {
      "text/plain": [
       "3 + 4im"
      ]
     },
     "execution_count": 54,
     "metadata": {},
     "output_type": "execute_result"
    }
   ],
   "source": [
    "complex(3,4) # Another way of defining complex numbers"
   ]
  },
  {
   "cell_type": "code",
   "execution_count": 55,
   "metadata": {},
   "outputs": [
    {
     "data": {
      "text/plain": [
       "3.0 + 4.0im"
      ]
     },
     "execution_count": 55,
     "metadata": {},
     "output_type": "execute_result"
    }
   ],
   "source": [
    "complex(3,4.0) # If one of the arguments if Float64, so is the entire number - promotion!"
   ]
  },
  {
   "cell_type": "code",
   "execution_count": 56,
   "metadata": {},
   "outputs": [
    {
     "ename": "DomainError",
     "evalue": "DomainError with -1.0:\nsqrt will only return a complex result if called with a complex argument. Try sqrt(Complex(x)).",
     "output_type": "error",
     "traceback": [
      "DomainError with -1.0:\nsqrt will only return a complex result if called with a complex argument. Try sqrt(Complex(x)).",
      "",
      "Stacktrace:",
      " [1] throw_complex_domainerror(::Symbol, ::Float64) at .\\math.jl:31",
      " [2] sqrt at .\\math.jl:492 [inlined]",
      " [3] sqrt(::Int64) at .\\math.jl:518",
      " [4] top-level scope at In[56]:1"
     ]
    }
   ],
   "source": [
    "sqrt(-1) # This produces an error (like in any other language)"
   ]
  },
  {
   "cell_type": "code",
   "execution_count": 57,
   "metadata": {},
   "outputs": [
    {
     "data": {
      "text/plain": [
       "0.0 + 1.0im"
      ]
     },
     "execution_count": 57,
     "metadata": {},
     "output_type": "execute_result"
    }
   ],
   "source": [
    "sqrt(complex(-1))  # and this is fine."
   ]
  },
  {
   "cell_type": "markdown",
   "metadata": {},
   "source": [
    "## Ternary operator\n",
    "Let us define our version of the sign function"
   ]
  },
  {
   "cell_type": "code",
   "execution_count": 58,
   "metadata": {},
   "outputs": [
    {
     "data": {
      "text/plain": [
       "si (generic function with 1 method)"
      ]
     },
     "execution_count": 58,
     "metadata": {},
     "output_type": "execute_result"
    }
   ],
   "source": [
    "si(x) = (x>0) ? 1 : -1"
   ]
  },
  {
   "cell_type": "code",
   "execution_count": 59,
   "metadata": {},
   "outputs": [
    {
     "data": {
      "text/plain": [
       "-1"
      ]
     },
     "execution_count": 59,
     "metadata": {},
     "output_type": "execute_result"
    }
   ],
   "source": [
    "si(-13)"
   ]
  },
  {
   "cell_type": "markdown",
   "metadata": {},
   "source": [
    "This is equivalent to:"
   ]
  },
  {
   "cell_type": "code",
   "execution_count": 60,
   "metadata": {},
   "outputs": [
    {
     "data": {
      "text/plain": [
       "si (generic function with 1 method)"
      ]
     },
     "execution_count": 60,
     "metadata": {},
     "output_type": "execute_result"
    }
   ],
   "source": [
    "function si(x)\n",
    "    if x>0\n",
    "        return 1\n",
    "    else\n",
    "        return -1\n",
    "    end\n",
    "end"
   ]
  },
  {
   "cell_type": "code",
   "execution_count": 61,
   "metadata": {},
   "outputs": [
    {
     "data": {
      "text/plain": [
       "(-1, -1, -1)"
      ]
     },
     "execution_count": 61,
     "metadata": {},
     "output_type": "execute_result"
    }
   ],
   "source": [
    "si(pi-8), si(0), si(0.0)"
   ]
  },
  {
   "cell_type": "markdown",
   "metadata": {},
   "source": [
    "The expressions can be nested:"
   ]
  },
  {
   "cell_type": "code",
   "execution_count": 62,
   "metadata": {},
   "outputs": [
    {
     "data": {
      "text/plain": [
       "si (generic function with 1 method)"
      ]
     },
     "execution_count": 62,
     "metadata": {},
     "output_type": "execute_result"
    }
   ],
   "source": [
    "si(x) = (x>0) ? 1 : ((x<0) ? -1 : 0) # now si(0) is 0"
   ]
  },
  {
   "cell_type": "code",
   "execution_count": 63,
   "metadata": {},
   "outputs": [
    {
     "data": {
      "text/plain": [
       "(-1, 0)"
      ]
     },
     "execution_count": 63,
     "metadata": {},
     "output_type": "execute_result"
    }
   ],
   "source": [
    "si(π-8), si(0) # '\\pi Tab' produces π and means π"
   ]
  },
  {
   "cell_type": "markdown",
   "metadata": {},
   "source": [
    "## Typing\n",
    "Special mathematical (LaTeX) symbols can be used (like $\\alpha$, $\\Xi$, $\\pi$, $\\oplus$, $\\cdot$, etc.). The symbol in both, the notebook and command line version, is produced by writing \n",
    "LaTeX command followed by `Tab` "
   ]
  },
  {
   "cell_type": "code",
   "execution_count": 64,
   "metadata": {},
   "outputs": [
    {
     "data": {
      "text/plain": [
       "48"
      ]
     },
     "execution_count": 64,
     "metadata": {},
     "output_type": "execute_result"
    }
   ],
   "source": [
    "Ξ = 8; Ψ  = 6; Γ = Ξ ⋅ Ψ\n"
   ]
  },
  {
   "cell_type": "code",
   "execution_count": 65,
   "metadata": {},
   "outputs": [
    {
     "data": {
      "text/plain": [
       "Int64"
      ]
     },
     "execution_count": 65,
     "metadata": {},
     "output_type": "execute_result"
    }
   ],
   "source": [
    "typeof(Γ)"
   ]
  },
  {
   "cell_type": "markdown",
   "metadata": {},
   "source": [
    "## Writing a program and running a file\n",
    "\n",
    "Special feature of Julia is that the results of commands are not displayed, unless explicitely required. \n",
    "\n",
    "To display results you can use commands `@show` or `println()` (or many others, see the [Text I/O](http://julia.readthedocs.org/en/latest/stdlib/base/?highlight=print#text-i-o) in the manual.)\n",
    "\n",
    "Consider the file `deploy.jl` with the following code\n",
    "```julia\n",
    "n=int(ARGS[1])          # take one integer argument\n",
    "println(rand(1:n,n,n))  # generate and print n x n matrix of random integers between 1 and n\n",
    "@show b=3               # set b to 3 and show the result\n",
    "c=4                     # set c to 4\n",
    "```\n",
    "Running the program in the shell gives\n",
    "```julia\n",
    "$ julia deploy.jl 5\n",
    "[1 3 2 4 1\n",
    " 5 3 1 1 4\n",
    " 5 4 2 2 5\n",
    " 3 1 2 3 4\n",
    " 4 4 5 4 4]\n",
    "b = 3 => 3\n",
    "```\n",
    "Notice that the result of the last command (_c_) is not displayed.\n",
    "\n",
    ">You can, of course, also run the above command in the `Console` tab of `JuliaBox`. To do this, you first have to change the directory\n",
    "```\n",
    "cd Julia-Course/src\n",
    "```\n",
    "\n",
    "Similarly, the program can be converted to executable and run directly, \n",
    "without referencing `julia` in the command line.\n",
    "The refernece to `julia` must be added in the first line, as in the file `deploy1.jl`:\n",
    "```julia\n",
    "#!/usr/bin/julia\n",
    "n=int(ARGS[1])\n",
    "println(rand(1:n,n,n))\n",
    "@show b=3\n",
    "c=4\n",
    "```\n",
    "In the shell do:\n",
    "```\n",
    "$ chmod +x deploy1.jl\n",
    "$ ./deploy1.jl 5\n",
    "[4 5 3 2 5\n",
    " 4 2 1 5 1\n",
    " 3 2 4 5 1\n",
    " 2 4 4 3 1\n",
    " 3 4 5 3 3]\n",
    "b = 3 => 3\n",
    "```\n",
    "Finally, to run the same program in `julia` shell or `IJulia`, the input has to be changed, as in the file `deploy2.jl`:\n",
    "```julia\n",
    "n=int(readline())\n",
    "println(rand(1:n,n,n))\n",
    "@show b=3\n",
    "c=4\n",
    "```\n",
    "__Notice that now the result of the last line is displayed by default__  - in this case it is `4`, the values of `c`. The output of the random matrix and of `b` is forced."
   ]
  },
  {
   "cell_type": "code",
   "execution_count": 68,
   "metadata": {},
   "outputs": [
    {
     "name": "stdout",
     "output_type": "stream",
     "text": [
      "stdin> 5\n",
      "[2 4 1 1 5; 5 1 2 5 3; 2 2 4 4 2; 5 3 3 3 4; 1 4 2 2 1]\n",
      "b = 3 = 3\n"
     ]
    },
    {
     "data": {
      "text/plain": [
       "4"
      ]
     },
     "execution_count": 68,
     "metadata": {},
     "output_type": "execute_result"
    }
   ],
   "source": [
    "include(\"deploy2.jl\")"
   ]
  },
  {
   "cell_type": "code",
   "execution_count": 69,
   "metadata": {},
   "outputs": [
    {
     "data": {
      "text/latex": [
       "\\begin{verbatim}\n",
       "readline(io::IO=stdin; keep::Bool=false)\n",
       "readline(filename::AbstractString; keep::Bool=false)\n",
       "\\end{verbatim}\n",
       "Read a single line of text from the given I/O stream or file (defaults to \\texttt{stdin}). When reading from a file, the text is assumed to be encoded in UTF-8. Lines in the input end with \\texttt{'{\\textbackslash}n'} or \\texttt{\"{\\textbackslash}r{\\textbackslash}n\"} or the end of an input stream. When \\texttt{keep} is false (as it is by default), these trailing newline characters are removed from the line before it is returned. When \\texttt{keep} is true, they are returned as part of the line.\n",
       "\n",
       "\\section{Examples}\n",
       "\\begin{verbatim}\n",
       "julia> open(\"my_file.txt\", \"w\") do io\n",
       "           write(io, \"JuliaLang is a GitHub organization.\\nIt has many members.\\n\");\n",
       "       end\n",
       "57\n",
       "\n",
       "julia> readline(\"my_file.txt\")\n",
       "\"JuliaLang is a GitHub organization.\"\n",
       "\n",
       "julia> readline(\"my_file.txt\", keep=true)\n",
       "\"JuliaLang is a GitHub organization.\\n\"\n",
       "\n",
       "julia> rm(\"my_file.txt\")\n",
       "\\end{verbatim}\n"
      ],
      "text/markdown": [
       "```\n",
       "readline(io::IO=stdin; keep::Bool=false)\n",
       "readline(filename::AbstractString; keep::Bool=false)\n",
       "```\n",
       "\n",
       "Read a single line of text from the given I/O stream or file (defaults to `stdin`). When reading from a file, the text is assumed to be encoded in UTF-8. Lines in the input end with `'\\n'` or `\"\\r\\n\"` or the end of an input stream. When `keep` is false (as it is by default), these trailing newline characters are removed from the line before it is returned. When `keep` is true, they are returned as part of the line.\n",
       "\n",
       "# Examples\n",
       "\n",
       "```jldoctest\n",
       "julia> open(\"my_file.txt\", \"w\") do io\n",
       "           write(io, \"JuliaLang is a GitHub organization.\\nIt has many members.\\n\");\n",
       "       end\n",
       "57\n",
       "\n",
       "julia> readline(\"my_file.txt\")\n",
       "\"JuliaLang is a GitHub organization.\"\n",
       "\n",
       "julia> readline(\"my_file.txt\", keep=true)\n",
       "\"JuliaLang is a GitHub organization.\\n\"\n",
       "\n",
       "julia> rm(\"my_file.txt\")\n",
       "```\n"
      ],
      "text/plain": [
       "\u001b[36m  readline(io::IO=stdin; keep::Bool=false)\u001b[39m\n",
       "\u001b[36m  readline(filename::AbstractString; keep::Bool=false)\u001b[39m\n",
       "\n",
       "  Read a single line of text from the given I/O stream or file (defaults to\n",
       "  \u001b[36mstdin\u001b[39m). When reading from a file, the text is assumed to be encoded in\n",
       "  UTF-8. Lines in the input end with \u001b[36m'\\n'\u001b[39m or \u001b[36m\"\\r\\n\"\u001b[39m or the end of an input\n",
       "  stream. When \u001b[36mkeep\u001b[39m is false (as it is by default), these trailing newline\n",
       "  characters are removed from the line before it is returned. When \u001b[36mkeep\u001b[39m is\n",
       "  true, they are returned as part of the line.\n",
       "\n",
       "\u001b[1m  Examples\u001b[22m\n",
       "\u001b[1m  ≡≡≡≡≡≡≡≡≡≡\u001b[22m\n",
       "\n",
       "\u001b[36m  julia> open(\"my_file.txt\", \"w\") do io\u001b[39m\n",
       "\u001b[36m             write(io, \"JuliaLang is a GitHub organization.\\nIt has many members.\\n\");\u001b[39m\n",
       "\u001b[36m         end\u001b[39m\n",
       "\u001b[36m  57\u001b[39m\n",
       "\u001b[36m  \u001b[39m\n",
       "\u001b[36m  julia> readline(\"my_file.txt\")\u001b[39m\n",
       "\u001b[36m  \"JuliaLang is a GitHub organization.\"\u001b[39m\n",
       "\u001b[36m  \u001b[39m\n",
       "\u001b[36m  julia> readline(\"my_file.txt\", keep=true)\u001b[39m\n",
       "\u001b[36m  \"JuliaLang is a GitHub organization.\\n\"\u001b[39m\n",
       "\u001b[36m  \u001b[39m\n",
       "\u001b[36m  julia> rm(\"my_file.txt\")\u001b[39m"
      ]
     },
     "execution_count": 69,
     "metadata": {},
     "output_type": "execute_result"
    }
   ],
   "source": [
    "?readline()"
   ]
  },
  {
   "cell_type": "markdown",
   "metadata": {},
   "source": [
    "## Running external programs and unix pipe\n",
    "\n",
    "### `run()` - calling external program"
   ]
  },
  {
   "cell_type": "code",
   "execution_count": 70,
   "metadata": {},
   "outputs": [
    {
     "name": "stdout",
     "output_type": "stream",
     "text": [
      "search: \u001b[0m\u001b[1mr\u001b[22m\u001b[0m\u001b[1mu\u001b[22m\u001b[0m\u001b[1mn\u001b[22m t\u001b[0m\u001b[1mr\u001b[22m\u001b[0m\u001b[1mu\u001b[22m\u001b[0m\u001b[1mn\u001b[22mc t\u001b[0m\u001b[1mr\u001b[22m\u001b[0m\u001b[1mu\u001b[22m\u001b[0m\u001b[1mn\u001b[22mcate \u001b[0m\u001b[1mr\u001b[22mo\u001b[0m\u001b[1mu\u001b[22m\u001b[0m\u001b[1mn\u001b[22md \u001b[0m\u001b[1mr\u001b[22mo\u001b[0m\u001b[1mu\u001b[22m\u001b[0m\u001b[1mn\u001b[22mding \u001b[0m\u001b[1mR\u001b[22mo\u001b[0m\u001b[1mu\u001b[22m\u001b[0m\u001b[1mn\u001b[22mdUp \u001b[0m\u001b[1mR\u001b[22mo\u001b[0m\u001b[1mu\u001b[22m\u001b[0m\u001b[1mn\u001b[22mdDown \u001b[0m\u001b[1mR\u001b[22mo\u001b[0m\u001b[1mu\u001b[22m\u001b[0m\u001b[1mn\u001b[22mdToZero\n",
      "\n"
     ]
    },
    {
     "data": {
      "text/latex": [
       "\\begin{verbatim}\n",
       "run(command, args...; wait::Bool = true)\n",
       "\\end{verbatim}\n",
       "Run a command object, constructed with backticks. Throws an error if anything goes wrong, including the process exiting with a non-zero status (when \\texttt{wait} is true).\n",
       "\n",
       "If \\texttt{wait} is false, the process runs asynchronously. You can later wait for it and check its exit status by calling \\texttt{success} on the returned process object.\n",
       "\n",
       "When \\texttt{wait} is false, the process' I/O streams are directed to \\texttt{devnull}. When \\texttt{wait} is true, I/O streams are shared with the parent process. Use \\href{@ref}{\\texttt{pipeline}} to control I/O redirection.\n",
       "\n"
      ],
      "text/markdown": [
       "```\n",
       "run(command, args...; wait::Bool = true)\n",
       "```\n",
       "\n",
       "Run a command object, constructed with backticks. Throws an error if anything goes wrong, including the process exiting with a non-zero status (when `wait` is true).\n",
       "\n",
       "If `wait` is false, the process runs asynchronously. You can later wait for it and check its exit status by calling `success` on the returned process object.\n",
       "\n",
       "When `wait` is false, the process' I/O streams are directed to `devnull`. When `wait` is true, I/O streams are shared with the parent process. Use [`pipeline`](@ref) to control I/O redirection.\n"
      ],
      "text/plain": [
       "\u001b[36m  run(command, args...; wait::Bool = true)\u001b[39m\n",
       "\n",
       "  Run a command object, constructed with backticks. Throws an error if\n",
       "  anything goes wrong, including the process exiting with a non-zero status\n",
       "  (when \u001b[36mwait\u001b[39m is true).\n",
       "\n",
       "  If \u001b[36mwait\u001b[39m is false, the process runs asynchronously. You can later wait for it\n",
       "  and check its exit status by calling \u001b[36msuccess\u001b[39m on the returned process object.\n",
       "\n",
       "  When \u001b[36mwait\u001b[39m is false, the process' I/O streams are directed to \u001b[36mdevnull\u001b[39m. When\n",
       "  \u001b[36mwait\u001b[39m is true, I/O streams are shared with the parent process. Use \u001b[36mpipeline\u001b[39m\n",
       "  to control I/O redirection."
      ]
     },
     "execution_count": 70,
     "metadata": {},
     "output_type": "execute_result"
    }
   ],
   "source": [
    "?run"
   ]
  },
  {
   "cell_type": "markdown",
   "metadata": {},
   "source": [
    "Notice, that this is not a gret help, Julia has much better commands for this."
   ]
  },
  {
   "cell_type": "code",
   "execution_count": 71,
   "metadata": {},
   "outputs": [
    {
     "ename": "Base.IOError",
     "evalue": "IOError: could not spawn `cal`: no such file or directory (ENOENT)",
     "output_type": "error",
     "traceback": [
      "IOError: could not spawn `cal`: no such file or directory (ENOENT)",
      "",
      "Stacktrace:",
      " [1] _jl_spawn(::String, ::Array{String,1}, ::Cmd, ::Tuple{RawFD,RawFD,RawFD}) at .\\process.jl:367",
      " [2] (::getfield(Base, Symbol(\"##493#494\")){Cmd})(::Tuple{RawFD,RawFD,RawFD}) at .\\process.jl:509",
      " [3] setup_stdio(::getfield(Base, Symbol(\"##493#494\")){Cmd}, ::Tuple{RawFD,RawFD,RawFD}) at .\\process.jl:490",
      " [4] #_spawn#492(::Nothing, ::Function, ::Cmd, ::Tuple{RawFD,RawFD,RawFD}) at .\\process.jl:508",
      " [5] _spawn at .\\process.jl:504 [inlined]",
      " [6] #run#503(::Bool, ::Function, ::Cmd) at .\\process.jl:662",
      " [7] run(::Cmd) at .\\process.jl:661",
      " [8] top-level scope at In[71]:1"
     ]
    }
   ],
   "source": [
    "# This calls the unix Calendar program\n",
    "run(`cal`)"
   ]
  },
  {
   "cell_type": "code",
   "execution_count": 72,
   "metadata": {},
   "outputs": [
    {
     "ename": "Base.IOError",
     "evalue": "IOError: could not spawn `cal`: no such file or directory (ENOENT)",
     "output_type": "error",
     "traceback": [
      "IOError: could not spawn `cal`: no such file or directory (ENOENT)",
      "",
      "Stacktrace:",
      " [1] _jl_spawn(::String, ::Array{String,1}, ::Cmd, ::Tuple{RawFD,Base.Libc.WindowsRawSocket,RawFD}) at .\\process.jl:367",
      " [2] (::getfield(Base, Symbol(\"##493#494\")){Cmd})(::Tuple{RawFD,Base.Libc.WindowsRawSocket,RawFD}) at .\\process.jl:509",
      " [3] setup_stdio(::getfield(Base, Symbol(\"##493#494\")){Cmd}, ::Tuple{RawFD,Base.Libc.WindowsRawSocket,RawFD}) at .\\process.jl:490",
      " [4] #_spawn#492(::Base.ProcessChain, ::Function, ::Cmd, ::Tuple{RawFD,Base.Libc.WindowsRawSocket,RawFD}) at .\\process.jl:508",
      " [5] (::getfield(Base, Symbol(\"#kw##_spawn\")))(::NamedTuple{(:chain,),Tuple{Base.ProcessChain}}, ::typeof(Base._spawn), ::Cmd, ::Tuple{RawFD,Base.Libc.WindowsRawSocket,RawFD}) at .\\none:0",
      " [6] #_spawn#490(::Nothing, ::Function, ::Base.OrCmds, ::Tuple{RawFD,RawFD,RawFD}) at .\\process.jl:411",
      " [7] _spawn at .\\process.jl:406 [inlined]",
      " [8] #run#503 at .\\process.jl:662 [inlined]",
      " [9] run(::Base.OrCmds) at .\\process.jl:661",
      " [10] top-level scope at In[72]:1"
     ]
    }
   ],
   "source": [
    "# The pipe is '|>' instead of usual '|'\n",
    "run(pipeline(`cal`,`grep Sa`)) "
   ]
  },
  {
   "cell_type": "markdown",
   "metadata": {},
   "source": [
    "### `ccall()` - calling `C` program"
   ]
  },
  {
   "cell_type": "code",
   "execution_count": 73,
   "metadata": {},
   "outputs": [
    {
     "name": "stdout",
     "output_type": "stream",
     "text": [
      "search: \u001b[0m\u001b[1mc\u001b[22m\u001b[0m\u001b[1mc\u001b[22m\u001b[0m\u001b[1ma\u001b[22m\u001b[0m\u001b[1ml\u001b[22m\u001b[0m\u001b[1ml\u001b[22m Abstra\u001b[0m\u001b[1mc\u001b[22mt\u001b[0m\u001b[1mC\u001b[22mh\u001b[0m\u001b[1ma\u001b[22mnne\u001b[0m\u001b[1ml\u001b[22m\n",
      "\n"
     ]
    },
    {
     "data": {
      "text/latex": [
       "\\begin{verbatim}\n",
       "ccall((function_name, library), returntype, (argtype1, ...), argvalue1, ...)\n",
       "ccall(function_pointer, returntype, (argtype1, ...), argvalue1, ...)\n",
       "\\end{verbatim}\n",
       "Call a function in a C-exported shared library, specified by the tuple \\texttt{(function\\_name, library)}, where each component is either a string or symbol. Alternatively, \\texttt{ccall} may also be used to call a function pointer \\texttt{function\\_pointer}, such as one returned by \\texttt{dlsym}.\n",
       "\n",
       "Note that the argument type tuple must be a literal tuple, and not a tuple-valued variable or expression.\n",
       "\n",
       "Each \\texttt{argvalue} to the \\texttt{ccall} will be converted to the corresponding \\texttt{argtype}, by automatic insertion of calls to \\texttt{unsafe\\_convert(argtype, cconvert(argtype, argvalue))}. (See also the documentation for \\href{@ref Base.unsafe_convert}{\\texttt{unsafe\\_convert}} and \\href{@ref Base.cconvert}{\\texttt{cconvert}} for further details.) In most cases, this simply results in a call to \\texttt{convert(argtype, argvalue)}.\n",
       "\n"
      ],
      "text/markdown": [
       "```\n",
       "ccall((function_name, library), returntype, (argtype1, ...), argvalue1, ...)\n",
       "ccall(function_pointer, returntype, (argtype1, ...), argvalue1, ...)\n",
       "```\n",
       "\n",
       "Call a function in a C-exported shared library, specified by the tuple `(function_name, library)`, where each component is either a string or symbol. Alternatively, `ccall` may also be used to call a function pointer `function_pointer`, such as one returned by `dlsym`.\n",
       "\n",
       "Note that the argument type tuple must be a literal tuple, and not a tuple-valued variable or expression.\n",
       "\n",
       "Each `argvalue` to the `ccall` will be converted to the corresponding `argtype`, by automatic insertion of calls to `unsafe_convert(argtype, cconvert(argtype, argvalue))`. (See also the documentation for [`unsafe_convert`](@ref Base.unsafe_convert) and [`cconvert`](@ref Base.cconvert) for further details.) In most cases, this simply results in a call to `convert(argtype, argvalue)`.\n"
      ],
      "text/plain": [
       "\u001b[36m  ccall((function_name, library), returntype, (argtype1, ...), argvalue1, ...)\u001b[39m\n",
       "\u001b[36m  ccall(function_pointer, returntype, (argtype1, ...), argvalue1, ...)\u001b[39m\n",
       "\n",
       "  Call a function in a C-exported shared library, specified by the tuple\n",
       "  \u001b[36m(function_name, library)\u001b[39m, where each component is either a string or symbol.\n",
       "  Alternatively, \u001b[36mccall\u001b[39m may also be used to call a function pointer\n",
       "  \u001b[36mfunction_pointer\u001b[39m, such as one returned by \u001b[36mdlsym\u001b[39m.\n",
       "\n",
       "  Note that the argument type tuple must be a literal tuple, and not a\n",
       "  tuple-valued variable or expression.\n",
       "\n",
       "  Each \u001b[36margvalue\u001b[39m to the \u001b[36mccall\u001b[39m will be converted to the corresponding \u001b[36margtype\u001b[39m,\n",
       "  by automatic insertion of calls to \u001b[36munsafe_convert(argtype, cconvert(argtype,\n",
       "  argvalue))\u001b[39m. (See also the documentation for \u001b[36munsafe_convert\u001b[39m and \u001b[36mcconvert\u001b[39m for\n",
       "  further details.) In most cases, this simply results in a call to\n",
       "  \u001b[36mconvert(argtype, argvalue)\u001b[39m."
      ]
     },
     "execution_count": 73,
     "metadata": {},
     "output_type": "execute_result"
    }
   ],
   "source": [
    "?ccall"
   ]
  },
  {
   "cell_type": "code",
   "execution_count": 74,
   "metadata": {},
   "outputs": [
    {
     "data": {
      "text/plain": [
       "1172618"
      ]
     },
     "execution_count": 74,
     "metadata": {},
     "output_type": "execute_result"
    }
   ],
   "source": [
    "# Simple version\n",
    "ccall(:clock,Int,()) "
   ]
  },
  {
   "cell_type": "code",
   "execution_count": 75,
   "metadata": {},
   "outputs": [
    {
     "ename": "ErrorException",
     "evalue": "error compiling top-level scope: could not load library \"libc.so.6\"\nThe specified module could not be found.\r\n",
     "output_type": "error",
     "traceback": [
      "error compiling top-level scope: could not load library \"libc.so.6\"\nThe specified module could not be found.\r\n",
      ""
     ]
    }
   ],
   "source": [
    "path = ccall((:getenv, \"libc.so.6\"), Cstring, (Cstring,), \"SHELL\")"
   ]
  },
  {
   "cell_type": "code",
   "execution_count": 76,
   "metadata": {},
   "outputs": [
    {
     "ename": "UndefVarError",
     "evalue": "UndefVarError: path not defined",
     "output_type": "error",
     "traceback": [
      "UndefVarError: path not defined",
      "",
      "Stacktrace:",
      " [1] top-level scope at In[76]:1"
     ]
    }
   ],
   "source": [
    "unsafe_string(path) # Human readable version"
   ]
  },
  {
   "cell_type": "markdown",
   "metadata": {},
   "source": [
    "## `Task()` and `Channel`\n",
    "`Julia` has  a control flow feature that allows computations to be suspended \n",
    "and resumed in a flexible manner (see\n",
    "[Tasks](https://docs.julialang.org/en/latest/manual/control-flow/#man-tasks-1) in the manual)."
   ]
  },
  {
   "cell_type": "code",
   "execution_count": 77,
   "metadata": {},
   "outputs": [
    {
     "data": {
      "text/plain": [
       "stepbystep (generic function with 1 method)"
      ]
     },
     "execution_count": 77,
     "metadata": {},
     "output_type": "execute_result"
    }
   ],
   "source": [
    "function stepbystep(c::Channel)\n",
    "    put!(c, \"start\")\n",
    "    for n=1:3\n",
    "        put!(c,n^2)    \n",
    "    end\n",
    "    put!(c,\"stop\")\n",
    "end"
   ]
  },
  {
   "cell_type": "code",
   "execution_count": 78,
   "metadata": {},
   "outputs": [
    {
     "data": {
      "text/plain": [
       "Channel{Any}(sz_max:0,sz_curr:1)"
      ]
     },
     "execution_count": 78,
     "metadata": {},
     "output_type": "execute_result"
    }
   ],
   "source": [
    "c1=Channel(stepbystep)"
   ]
  },
  {
   "cell_type": "code",
   "execution_count": 79,
   "metadata": {},
   "outputs": [
    {
     "data": {
      "text/plain": [
       "\"start\""
      ]
     },
     "execution_count": 79,
     "metadata": {},
     "output_type": "execute_result"
    }
   ],
   "source": [
    "take!(c1)"
   ]
  },
  {
   "cell_type": "code",
   "execution_count": 80,
   "metadata": {},
   "outputs": [
    {
     "data": {
      "text/plain": [
       "1"
      ]
     },
     "execution_count": 80,
     "metadata": {},
     "output_type": "execute_result"
    }
   ],
   "source": [
    "take!(c1)"
   ]
  },
  {
   "cell_type": "code",
   "execution_count": 81,
   "metadata": {},
   "outputs": [
    {
     "data": {
      "text/plain": [
       "4"
      ]
     },
     "execution_count": 81,
     "metadata": {},
     "output_type": "execute_result"
    }
   ],
   "source": [
    "take!(c1)"
   ]
  },
  {
   "cell_type": "code",
   "execution_count": 82,
   "metadata": {},
   "outputs": [
    {
     "data": {
      "text/plain": [
       "9"
      ]
     },
     "execution_count": 82,
     "metadata": {},
     "output_type": "execute_result"
    }
   ],
   "source": [
    "take!(c1)"
   ]
  },
  {
   "cell_type": "code",
   "execution_count": 83,
   "metadata": {},
   "outputs": [
    {
     "data": {
      "text/plain": [
       "\"stop\""
      ]
     },
     "execution_count": 83,
     "metadata": {},
     "output_type": "execute_result"
    }
   ],
   "source": [
    "take!(c1)"
   ]
  },
  {
   "cell_type": "code",
   "execution_count": 84,
   "metadata": {},
   "outputs": [
    {
     "ename": "InvalidStateException",
     "evalue": "InvalidStateException(\"Channel is closed.\", :closed)",
     "output_type": "error",
     "traceback": [
      "InvalidStateException(\"Channel is closed.\", :closed)",
      "",
      "Stacktrace:",
      " [1] check_channel_state at .\\channels.jl:120 [inlined]",
      " [2] take_unbuffered(::Channel{Any}) at .\\channels.jl:318",
      " [3] take!(::Channel{Any}) at .\\channels.jl:306",
      " [4] top-level scope at In[84]:1"
     ]
    }
   ],
   "source": [
    "take!(c1) # Guess what comes next?"
   ]
  },
  {
   "cell_type": "code",
   "execution_count": null,
   "metadata": {},
   "outputs": [],
   "source": []
  }
 ],
 "metadata": {
  "anaconda-cloud": {},
  "celltoolbar": "Slideshow",
  "kernelspec": {
   "display_name": "Julia 1.0.3",
   "language": "julia",
   "name": "julia-1.0"
  },
  "language_info": {
   "file_extension": ".jl",
   "mimetype": "application/julia",
   "name": "julia",
   "version": "1.0.3"
  }
 },
 "nbformat": 4,
 "nbformat_minor": 1
}
