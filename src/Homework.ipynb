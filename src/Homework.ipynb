{
 "cells": [
  {
   "cell_type": "markdown",
   "metadata": {},
   "source": [
    "# Tutorial 1 - Examples in Julia\n",
    "\n",
    "---"
   ]
  },
  {
   "cell_type": "markdown",
   "metadata": {},
   "source": [
    "## Assignment 1\n",
    "\n",
    "Using the package `Polynomials.jl`, write the function which implements \n",
    "[Graeffe's method](https://en.wikipedia.org/wiki/Graeffe%27s_method)\n",
    "(see also [here](http://mathworld.wolfram.com/GraeffesMethod.html))\n",
    "for computing roots of polynomials with only real roots with simple moduli.\n",
    "\n",
    "In the function, use Julia's `BigFloat` numbers to overcome the main disadvantage of the method. What is the number of significant decimal digits, and the largest and the smallest number?\n",
    "\n",
    "Test the function on the [Wilkinson's polynomial](https://en.wikipedia.org/wiki/Wilkinson%27s_polynomial) $\\omega(x)$, and the [Chebyshev polynomial](https://en.wikipedia.org/wiki/Chebyshev_polynomials) $T_{50}(x)$ \n",
    "(the latter needs to be transformed in order to apply the method).\n",
    "\n",
    "Compare your solutions with the exact solutions."
   ]
  },
  {
   "cell_type": "markdown",
   "metadata": {},
   "source": [
    "## Assignment 2\n",
    "\n",
    "Write the function which computes simple LU factorization (without pivoting) where the matrix is overwritten by the factors.\n",
    "\n",
    "Make sure that the function also works with block-matrices. \n",
    "\n",
    "Compare the speed on standard matrices and block-matrices with the built-in LU factorization (which also uses block algorithm AND pivoting). Check the accuracy."
   ]
  },
  {
   "cell_type": "markdown",
   "metadata": {
    "collapsed": true
   },
   "source": [
    "## Assignment 3\n",
    "\n",
    "Use the function `eigvals()` to compute the eigenvalues of $k$ random matrices (with uniform and normal distribution of elements) of order $n$.\n",
    "\n",
    "Plot the results using the macro `@manipulate` from the package `Interact.jl`.\n",
    "Use `Winston.jl` for plotting.\n",
    "\n",
    "Are the eigenvalues random? Can you describe their behaviour? Can random matrices be used to test numerical algorithms?"
   ]
  },
  {
   "cell_type": "code",
   "execution_count": null,
   "metadata": {
    "collapsed": true
   },
   "outputs": [],
   "source": []
  }
 ],
 "metadata": {
  "anaconda-cloud": {},
  "kernelspec": {
   "display_name": "Julia 0.6.2",
   "language": "julia",
   "name": "julia-0.6"
  },
  "language_info": {
   "file_extension": ".jl",
   "mimetype": "application/julia",
   "name": "julia",
   "version": "0.6.2"
  }
 },
 "nbformat": 4,
 "nbformat_minor": 1
}
